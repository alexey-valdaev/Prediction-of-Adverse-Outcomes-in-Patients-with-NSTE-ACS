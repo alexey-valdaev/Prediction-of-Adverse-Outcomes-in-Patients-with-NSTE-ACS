{
  "nbformat": 4,
  "nbformat_minor": 0,
  "metadata": {
    "colab": {
      "provenance": [],
      "collapsed_sections": [
        "IpRwWAnJ9zAq",
        "o2xEKTl5WZsF",
        "m8ofbt2euSYg",
        "ElLEuz0DO1Of",
        "lPtT5ZBiRSga",
        "lMnn7eKbXTHZ",
        "gSD1r8jeaLWa"
      ]
    },
    "kernelspec": {
      "name": "python3",
      "display_name": "Python 3"
    },
    "language_info": {
      "name": "python"
    }
  },
  "cells": [
    {
      "cell_type": "markdown",
      "source": [
        "# Обработка данных и создание единого Data Frame"
      ],
      "metadata": {
        "id": "ArvHMpE2Ehv8"
      }
    },
    {
      "cell_type": "code",
      "execution_count": null,
      "metadata": {
        "colab": {
          "base_uri": "https://localhost:8080/"
        },
        "id": "JMoNdh4yET-9",
        "outputId": "c57c5bb5-a273-412b-d1a4-9dba2600934b"
      },
      "outputs": [
        {
          "output_type": "stream",
          "name": "stdout",
          "text": [
            "Mounted at /content/drive\n"
          ]
        }
      ],
      "source": [
        "from google.colab import drive\n",
        "drive.mount('/content/drive')"
      ]
    },
    {
      "cell_type": "code",
      "source": [
        "from pathlib import Path\n",
        "path = Path('/content/drive/MyDrive/Объединение таблиц (Алмазова)')"
      ],
      "metadata": {
        "id": "2hvtT1ozGbiK"
      },
      "execution_count": null,
      "outputs": []
    },
    {
      "cell_type": "markdown",
      "source": [
        "## Только неблагоприятные исходы"
      ],
      "metadata": {
        "id": "IpRwWAnJ9zAq"
      }
    },
    {
      "cell_type": "code",
      "source": [
        "import pandas as pd\n",
        "df1 = pd.read_csv(path/'результат/неблагоприятные исходы/new data 15_19 i20.0.csv', encoding=\"Windows-1251\")\n",
        "df2 = pd.read_csv(path/'результат/неблагоприятные исходы/new data 15_19 i21.4.csv', encoding=\"Windows-1251\")\n",
        "df3 = pd.read_csv(path/'результат/неблагоприятные исходы/new data 15_19 i21.9.csv', encoding=\"Windows-1251\")\n",
        "df4 = pd.read_csv(path/'результат/неблагоприятные исходы/new data 15_19 i22.8.csv', encoding=\"Windows-1251\")\n",
        "df5 = pd.read_csv(path/'результат/неблагоприятные исходы/new data 22_24 i20.0.csv', encoding=\"Windows-1251\")\n",
        "df6 = pd.read_csv(path/'результат/неблагоприятные исходы/new data 22_24 i21.4.csv', encoding=\"Windows-1251\")\n",
        "df7 = pd.read_csv(path/'результат/неблагоприятные исходы/new data 22_24 i21.9.csv', encoding=\"Windows-1251\")\n",
        "df8 = pd.read_csv(path/'результат/неблагоприятные исходы/new data 22_24 i22.8.csv', encoding=\"Windows-1251\")"
      ],
      "metadata": {
        "id": "bAczKT0d9xvJ"
      },
      "execution_count": null,
      "outputs": []
    },
    {
      "cell_type": "code",
      "source": [
        "df20 = pd.concat([df1, df5])"
      ],
      "metadata": {
        "id": "jtyRnUBD9xrD"
      },
      "execution_count": null,
      "outputs": []
    },
    {
      "cell_type": "code",
      "source": [
        "df20['Диагноз'] = 1"
      ],
      "metadata": {
        "id": "G1lkx0Tc9xkZ"
      },
      "execution_count": null,
      "outputs": []
    },
    {
      "cell_type": "code",
      "source": [
        "df = pd.concat([df2, df3, df4, df6, df7, df8])"
      ],
      "metadata": {
        "id": "FzrOmCKWVtrm"
      },
      "execution_count": null,
      "outputs": []
    },
    {
      "cell_type": "code",
      "source": [
        "df['Диагноз'] = 2"
      ],
      "metadata": {
        "id": "8sXutII4WS9D"
      },
      "execution_count": null,
      "outputs": []
    },
    {
      "cell_type": "code",
      "source": [
        "el = df[df['Данные.1'].str.contains('элеваци', na=False, regex=True)]"
      ],
      "metadata": {
        "id": "immj1pJpbPD_"
      },
      "execution_count": null,
      "outputs": []
    },
    {
      "cell_type": "code",
      "source": [
        "el.shape"
      ],
      "metadata": {
        "colab": {
          "base_uri": "https://localhost:8080/"
        },
        "outputId": "c8053c98-0fdf-4a30-f88d-520ff696ee00",
        "id": "I2ERcYMcbPD_"
      },
      "execution_count": null,
      "outputs": [
        {
          "output_type": "execute_result",
          "data": {
            "text/plain": [
              "(11, 17)"
            ]
          },
          "metadata": {},
          "execution_count": 112
        }
      ]
    },
    {
      "cell_type": "code",
      "source": [
        "df = df[~df['Данные.1'].str.contains('элеваци', na=False, regex=True)]"
      ],
      "metadata": {
        "id": "uxba33embPD_"
      },
      "execution_count": null,
      "outputs": []
    },
    {
      "cell_type": "code",
      "source": [
        "df.shape"
      ],
      "metadata": {
        "colab": {
          "base_uri": "https://localhost:8080/"
        },
        "outputId": "9eb68b3f-44d6-410f-da4f-86e2bf433efc",
        "id": "tHGxf0L7bPD_"
      },
      "execution_count": null,
      "outputs": [
        {
          "output_type": "execute_result",
          "data": {
            "text/plain": [
              "(375, 17)"
            ]
          },
          "metadata": {},
          "execution_count": 114
        }
      ]
    },
    {
      "cell_type": "code",
      "source": [
        "# Сохранение DataFrame в CSV-файл\n",
        "el.to_csv('элевация.csv', index=False, encoding='Windows-1251')\n",
        "\n",
        "# Скачивание файла\n",
        "from google.colab import files\n",
        "files.download('элевация.csv')"
      ],
      "metadata": {
        "colab": {
          "base_uri": "https://localhost:8080/",
          "height": 17
        },
        "outputId": "e5998656-ef23-4cbd-a174-a331f18d74bc",
        "id": "2C60lFj7bPD_"
      },
      "execution_count": null,
      "outputs": [
        {
          "output_type": "display_data",
          "data": {
            "text/plain": [
              "<IPython.core.display.Javascript object>"
            ],
            "application/javascript": [
              "\n",
              "    async function download(id, filename, size) {\n",
              "      if (!google.colab.kernel.accessAllowed) {\n",
              "        return;\n",
              "      }\n",
              "      const div = document.createElement('div');\n",
              "      const label = document.createElement('label');\n",
              "      label.textContent = `Downloading \"${filename}\": `;\n",
              "      div.appendChild(label);\n",
              "      const progress = document.createElement('progress');\n",
              "      progress.max = size;\n",
              "      div.appendChild(progress);\n",
              "      document.body.appendChild(div);\n",
              "\n",
              "      const buffers = [];\n",
              "      let downloaded = 0;\n",
              "\n",
              "      const channel = await google.colab.kernel.comms.open(id);\n",
              "      // Send a message to notify the kernel that we're ready.\n",
              "      channel.send({})\n",
              "\n",
              "      for await (const message of channel.messages) {\n",
              "        // Send a message to notify the kernel that we're ready.\n",
              "        channel.send({})\n",
              "        if (message.buffers) {\n",
              "          for (const buffer of message.buffers) {\n",
              "            buffers.push(buffer);\n",
              "            downloaded += buffer.byteLength;\n",
              "            progress.value = downloaded;\n",
              "          }\n",
              "        }\n",
              "      }\n",
              "      const blob = new Blob(buffers, {type: 'application/binary'});\n",
              "      const a = document.createElement('a');\n",
              "      a.href = window.URL.createObjectURL(blob);\n",
              "      a.download = filename;\n",
              "      div.appendChild(a);\n",
              "      a.click();\n",
              "      div.remove();\n",
              "    }\n",
              "  "
            ]
          },
          "metadata": {}
        },
        {
          "output_type": "display_data",
          "data": {
            "text/plain": [
              "<IPython.core.display.Javascript object>"
            ],
            "application/javascript": [
              "download(\"download_b4165cb9-ebba-4d58-9754-e04a5a6e2add\", \"\\u044d\\u043b\\u0435\\u0432\\u0430\\u0446\\u0438\\u044f.csv\", 16334)"
            ]
          },
          "metadata": {}
        }
      ]
    },
    {
      "cell_type": "code",
      "source": [
        "import re\n",
        "\n",
        "pattern = r'им\\s*(4|iv)\\s*а'\n",
        "df['Исход инфаркт'] = df.apply(lambda row: 1 if re.search(pattern, str(row['Данные']), re.IGNORECASE) or re.search(pattern, str(row['Данные.1']), re.IGNORECASE) else 0, axis=1)"
      ],
      "metadata": {
        "id": "eAhcmEmjacpN"
      },
      "execution_count": null,
      "outputs": []
    },
    {
      "cell_type": "code",
      "source": [
        "pattern = r'\\b(сд|сахарный диабет)\\b'\n",
        "df['Сахарный диабет'] = df.apply(lambda row: 1 if re.search(pattern, str(row['Данные']), re.IGNORECASE) or re.search(pattern, str(row['Данные.1']), re.IGNORECASE) else 0, axis=1)"
      ],
      "metadata": {
        "id": "SAVpKVbxacpN"
      },
      "execution_count": null,
      "outputs": []
    },
    {
      "cell_type": "code",
      "source": [
        "pattern = r'\\bонмк\\b'\n",
        "df['ОНМК'] = df.apply(lambda row: 1 if re.search(pattern, str(row['Данные']), re.IGNORECASE) or re.search(pattern, str(row['Данные.1']), re.IGNORECASE) else 0, axis=1)"
      ],
      "metadata": {
        "id": "WQd8c188acpO"
      },
      "execution_count": null,
      "outputs": []
    },
    {
      "cell_type": "code",
      "source": [
        "pattern = r'\\b(фп|фибрилляция предсердий)\\b'\n",
        "df['Фибрилляция предсердий'] = df.apply(lambda row: 1 if re.search(pattern, str(row['Данные']), re.IGNORECASE) or re.search(pattern, str(row['Данные.1']), re.IGNORECASE) else 0, axis=1)"
      ],
      "metadata": {
        "id": "G-QQ4x1NacpO"
      },
      "execution_count": null,
      "outputs": []
    },
    {
      "cell_type": "code",
      "source": [
        "pattern = r'хбп'\n",
        "df['ХБП'] = df['Данные'].apply(lambda x: 1 if re.search(pattern, str(x), re.IGNORECASE) else 0)"
      ],
      "metadata": {
        "id": "8oZdQUx9acpO"
      },
      "execution_count": null,
      "outputs": []
    },
    {
      "cell_type": "code",
      "source": [
        "df = df.drop(columns=['Данные', 'Номер_эпизода.1', 'Данные.1'])"
      ],
      "metadata": {
        "id": "oZtf4Xt2acpO"
      },
      "execution_count": null,
      "outputs": []
    },
    {
      "cell_type": "code",
      "source": [
        "df.shape"
      ],
      "metadata": {
        "colab": {
          "base_uri": "https://localhost:8080/"
        },
        "outputId": "30b494af-5bd8-47a4-bf2b-7f05deeb5029",
        "id": "Ne_rG7j-a4LR"
      },
      "execution_count": null,
      "outputs": [
        {
          "output_type": "execute_result",
          "data": {
            "text/plain": [
              "(375, 19)"
            ]
          },
          "metadata": {},
          "execution_count": 121
        }
      ]
    },
    {
      "cell_type": "code",
      "source": [
        "df = df.drop_duplicates()"
      ],
      "metadata": {
        "id": "tsii81k5a4LS"
      },
      "execution_count": null,
      "outputs": []
    },
    {
      "cell_type": "code",
      "source": [
        "df.shape"
      ],
      "metadata": {
        "colab": {
          "base_uri": "https://localhost:8080/"
        },
        "outputId": "f37c3908-c53d-4166-d5c6-268bb1f3d98c",
        "id": "N8JPqK9Da4LS"
      },
      "execution_count": null,
      "outputs": [
        {
          "output_type": "execute_result",
          "data": {
            "text/plain": [
              "(181, 19)"
            ]
          },
          "metadata": {},
          "execution_count": 123
        }
      ]
    },
    {
      "cell_type": "code",
      "source": [
        "cols_to_or = ['Исход инфаркт', 'Сахарный диабет', 'ОНМК', 'Фибрилляция предсердий', 'ХБП']\n",
        "\n",
        "cols_to_first = [col for col in df.columns if col not in cols_to_or and col != 'Номер_эпизода']\n",
        "\n",
        "df = (\n",
        "    df.groupby('Номер_эпизода')\n",
        "    .agg({\n",
        "        **{col: 'max' for col in cols_to_or},  # Логическое ИЛИ для указанных столбцов\n",
        "        **{col: 'first' for col in cols_to_first}  # Первое вхождение для остальных столбцов\n",
        "    })\n",
        "    .reset_index()\n",
        ")"
      ],
      "metadata": {
        "id": "eKBvIdKDa4LS"
      },
      "execution_count": null,
      "outputs": []
    },
    {
      "cell_type": "code",
      "source": [
        "df = df.drop_duplicates()"
      ],
      "metadata": {
        "id": "wzRObh8fa4LS"
      },
      "execution_count": null,
      "outputs": []
    },
    {
      "cell_type": "code",
      "source": [
        "df.shape"
      ],
      "metadata": {
        "colab": {
          "base_uri": "https://localhost:8080/"
        },
        "outputId": "6f7d38f5-ba24-48ef-fd55-9f747ac50305",
        "id": "N29b_jV5a4LS"
      },
      "execution_count": null,
      "outputs": [
        {
          "output_type": "execute_result",
          "data": {
            "text/plain": [
              "(119, 19)"
            ]
          },
          "metadata": {},
          "execution_count": 126
        }
      ]
    },
    {
      "cell_type": "code",
      "source": [
        "pattern = r'им\\s*(4|iv)\\s*а'\n",
        "df20['Исход инфаркт'] = df20['Данные'].apply(lambda x: 1 if re.search(pattern, str(x), re.IGNORECASE) else 0)"
      ],
      "metadata": {
        "id": "J37JznTtb8G8"
      },
      "execution_count": null,
      "outputs": []
    },
    {
      "cell_type": "code",
      "source": [
        "pattern = r'\\b(сд|сахарный диабет)\\b'\n",
        "df20['Сахарный диабет'] = df20['Данные'].apply(lambda x: 1 if re.search(pattern, str(x), re.IGNORECASE) else 0)"
      ],
      "metadata": {
        "id": "DD_yLdaXb8G8"
      },
      "execution_count": null,
      "outputs": []
    },
    {
      "cell_type": "code",
      "source": [
        "pattern = r'онмк'\n",
        "df20['ОНМК'] = df20['Данные'].apply(lambda x: 1 if re.search(pattern, str(x), re.IGNORECASE) else 0)"
      ],
      "metadata": {
        "id": "J9YdbIYXb8G8"
      },
      "execution_count": null,
      "outputs": []
    },
    {
      "cell_type": "code",
      "source": [
        "pattern = r'\\b(пфп|фп|фибрилляция предсердий)\\b'\n",
        "df20['Фибрилляция предсердий'] = df20['Данные'].apply(lambda x: 1 if re.search(pattern, str(x), re.IGNORECASE) else 0)"
      ],
      "metadata": {
        "id": "o65a4nfib8G8"
      },
      "execution_count": null,
      "outputs": []
    },
    {
      "cell_type": "code",
      "source": [
        "pattern = r'хбп'\n",
        "df20['ХБП'] = df20['Данные'].apply(lambda x: 1 if re.search(pattern, str(x), re.IGNORECASE) else 0)"
      ],
      "metadata": {
        "id": "VLDV78Nkb8G8"
      },
      "execution_count": null,
      "outputs": []
    },
    {
      "cell_type": "code",
      "source": [
        "df20 = df20.drop(columns=['Данные', 'Номер_эпизода.1', 'Данные.1'])"
      ],
      "metadata": {
        "id": "BF-D-QGXb8G9"
      },
      "execution_count": null,
      "outputs": []
    },
    {
      "cell_type": "code",
      "source": [
        "df20.shape"
      ],
      "metadata": {
        "colab": {
          "base_uri": "https://localhost:8080/"
        },
        "outputId": "9bbc4caf-b66f-4a71-c3fe-6044aa348bd3",
        "id": "hOhyjbr4b8G9"
      },
      "execution_count": null,
      "outputs": [
        {
          "output_type": "execute_result",
          "data": {
            "text/plain": [
              "(87, 19)"
            ]
          },
          "metadata": {},
          "execution_count": 133
        }
      ]
    },
    {
      "cell_type": "code",
      "source": [
        "df20 = df20.drop_duplicates()"
      ],
      "metadata": {
        "id": "_u_H-_2Lb8G9"
      },
      "execution_count": null,
      "outputs": []
    },
    {
      "cell_type": "code",
      "source": [
        "df20.shape"
      ],
      "metadata": {
        "colab": {
          "base_uri": "https://localhost:8080/"
        },
        "outputId": "8908a407-d395-41e8-9a00-d7b5ceaa0414",
        "id": "Yv1q6uaCb8G9"
      },
      "execution_count": null,
      "outputs": [
        {
          "output_type": "execute_result",
          "data": {
            "text/plain": [
              "(50, 19)"
            ]
          },
          "metadata": {},
          "execution_count": 135
        }
      ]
    },
    {
      "cell_type": "code",
      "source": [
        "cols_to_or = ['Исход инфаркт', 'Сахарный диабет', 'ОНМК', 'Фибрилляция предсердий', 'ХБП']\n",
        "\n",
        "cols_to_first = [col for col in df20.columns if col not in cols_to_or and col != 'Номер_эпизода']\n",
        "\n",
        "df20 = (\n",
        "    df20.groupby('Номер_эпизода')\n",
        "    .agg({\n",
        "        **{col: 'max' for col in cols_to_or},  # Логическое ИЛИ для указанных столбцов\n",
        "        **{col: 'first' for col in cols_to_first}  # Первое вхождение для остальных столбцов\n",
        "    })\n",
        "    .reset_index()\n",
        ")"
      ],
      "metadata": {
        "id": "9EH-HJmUb8G9"
      },
      "execution_count": null,
      "outputs": []
    },
    {
      "cell_type": "code",
      "source": [
        "df20.shape"
      ],
      "metadata": {
        "colab": {
          "base_uri": "https://localhost:8080/"
        },
        "outputId": "f0e33c63-06d2-4dfd-a57d-0ea5c2da8d06",
        "id": "ZL5mnvWeb8G9"
      },
      "execution_count": null,
      "outputs": [
        {
          "output_type": "execute_result",
          "data": {
            "text/plain": [
              "(38, 19)"
            ]
          },
          "metadata": {},
          "execution_count": 137
        }
      ]
    },
    {
      "cell_type": "code",
      "source": [
        "df = pd.concat([df, df20])"
      ],
      "metadata": {
        "id": "hIIDKCprdGwj"
      },
      "execution_count": null,
      "outputs": []
    },
    {
      "cell_type": "code",
      "source": [
        "df.shape"
      ],
      "metadata": {
        "colab": {
          "base_uri": "https://localhost:8080/"
        },
        "id": "dc1BnSywdMjM",
        "outputId": "b930dc71-c910-4d80-e2b4-9e8750dfc87e"
      },
      "execution_count": null,
      "outputs": [
        {
          "output_type": "execute_result",
          "data": {
            "text/plain": [
              "(157, 19)"
            ]
          },
          "metadata": {},
          "execution_count": 139
        }
      ]
    },
    {
      "cell_type": "code",
      "source": [
        "df"
      ],
      "metadata": {
        "colab": {
          "base_uri": "https://localhost:8080/",
          "height": 461
        },
        "id": "EUXaX2k7dNxE",
        "outputId": "f88e4270-a2fa-4f0c-b7b9-2de375376ef0"
      },
      "execution_count": null,
      "outputs": [
        {
          "output_type": "execute_result",
          "data": {
            "text/plain": [
              "   Номер_эпизода  Исход инфаркт  Сахарный диабет  ОНМК  \\\n",
              "0    10238/С2015              0                0     0   \n",
              "1    10317/С2015              0                0     1   \n",
              "2    11061/С2015              0                0     0   \n",
              "3    11320/С2015              0                1     0   \n",
              "4    12016/С2019              0                0     1   \n",
              "..           ...            ...              ...   ...   \n",
              "33    7131/С2019              0                1     0   \n",
              "34     819/С2015              0                0     0   \n",
              "35    9615/С2017              0                0     0   \n",
              "36    9948/С2018              0                0     0   \n",
              "37    9992/С2015              0                0     0   \n",
              "\n",
              "    Фибрилляция предсердий  ХБП Дата_поступления Клинический_диагноз_рубрика  \\\n",
              "0                        0    0       2015-05-26                       I21.4   \n",
              "1                        0    0       2015-05-27                       I22.8   \n",
              "2                        1    0       2015-06-06                       I22.0   \n",
              "3                        0    0       2015-06-10                       I22.8   \n",
              "4                        0    0       2019-05-08                       I22.1   \n",
              "..                     ...  ...              ...                         ...   \n",
              "33                       0    0       2019-03-18                       I20.0   \n",
              "34                       0    0       2015-01-22                       I20.0   \n",
              "35                       0    0       2017-04-19                       I20.0   \n",
              "36                       1    0       2018-04-13                       I20.0   \n",
              "37                       0    0       2015-05-23                       I20.0   \n",
              "\n",
              "   Исход_эпизода Результат_лечения           Эпизод_хэш          Пациент_хэш  \\\n",
              "0           Умер              умер  2925869416288850704 -7388530481917063398   \n",
              "1           Умер              умер -5121005559201402111  2664950783255146983   \n",
              "2           Умер              умер -7410406231969398198  1107710086342126468   \n",
              "3           Умер              умер  -988038943594243345  4326081638892528007   \n",
              "4           Умер              умер  8696811394425272798  1866955820877523786   \n",
              "..           ...               ...                  ...                  ...   \n",
              "33          Умер              умер  2147537502820049181  8945019730918846714   \n",
              "34          Умер              умер  2347272480635517899  6038765796131198335   \n",
              "35          Умер              умер  8750080572903938169  4833063720918403043   \n",
              "36          Умер              умер -7730012848404078356  5735080113141682868   \n",
              "37          Умер              умер  8287125149712993567 -9135614360981797710   \n",
              "\n",
              "   Регистрационный_номер      Пол Дата_рождения Дата_смерти  \\\n",
              "0              29041/A15  Мужской    1945-07-31  2015-05-27   \n",
              "1               8523/A10  Женский    1948-12-26  2015-05-28   \n",
              "2              31246/A15  Мужской    1950-11-01  2015-06-06   \n",
              "3              32104/A15  Мужской    1938-02-08  2015-06-10   \n",
              "4              35060/A19  Женский    1933-07-19  2019-05-14   \n",
              "..                   ...      ...           ...         ...   \n",
              "33             99945/A18  Мужской    1959-08-14  2019-03-22   \n",
              "34              1807/A15  Мужской    1971-07-31  2015-01-23   \n",
              "35             23429/A17  Мужской    1941-06-25  2017-04-20   \n",
              "36             45296/A17  Мужской    1938-12-29  2018-04-16   \n",
              "37             28203/A15  Мужской    1936-03-09  2015-05-23   \n",
              "\n",
              "   Дата_постановки_диагноза Коррекция_дата_время  Диагноз  \n",
              "0                2015-05-27                 None        2  \n",
              "1                2015-05-28                 None        2  \n",
              "2                2015-06-06                 None        2  \n",
              "3                2015-06-11                 None        2  \n",
              "4                2019-05-12                 None        2  \n",
              "..                      ...                  ...      ...  \n",
              "33               2019-03-22  2019-03-20 13:43:04        1  \n",
              "34               2015-01-23  2015-01-22 15:45:30        1  \n",
              "35               2017-04-20                 None        1  \n",
              "36               2018-04-16                 None        1  \n",
              "37               2015-05-24                 None        1  \n",
              "\n",
              "[157 rows x 19 columns]"
            ],
            "text/html": [
              "\n",
              "  <div id=\"df-ea92bfaf-646e-43a4-abbd-34f8dc6805a4\" class=\"colab-df-container\">\n",
              "    <div>\n",
              "<style scoped>\n",
              "    .dataframe tbody tr th:only-of-type {\n",
              "        vertical-align: middle;\n",
              "    }\n",
              "\n",
              "    .dataframe tbody tr th {\n",
              "        vertical-align: top;\n",
              "    }\n",
              "\n",
              "    .dataframe thead th {\n",
              "        text-align: right;\n",
              "    }\n",
              "</style>\n",
              "<table border=\"1\" class=\"dataframe\">\n",
              "  <thead>\n",
              "    <tr style=\"text-align: right;\">\n",
              "      <th></th>\n",
              "      <th>Номер_эпизода</th>\n",
              "      <th>Исход инфаркт</th>\n",
              "      <th>Сахарный диабет</th>\n",
              "      <th>ОНМК</th>\n",
              "      <th>Фибрилляция предсердий</th>\n",
              "      <th>ХБП</th>\n",
              "      <th>Дата_поступления</th>\n",
              "      <th>Клинический_диагноз_рубрика</th>\n",
              "      <th>Исход_эпизода</th>\n",
              "      <th>Результат_лечения</th>\n",
              "      <th>Эпизод_хэш</th>\n",
              "      <th>Пациент_хэш</th>\n",
              "      <th>Регистрационный_номер</th>\n",
              "      <th>Пол</th>\n",
              "      <th>Дата_рождения</th>\n",
              "      <th>Дата_смерти</th>\n",
              "      <th>Дата_постановки_диагноза</th>\n",
              "      <th>Коррекция_дата_время</th>\n",
              "      <th>Диагноз</th>\n",
              "    </tr>\n",
              "  </thead>\n",
              "  <tbody>\n",
              "    <tr>\n",
              "      <th>0</th>\n",
              "      <td>10238/С2015</td>\n",
              "      <td>0</td>\n",
              "      <td>0</td>\n",
              "      <td>0</td>\n",
              "      <td>0</td>\n",
              "      <td>0</td>\n",
              "      <td>2015-05-26</td>\n",
              "      <td>I21.4</td>\n",
              "      <td>Умер</td>\n",
              "      <td>умер</td>\n",
              "      <td>2925869416288850704</td>\n",
              "      <td>-7388530481917063398</td>\n",
              "      <td>29041/A15</td>\n",
              "      <td>Мужской</td>\n",
              "      <td>1945-07-31</td>\n",
              "      <td>2015-05-27</td>\n",
              "      <td>2015-05-27</td>\n",
              "      <td>None</td>\n",
              "      <td>2</td>\n",
              "    </tr>\n",
              "    <tr>\n",
              "      <th>1</th>\n",
              "      <td>10317/С2015</td>\n",
              "      <td>0</td>\n",
              "      <td>0</td>\n",
              "      <td>1</td>\n",
              "      <td>0</td>\n",
              "      <td>0</td>\n",
              "      <td>2015-05-27</td>\n",
              "      <td>I22.8</td>\n",
              "      <td>Умер</td>\n",
              "      <td>умер</td>\n",
              "      <td>-5121005559201402111</td>\n",
              "      <td>2664950783255146983</td>\n",
              "      <td>8523/A10</td>\n",
              "      <td>Женский</td>\n",
              "      <td>1948-12-26</td>\n",
              "      <td>2015-05-28</td>\n",
              "      <td>2015-05-28</td>\n",
              "      <td>None</td>\n",
              "      <td>2</td>\n",
              "    </tr>\n",
              "    <tr>\n",
              "      <th>2</th>\n",
              "      <td>11061/С2015</td>\n",
              "      <td>0</td>\n",
              "      <td>0</td>\n",
              "      <td>0</td>\n",
              "      <td>1</td>\n",
              "      <td>0</td>\n",
              "      <td>2015-06-06</td>\n",
              "      <td>I22.0</td>\n",
              "      <td>Умер</td>\n",
              "      <td>умер</td>\n",
              "      <td>-7410406231969398198</td>\n",
              "      <td>1107710086342126468</td>\n",
              "      <td>31246/A15</td>\n",
              "      <td>Мужской</td>\n",
              "      <td>1950-11-01</td>\n",
              "      <td>2015-06-06</td>\n",
              "      <td>2015-06-06</td>\n",
              "      <td>None</td>\n",
              "      <td>2</td>\n",
              "    </tr>\n",
              "    <tr>\n",
              "      <th>3</th>\n",
              "      <td>11320/С2015</td>\n",
              "      <td>0</td>\n",
              "      <td>1</td>\n",
              "      <td>0</td>\n",
              "      <td>0</td>\n",
              "      <td>0</td>\n",
              "      <td>2015-06-10</td>\n",
              "      <td>I22.8</td>\n",
              "      <td>Умер</td>\n",
              "      <td>умер</td>\n",
              "      <td>-988038943594243345</td>\n",
              "      <td>4326081638892528007</td>\n",
              "      <td>32104/A15</td>\n",
              "      <td>Мужской</td>\n",
              "      <td>1938-02-08</td>\n",
              "      <td>2015-06-10</td>\n",
              "      <td>2015-06-11</td>\n",
              "      <td>None</td>\n",
              "      <td>2</td>\n",
              "    </tr>\n",
              "    <tr>\n",
              "      <th>4</th>\n",
              "      <td>12016/С2019</td>\n",
              "      <td>0</td>\n",
              "      <td>0</td>\n",
              "      <td>1</td>\n",
              "      <td>0</td>\n",
              "      <td>0</td>\n",
              "      <td>2019-05-08</td>\n",
              "      <td>I22.1</td>\n",
              "      <td>Умер</td>\n",
              "      <td>умер</td>\n",
              "      <td>8696811394425272798</td>\n",
              "      <td>1866955820877523786</td>\n",
              "      <td>35060/A19</td>\n",
              "      <td>Женский</td>\n",
              "      <td>1933-07-19</td>\n",
              "      <td>2019-05-14</td>\n",
              "      <td>2019-05-12</td>\n",
              "      <td>None</td>\n",
              "      <td>2</td>\n",
              "    </tr>\n",
              "    <tr>\n",
              "      <th>...</th>\n",
              "      <td>...</td>\n",
              "      <td>...</td>\n",
              "      <td>...</td>\n",
              "      <td>...</td>\n",
              "      <td>...</td>\n",
              "      <td>...</td>\n",
              "      <td>...</td>\n",
              "      <td>...</td>\n",
              "      <td>...</td>\n",
              "      <td>...</td>\n",
              "      <td>...</td>\n",
              "      <td>...</td>\n",
              "      <td>...</td>\n",
              "      <td>...</td>\n",
              "      <td>...</td>\n",
              "      <td>...</td>\n",
              "      <td>...</td>\n",
              "      <td>...</td>\n",
              "      <td>...</td>\n",
              "    </tr>\n",
              "    <tr>\n",
              "      <th>33</th>\n",
              "      <td>7131/С2019</td>\n",
              "      <td>0</td>\n",
              "      <td>1</td>\n",
              "      <td>0</td>\n",
              "      <td>0</td>\n",
              "      <td>0</td>\n",
              "      <td>2019-03-18</td>\n",
              "      <td>I20.0</td>\n",
              "      <td>Умер</td>\n",
              "      <td>умер</td>\n",
              "      <td>2147537502820049181</td>\n",
              "      <td>8945019730918846714</td>\n",
              "      <td>99945/A18</td>\n",
              "      <td>Мужской</td>\n",
              "      <td>1959-08-14</td>\n",
              "      <td>2019-03-22</td>\n",
              "      <td>2019-03-22</td>\n",
              "      <td>2019-03-20 13:43:04</td>\n",
              "      <td>1</td>\n",
              "    </tr>\n",
              "    <tr>\n",
              "      <th>34</th>\n",
              "      <td>819/С2015</td>\n",
              "      <td>0</td>\n",
              "      <td>0</td>\n",
              "      <td>0</td>\n",
              "      <td>0</td>\n",
              "      <td>0</td>\n",
              "      <td>2015-01-22</td>\n",
              "      <td>I20.0</td>\n",
              "      <td>Умер</td>\n",
              "      <td>умер</td>\n",
              "      <td>2347272480635517899</td>\n",
              "      <td>6038765796131198335</td>\n",
              "      <td>1807/A15</td>\n",
              "      <td>Мужской</td>\n",
              "      <td>1971-07-31</td>\n",
              "      <td>2015-01-23</td>\n",
              "      <td>2015-01-23</td>\n",
              "      <td>2015-01-22 15:45:30</td>\n",
              "      <td>1</td>\n",
              "    </tr>\n",
              "    <tr>\n",
              "      <th>35</th>\n",
              "      <td>9615/С2017</td>\n",
              "      <td>0</td>\n",
              "      <td>0</td>\n",
              "      <td>0</td>\n",
              "      <td>0</td>\n",
              "      <td>0</td>\n",
              "      <td>2017-04-19</td>\n",
              "      <td>I20.0</td>\n",
              "      <td>Умер</td>\n",
              "      <td>умер</td>\n",
              "      <td>8750080572903938169</td>\n",
              "      <td>4833063720918403043</td>\n",
              "      <td>23429/A17</td>\n",
              "      <td>Мужской</td>\n",
              "      <td>1941-06-25</td>\n",
              "      <td>2017-04-20</td>\n",
              "      <td>2017-04-20</td>\n",
              "      <td>None</td>\n",
              "      <td>1</td>\n",
              "    </tr>\n",
              "    <tr>\n",
              "      <th>36</th>\n",
              "      <td>9948/С2018</td>\n",
              "      <td>0</td>\n",
              "      <td>0</td>\n",
              "      <td>0</td>\n",
              "      <td>1</td>\n",
              "      <td>0</td>\n",
              "      <td>2018-04-13</td>\n",
              "      <td>I20.0</td>\n",
              "      <td>Умер</td>\n",
              "      <td>умер</td>\n",
              "      <td>-7730012848404078356</td>\n",
              "      <td>5735080113141682868</td>\n",
              "      <td>45296/A17</td>\n",
              "      <td>Мужской</td>\n",
              "      <td>1938-12-29</td>\n",
              "      <td>2018-04-16</td>\n",
              "      <td>2018-04-16</td>\n",
              "      <td>None</td>\n",
              "      <td>1</td>\n",
              "    </tr>\n",
              "    <tr>\n",
              "      <th>37</th>\n",
              "      <td>9992/С2015</td>\n",
              "      <td>0</td>\n",
              "      <td>0</td>\n",
              "      <td>0</td>\n",
              "      <td>0</td>\n",
              "      <td>0</td>\n",
              "      <td>2015-05-23</td>\n",
              "      <td>I20.0</td>\n",
              "      <td>Умер</td>\n",
              "      <td>умер</td>\n",
              "      <td>8287125149712993567</td>\n",
              "      <td>-9135614360981797710</td>\n",
              "      <td>28203/A15</td>\n",
              "      <td>Мужской</td>\n",
              "      <td>1936-03-09</td>\n",
              "      <td>2015-05-23</td>\n",
              "      <td>2015-05-24</td>\n",
              "      <td>None</td>\n",
              "      <td>1</td>\n",
              "    </tr>\n",
              "  </tbody>\n",
              "</table>\n",
              "<p>157 rows × 19 columns</p>\n",
              "</div>\n",
              "    <div class=\"colab-df-buttons\">\n",
              "\n",
              "  <div class=\"colab-df-container\">\n",
              "    <button class=\"colab-df-convert\" onclick=\"convertToInteractive('df-ea92bfaf-646e-43a4-abbd-34f8dc6805a4')\"\n",
              "            title=\"Convert this dataframe to an interactive table.\"\n",
              "            style=\"display:none;\">\n",
              "\n",
              "  <svg xmlns=\"http://www.w3.org/2000/svg\" height=\"24px\" viewBox=\"0 -960 960 960\">\n",
              "    <path d=\"M120-120v-720h720v720H120Zm60-500h600v-160H180v160Zm220 220h160v-160H400v160Zm0 220h160v-160H400v160ZM180-400h160v-160H180v160Zm440 0h160v-160H620v160ZM180-180h160v-160H180v160Zm440 0h160v-160H620v160Z\"/>\n",
              "  </svg>\n",
              "    </button>\n",
              "\n",
              "  <style>\n",
              "    .colab-df-container {\n",
              "      display:flex;\n",
              "      gap: 12px;\n",
              "    }\n",
              "\n",
              "    .colab-df-convert {\n",
              "      background-color: #E8F0FE;\n",
              "      border: none;\n",
              "      border-radius: 50%;\n",
              "      cursor: pointer;\n",
              "      display: none;\n",
              "      fill: #1967D2;\n",
              "      height: 32px;\n",
              "      padding: 0 0 0 0;\n",
              "      width: 32px;\n",
              "    }\n",
              "\n",
              "    .colab-df-convert:hover {\n",
              "      background-color: #E2EBFA;\n",
              "      box-shadow: 0px 1px 2px rgba(60, 64, 67, 0.3), 0px 1px 3px 1px rgba(60, 64, 67, 0.15);\n",
              "      fill: #174EA6;\n",
              "    }\n",
              "\n",
              "    .colab-df-buttons div {\n",
              "      margin-bottom: 4px;\n",
              "    }\n",
              "\n",
              "    [theme=dark] .colab-df-convert {\n",
              "      background-color: #3B4455;\n",
              "      fill: #D2E3FC;\n",
              "    }\n",
              "\n",
              "    [theme=dark] .colab-df-convert:hover {\n",
              "      background-color: #434B5C;\n",
              "      box-shadow: 0px 1px 3px 1px rgba(0, 0, 0, 0.15);\n",
              "      filter: drop-shadow(0px 1px 2px rgba(0, 0, 0, 0.3));\n",
              "      fill: #FFFFFF;\n",
              "    }\n",
              "  </style>\n",
              "\n",
              "    <script>\n",
              "      const buttonEl =\n",
              "        document.querySelector('#df-ea92bfaf-646e-43a4-abbd-34f8dc6805a4 button.colab-df-convert');\n",
              "      buttonEl.style.display =\n",
              "        google.colab.kernel.accessAllowed ? 'block' : 'none';\n",
              "\n",
              "      async function convertToInteractive(key) {\n",
              "        const element = document.querySelector('#df-ea92bfaf-646e-43a4-abbd-34f8dc6805a4');\n",
              "        const dataTable =\n",
              "          await google.colab.kernel.invokeFunction('convertToInteractive',\n",
              "                                                    [key], {});\n",
              "        if (!dataTable) return;\n",
              "\n",
              "        const docLinkHtml = 'Like what you see? Visit the ' +\n",
              "          '<a target=\"_blank\" href=https://colab.research.google.com/notebooks/data_table.ipynb>data table notebook</a>'\n",
              "          + ' to learn more about interactive tables.';\n",
              "        element.innerHTML = '';\n",
              "        dataTable['output_type'] = 'display_data';\n",
              "        await google.colab.output.renderOutput(dataTable, element);\n",
              "        const docLink = document.createElement('div');\n",
              "        docLink.innerHTML = docLinkHtml;\n",
              "        element.appendChild(docLink);\n",
              "      }\n",
              "    </script>\n",
              "  </div>\n",
              "\n",
              "\n",
              "<div id=\"df-c3555ba1-b3a6-46d4-8ace-9bb1d16d09e2\">\n",
              "  <button class=\"colab-df-quickchart\" onclick=\"quickchart('df-c3555ba1-b3a6-46d4-8ace-9bb1d16d09e2')\"\n",
              "            title=\"Suggest charts\"\n",
              "            style=\"display:none;\">\n",
              "\n",
              "<svg xmlns=\"http://www.w3.org/2000/svg\" height=\"24px\"viewBox=\"0 0 24 24\"\n",
              "     width=\"24px\">\n",
              "    <g>\n",
              "        <path d=\"M19 3H5c-1.1 0-2 .9-2 2v14c0 1.1.9 2 2 2h14c1.1 0 2-.9 2-2V5c0-1.1-.9-2-2-2zM9 17H7v-7h2v7zm4 0h-2V7h2v10zm4 0h-2v-4h2v4z\"/>\n",
              "    </g>\n",
              "</svg>\n",
              "  </button>\n",
              "\n",
              "<style>\n",
              "  .colab-df-quickchart {\n",
              "      --bg-color: #E8F0FE;\n",
              "      --fill-color: #1967D2;\n",
              "      --hover-bg-color: #E2EBFA;\n",
              "      --hover-fill-color: #174EA6;\n",
              "      --disabled-fill-color: #AAA;\n",
              "      --disabled-bg-color: #DDD;\n",
              "  }\n",
              "\n",
              "  [theme=dark] .colab-df-quickchart {\n",
              "      --bg-color: #3B4455;\n",
              "      --fill-color: #D2E3FC;\n",
              "      --hover-bg-color: #434B5C;\n",
              "      --hover-fill-color: #FFFFFF;\n",
              "      --disabled-bg-color: #3B4455;\n",
              "      --disabled-fill-color: #666;\n",
              "  }\n",
              "\n",
              "  .colab-df-quickchart {\n",
              "    background-color: var(--bg-color);\n",
              "    border: none;\n",
              "    border-radius: 50%;\n",
              "    cursor: pointer;\n",
              "    display: none;\n",
              "    fill: var(--fill-color);\n",
              "    height: 32px;\n",
              "    padding: 0;\n",
              "    width: 32px;\n",
              "  }\n",
              "\n",
              "  .colab-df-quickchart:hover {\n",
              "    background-color: var(--hover-bg-color);\n",
              "    box-shadow: 0 1px 2px rgba(60, 64, 67, 0.3), 0 1px 3px 1px rgba(60, 64, 67, 0.15);\n",
              "    fill: var(--button-hover-fill-color);\n",
              "  }\n",
              "\n",
              "  .colab-df-quickchart-complete:disabled,\n",
              "  .colab-df-quickchart-complete:disabled:hover {\n",
              "    background-color: var(--disabled-bg-color);\n",
              "    fill: var(--disabled-fill-color);\n",
              "    box-shadow: none;\n",
              "  }\n",
              "\n",
              "  .colab-df-spinner {\n",
              "    border: 2px solid var(--fill-color);\n",
              "    border-color: transparent;\n",
              "    border-bottom-color: var(--fill-color);\n",
              "    animation:\n",
              "      spin 1s steps(1) infinite;\n",
              "  }\n",
              "\n",
              "  @keyframes spin {\n",
              "    0% {\n",
              "      border-color: transparent;\n",
              "      border-bottom-color: var(--fill-color);\n",
              "      border-left-color: var(--fill-color);\n",
              "    }\n",
              "    20% {\n",
              "      border-color: transparent;\n",
              "      border-left-color: var(--fill-color);\n",
              "      border-top-color: var(--fill-color);\n",
              "    }\n",
              "    30% {\n",
              "      border-color: transparent;\n",
              "      border-left-color: var(--fill-color);\n",
              "      border-top-color: var(--fill-color);\n",
              "      border-right-color: var(--fill-color);\n",
              "    }\n",
              "    40% {\n",
              "      border-color: transparent;\n",
              "      border-right-color: var(--fill-color);\n",
              "      border-top-color: var(--fill-color);\n",
              "    }\n",
              "    60% {\n",
              "      border-color: transparent;\n",
              "      border-right-color: var(--fill-color);\n",
              "    }\n",
              "    80% {\n",
              "      border-color: transparent;\n",
              "      border-right-color: var(--fill-color);\n",
              "      border-bottom-color: var(--fill-color);\n",
              "    }\n",
              "    90% {\n",
              "      border-color: transparent;\n",
              "      border-bottom-color: var(--fill-color);\n",
              "    }\n",
              "  }\n",
              "</style>\n",
              "\n",
              "  <script>\n",
              "    async function quickchart(key) {\n",
              "      const quickchartButtonEl =\n",
              "        document.querySelector('#' + key + ' button');\n",
              "      quickchartButtonEl.disabled = true;  // To prevent multiple clicks.\n",
              "      quickchartButtonEl.classList.add('colab-df-spinner');\n",
              "      try {\n",
              "        const charts = await google.colab.kernel.invokeFunction(\n",
              "            'suggestCharts', [key], {});\n",
              "      } catch (error) {\n",
              "        console.error('Error during call to suggestCharts:', error);\n",
              "      }\n",
              "      quickchartButtonEl.classList.remove('colab-df-spinner');\n",
              "      quickchartButtonEl.classList.add('colab-df-quickchart-complete');\n",
              "    }\n",
              "    (() => {\n",
              "      let quickchartButtonEl =\n",
              "        document.querySelector('#df-c3555ba1-b3a6-46d4-8ace-9bb1d16d09e2 button');\n",
              "      quickchartButtonEl.style.display =\n",
              "        google.colab.kernel.accessAllowed ? 'block' : 'none';\n",
              "    })();\n",
              "  </script>\n",
              "</div>\n",
              "    </div>\n",
              "  </div>\n"
            ],
            "application/vnd.google.colaboratory.intrinsic+json": {
              "type": "dataframe",
              "variable_name": "df",
              "summary": "{\n  \"name\": \"df\",\n  \"rows\": 157,\n  \"fields\": [\n    {\n      \"column\": \"\\u041d\\u043e\\u043c\\u0435\\u0440_\\u044d\\u043f\\u0438\\u0437\\u043e\\u0434\\u0430\",\n      \"properties\": {\n        \"dtype\": \"string\",\n        \"num_unique_values\": 157,\n        \"samples\": [\n          \"15438/\\u04212019\",\n          \"23734/\\u04212022\",\n          \"2455/\\u04212015\"\n        ],\n        \"semantic_type\": \"\",\n        \"description\": \"\"\n      }\n    },\n    {\n      \"column\": \"\\u0418\\u0441\\u0445\\u043e\\u0434 \\u0438\\u043d\\u0444\\u0430\\u0440\\u043a\\u0442\",\n      \"properties\": {\n        \"dtype\": \"number\",\n        \"std\": 0,\n        \"min\": 0,\n        \"max\": 0,\n        \"num_unique_values\": 1,\n        \"samples\": [\n          0\n        ],\n        \"semantic_type\": \"\",\n        \"description\": \"\"\n      }\n    },\n    {\n      \"column\": \"\\u0421\\u0430\\u0445\\u0430\\u0440\\u043d\\u044b\\u0439 \\u0434\\u0438\\u0430\\u0431\\u0435\\u0442\",\n      \"properties\": {\n        \"dtype\": \"number\",\n        \"std\": 0,\n        \"min\": 0,\n        \"max\": 1,\n        \"num_unique_values\": 2,\n        \"samples\": [\n          1\n        ],\n        \"semantic_type\": \"\",\n        \"description\": \"\"\n      }\n    },\n    {\n      \"column\": \"\\u041e\\u041d\\u041c\\u041a\",\n      \"properties\": {\n        \"dtype\": \"number\",\n        \"std\": 0,\n        \"min\": 0,\n        \"max\": 1,\n        \"num_unique_values\": 2,\n        \"samples\": [\n          1\n        ],\n        \"semantic_type\": \"\",\n        \"description\": \"\"\n      }\n    },\n    {\n      \"column\": \"\\u0424\\u0438\\u0431\\u0440\\u0438\\u043b\\u043b\\u044f\\u0446\\u0438\\u044f \\u043f\\u0440\\u0435\\u0434\\u0441\\u0435\\u0440\\u0434\\u0438\\u0439\",\n      \"properties\": {\n        \"dtype\": \"number\",\n        \"std\": 0,\n        \"min\": 0,\n        \"max\": 1,\n        \"num_unique_values\": 2,\n        \"samples\": [\n          1\n        ],\n        \"semantic_type\": \"\",\n        \"description\": \"\"\n      }\n    },\n    {\n      \"column\": \"\\u0425\\u0411\\u041f\",\n      \"properties\": {\n        \"dtype\": \"number\",\n        \"std\": 0,\n        \"min\": 0,\n        \"max\": 1,\n        \"num_unique_values\": 2,\n        \"samples\": [\n          1\n        ],\n        \"semantic_type\": \"\",\n        \"description\": \"\"\n      }\n    },\n    {\n      \"column\": \"\\u0414\\u0430\\u0442\\u0430_\\u043f\\u043e\\u0441\\u0442\\u0443\\u043f\\u043b\\u0435\\u043d\\u0438\\u044f\",\n      \"properties\": {\n        \"dtype\": \"date\",\n        \"min\": \"2015-01-12\",\n        \"max\": \"2024-04-30\",\n        \"num_unique_values\": 150,\n        \"samples\": [\n          \"2016-12-21\"\n        ],\n        \"semantic_type\": \"\",\n        \"description\": \"\"\n      }\n    },\n    {\n      \"column\": \"\\u041a\\u043b\\u0438\\u043d\\u0438\\u0447\\u0435\\u0441\\u043a\\u0438\\u0439_\\u0434\\u0438\\u0430\\u0433\\u043d\\u043e\\u0437_\\u0440\\u0443\\u0431\\u0440\\u0438\\u043a\\u0430\",\n      \"properties\": {\n        \"dtype\": \"category\",\n        \"num_unique_values\": 8,\n        \"samples\": [\n          \"I22.8\"\n        ],\n        \"semantic_type\": \"\",\n        \"description\": \"\"\n      }\n    },\n    {\n      \"column\": \"\\u0418\\u0441\\u0445\\u043e\\u0434_\\u044d\\u043f\\u0438\\u0437\\u043e\\u0434\\u0430\",\n      \"properties\": {\n        \"dtype\": \"category\",\n        \"num_unique_values\": 1,\n        \"samples\": [\n          \"\\u0423\\u043c\\u0435\\u0440\"\n        ],\n        \"semantic_type\": \"\",\n        \"description\": \"\"\n      }\n    },\n    {\n      \"column\": \"\\u0420\\u0435\\u0437\\u0443\\u043b\\u044c\\u0442\\u0430\\u0442_\\u043b\\u0435\\u0447\\u0435\\u043d\\u0438\\u044f\",\n      \"properties\": {\n        \"dtype\": \"category\",\n        \"num_unique_values\": 1,\n        \"samples\": [\n          \"\\u0443\\u043c\\u0435\\u0440\"\n        ],\n        \"semantic_type\": \"\",\n        \"description\": \"\"\n      }\n    },\n    {\n      \"column\": \"\\u042d\\u043f\\u0438\\u0437\\u043e\\u0434_\\u0445\\u044d\\u0448\",\n      \"properties\": {\n        \"dtype\": \"number\",\n        \"std\": 5400214432688859136,\n        \"min\": -9194295124820483632,\n        \"max\": 9181351808536838078,\n        \"num_unique_values\": 157,\n        \"samples\": [\n          -4094274699204692432\n        ],\n        \"semantic_type\": \"\",\n        \"description\": \"\"\n      }\n    },\n    {\n      \"column\": \"\\u041f\\u0430\\u0446\\u0438\\u0435\\u043d\\u0442_\\u0445\\u044d\\u0448\",\n      \"properties\": {\n        \"dtype\": \"number\",\n        \"std\": 5524804274997376000,\n        \"min\": -9135614360981797710,\n        \"max\": 9120687917047643573,\n        \"num_unique_values\": 157,\n        \"samples\": [\n          -9041508365382756385\n        ],\n        \"semantic_type\": \"\",\n        \"description\": \"\"\n      }\n    },\n    {\n      \"column\": \"\\u0420\\u0435\\u0433\\u0438\\u0441\\u0442\\u0440\\u0430\\u0446\\u0438\\u043e\\u043d\\u043d\\u044b\\u0439_\\u043d\\u043e\\u043c\\u0435\\u0440\",\n      \"properties\": {\n        \"dtype\": \"string\",\n        \"num_unique_values\": 157,\n        \"samples\": [\n          \"43956/A19\"\n        ],\n        \"semantic_type\": \"\",\n        \"description\": \"\"\n      }\n    },\n    {\n      \"column\": \"\\u041f\\u043e\\u043b\",\n      \"properties\": {\n        \"dtype\": \"category\",\n        \"num_unique_values\": 2,\n        \"samples\": [\n          \"\\u0416\\u0435\\u043d\\u0441\\u043a\\u0438\\u0439\"\n        ],\n        \"semantic_type\": \"\",\n        \"description\": \"\"\n      }\n    },\n    {\n      \"column\": \"\\u0414\\u0430\\u0442\\u0430_\\u0440\\u043e\\u0436\\u0434\\u0435\\u043d\\u0438\\u044f\",\n      \"properties\": {\n        \"dtype\": \"date\",\n        \"min\": \"1921-02-26\",\n        \"max\": \"1983-09-09\",\n        \"num_unique_values\": 157,\n        \"samples\": [\n          \"1945-04-25\"\n        ],\n        \"semantic_type\": \"\",\n        \"description\": \"\"\n      }\n    },\n    {\n      \"column\": \"\\u0414\\u0430\\u0442\\u0430_\\u0441\\u043c\\u0435\\u0440\\u0442\\u0438\",\n      \"properties\": {\n        \"dtype\": \"date\",\n        \"min\": \"2015-01-13\",\n        \"max\": \"2024-04-30\",\n        \"num_unique_values\": 151,\n        \"samples\": [\n          \"2019-11-30\"\n        ],\n        \"semantic_type\": \"\",\n        \"description\": \"\"\n      }\n    },\n    {\n      \"column\": \"\\u0414\\u0430\\u0442\\u0430_\\u043f\\u043e\\u0441\\u0442\\u0430\\u043d\\u043e\\u0432\\u043a\\u0438_\\u0434\\u0438\\u0430\\u0433\\u043d\\u043e\\u0437\\u0430\",\n      \"properties\": {\n        \"dtype\": \"date\",\n        \"min\": \"2015-01-13\",\n        \"max\": \"2024-05-01\",\n        \"num_unique_values\": 151,\n        \"samples\": [\n          \"2016-12-23\"\n        ],\n        \"semantic_type\": \"\",\n        \"description\": \"\"\n      }\n    },\n    {\n      \"column\": \"\\u041a\\u043e\\u0440\\u0440\\u0435\\u043a\\u0446\\u0438\\u044f_\\u0434\\u0430\\u0442\\u0430_\\u0432\\u0440\\u0435\\u043c\\u044f\",\n      \"properties\": {\n        \"dtype\": \"date\",\n        \"min\": \"2015-01-22 15:45:30\",\n        \"max\": \"2023-08-11 14:50:42\",\n        \"num_unique_values\": 43,\n        \"samples\": [\n          \"2017-11-30 13:01:34\"\n        ],\n        \"semantic_type\": \"\",\n        \"description\": \"\"\n      }\n    },\n    {\n      \"column\": \"\\u0414\\u0438\\u0430\\u0433\\u043d\\u043e\\u0437\",\n      \"properties\": {\n        \"dtype\": \"number\",\n        \"std\": 0,\n        \"min\": 1,\n        \"max\": 2,\n        \"num_unique_values\": 2,\n        \"samples\": [\n          1\n        ],\n        \"semantic_type\": \"\",\n        \"description\": \"\"\n      }\n    }\n  ]\n}"
            }
          },
          "metadata": {},
          "execution_count": 140
        }
      ]
    },
    {
      "cell_type": "code",
      "source": [
        "# Сохранение DataFrame в CSV-файл\n",
        "df.to_csv('неблагоприятные исходы.csv', index=False, encoding='Windows-1251', sep=';')\n",
        "\n",
        "# Скачивание файла\n",
        "from google.colab import files\n",
        "files.download('неблагоприятные исходы.csv')"
      ],
      "metadata": {
        "colab": {
          "base_uri": "https://localhost:8080/",
          "height": 17
        },
        "id": "530rUa1EdVPh",
        "outputId": "70818595-f5b8-4bb0-b643-d3fd3c1e8d68"
      },
      "execution_count": null,
      "outputs": [
        {
          "output_type": "display_data",
          "data": {
            "text/plain": [
              "<IPython.core.display.Javascript object>"
            ],
            "application/javascript": [
              "\n",
              "    async function download(id, filename, size) {\n",
              "      if (!google.colab.kernel.accessAllowed) {\n",
              "        return;\n",
              "      }\n",
              "      const div = document.createElement('div');\n",
              "      const label = document.createElement('label');\n",
              "      label.textContent = `Downloading \"${filename}\": `;\n",
              "      div.appendChild(label);\n",
              "      const progress = document.createElement('progress');\n",
              "      progress.max = size;\n",
              "      div.appendChild(progress);\n",
              "      document.body.appendChild(div);\n",
              "\n",
              "      const buffers = [];\n",
              "      let downloaded = 0;\n",
              "\n",
              "      const channel = await google.colab.kernel.comms.open(id);\n",
              "      // Send a message to notify the kernel that we're ready.\n",
              "      channel.send({})\n",
              "\n",
              "      for await (const message of channel.messages) {\n",
              "        // Send a message to notify the kernel that we're ready.\n",
              "        channel.send({})\n",
              "        if (message.buffers) {\n",
              "          for (const buffer of message.buffers) {\n",
              "            buffers.push(buffer);\n",
              "            downloaded += buffer.byteLength;\n",
              "            progress.value = downloaded;\n",
              "          }\n",
              "        }\n",
              "      }\n",
              "      const blob = new Blob(buffers, {type: 'application/binary'});\n",
              "      const a = document.createElement('a');\n",
              "      a.href = window.URL.createObjectURL(blob);\n",
              "      a.download = filename;\n",
              "      div.appendChild(a);\n",
              "      a.click();\n",
              "      div.remove();\n",
              "    }\n",
              "  "
            ]
          },
          "metadata": {}
        },
        {
          "output_type": "display_data",
          "data": {
            "text/plain": [
              "<IPython.core.display.Javascript object>"
            ],
            "application/javascript": [
              "download(\"download_da530fd8-58e1-4a81-9bde-bdd882c9d941\", \"\\u043d\\u0435\\u0431\\u043b\\u0430\\u0433\\u043e\\u043f\\u0440\\u0438\\u044f\\u0442\\u043d\\u044b\\u0435 \\u0438\\u0441\\u0445\\u043e\\u0434\\u044b.csv\", 23585)"
            ]
          },
          "metadata": {}
        }
      ]
    },
    {
      "cell_type": "markdown",
      "source": [
        "## Обработка таблиц"
      ],
      "metadata": {
        "id": "ZeW7hCohH1n6"
      }
    },
    {
      "cell_type": "markdown",
      "source": [
        "### Диагноз I20 - убираем повторы"
      ],
      "metadata": {
        "id": "o2xEKTl5WZsF"
      }
    },
    {
      "cell_type": "code",
      "source": [
        "import pandas as pd\n",
        "df20 = pd.read_csv(path/'результат/диагноз/new data 19_22 i20.0 ЭКГ.csv', encoding=\"Windows-1251\")\n",
        "\n",
        "df1 = pd.read_csv(path/'результат/неблагоприятные исходы/new data 15_19 i20.0.csv', encoding=\"Windows-1251\")\n",
        "df2 = pd.read_csv(path/'результат/неблагоприятные исходы/new data 15_19 i21.4.csv', encoding=\"Windows-1251\")\n",
        "df3 = pd.read_csv(path/'результат/неблагоприятные исходы/new data 15_19 i21.9.csv', encoding=\"Windows-1251\")\n",
        "df4 = pd.read_csv(path/'результат/неблагоприятные исходы/new data 15_19 i22.8.csv', encoding=\"Windows-1251\")\n",
        "df5 = pd.read_csv(path/'результат/неблагоприятные исходы/new data 22_24 i20.0.csv', encoding=\"Windows-1251\")\n",
        "df6 = pd.read_csv(path/'результат/неблагоприятные исходы/new data 22_24 i21.4.csv', encoding=\"Windows-1251\")\n",
        "df7 = pd.read_csv(path/'результат/неблагоприятные исходы/new data 22_24 i21.9.csv', encoding=\"Windows-1251\")\n",
        "df8 = pd.read_csv(path/'результат/неблагоприятные исходы/new data 22_24 i22.8.csv', encoding=\"Windows-1251\")\n",
        "\n",
        "df11 = pd.read_csv(path/'результат/инфаркты/i21.4 _27.03.24.zip', compression='zip', encoding=\"Windows-1251\")\n",
        "df12 = pd.read_csv(path/'результат/инфаркты/i21.9 _27.03.24.zip', compression='zip', encoding=\"Windows-1251\")\n",
        "df13 = pd.read_csv(path/'результат/инфаркты/i22.0 _27.03.24.zip', compression='zip', encoding=\"Windows-1251\")"
      ],
      "metadata": {
        "id": "Ps_NZvk9H8t_"
      },
      "execution_count": null,
      "outputs": []
    },
    {
      "cell_type": "code",
      "source": [
        "df20 = pd.concat([df20, df1, df5])\n",
        "df = pd.concat([df2, df3, df4, df6, df7, df8, df11, df12, df13])"
      ],
      "metadata": {
        "id": "386OzimU-yAc"
      },
      "execution_count": null,
      "outputs": []
    },
    {
      "cell_type": "code",
      "source": [
        "df20['Диагноз'] = 0\n",
        "df['Диагноз'] = 1"
      ],
      "metadata": {
        "id": "WrNa_4Po_NjI"
      },
      "execution_count": null,
      "outputs": []
    },
    {
      "cell_type": "code",
      "source": [
        "df.columns"
      ],
      "metadata": {
        "colab": {
          "base_uri": "https://localhost:8080/"
        },
        "id": "58eo1yZ6V6sX",
        "outputId": "5053237c-953f-4905-faed-bef14c5548f1"
      },
      "execution_count": null,
      "outputs": [
        {
          "output_type": "execute_result",
          "data": {
            "text/plain": [
              "Index(['Номер_эпизода', 'Дата_поступления', 'Клинический_диагноз_рубрика',\n",
              "       'Исход_эпизода', 'Результат_лечения', 'Эпизод_хэш', 'Пациент_хэш',\n",
              "       'Регистрационный_номер', 'Пол', 'Дата_рождения', 'Дата_смерти',\n",
              "       'Данные', 'Дата_постановки_диагноза', 'Номер_эпизода.1', 'Данные.1',\n",
              "       'Коррекция_дата_время', 'Диагноз'],\n",
              "      dtype='object')"
            ]
          },
          "metadata": {},
          "execution_count": 6
        }
      ]
    },
    {
      "cell_type": "code",
      "source": [
        "df.shape"
      ],
      "metadata": {
        "colab": {
          "base_uri": "https://localhost:8080/"
        },
        "id": "0gfTaeJfPnMX",
        "outputId": "0608ef0b-9016-406e-d39a-8064ba6b7ae5"
      },
      "execution_count": null,
      "outputs": [
        {
          "output_type": "execute_result",
          "data": {
            "text/plain": [
              "(1896, 17)"
            ]
          },
          "metadata": {},
          "execution_count": 7
        }
      ]
    },
    {
      "cell_type": "code",
      "source": [
        "df = df.drop_duplicates()"
      ],
      "metadata": {
        "id": "9BVFIDVxZP7V"
      },
      "execution_count": null,
      "outputs": []
    },
    {
      "cell_type": "code",
      "source": [
        "df.shape"
      ],
      "metadata": {
        "colab": {
          "base_uri": "https://localhost:8080/"
        },
        "id": "42DyCVxmZzPC",
        "outputId": "ee89e080-a304-4b09-9666-b99851cee5ca"
      },
      "execution_count": null,
      "outputs": [
        {
          "output_type": "execute_result",
          "data": {
            "text/plain": [
              "(1639, 17)"
            ]
          },
          "metadata": {},
          "execution_count": 9
        }
      ]
    },
    {
      "cell_type": "code",
      "source": [
        "el = df[df['Данные.1'].str.contains('элеваци', na=False, regex=True)]"
      ],
      "metadata": {
        "id": "sKCkHYzmAEl5"
      },
      "execution_count": null,
      "outputs": []
    },
    {
      "cell_type": "code",
      "source": [
        "el.shape"
      ],
      "metadata": {
        "colab": {
          "base_uri": "https://localhost:8080/"
        },
        "outputId": "b1bd8c4c-42f0-4e1c-a22e-913c1b00c278",
        "id": "McEOopWsAEl6"
      },
      "execution_count": null,
      "outputs": [
        {
          "output_type": "execute_result",
          "data": {
            "text/plain": [
              "(232, 17)"
            ]
          },
          "metadata": {},
          "execution_count": 11
        }
      ]
    },
    {
      "cell_type": "code",
      "source": [
        "df = df[~df['Данные.1'].str.contains('элеваци', na=False, regex=True)]"
      ],
      "metadata": {
        "id": "t_SirOcKAEl6"
      },
      "execution_count": null,
      "outputs": []
    },
    {
      "cell_type": "code",
      "source": [
        "df.shape"
      ],
      "metadata": {
        "colab": {
          "base_uri": "https://localhost:8080/"
        },
        "outputId": "a71f87d2-4fc4-4d29-fe40-d5629cb04b67",
        "id": "FGBGsfUOAEl6"
      },
      "execution_count": null,
      "outputs": [
        {
          "output_type": "execute_result",
          "data": {
            "text/plain": [
              "(1407, 17)"
            ]
          },
          "metadata": {},
          "execution_count": 13
        }
      ]
    },
    {
      "cell_type": "code",
      "source": [
        "el_from_future = pd.read_csv(path/'результат/инфаркты/элевация _ДН.zip', compression='zip', encoding=\"Windows-1251\", sep=';')"
      ],
      "metadata": {
        "id": "oE_5LKTaAEl6"
      },
      "execution_count": null,
      "outputs": []
    },
    {
      "cell_type": "code",
      "source": [
        "el_from_future.shape"
      ],
      "metadata": {
        "colab": {
          "base_uri": "https://localhost:8080/"
        },
        "outputId": "2cc0d000-b8b7-46df-9ba3-62ae83797687",
        "id": "OtJR_AopAEl6"
      },
      "execution_count": null,
      "outputs": [
        {
          "output_type": "execute_result",
          "data": {
            "text/plain": [
              "(223, 16)"
            ]
          },
          "metadata": {},
          "execution_count": 15
        }
      ]
    },
    {
      "cell_type": "code",
      "source": [
        "el_from_future.dropna(subset=['Номер_эпизода'], inplace=True)"
      ],
      "metadata": {
        "id": "NgZWSfSCAEl6"
      },
      "execution_count": null,
      "outputs": []
    },
    {
      "cell_type": "code",
      "source": [
        "el_from_future.shape"
      ],
      "metadata": {
        "colab": {
          "base_uri": "https://localhost:8080/"
        },
        "outputId": "6a05dcfd-4411-436e-d984-82a250510f47",
        "id": "bx3RkvQaAEl6"
      },
      "execution_count": null,
      "outputs": [
        {
          "output_type": "execute_result",
          "data": {
            "text/plain": [
              "(129, 16)"
            ]
          },
          "metadata": {},
          "execution_count": 17
        }
      ]
    },
    {
      "cell_type": "code",
      "source": [
        "df = pd.concat([df, el_from_future])"
      ],
      "metadata": {
        "id": "IfidUojPAEl6"
      },
      "execution_count": null,
      "outputs": []
    },
    {
      "cell_type": "code",
      "source": [
        "df.shape"
      ],
      "metadata": {
        "colab": {
          "base_uri": "https://localhost:8080/"
        },
        "outputId": "ea0bfb9b-314b-40e2-8b38-46cf5762e1dd",
        "id": "XZgv9SrCAEl7"
      },
      "execution_count": null,
      "outputs": [
        {
          "output_type": "execute_result",
          "data": {
            "text/plain": [
              "(1536, 17)"
            ]
          },
          "metadata": {},
          "execution_count": 19
        }
      ]
    },
    {
      "cell_type": "code",
      "source": [
        "df['Диагноз'].value_counts()"
      ],
      "metadata": {
        "colab": {
          "base_uri": "https://localhost:8080/"
        },
        "id": "WPFt6xozqNN2",
        "outputId": "23c24346-59ba-4472-ed21-1b2ed745eb07"
      },
      "execution_count": null,
      "outputs": [
        {
          "output_type": "execute_result",
          "data": {
            "text/plain": [
              "Диагноз\n",
              "1.0    1407\n",
              "Name: count, dtype: int64"
            ]
          },
          "metadata": {},
          "execution_count": 20
        }
      ]
    },
    {
      "cell_type": "code",
      "source": [
        "df = pd.concat([df, df20])"
      ],
      "metadata": {
        "id": "KC2_wv3RAgv6"
      },
      "execution_count": null,
      "outputs": []
    },
    {
      "cell_type": "code",
      "source": [
        "df.shape"
      ],
      "metadata": {
        "colab": {
          "base_uri": "https://localhost:8080/"
        },
        "id": "c6bLPKJvAmXM",
        "outputId": "5f6c00ee-3c19-40fd-dee7-0e28a29dc168"
      },
      "execution_count": null,
      "outputs": [
        {
          "output_type": "execute_result",
          "data": {
            "text/plain": [
              "(6202, 17)"
            ]
          },
          "metadata": {},
          "execution_count": 22
        }
      ]
    },
    {
      "cell_type": "code",
      "source": [
        "df = df.drop_duplicates()"
      ],
      "metadata": {
        "id": "AGaYXiikAp1M"
      },
      "execution_count": null,
      "outputs": []
    },
    {
      "cell_type": "code",
      "source": [
        "df.shape"
      ],
      "metadata": {
        "colab": {
          "base_uri": "https://localhost:8080/"
        },
        "id": "8WIE5W8SAsSJ",
        "outputId": "fd49cf06-7014-458d-eb33-b1856eb0cb1f"
      },
      "execution_count": null,
      "outputs": [
        {
          "output_type": "execute_result",
          "data": {
            "text/plain": [
              "(5570, 17)"
            ]
          },
          "metadata": {},
          "execution_count": 24
        }
      ]
    },
    {
      "cell_type": "code",
      "source": [
        "df['Диагноз'] = df['Диагноз'].fillna(1)"
      ],
      "metadata": {
        "id": "CEQp-PMCt_Iv"
      },
      "execution_count": null,
      "outputs": []
    },
    {
      "cell_type": "code",
      "source": [
        "df['Диагноз'].value_counts()"
      ],
      "metadata": {
        "colab": {
          "base_uri": "https://localhost:8080/"
        },
        "id": "vyeN0icGqYgQ",
        "outputId": "4fe16abb-3887-4753-b17b-26664e50ba60"
      },
      "execution_count": null,
      "outputs": [
        {
          "output_type": "execute_result",
          "data": {
            "text/plain": [
              "Диагноз\n",
              "0.0    4034\n",
              "1.0    1536\n",
              "Name: count, dtype: int64"
            ]
          },
          "metadata": {},
          "execution_count": 27
        }
      ]
    },
    {
      "cell_type": "code",
      "source": [
        "import re\n",
        "\n",
        "pattern = r'им\\s*(4|iv)\\s*а'\n",
        "df['Исход инфаркт'] = df['Данные'].apply(lambda x: 1 if re.search(pattern, str(x), re.IGNORECASE) else 0)"
      ],
      "metadata": {
        "id": "xiET1rmc4Dhs"
      },
      "execution_count": null,
      "outputs": []
    },
    {
      "cell_type": "code",
      "source": [
        "df['Исход инфаркт'].value_counts()"
      ],
      "metadata": {
        "colab": {
          "base_uri": "https://localhost:8080/"
        },
        "id": "A4mZIvhZpmIL",
        "outputId": "92ab183d-6009-40a7-f121-7bda5e9f4548"
      },
      "execution_count": null,
      "outputs": [
        {
          "output_type": "execute_result",
          "data": {
            "text/plain": [
              "Исход инфаркт\n",
              "0    5511\n",
              "1      59\n",
              "Name: count, dtype: int64"
            ]
          },
          "metadata": {},
          "execution_count": 154
        }
      ]
    },
    {
      "cell_type": "code",
      "source": [
        "pattern = r'\\b(сд|сахарный диабет)\\b'\n",
        "df['Сахарный диабет'] = df['Данные'].apply(lambda x: 1 if re.search(pattern, str(x), re.IGNORECASE) else 0)"
      ],
      "metadata": {
        "id": "Bm3PV63fwgy8"
      },
      "execution_count": null,
      "outputs": []
    },
    {
      "cell_type": "code",
      "source": [
        "df['Сахарный диабет'].value_counts()"
      ],
      "metadata": {
        "colab": {
          "base_uri": "https://localhost:8080/"
        },
        "id": "fRwwrs48um1K",
        "outputId": "e0278327-8c40-43da-8408-42a38da0dacd"
      },
      "execution_count": null,
      "outputs": [
        {
          "output_type": "execute_result",
          "data": {
            "text/plain": [
              "Сахарный диабет\n",
              "0    4518\n",
              "1    1052\n",
              "Name: count, dtype: int64"
            ]
          },
          "metadata": {},
          "execution_count": 156
        }
      ]
    },
    {
      "cell_type": "code",
      "source": [
        "pattern = r'онмк'\n",
        "df['ОНМК'] = df['Данные'].apply(lambda x: 1 if re.search(pattern, str(x), re.IGNORECASE) else 0)"
      ],
      "metadata": {
        "id": "QvF-xj1hxO7Y"
      },
      "execution_count": null,
      "outputs": []
    },
    {
      "cell_type": "code",
      "source": [
        "df['ОНМК'].value_counts()"
      ],
      "metadata": {
        "colab": {
          "base_uri": "https://localhost:8080/"
        },
        "id": "EG-Mw6NYxY5A",
        "outputId": "bffcf6a5-09ce-4b22-b7b7-00b11ac09b78"
      },
      "execution_count": null,
      "outputs": [
        {
          "output_type": "execute_result",
          "data": {
            "text/plain": [
              "ОНМК\n",
              "0    5085\n",
              "1     485\n",
              "Name: count, dtype: int64"
            ]
          },
          "metadata": {},
          "execution_count": 158
        }
      ]
    },
    {
      "cell_type": "code",
      "source": [
        "pattern = r'\\b(пфп|фп|фибрилляция предсердий)\\b'\n",
        "df['Фибрилляция предсердий'] = df['Данные'].apply(lambda x: 1 if re.search(pattern, str(x), re.IGNORECASE) else 0)"
      ],
      "metadata": {
        "id": "H6SZ4bL8yB_t"
      },
      "execution_count": null,
      "outputs": []
    },
    {
      "cell_type": "code",
      "source": [
        "df['Фибрилляция предсердий'].value_counts()"
      ],
      "metadata": {
        "colab": {
          "base_uri": "https://localhost:8080/"
        },
        "id": "Dzd8kLSJyIXJ",
        "outputId": "f7087d86-570b-4113-a408-fa6f3f94b7a9"
      },
      "execution_count": null,
      "outputs": [
        {
          "output_type": "execute_result",
          "data": {
            "text/plain": [
              "Фибрилляция предсердий\n",
              "0    5170\n",
              "1     400\n",
              "Name: count, dtype: int64"
            ]
          },
          "metadata": {},
          "execution_count": 160
        }
      ]
    },
    {
      "cell_type": "code",
      "source": [
        "pattern = r'хбп'\n",
        "df['ХБП'] = df['Данные'].apply(lambda x: 1 if re.search(pattern, str(x), re.IGNORECASE) else 0)"
      ],
      "metadata": {
        "id": "DOPpCp_0afR5"
      },
      "execution_count": null,
      "outputs": []
    },
    {
      "cell_type": "code",
      "source": [
        "df['ХБП'].value_counts()"
      ],
      "metadata": {
        "colab": {
          "base_uri": "https://localhost:8080/"
        },
        "id": "aD3znpWeasRM",
        "outputId": "14304b00-672a-452f-e7f8-896acb644f5e"
      },
      "execution_count": null,
      "outputs": [
        {
          "output_type": "execute_result",
          "data": {
            "text/plain": [
              "ХБП\n",
              "0    5149\n",
              "1     421\n",
              "Name: count, dtype: int64"
            ]
          },
          "metadata": {},
          "execution_count": 162
        }
      ]
    },
    {
      "cell_type": "code",
      "source": [
        "pattern = r'депрессия'\n",
        "df['Депрессия'] = df['Данные.1'].apply(lambda x: 1 if re.search(pattern, str(x), re.IGNORECASE) else 0)"
      ],
      "metadata": {
        "id": "_nQjNgEiDOP7"
      },
      "execution_count": null,
      "outputs": []
    },
    {
      "cell_type": "code",
      "source": [
        "df['Депрессия'].value_counts()"
      ],
      "metadata": {
        "colab": {
          "base_uri": "https://localhost:8080/"
        },
        "id": "uxva1Nn2D4HU",
        "outputId": "7ce21395-9cd8-4d62-8021-dac3b179b08e"
      },
      "execution_count": null,
      "outputs": [
        {
          "output_type": "execute_result",
          "data": {
            "text/plain": [
              "Депрессия\n",
              "0    5397\n",
              "1     173\n",
              "Name: count, dtype: int64"
            ]
          },
          "metadata": {},
          "execution_count": 164
        }
      ]
    },
    {
      "cell_type": "code",
      "source": [
        "# Отек легких\n",
        "lung_edema_pattern = re.compile(r'(kill?ip|килл?ип)\\s*(3|iii)|от(е|ё)к\\s*л(е|ё)гких', re.IGNORECASE)\n",
        "\n",
        "# Кардиогенный шок\n",
        "cardiogenic_shock_pattern = re.compile(r'(kill?ip|килл?ип)\\s*(4|iv)|кардиогенный\\s*шок', re.IGNORECASE)\n",
        "\n",
        "# Создание новых столбцов\n",
        "df['Отек легких'] = df['Данные'].apply(lambda x: 1 if lung_edema_pattern.search(x) else 0)\n",
        "df['Кардиогенный шок'] = df['Данные'].apply(lambda x: 1 if cardiogenic_shock_pattern.search(x) else 0)"
      ],
      "metadata": {
        "id": "wZdYTppgFeZn"
      },
      "execution_count": null,
      "outputs": []
    },
    {
      "cell_type": "code",
      "source": [
        "df['Отек легких'].value_counts()"
      ],
      "metadata": {
        "colab": {
          "base_uri": "https://localhost:8080/"
        },
        "id": "pvOdqgHMHRSC",
        "outputId": "12428faa-2191-4410-8827-fd79346a5a9a"
      },
      "execution_count": null,
      "outputs": [
        {
          "output_type": "execute_result",
          "data": {
            "text/plain": [
              "Отек легких\n",
              "0    5438\n",
              "1     132\n",
              "Name: count, dtype: int64"
            ]
          },
          "metadata": {},
          "execution_count": 166
        }
      ]
    },
    {
      "cell_type": "code",
      "source": [
        "df['Кардиогенный шок'].value_counts()"
      ],
      "metadata": {
        "colab": {
          "base_uri": "https://localhost:8080/"
        },
        "id": "v4piE9qWHYMB",
        "outputId": "760f82a8-0271-4f1c-d651-045e9d0521e5"
      },
      "execution_count": null,
      "outputs": [
        {
          "output_type": "execute_result",
          "data": {
            "text/plain": [
              "Кардиогенный шок\n",
              "0    5495\n",
              "1      75\n",
              "Name: count, dtype: int64"
            ]
          },
          "metadata": {},
          "execution_count": 167
        }
      ]
    },
    {
      "cell_type": "code",
      "source": [
        "piks_pattern = re.compile(r'ПИКС')\n",
        "peks_pattern = re.compile(r'ПЭКС')\n",
        "veks_pattern = re.compile(r'ВЭКС')\n",
        "\n",
        "# Создание новых столбцов\n",
        "df['ПИКС'] = df['Данные'].apply(lambda x: 1 if piks_pattern.search(x) else 0)\n",
        "df['ПЭКС'] = df['Данные'].apply(lambda x: 1 if peks_pattern.search(x) else 0)\n",
        "df['ВЭКС'] = df['Данные'].apply(lambda x: 1 if veks_pattern.search(x) else 0)"
      ],
      "metadata": {
        "id": "KakLlg1-IiWg"
      },
      "execution_count": null,
      "outputs": []
    },
    {
      "cell_type": "code",
      "source": [
        "df['ПИКС'].value_counts()"
      ],
      "metadata": {
        "colab": {
          "base_uri": "https://localhost:8080/"
        },
        "id": "KlGAwGjNIvqR",
        "outputId": "030b0062-5a6b-42da-c1c4-aea857b68f21"
      },
      "execution_count": null,
      "outputs": [
        {
          "output_type": "execute_result",
          "data": {
            "text/plain": [
              "ПИКС\n",
              "0    5200\n",
              "1     370\n",
              "Name: count, dtype: int64"
            ]
          },
          "metadata": {},
          "execution_count": 169
        }
      ]
    },
    {
      "cell_type": "code",
      "source": [
        "df['ПЭКС'].value_counts()"
      ],
      "metadata": {
        "colab": {
          "base_uri": "https://localhost:8080/"
        },
        "id": "Nzu1vy-2IyUD",
        "outputId": "24ea4fee-7ebe-4635-fbb0-1768bd3e1e06"
      },
      "execution_count": null,
      "outputs": [
        {
          "output_type": "execute_result",
          "data": {
            "text/plain": [
              "ПЭКС\n",
              "0    5473\n",
              "1      97\n",
              "Name: count, dtype: int64"
            ]
          },
          "metadata": {},
          "execution_count": 170
        }
      ]
    },
    {
      "cell_type": "code",
      "source": [
        "df['ВЭКС'].value_counts()"
      ],
      "metadata": {
        "colab": {
          "base_uri": "https://localhost:8080/"
        },
        "id": "vyEhAQkYI1ai",
        "outputId": "ef08054b-5180-4e1b-e517-b911a07c00db"
      },
      "execution_count": null,
      "outputs": [
        {
          "output_type": "execute_result",
          "data": {
            "text/plain": [
              "ВЭКС\n",
              "0    5545\n",
              "1      25\n",
              "Name: count, dtype: int64"
            ]
          },
          "metadata": {},
          "execution_count": 171
        }
      ]
    },
    {
      "cell_type": "code",
      "source": [
        "pattern = r'ожирение'\n",
        "df['Ожирение'] = df['Данные'].apply(lambda x: 1 if re.search(pattern, str(x), re.IGNORECASE) else 0)"
      ],
      "metadata": {
        "id": "poEh8GdcJKwC"
      },
      "execution_count": null,
      "outputs": []
    },
    {
      "cell_type": "code",
      "source": [
        "df['Ожирение'].value_counts()"
      ],
      "metadata": {
        "colab": {
          "base_uri": "https://localhost:8080/"
        },
        "id": "mgU00FD0JSSl",
        "outputId": "779392a2-8c65-4ae6-c58e-59c018c8c61f"
      },
      "execution_count": null,
      "outputs": [
        {
          "output_type": "execute_result",
          "data": {
            "text/plain": [
              "Ожирение\n",
              "0    4746\n",
              "1     824\n",
              "Name: count, dtype: int64"
            ]
          },
          "metadata": {},
          "execution_count": 173
        }
      ]
    },
    {
      "cell_type": "code",
      "source": [
        "pattern = r'атеросклероз\\s*бца'\n",
        "df['Атеросклероз БЦА'] = df['Данные'].apply(lambda x: 1 if re.search(pattern, str(x), re.IGNORECASE) else 0)"
      ],
      "metadata": {
        "id": "ZsyUHcE8J3d6"
      },
      "execution_count": null,
      "outputs": []
    },
    {
      "cell_type": "code",
      "source": [
        "df['Атеросклероз БЦА'].value_counts()"
      ],
      "metadata": {
        "colab": {
          "base_uri": "https://localhost:8080/"
        },
        "id": "IeVXIlqKKdSN",
        "outputId": "fbbaf21f-f7f9-45af-b47d-8959d43405ac"
      },
      "execution_count": null,
      "outputs": [
        {
          "output_type": "execute_result",
          "data": {
            "text/plain": [
              "Атеросклероз БЦА\n",
              "0    4679\n",
              "1     891\n",
              "Name: count, dtype: int64"
            ]
          },
          "metadata": {},
          "execution_count": 175
        }
      ]
    },
    {
      "cell_type": "code",
      "source": [
        "pattern = r'АКШ'\n",
        "df['АКШ'] = df['Данные'].apply(lambda x: 1 if re.search(pattern, str(x)) else 0)"
      ],
      "metadata": {
        "id": "1HyQFbyLLEEA"
      },
      "execution_count": null,
      "outputs": []
    },
    {
      "cell_type": "code",
      "source": [
        "df['АКШ'].value_counts()"
      ],
      "metadata": {
        "colab": {
          "base_uri": "https://localhost:8080/"
        },
        "id": "nn8X0ohMLJ5L",
        "outputId": "5de29733-36a3-4939-cd88-9e7941d745da"
      },
      "execution_count": null,
      "outputs": [
        {
          "output_type": "execute_result",
          "data": {
            "text/plain": [
              "АКШ\n",
              "0    4988\n",
              "1     582\n",
              "Name: count, dtype: int64"
            ]
          },
          "metadata": {},
          "execution_count": 177
        }
      ]
    },
    {
      "cell_type": "code",
      "source": [
        "pattern = r'ХСН'\n",
        "df['ХСН'] = df['Данные'].apply(lambda x: 1 if re.search(pattern, str(x)) else 0)"
      ],
      "metadata": {
        "id": "ny5eSQ7pLeZj"
      },
      "execution_count": null,
      "outputs": []
    },
    {
      "cell_type": "code",
      "source": [
        "df['ХСН'].value_counts()"
      ],
      "metadata": {
        "colab": {
          "base_uri": "https://localhost:8080/"
        },
        "id": "yy0Jh5YVLijI",
        "outputId": "5bdaed72-4486-423e-f852-a977365e02f9"
      },
      "execution_count": null,
      "outputs": [
        {
          "output_type": "execute_result",
          "data": {
            "text/plain": [
              "ХСН\n",
              "0    3753\n",
              "1    1817\n",
              "Name: count, dtype: int64"
            ]
          },
          "metadata": {},
          "execution_count": 179
        }
      ]
    },
    {
      "cell_type": "code",
      "source": [
        "pattern = r'облитерирующий\\s*атеросклероз'\n",
        "df['Облитерирующий атеросклероз'] = df['Данные'].apply(lambda x: 1 if re.search(pattern, str(x), re.IGNORECASE) else 0)"
      ],
      "metadata": {
        "id": "RjNi8kO6L3Z4"
      },
      "execution_count": null,
      "outputs": []
    },
    {
      "cell_type": "code",
      "source": [
        "df['Облитерирующий атеросклероз'].value_counts()"
      ],
      "metadata": {
        "colab": {
          "base_uri": "https://localhost:8080/"
        },
        "id": "rNt3igUxMET7",
        "outputId": "9858a950-74f2-4aad-d055-75c876a82e1f"
      },
      "execution_count": null,
      "outputs": [
        {
          "output_type": "execute_result",
          "data": {
            "text/plain": [
              "Облитерирующий атеросклероз\n",
              "0    5407\n",
              "1     163\n",
              "Name: count, dtype: int64"
            ]
          },
          "metadata": {},
          "execution_count": 181
        }
      ]
    },
    {
      "cell_type": "code",
      "source": [
        "pattern = r'аневризма'\n",
        "df['Аневризма'] = df['Данные'].apply(lambda x: 1 if re.search(pattern, str(x), re.IGNORECASE) else 0)"
      ],
      "metadata": {
        "id": "_UzrCLjVNxkO"
      },
      "execution_count": null,
      "outputs": []
    },
    {
      "cell_type": "code",
      "source": [
        "df['Аневризма'].value_counts()"
      ],
      "metadata": {
        "colab": {
          "base_uri": "https://localhost:8080/"
        },
        "id": "dV-TkUeJN5oW",
        "outputId": "27832647-9a2f-473f-bede-91936f197e1e"
      },
      "execution_count": null,
      "outputs": [
        {
          "output_type": "execute_result",
          "data": {
            "text/plain": [
              "Аневризма\n",
              "0    5407\n",
              "1     163\n",
              "Name: count, dtype: int64"
            ]
          },
          "metadata": {},
          "execution_count": 183
        }
      ]
    },
    {
      "cell_type": "code",
      "source": [
        "pattern = r'анемия'\n",
        "df['Анемия'] = df['Данные'].apply(lambda x: 1 if re.search(pattern, str(x), re.IGNORECASE) else 0)"
      ],
      "metadata": {
        "id": "B-boSfIcONqk"
      },
      "execution_count": null,
      "outputs": []
    },
    {
      "cell_type": "code",
      "source": [
        "df['Анемия'].value_counts()"
      ],
      "metadata": {
        "colab": {
          "base_uri": "https://localhost:8080/"
        },
        "id": "YodJnZMFOSFg",
        "outputId": "56878bd8-3af9-4ef0-e680-27f6cd732844"
      },
      "execution_count": null,
      "outputs": [
        {
          "output_type": "execute_result",
          "data": {
            "text/plain": [
              "Анемия\n",
              "0    5011\n",
              "1     559\n",
              "Name: count, dtype: int64"
            ]
          },
          "metadata": {},
          "execution_count": 185
        }
      ]
    },
    {
      "cell_type": "code",
      "source": [
        "pattern = r'НАЖБП'\n",
        "df['НАЖБП'] = df['Данные'].apply(lambda x: 1 if re.search(pattern, str(x)) else 0)"
      ],
      "metadata": {
        "id": "JYbv5pKwOmw_"
      },
      "execution_count": null,
      "outputs": []
    },
    {
      "cell_type": "code",
      "source": [
        "df['НАЖБП'].value_counts()"
      ],
      "metadata": {
        "colab": {
          "base_uri": "https://localhost:8080/"
        },
        "id": "aqwEcCBZOso8",
        "outputId": "6e6e1ae3-de92-40e7-a6ae-36c5a8a0bc2f"
      },
      "execution_count": null,
      "outputs": [
        {
          "output_type": "execute_result",
          "data": {
            "text/plain": [
              "НАЖБП\n",
              "0    5562\n",
              "1       8\n",
              "Name: count, dtype: int64"
            ]
          },
          "metadata": {},
          "execution_count": 187
        }
      ]
    },
    {
      "cell_type": "code",
      "source": [
        "pattern = r'ХОБЛ'\n",
        "df['ХОБЛ'] = df['Данные'].apply(lambda x: 1 if re.search(pattern, str(x)) else 0)"
      ],
      "metadata": {
        "id": "FKjVOtteO7fu"
      },
      "execution_count": null,
      "outputs": []
    },
    {
      "cell_type": "code",
      "source": [
        "df['ХОБЛ'].value_counts()"
      ],
      "metadata": {
        "colab": {
          "base_uri": "https://localhost:8080/"
        },
        "id": "NjKOk3fIPFlz",
        "outputId": "1902f29f-be98-4f1d-85ab-efdee6e6c3c5"
      },
      "execution_count": null,
      "outputs": [
        {
          "output_type": "execute_result",
          "data": {
            "text/plain": [
              "ХОБЛ\n",
              "0    5241\n",
              "1     329\n",
              "Name: count, dtype: int64"
            ]
          },
          "metadata": {},
          "execution_count": 189
        }
      ]
    },
    {
      "cell_type": "code",
      "source": [
        "df = df.drop(columns=['Данные', 'Номер_эпизода.1', 'Данные.1'])"
      ],
      "metadata": {
        "id": "iMJXtS40csHU"
      },
      "execution_count": null,
      "outputs": []
    },
    {
      "cell_type": "code",
      "source": [
        "df.columns"
      ],
      "metadata": {
        "colab": {
          "base_uri": "https://localhost:8080/"
        },
        "id": "phbsYVkl5ch7",
        "outputId": "128b6b17-2a3a-4246-f888-9bb5a7f8be92"
      },
      "execution_count": null,
      "outputs": [
        {
          "output_type": "execute_result",
          "data": {
            "text/plain": [
              "Index(['Номер_эпизода', 'Дата_поступления', 'Клинический_диагноз_рубрика',\n",
              "       'Исход_эпизода', 'Результат_лечения', 'Эпизод_хэш', 'Пациент_хэш',\n",
              "       'Регистрационный_номер', 'Пол', 'Дата_рождения', 'Дата_смерти',\n",
              "       'Дата_постановки_диагноза', 'Коррекция_дата_время', 'Диагноз',\n",
              "       'Исход инфаркт', 'Сахарный диабет', 'ОНМК', 'Фибрилляция предсердий',\n",
              "       'ХБП', 'Депрессия', 'Отек легких', 'Кардиогенный шок', 'ПИКС', 'ПЭКС',\n",
              "       'ВЭКС', 'Ожирение', 'Атеросклероз БЦА', 'АКШ', 'ХСН',\n",
              "       'Облитерирующий атеросклероз', 'Аневризма', 'Анемия', 'НАЖБП', 'ХОБЛ'],\n",
              "      dtype='object')"
            ]
          },
          "metadata": {},
          "execution_count": 191
        }
      ]
    },
    {
      "cell_type": "code",
      "source": [
        "df.shape"
      ],
      "metadata": {
        "colab": {
          "base_uri": "https://localhost:8080/"
        },
        "id": "bmHNI2GAdHAe",
        "outputId": "a9296b25-3a13-44cd-b609-538b533046d1"
      },
      "execution_count": null,
      "outputs": [
        {
          "output_type": "execute_result",
          "data": {
            "text/plain": [
              "(5570, 34)"
            ]
          },
          "metadata": {},
          "execution_count": 192
        }
      ]
    },
    {
      "cell_type": "code",
      "source": [
        "df = df.drop_duplicates()"
      ],
      "metadata": {
        "id": "6SD0lNhLdJSA"
      },
      "execution_count": null,
      "outputs": []
    },
    {
      "cell_type": "code",
      "source": [
        "df.shape"
      ],
      "metadata": {
        "colab": {
          "base_uri": "https://localhost:8080/"
        },
        "id": "lsVgN_nIdNjK",
        "outputId": "666b81e9-3476-4a09-ca23-6059fbfcce9e"
      },
      "execution_count": null,
      "outputs": [
        {
          "output_type": "execute_result",
          "data": {
            "text/plain": [
              "(4190, 34)"
            ]
          },
          "metadata": {},
          "execution_count": 194
        }
      ]
    },
    {
      "cell_type": "code",
      "source": [
        "cols_to_or = ['Исход инфаркт', 'Сахарный диабет', 'ОНМК', 'Фибрилляция предсердий', 'ХБП', 'Депрессия', 'Отек легких', 'Кардиогенный шок', 'ПИКС', 'ПЭКС',\n",
        "       'ВЭКС', 'Ожирение', 'Атеросклероз БЦА', 'АКШ', 'ХСН', 'Облитерирующий атеросклероз', 'Аневризма', 'Анемия', 'НАЖБП', 'ХОБЛ']\n",
        "\n",
        "cols_to_first = [col for col in df.columns if col not in cols_to_or and col != 'Номер_эпизода']\n",
        "\n",
        "df = (\n",
        "    df.groupby('Номер_эпизода')\n",
        "    .agg({\n",
        "        **{col: 'max' for col in cols_to_or},  # Логическое ИЛИ для указанных столбцов\n",
        "        **{col: 'first' for col in cols_to_first}  # Первое вхождение для остальных столбцов\n",
        "    })\n",
        "    .reset_index()\n",
        ")"
      ],
      "metadata": {
        "id": "jwZql0zxb5py"
      },
      "execution_count": null,
      "outputs": []
    },
    {
      "cell_type": "code",
      "source": [
        "df.shape"
      ],
      "metadata": {
        "colab": {
          "base_uri": "https://localhost:8080/"
        },
        "id": "VoSk2BxodTK1",
        "outputId": "2cc5f398-090c-4e1e-a956-6be28bdfd014"
      },
      "execution_count": null,
      "outputs": [
        {
          "output_type": "execute_result",
          "data": {
            "text/plain": [
              "(3200, 34)"
            ]
          },
          "metadata": {},
          "execution_count": 196
        }
      ]
    },
    {
      "cell_type": "code",
      "source": [
        "df['Исход инфаркт'].value_counts()"
      ],
      "metadata": {
        "colab": {
          "base_uri": "https://localhost:8080/"
        },
        "id": "Csf_jI8JdXrk",
        "outputId": "49bdca0c-1d18-4f14-e270-461248289da2"
      },
      "execution_count": null,
      "outputs": [
        {
          "output_type": "execute_result",
          "data": {
            "text/plain": [
              "Исход инфаркт\n",
              "0    3147\n",
              "1      53\n",
              "Name: count, dtype: int64"
            ]
          },
          "metadata": {},
          "execution_count": 197
        }
      ]
    },
    {
      "cell_type": "code",
      "source": [
        "df['Сахарный диабет'].value_counts()"
      ],
      "metadata": {
        "colab": {
          "base_uri": "https://localhost:8080/"
        },
        "id": "pFWGjnzvdd05",
        "outputId": "cda3e220-0162-4d4f-c010-4f849301b04c"
      },
      "execution_count": null,
      "outputs": [
        {
          "output_type": "execute_result",
          "data": {
            "text/plain": [
              "Сахарный диабет\n",
              "0    2379\n",
              "1     821\n",
              "Name: count, dtype: int64"
            ]
          },
          "metadata": {},
          "execution_count": 198
        }
      ]
    },
    {
      "cell_type": "code",
      "source": [
        "df['ОНМК'].value_counts()"
      ],
      "metadata": {
        "colab": {
          "base_uri": "https://localhost:8080/"
        },
        "id": "UOPfilRYdmVn",
        "outputId": "4ba9a145-b0b2-4e9d-bd57-3562615c8ba7"
      },
      "execution_count": null,
      "outputs": [
        {
          "output_type": "execute_result",
          "data": {
            "text/plain": [
              "ОНМК\n",
              "0    2799\n",
              "1     401\n",
              "Name: count, dtype: int64"
            ]
          },
          "metadata": {},
          "execution_count": 199
        }
      ]
    },
    {
      "cell_type": "code",
      "source": [
        "df['Фибрилляция предсердий'].value_counts()"
      ],
      "metadata": {
        "colab": {
          "base_uri": "https://localhost:8080/"
        },
        "id": "D5rRMl2adt-o",
        "outputId": "5acd8c9a-098b-490f-bb2d-0e4e4ba529e3"
      },
      "execution_count": null,
      "outputs": [
        {
          "output_type": "execute_result",
          "data": {
            "text/plain": [
              "Фибрилляция предсердий\n",
              "0    2866\n",
              "1     334\n",
              "Name: count, dtype: int64"
            ]
          },
          "metadata": {},
          "execution_count": 200
        }
      ]
    },
    {
      "cell_type": "code",
      "source": [
        "df['ХБП'].value_counts()"
      ],
      "metadata": {
        "colab": {
          "base_uri": "https://localhost:8080/"
        },
        "id": "rmKibnE0dJ13",
        "outputId": "49291722-a6e9-4e81-8475-20106180961e"
      },
      "execution_count": null,
      "outputs": [
        {
          "output_type": "execute_result",
          "data": {
            "text/plain": [
              "ХБП\n",
              "0    2843\n",
              "1     357\n",
              "Name: count, dtype: int64"
            ]
          },
          "metadata": {},
          "execution_count": 201
        }
      ]
    },
    {
      "cell_type": "code",
      "source": [
        "df['Депрессия'].value_counts()"
      ],
      "metadata": {
        "colab": {
          "base_uri": "https://localhost:8080/"
        },
        "outputId": "19635a13-43b0-49e2-afbe-b8a7591e1559",
        "id": "TtOA7vKrP3tJ"
      },
      "execution_count": null,
      "outputs": [
        {
          "output_type": "execute_result",
          "data": {
            "text/plain": [
              "Депрессия\n",
              "0    3103\n",
              "1      97\n",
              "Name: count, dtype: int64"
            ]
          },
          "metadata": {},
          "execution_count": 202
        }
      ]
    },
    {
      "cell_type": "code",
      "source": [
        "df['Отек легких'].value_counts()"
      ],
      "metadata": {
        "colab": {
          "base_uri": "https://localhost:8080/"
        },
        "outputId": "c6a5dd54-eb91-419d-fd06-b1b91ba471e7",
        "id": "UdoD9tZuP3tK"
      },
      "execution_count": null,
      "outputs": [
        {
          "output_type": "execute_result",
          "data": {
            "text/plain": [
              "Отек легких\n",
              "0    3084\n",
              "1     116\n",
              "Name: count, dtype: int64"
            ]
          },
          "metadata": {},
          "execution_count": 203
        }
      ]
    },
    {
      "cell_type": "code",
      "source": [
        "df['Кардиогенный шок'].value_counts()"
      ],
      "metadata": {
        "colab": {
          "base_uri": "https://localhost:8080/"
        },
        "outputId": "eca6330f-3e22-4854-e935-5b44f8f0275d",
        "id": "W4UkErsgP3tK"
      },
      "execution_count": null,
      "outputs": [
        {
          "output_type": "execute_result",
          "data": {
            "text/plain": [
              "Кардиогенный шок\n",
              "0    3133\n",
              "1      67\n",
              "Name: count, dtype: int64"
            ]
          },
          "metadata": {},
          "execution_count": 204
        }
      ]
    },
    {
      "cell_type": "code",
      "source": [
        "df['ПИКС'].value_counts()"
      ],
      "metadata": {
        "colab": {
          "base_uri": "https://localhost:8080/"
        },
        "outputId": "1b9be4cc-556d-41fb-f1bc-fca95b0d11d4",
        "id": "NqBux0IBP3tK"
      },
      "execution_count": null,
      "outputs": [
        {
          "output_type": "execute_result",
          "data": {
            "text/plain": [
              "ПИКС\n",
              "0    2891\n",
              "1     309\n",
              "Name: count, dtype: int64"
            ]
          },
          "metadata": {},
          "execution_count": 205
        }
      ]
    },
    {
      "cell_type": "code",
      "source": [
        "df['ПЭКС'].value_counts()"
      ],
      "metadata": {
        "colab": {
          "base_uri": "https://localhost:8080/"
        },
        "outputId": "55703319-8254-464b-e8f6-80b787b94204",
        "id": "clqMbDbcP3tK"
      },
      "execution_count": null,
      "outputs": [
        {
          "output_type": "execute_result",
          "data": {
            "text/plain": [
              "ПЭКС\n",
              "0    3123\n",
              "1      77\n",
              "Name: count, dtype: int64"
            ]
          },
          "metadata": {},
          "execution_count": 206
        }
      ]
    },
    {
      "cell_type": "code",
      "source": [
        "df['ВЭКС'].value_counts()"
      ],
      "metadata": {
        "colab": {
          "base_uri": "https://localhost:8080/"
        },
        "outputId": "a26585e7-b819-4365-bee7-42ddc1a23ad7",
        "id": "qoliIezXP3tK"
      },
      "execution_count": null,
      "outputs": [
        {
          "output_type": "execute_result",
          "data": {
            "text/plain": [
              "ВЭКС\n",
              "0    3178\n",
              "1      22\n",
              "Name: count, dtype: int64"
            ]
          },
          "metadata": {},
          "execution_count": 207
        }
      ]
    },
    {
      "cell_type": "code",
      "source": [
        "df['Ожирение'].value_counts()"
      ],
      "metadata": {
        "colab": {
          "base_uri": "https://localhost:8080/"
        },
        "outputId": "f0ad3edb-36fe-4dec-c783-c452541fcf8d",
        "id": "pJr_JbBZP3tK"
      },
      "execution_count": null,
      "outputs": [
        {
          "output_type": "execute_result",
          "data": {
            "text/plain": [
              "Ожирение\n",
              "0    2530\n",
              "1     670\n",
              "Name: count, dtype: int64"
            ]
          },
          "metadata": {},
          "execution_count": 208
        }
      ]
    },
    {
      "cell_type": "code",
      "source": [
        "df['Атеросклероз БЦА'].value_counts()"
      ],
      "metadata": {
        "colab": {
          "base_uri": "https://localhost:8080/"
        },
        "outputId": "0200b125-44db-444f-f4fd-38aad4ad6686",
        "id": "8wNE0ln0P3tL"
      },
      "execution_count": null,
      "outputs": [
        {
          "output_type": "execute_result",
          "data": {
            "text/plain": [
              "Атеросклероз БЦА\n",
              "0    2425\n",
              "1     775\n",
              "Name: count, dtype: int64"
            ]
          },
          "metadata": {},
          "execution_count": 209
        }
      ]
    },
    {
      "cell_type": "code",
      "source": [
        "df['АКШ'].value_counts()"
      ],
      "metadata": {
        "colab": {
          "base_uri": "https://localhost:8080/"
        },
        "outputId": "d9133b28-b0e9-4132-eb3f-8964a259d5f0",
        "id": "ZpO051CPP3tL"
      },
      "execution_count": null,
      "outputs": [
        {
          "output_type": "execute_result",
          "data": {
            "text/plain": [
              "АКШ\n",
              "0    2692\n",
              "1     508\n",
              "Name: count, dtype: int64"
            ]
          },
          "metadata": {},
          "execution_count": 210
        }
      ]
    },
    {
      "cell_type": "code",
      "source": [
        "df['ХСН'].value_counts()"
      ],
      "metadata": {
        "colab": {
          "base_uri": "https://localhost:8080/"
        },
        "outputId": "c4a42411-c431-4543-fb35-211610319183",
        "id": "htMuVroNP3tL"
      },
      "execution_count": null,
      "outputs": [
        {
          "output_type": "execute_result",
          "data": {
            "text/plain": [
              "ХСН\n",
              "0    1650\n",
              "1    1550\n",
              "Name: count, dtype: int64"
            ]
          },
          "metadata": {},
          "execution_count": 211
        }
      ]
    },
    {
      "cell_type": "code",
      "source": [
        "df['Облитерирующий атеросклероз'].value_counts()"
      ],
      "metadata": {
        "colab": {
          "base_uri": "https://localhost:8080/"
        },
        "outputId": "0501f40f-d378-4cf3-a90c-a7ad733f720c",
        "id": "7SU-Hd2wP3tL"
      },
      "execution_count": null,
      "outputs": [
        {
          "output_type": "execute_result",
          "data": {
            "text/plain": [
              "Облитерирующий атеросклероз\n",
              "0    3063\n",
              "1     137\n",
              "Name: count, dtype: int64"
            ]
          },
          "metadata": {},
          "execution_count": 212
        }
      ]
    },
    {
      "cell_type": "code",
      "source": [
        "df['Аневризма'].value_counts()"
      ],
      "metadata": {
        "colab": {
          "base_uri": "https://localhost:8080/"
        },
        "outputId": "04656808-f637-4d3e-e2ca-a1e246acbd11",
        "id": "jwU6Nk5qP3tL"
      },
      "execution_count": null,
      "outputs": [
        {
          "output_type": "execute_result",
          "data": {
            "text/plain": [
              "Аневризма\n",
              "0    3070\n",
              "1     130\n",
              "Name: count, dtype: int64"
            ]
          },
          "metadata": {},
          "execution_count": 213
        }
      ]
    },
    {
      "cell_type": "code",
      "source": [
        "df['Анемия'].value_counts()"
      ],
      "metadata": {
        "colab": {
          "base_uri": "https://localhost:8080/"
        },
        "outputId": "61cd4f08-deba-4342-f0a1-1c1e2a817014",
        "id": "S10VQdBYP3tL"
      },
      "execution_count": null,
      "outputs": [
        {
          "output_type": "execute_result",
          "data": {
            "text/plain": [
              "Анемия\n",
              "0    2723\n",
              "1     477\n",
              "Name: count, dtype: int64"
            ]
          },
          "metadata": {},
          "execution_count": 214
        }
      ]
    },
    {
      "cell_type": "code",
      "source": [
        "df['НАЖБП'].value_counts()"
      ],
      "metadata": {
        "colab": {
          "base_uri": "https://localhost:8080/"
        },
        "outputId": "20bad91b-65b6-46d3-dc1a-7951c11a3891",
        "id": "f6-mO7R_P3tL"
      },
      "execution_count": null,
      "outputs": [
        {
          "output_type": "execute_result",
          "data": {
            "text/plain": [
              "НАЖБП\n",
              "0    3195\n",
              "1       5\n",
              "Name: count, dtype: int64"
            ]
          },
          "metadata": {},
          "execution_count": 215
        }
      ]
    },
    {
      "cell_type": "code",
      "source": [
        "df['ХОБЛ'].value_counts()"
      ],
      "metadata": {
        "colab": {
          "base_uri": "https://localhost:8080/"
        },
        "outputId": "9d1d9b9c-a8d9-41bc-b586-8121b896e6f7",
        "id": "06-0ruGsP3tL"
      },
      "execution_count": null,
      "outputs": [
        {
          "output_type": "execute_result",
          "data": {
            "text/plain": [
              "ХОБЛ\n",
              "0    2911\n",
              "1     289\n",
              "Name: count, dtype: int64"
            ]
          },
          "metadata": {},
          "execution_count": 216
        }
      ]
    },
    {
      "cell_type": "code",
      "source": [
        "df"
      ],
      "metadata": {
        "colab": {
          "base_uri": "https://localhost:8080/",
          "height": 461
        },
        "id": "re5omn8md6gp",
        "outputId": "3c287a7e-b3d6-4d00-af3a-db005316062b"
      },
      "execution_count": null,
      "outputs": [
        {
          "output_type": "execute_result",
          "data": {
            "text/plain": [
              "     Номер_эпизода  Исход инфаркт  Сахарный диабет  ОНМК  \\\n",
              "0      10012/С2024              0                1     0   \n",
              "1       1004/С2021              0                0     0   \n",
              "2      10087/С2019              0                0     1   \n",
              "3      10090/С2019              0                1     0   \n",
              "4        101/С2021              0                1     0   \n",
              "...            ...            ...              ...   ...   \n",
              "3195     996/С2021              0                0     1   \n",
              "3196    9973/С2020              0                0     1   \n",
              "3197    9986/С2021              0                1     0   \n",
              "3198    9992/С2015              0                0     0   \n",
              "3199    9998/С2019              0                0     0   \n",
              "\n",
              "      Фибрилляция предсердий  ХБП  Депрессия  Отек легких  Кардиогенный шок  \\\n",
              "0                          0    1          0            1                 0   \n",
              "1                          0    0          0            0                 0   \n",
              "2                          0    0          0            0                 0   \n",
              "3                          0    0          1            0                 0   \n",
              "4                          0    0          0            0                 0   \n",
              "...                      ...  ...        ...          ...               ...   \n",
              "3195                       1    0          1            0                 0   \n",
              "3196                       0    0          0            0                 0   \n",
              "3197                       0    0          0            0                 0   \n",
              "3198                       0    0          0            0                 0   \n",
              "3199                       0    0          0            0                 0   \n",
              "\n",
              "      ПИКС  ...  Результат_лечения            Эпизод_хэш  \\\n",
              "0        0  ...               умер  -8445581623368346775   \n",
              "1        1  ...          улучшение    873054346868597458   \n",
              "2        0  ...          улучшение   6238717178641617106   \n",
              "3        0  ...          улучшение           4,31128E+18   \n",
              "4        0  ...          улучшение  -2703316645470574406   \n",
              "...    ...  ...                ...                   ...   \n",
              "3195     0  ...          улучшение  -4361957761341053333   \n",
              "3196     0  ...        без перемен   3364716376865407807   \n",
              "3197     0  ...          улучшение  -2694055414706671894   \n",
              "3198     0  ...               умер   8287125149712993567   \n",
              "3199     0  ...          улучшение   4192883308950932313   \n",
              "\n",
              "               Пациент_хэш  Регистрационный_номер      Пол  Дата_рождения  \\\n",
              "0      4749490106688887893               9473/A24  Женский     1956-10-04   \n",
              "1      7200381739065554026              60481/A16  Женский     1933-06-01   \n",
              "2     -1983437426294107095              74580/A15  Женский     1943-05-06   \n",
              "3              8,20007E+18              29335/A19  Женский     10.12.1961   \n",
              "4      -652754362701982056                153/A21  Мужской     1979-02-26   \n",
              "...                    ...                    ...      ...            ...   \n",
              "3195   8301095072521954404               2736/A21  Женский     1929-08-29   \n",
              "3196   4185164477051134659              27530/A20  Женский     1945-06-09   \n",
              "3197  -1724462241107538201              31695/A21  Женский     1957-09-24   \n",
              "3198  -9135614360981797710              28203/A15  Мужской     1936-03-09   \n",
              "3199  -6685821259033035400              28940/A19  Мужской     1959-05-15   \n",
              "\n",
              "      Дата_смерти  Дата_постановки_диагноза  Коррекция_дата_время  Диагноз  \n",
              "0      2024-04-19                2024-04-19                  None      0.0  \n",
              "1            None                2021-02-16                  None      1.0  \n",
              "2            None                2019-04-22   2019-04-17 13:34:53      1.0  \n",
              "3            None                29.04.2019      17.04.2019 13:38      NaN  \n",
              "4            None                2021-01-08                  None      1.0  \n",
              "...           ...                       ...                   ...      ...  \n",
              "3195         None                2021-02-03   2021-01-20 18:42:37      1.0  \n",
              "3196         None                2020-05-02                  None      0.0  \n",
              "3197         None                2021-04-14                  None      0.0  \n",
              "3198   2015-05-23                2015-05-24                  None      0.0  \n",
              "3199         None                2019-04-26   2019-04-16 14:51:08      0.0  \n",
              "\n",
              "[3200 rows x 34 columns]"
            ],
            "text/html": [
              "\n",
              "  <div id=\"df-b475b961-bca7-4c50-811b-542d1b4385f7\" class=\"colab-df-container\">\n",
              "    <div>\n",
              "<style scoped>\n",
              "    .dataframe tbody tr th:only-of-type {\n",
              "        vertical-align: middle;\n",
              "    }\n",
              "\n",
              "    .dataframe tbody tr th {\n",
              "        vertical-align: top;\n",
              "    }\n",
              "\n",
              "    .dataframe thead th {\n",
              "        text-align: right;\n",
              "    }\n",
              "</style>\n",
              "<table border=\"1\" class=\"dataframe\">\n",
              "  <thead>\n",
              "    <tr style=\"text-align: right;\">\n",
              "      <th></th>\n",
              "      <th>Номер_эпизода</th>\n",
              "      <th>Исход инфаркт</th>\n",
              "      <th>Сахарный диабет</th>\n",
              "      <th>ОНМК</th>\n",
              "      <th>Фибрилляция предсердий</th>\n",
              "      <th>ХБП</th>\n",
              "      <th>Депрессия</th>\n",
              "      <th>Отек легких</th>\n",
              "      <th>Кардиогенный шок</th>\n",
              "      <th>ПИКС</th>\n",
              "      <th>...</th>\n",
              "      <th>Результат_лечения</th>\n",
              "      <th>Эпизод_хэш</th>\n",
              "      <th>Пациент_хэш</th>\n",
              "      <th>Регистрационный_номер</th>\n",
              "      <th>Пол</th>\n",
              "      <th>Дата_рождения</th>\n",
              "      <th>Дата_смерти</th>\n",
              "      <th>Дата_постановки_диагноза</th>\n",
              "      <th>Коррекция_дата_время</th>\n",
              "      <th>Диагноз</th>\n",
              "    </tr>\n",
              "  </thead>\n",
              "  <tbody>\n",
              "    <tr>\n",
              "      <th>0</th>\n",
              "      <td>10012/С2024</td>\n",
              "      <td>0</td>\n",
              "      <td>1</td>\n",
              "      <td>0</td>\n",
              "      <td>0</td>\n",
              "      <td>1</td>\n",
              "      <td>0</td>\n",
              "      <td>1</td>\n",
              "      <td>0</td>\n",
              "      <td>0</td>\n",
              "      <td>...</td>\n",
              "      <td>умер</td>\n",
              "      <td>-8445581623368346775</td>\n",
              "      <td>4749490106688887893</td>\n",
              "      <td>9473/A24</td>\n",
              "      <td>Женский</td>\n",
              "      <td>1956-10-04</td>\n",
              "      <td>2024-04-19</td>\n",
              "      <td>2024-04-19</td>\n",
              "      <td>None</td>\n",
              "      <td>0.0</td>\n",
              "    </tr>\n",
              "    <tr>\n",
              "      <th>1</th>\n",
              "      <td>1004/С2021</td>\n",
              "      <td>0</td>\n",
              "      <td>0</td>\n",
              "      <td>0</td>\n",
              "      <td>0</td>\n",
              "      <td>0</td>\n",
              "      <td>0</td>\n",
              "      <td>0</td>\n",
              "      <td>0</td>\n",
              "      <td>1</td>\n",
              "      <td>...</td>\n",
              "      <td>улучшение</td>\n",
              "      <td>873054346868597458</td>\n",
              "      <td>7200381739065554026</td>\n",
              "      <td>60481/A16</td>\n",
              "      <td>Женский</td>\n",
              "      <td>1933-06-01</td>\n",
              "      <td>None</td>\n",
              "      <td>2021-02-16</td>\n",
              "      <td>None</td>\n",
              "      <td>1.0</td>\n",
              "    </tr>\n",
              "    <tr>\n",
              "      <th>2</th>\n",
              "      <td>10087/С2019</td>\n",
              "      <td>0</td>\n",
              "      <td>0</td>\n",
              "      <td>1</td>\n",
              "      <td>0</td>\n",
              "      <td>0</td>\n",
              "      <td>0</td>\n",
              "      <td>0</td>\n",
              "      <td>0</td>\n",
              "      <td>0</td>\n",
              "      <td>...</td>\n",
              "      <td>улучшение</td>\n",
              "      <td>6238717178641617106</td>\n",
              "      <td>-1983437426294107095</td>\n",
              "      <td>74580/A15</td>\n",
              "      <td>Женский</td>\n",
              "      <td>1943-05-06</td>\n",
              "      <td>None</td>\n",
              "      <td>2019-04-22</td>\n",
              "      <td>2019-04-17 13:34:53</td>\n",
              "      <td>1.0</td>\n",
              "    </tr>\n",
              "    <tr>\n",
              "      <th>3</th>\n",
              "      <td>10090/С2019</td>\n",
              "      <td>0</td>\n",
              "      <td>1</td>\n",
              "      <td>0</td>\n",
              "      <td>0</td>\n",
              "      <td>0</td>\n",
              "      <td>1</td>\n",
              "      <td>0</td>\n",
              "      <td>0</td>\n",
              "      <td>0</td>\n",
              "      <td>...</td>\n",
              "      <td>улучшение</td>\n",
              "      <td>4,31128E+18</td>\n",
              "      <td>8,20007E+18</td>\n",
              "      <td>29335/A19</td>\n",
              "      <td>Женский</td>\n",
              "      <td>10.12.1961</td>\n",
              "      <td>None</td>\n",
              "      <td>29.04.2019</td>\n",
              "      <td>17.04.2019 13:38</td>\n",
              "      <td>NaN</td>\n",
              "    </tr>\n",
              "    <tr>\n",
              "      <th>4</th>\n",
              "      <td>101/С2021</td>\n",
              "      <td>0</td>\n",
              "      <td>1</td>\n",
              "      <td>0</td>\n",
              "      <td>0</td>\n",
              "      <td>0</td>\n",
              "      <td>0</td>\n",
              "      <td>0</td>\n",
              "      <td>0</td>\n",
              "      <td>0</td>\n",
              "      <td>...</td>\n",
              "      <td>улучшение</td>\n",
              "      <td>-2703316645470574406</td>\n",
              "      <td>-652754362701982056</td>\n",
              "      <td>153/A21</td>\n",
              "      <td>Мужской</td>\n",
              "      <td>1979-02-26</td>\n",
              "      <td>None</td>\n",
              "      <td>2021-01-08</td>\n",
              "      <td>None</td>\n",
              "      <td>1.0</td>\n",
              "    </tr>\n",
              "    <tr>\n",
              "      <th>...</th>\n",
              "      <td>...</td>\n",
              "      <td>...</td>\n",
              "      <td>...</td>\n",
              "      <td>...</td>\n",
              "      <td>...</td>\n",
              "      <td>...</td>\n",
              "      <td>...</td>\n",
              "      <td>...</td>\n",
              "      <td>...</td>\n",
              "      <td>...</td>\n",
              "      <td>...</td>\n",
              "      <td>...</td>\n",
              "      <td>...</td>\n",
              "      <td>...</td>\n",
              "      <td>...</td>\n",
              "      <td>...</td>\n",
              "      <td>...</td>\n",
              "      <td>...</td>\n",
              "      <td>...</td>\n",
              "      <td>...</td>\n",
              "      <td>...</td>\n",
              "    </tr>\n",
              "    <tr>\n",
              "      <th>3195</th>\n",
              "      <td>996/С2021</td>\n",
              "      <td>0</td>\n",
              "      <td>0</td>\n",
              "      <td>1</td>\n",
              "      <td>1</td>\n",
              "      <td>0</td>\n",
              "      <td>1</td>\n",
              "      <td>0</td>\n",
              "      <td>0</td>\n",
              "      <td>0</td>\n",
              "      <td>...</td>\n",
              "      <td>улучшение</td>\n",
              "      <td>-4361957761341053333</td>\n",
              "      <td>8301095072521954404</td>\n",
              "      <td>2736/A21</td>\n",
              "      <td>Женский</td>\n",
              "      <td>1929-08-29</td>\n",
              "      <td>None</td>\n",
              "      <td>2021-02-03</td>\n",
              "      <td>2021-01-20 18:42:37</td>\n",
              "      <td>1.0</td>\n",
              "    </tr>\n",
              "    <tr>\n",
              "      <th>3196</th>\n",
              "      <td>9973/С2020</td>\n",
              "      <td>0</td>\n",
              "      <td>0</td>\n",
              "      <td>1</td>\n",
              "      <td>0</td>\n",
              "      <td>0</td>\n",
              "      <td>0</td>\n",
              "      <td>0</td>\n",
              "      <td>0</td>\n",
              "      <td>0</td>\n",
              "      <td>...</td>\n",
              "      <td>без перемен</td>\n",
              "      <td>3364716376865407807</td>\n",
              "      <td>4185164477051134659</td>\n",
              "      <td>27530/A20</td>\n",
              "      <td>Женский</td>\n",
              "      <td>1945-06-09</td>\n",
              "      <td>None</td>\n",
              "      <td>2020-05-02</td>\n",
              "      <td>None</td>\n",
              "      <td>0.0</td>\n",
              "    </tr>\n",
              "    <tr>\n",
              "      <th>3197</th>\n",
              "      <td>9986/С2021</td>\n",
              "      <td>0</td>\n",
              "      <td>1</td>\n",
              "      <td>0</td>\n",
              "      <td>0</td>\n",
              "      <td>0</td>\n",
              "      <td>0</td>\n",
              "      <td>0</td>\n",
              "      <td>0</td>\n",
              "      <td>0</td>\n",
              "      <td>...</td>\n",
              "      <td>улучшение</td>\n",
              "      <td>-2694055414706671894</td>\n",
              "      <td>-1724462241107538201</td>\n",
              "      <td>31695/A21</td>\n",
              "      <td>Женский</td>\n",
              "      <td>1957-09-24</td>\n",
              "      <td>None</td>\n",
              "      <td>2021-04-14</td>\n",
              "      <td>None</td>\n",
              "      <td>0.0</td>\n",
              "    </tr>\n",
              "    <tr>\n",
              "      <th>3198</th>\n",
              "      <td>9992/С2015</td>\n",
              "      <td>0</td>\n",
              "      <td>0</td>\n",
              "      <td>0</td>\n",
              "      <td>0</td>\n",
              "      <td>0</td>\n",
              "      <td>0</td>\n",
              "      <td>0</td>\n",
              "      <td>0</td>\n",
              "      <td>0</td>\n",
              "      <td>...</td>\n",
              "      <td>умер</td>\n",
              "      <td>8287125149712993567</td>\n",
              "      <td>-9135614360981797710</td>\n",
              "      <td>28203/A15</td>\n",
              "      <td>Мужской</td>\n",
              "      <td>1936-03-09</td>\n",
              "      <td>2015-05-23</td>\n",
              "      <td>2015-05-24</td>\n",
              "      <td>None</td>\n",
              "      <td>0.0</td>\n",
              "    </tr>\n",
              "    <tr>\n",
              "      <th>3199</th>\n",
              "      <td>9998/С2019</td>\n",
              "      <td>0</td>\n",
              "      <td>0</td>\n",
              "      <td>0</td>\n",
              "      <td>0</td>\n",
              "      <td>0</td>\n",
              "      <td>0</td>\n",
              "      <td>0</td>\n",
              "      <td>0</td>\n",
              "      <td>0</td>\n",
              "      <td>...</td>\n",
              "      <td>улучшение</td>\n",
              "      <td>4192883308950932313</td>\n",
              "      <td>-6685821259033035400</td>\n",
              "      <td>28940/A19</td>\n",
              "      <td>Мужской</td>\n",
              "      <td>1959-05-15</td>\n",
              "      <td>None</td>\n",
              "      <td>2019-04-26</td>\n",
              "      <td>2019-04-16 14:51:08</td>\n",
              "      <td>0.0</td>\n",
              "    </tr>\n",
              "  </tbody>\n",
              "</table>\n",
              "<p>3200 rows × 34 columns</p>\n",
              "</div>\n",
              "    <div class=\"colab-df-buttons\">\n",
              "\n",
              "  <div class=\"colab-df-container\">\n",
              "    <button class=\"colab-df-convert\" onclick=\"convertToInteractive('df-b475b961-bca7-4c50-811b-542d1b4385f7')\"\n",
              "            title=\"Convert this dataframe to an interactive table.\"\n",
              "            style=\"display:none;\">\n",
              "\n",
              "  <svg xmlns=\"http://www.w3.org/2000/svg\" height=\"24px\" viewBox=\"0 -960 960 960\">\n",
              "    <path d=\"M120-120v-720h720v720H120Zm60-500h600v-160H180v160Zm220 220h160v-160H400v160Zm0 220h160v-160H400v160ZM180-400h160v-160H180v160Zm440 0h160v-160H620v160ZM180-180h160v-160H180v160Zm440 0h160v-160H620v160Z\"/>\n",
              "  </svg>\n",
              "    </button>\n",
              "\n",
              "  <style>\n",
              "    .colab-df-container {\n",
              "      display:flex;\n",
              "      gap: 12px;\n",
              "    }\n",
              "\n",
              "    .colab-df-convert {\n",
              "      background-color: #E8F0FE;\n",
              "      border: none;\n",
              "      border-radius: 50%;\n",
              "      cursor: pointer;\n",
              "      display: none;\n",
              "      fill: #1967D2;\n",
              "      height: 32px;\n",
              "      padding: 0 0 0 0;\n",
              "      width: 32px;\n",
              "    }\n",
              "\n",
              "    .colab-df-convert:hover {\n",
              "      background-color: #E2EBFA;\n",
              "      box-shadow: 0px 1px 2px rgba(60, 64, 67, 0.3), 0px 1px 3px 1px rgba(60, 64, 67, 0.15);\n",
              "      fill: #174EA6;\n",
              "    }\n",
              "\n",
              "    .colab-df-buttons div {\n",
              "      margin-bottom: 4px;\n",
              "    }\n",
              "\n",
              "    [theme=dark] .colab-df-convert {\n",
              "      background-color: #3B4455;\n",
              "      fill: #D2E3FC;\n",
              "    }\n",
              "\n",
              "    [theme=dark] .colab-df-convert:hover {\n",
              "      background-color: #434B5C;\n",
              "      box-shadow: 0px 1px 3px 1px rgba(0, 0, 0, 0.15);\n",
              "      filter: drop-shadow(0px 1px 2px rgba(0, 0, 0, 0.3));\n",
              "      fill: #FFFFFF;\n",
              "    }\n",
              "  </style>\n",
              "\n",
              "    <script>\n",
              "      const buttonEl =\n",
              "        document.querySelector('#df-b475b961-bca7-4c50-811b-542d1b4385f7 button.colab-df-convert');\n",
              "      buttonEl.style.display =\n",
              "        google.colab.kernel.accessAllowed ? 'block' : 'none';\n",
              "\n",
              "      async function convertToInteractive(key) {\n",
              "        const element = document.querySelector('#df-b475b961-bca7-4c50-811b-542d1b4385f7');\n",
              "        const dataTable =\n",
              "          await google.colab.kernel.invokeFunction('convertToInteractive',\n",
              "                                                    [key], {});\n",
              "        if (!dataTable) return;\n",
              "\n",
              "        const docLinkHtml = 'Like what you see? Visit the ' +\n",
              "          '<a target=\"_blank\" href=https://colab.research.google.com/notebooks/data_table.ipynb>data table notebook</a>'\n",
              "          + ' to learn more about interactive tables.';\n",
              "        element.innerHTML = '';\n",
              "        dataTable['output_type'] = 'display_data';\n",
              "        await google.colab.output.renderOutput(dataTable, element);\n",
              "        const docLink = document.createElement('div');\n",
              "        docLink.innerHTML = docLinkHtml;\n",
              "        element.appendChild(docLink);\n",
              "      }\n",
              "    </script>\n",
              "  </div>\n",
              "\n",
              "\n",
              "<div id=\"df-7086be60-8fba-4ade-89c5-37b0ccdd0bc2\">\n",
              "  <button class=\"colab-df-quickchart\" onclick=\"quickchart('df-7086be60-8fba-4ade-89c5-37b0ccdd0bc2')\"\n",
              "            title=\"Suggest charts\"\n",
              "            style=\"display:none;\">\n",
              "\n",
              "<svg xmlns=\"http://www.w3.org/2000/svg\" height=\"24px\"viewBox=\"0 0 24 24\"\n",
              "     width=\"24px\">\n",
              "    <g>\n",
              "        <path d=\"M19 3H5c-1.1 0-2 .9-2 2v14c0 1.1.9 2 2 2h14c1.1 0 2-.9 2-2V5c0-1.1-.9-2-2-2zM9 17H7v-7h2v7zm4 0h-2V7h2v10zm4 0h-2v-4h2v4z\"/>\n",
              "    </g>\n",
              "</svg>\n",
              "  </button>\n",
              "\n",
              "<style>\n",
              "  .colab-df-quickchart {\n",
              "      --bg-color: #E8F0FE;\n",
              "      --fill-color: #1967D2;\n",
              "      --hover-bg-color: #E2EBFA;\n",
              "      --hover-fill-color: #174EA6;\n",
              "      --disabled-fill-color: #AAA;\n",
              "      --disabled-bg-color: #DDD;\n",
              "  }\n",
              "\n",
              "  [theme=dark] .colab-df-quickchart {\n",
              "      --bg-color: #3B4455;\n",
              "      --fill-color: #D2E3FC;\n",
              "      --hover-bg-color: #434B5C;\n",
              "      --hover-fill-color: #FFFFFF;\n",
              "      --disabled-bg-color: #3B4455;\n",
              "      --disabled-fill-color: #666;\n",
              "  }\n",
              "\n",
              "  .colab-df-quickchart {\n",
              "    background-color: var(--bg-color);\n",
              "    border: none;\n",
              "    border-radius: 50%;\n",
              "    cursor: pointer;\n",
              "    display: none;\n",
              "    fill: var(--fill-color);\n",
              "    height: 32px;\n",
              "    padding: 0;\n",
              "    width: 32px;\n",
              "  }\n",
              "\n",
              "  .colab-df-quickchart:hover {\n",
              "    background-color: var(--hover-bg-color);\n",
              "    box-shadow: 0 1px 2px rgba(60, 64, 67, 0.3), 0 1px 3px 1px rgba(60, 64, 67, 0.15);\n",
              "    fill: var(--button-hover-fill-color);\n",
              "  }\n",
              "\n",
              "  .colab-df-quickchart-complete:disabled,\n",
              "  .colab-df-quickchart-complete:disabled:hover {\n",
              "    background-color: var(--disabled-bg-color);\n",
              "    fill: var(--disabled-fill-color);\n",
              "    box-shadow: none;\n",
              "  }\n",
              "\n",
              "  .colab-df-spinner {\n",
              "    border: 2px solid var(--fill-color);\n",
              "    border-color: transparent;\n",
              "    border-bottom-color: var(--fill-color);\n",
              "    animation:\n",
              "      spin 1s steps(1) infinite;\n",
              "  }\n",
              "\n",
              "  @keyframes spin {\n",
              "    0% {\n",
              "      border-color: transparent;\n",
              "      border-bottom-color: var(--fill-color);\n",
              "      border-left-color: var(--fill-color);\n",
              "    }\n",
              "    20% {\n",
              "      border-color: transparent;\n",
              "      border-left-color: var(--fill-color);\n",
              "      border-top-color: var(--fill-color);\n",
              "    }\n",
              "    30% {\n",
              "      border-color: transparent;\n",
              "      border-left-color: var(--fill-color);\n",
              "      border-top-color: var(--fill-color);\n",
              "      border-right-color: var(--fill-color);\n",
              "    }\n",
              "    40% {\n",
              "      border-color: transparent;\n",
              "      border-right-color: var(--fill-color);\n",
              "      border-top-color: var(--fill-color);\n",
              "    }\n",
              "    60% {\n",
              "      border-color: transparent;\n",
              "      border-right-color: var(--fill-color);\n",
              "    }\n",
              "    80% {\n",
              "      border-color: transparent;\n",
              "      border-right-color: var(--fill-color);\n",
              "      border-bottom-color: var(--fill-color);\n",
              "    }\n",
              "    90% {\n",
              "      border-color: transparent;\n",
              "      border-bottom-color: var(--fill-color);\n",
              "    }\n",
              "  }\n",
              "</style>\n",
              "\n",
              "  <script>\n",
              "    async function quickchart(key) {\n",
              "      const quickchartButtonEl =\n",
              "        document.querySelector('#' + key + ' button');\n",
              "      quickchartButtonEl.disabled = true;  // To prevent multiple clicks.\n",
              "      quickchartButtonEl.classList.add('colab-df-spinner');\n",
              "      try {\n",
              "        const charts = await google.colab.kernel.invokeFunction(\n",
              "            'suggestCharts', [key], {});\n",
              "      } catch (error) {\n",
              "        console.error('Error during call to suggestCharts:', error);\n",
              "      }\n",
              "      quickchartButtonEl.classList.remove('colab-df-spinner');\n",
              "      quickchartButtonEl.classList.add('colab-df-quickchart-complete');\n",
              "    }\n",
              "    (() => {\n",
              "      let quickchartButtonEl =\n",
              "        document.querySelector('#df-7086be60-8fba-4ade-89c5-37b0ccdd0bc2 button');\n",
              "      quickchartButtonEl.style.display =\n",
              "        google.colab.kernel.accessAllowed ? 'block' : 'none';\n",
              "    })();\n",
              "  </script>\n",
              "</div>\n",
              "    </div>\n",
              "  </div>\n"
            ],
            "application/vnd.google.colaboratory.intrinsic+json": {
              "type": "dataframe",
              "variable_name": "df"
            }
          },
          "metadata": {},
          "execution_count": 217
        }
      ]
    },
    {
      "cell_type": "code",
      "source": [
        "# Сохранение DataFrame в CSV-файл\n",
        "df.to_csv('диагноз общий (новая).csv', index=False, encoding='Windows-1251', sep=';')\n",
        "\n",
        "# Скачивание файла\n",
        "from google.colab import files\n",
        "files.download('диагноз общий (новая).csv')"
      ],
      "metadata": {
        "colab": {
          "base_uri": "https://localhost:8080/",
          "height": 17
        },
        "id": "T_d1-JPJZ38m",
        "outputId": "1f4611a1-11fb-4a6b-821f-9c67888c1374"
      },
      "execution_count": null,
      "outputs": [
        {
          "output_type": "display_data",
          "data": {
            "text/plain": [
              "<IPython.core.display.Javascript object>"
            ],
            "application/javascript": [
              "\n",
              "    async function download(id, filename, size) {\n",
              "      if (!google.colab.kernel.accessAllowed) {\n",
              "        return;\n",
              "      }\n",
              "      const div = document.createElement('div');\n",
              "      const label = document.createElement('label');\n",
              "      label.textContent = `Downloading \"${filename}\": `;\n",
              "      div.appendChild(label);\n",
              "      const progress = document.createElement('progress');\n",
              "      progress.max = size;\n",
              "      div.appendChild(progress);\n",
              "      document.body.appendChild(div);\n",
              "\n",
              "      const buffers = [];\n",
              "      let downloaded = 0;\n",
              "\n",
              "      const channel = await google.colab.kernel.comms.open(id);\n",
              "      // Send a message to notify the kernel that we're ready.\n",
              "      channel.send({})\n",
              "\n",
              "      for await (const message of channel.messages) {\n",
              "        // Send a message to notify the kernel that we're ready.\n",
              "        channel.send({})\n",
              "        if (message.buffers) {\n",
              "          for (const buffer of message.buffers) {\n",
              "            buffers.push(buffer);\n",
              "            downloaded += buffer.byteLength;\n",
              "            progress.value = downloaded;\n",
              "          }\n",
              "        }\n",
              "      }\n",
              "      const blob = new Blob(buffers, {type: 'application/binary'});\n",
              "      const a = document.createElement('a');\n",
              "      a.href = window.URL.createObjectURL(blob);\n",
              "      a.download = filename;\n",
              "      div.appendChild(a);\n",
              "      a.click();\n",
              "      div.remove();\n",
              "    }\n",
              "  "
            ]
          },
          "metadata": {}
        },
        {
          "output_type": "display_data",
          "data": {
            "text/plain": [
              "<IPython.core.display.Javascript object>"
            ],
            "application/javascript": [
              "download(\"download_17c8c3fa-5cd5-48f1-ba6c-287023cfec83\", \"\\u0434\\u0438\\u0430\\u0433\\u043d\\u043e\\u0437 \\u043e\\u0431\\u0449\\u0438\\u0439 (\\u043d\\u043e\\u0432\\u0430\\u044f).csv\", 580471)"
            ]
          },
          "metadata": {}
        }
      ]
    },
    {
      "cell_type": "markdown",
      "source": [
        "### Диагноз и ЭКГ инфаркты - убираем повторы и убираем элевацию в ЭКГ"
      ],
      "metadata": {
        "id": "m8ofbt2euSYg"
      }
    },
    {
      "cell_type": "code",
      "source": [
        "df1 = pd.read_csv(path/'результат/инфаркты/i21.4 _27.03.24.zip', compression='zip', encoding=\"Windows-1251\")\n",
        "df2 = pd.read_csv(path/'результат/инфаркты/i21.9 _27.03.24.zip', compression='zip', encoding=\"Windows-1251\")\n",
        "df3 = pd.read_csv(path/'результат/инфаркты/i22.0 _27.03.24.zip', compression='zip', encoding=\"Windows-1251\")"
      ],
      "metadata": {
        "id": "7Zza3KqPndKk"
      },
      "execution_count": null,
      "outputs": []
    },
    {
      "cell_type": "code",
      "source": [
        "df1.columns"
      ],
      "metadata": {
        "colab": {
          "base_uri": "https://localhost:8080/"
        },
        "id": "xJPO-3RNndHn",
        "outputId": "9ed710e4-55e8-4795-8ca6-64fd9052a4ad"
      },
      "execution_count": null,
      "outputs": [
        {
          "output_type": "execute_result",
          "data": {
            "text/plain": [
              "Index(['Номер_эпизода', 'Дата_поступления', 'Клинический_диагноз_рубрика',\n",
              "       'Исход_эпизода', 'Результат_лечения', 'Эпизод_хэш', 'Пациент_хэш',\n",
              "       'Регистрационный_номер', 'Пол', 'Дата_рождения', 'Дата_смерти',\n",
              "       'Данные', 'Дата_постановки_диагноза', 'Номер_эпизода.1', 'Данные.1',\n",
              "       'Коррекция_дата_время'],\n",
              "      dtype='object')"
            ]
          },
          "metadata": {},
          "execution_count": 49
        }
      ]
    },
    {
      "cell_type": "code",
      "source": [
        "df2.columns"
      ],
      "metadata": {
        "colab": {
          "base_uri": "https://localhost:8080/"
        },
        "id": "GmAr0mAdDzQO",
        "outputId": "3e32898d-7c93-44fa-c0ed-6dd6b52b9e7e"
      },
      "execution_count": null,
      "outputs": [
        {
          "output_type": "execute_result",
          "data": {
            "text/plain": [
              "Index(['Номер_эпизода', 'Дата_поступления', 'Клинический_диагноз_рубрика',\n",
              "       'Исход_эпизода', 'Результат_лечения', 'Эпизод_хэш', 'Пациент_хэш',\n",
              "       'Регистрационный_номер', 'Пол', 'Дата_рождения', 'Дата_смерти',\n",
              "       'Данные', 'Дата_постановки_диагноза', 'Номер_эпизода.1', 'Данные.1',\n",
              "       'Коррекция_дата_время'],\n",
              "      dtype='object')"
            ]
          },
          "metadata": {},
          "execution_count": 50
        }
      ]
    },
    {
      "cell_type": "code",
      "source": [
        "df3.columns"
      ],
      "metadata": {
        "colab": {
          "base_uri": "https://localhost:8080/"
        },
        "id": "kbGGCWrWD2gE",
        "outputId": "31bf3192-9321-4ea9-e5f2-234e12d83593"
      },
      "execution_count": null,
      "outputs": [
        {
          "output_type": "execute_result",
          "data": {
            "text/plain": [
              "Index(['Номер_эпизода', 'Дата_поступления', 'Клинический_диагноз_рубрика',\n",
              "       'Исход_эпизода', 'Результат_лечения', 'Эпизод_хэш', 'Пациент_хэш',\n",
              "       'Регистрационный_номер', 'Пол', 'Дата_рождения', 'Дата_смерти',\n",
              "       'Данные', 'Дата_постановки_диагноза', 'Номер_эпизода.1', 'Данные.1',\n",
              "       'Коррекция_дата_время'],\n",
              "      dtype='object')"
            ]
          },
          "metadata": {},
          "execution_count": 51
        }
      ]
    },
    {
      "cell_type": "code",
      "source": [
        "df1.shape"
      ],
      "metadata": {
        "colab": {
          "base_uri": "https://localhost:8080/"
        },
        "id": "ute0vWx2spBJ",
        "outputId": "77f52ad4-0989-4eae-d266-879e455f3e0a"
      },
      "execution_count": null,
      "outputs": [
        {
          "output_type": "execute_result",
          "data": {
            "text/plain": [
              "(620, 16)"
            ]
          },
          "metadata": {},
          "execution_count": 52
        }
      ]
    },
    {
      "cell_type": "code",
      "source": [
        "df2.shape"
      ],
      "metadata": {
        "colab": {
          "base_uri": "https://localhost:8080/"
        },
        "id": "q9eYaR9WD5ox",
        "outputId": "a2e64da8-3333-4fa7-e508-892b777f9f30"
      },
      "execution_count": null,
      "outputs": [
        {
          "output_type": "execute_result",
          "data": {
            "text/plain": [
              "(345, 16)"
            ]
          },
          "metadata": {},
          "execution_count": 53
        }
      ]
    },
    {
      "cell_type": "code",
      "source": [
        "df3.shape"
      ],
      "metadata": {
        "colab": {
          "base_uri": "https://localhost:8080/"
        },
        "id": "zR0gMNj4D7E4",
        "outputId": "b4cd7f85-c020-43a0-a53f-7be98534ad69"
      },
      "execution_count": null,
      "outputs": [
        {
          "output_type": "execute_result",
          "data": {
            "text/plain": [
              "(545, 16)"
            ]
          },
          "metadata": {},
          "execution_count": 54
        }
      ]
    },
    {
      "cell_type": "code",
      "source": [
        "df = pd.concat([df1, df2, df3])"
      ],
      "metadata": {
        "id": "aIDKNeaXnc5o"
      },
      "execution_count": null,
      "outputs": []
    },
    {
      "cell_type": "code",
      "source": [
        "df.shape"
      ],
      "metadata": {
        "colab": {
          "base_uri": "https://localhost:8080/"
        },
        "id": "jXPZ3JMFnc3L",
        "outputId": "91917937-46dc-4fd2-a81c-5ac23a341d0c"
      },
      "execution_count": null,
      "outputs": [
        {
          "output_type": "execute_result",
          "data": {
            "text/plain": [
              "(1510, 16)"
            ]
          },
          "metadata": {},
          "execution_count": 56
        }
      ]
    },
    {
      "cell_type": "code",
      "source": [
        "df = df.drop_duplicates()"
      ],
      "metadata": {
        "id": "Sp1LQYcGvJCV"
      },
      "execution_count": null,
      "outputs": []
    },
    {
      "cell_type": "code",
      "source": [
        "df.shape"
      ],
      "metadata": {
        "colab": {
          "base_uri": "https://localhost:8080/"
        },
        "id": "SVtg-NlcvNLv",
        "outputId": "831a5486-a0dc-4b4a-8379-79c675b2889c"
      },
      "execution_count": null,
      "outputs": [
        {
          "output_type": "execute_result",
          "data": {
            "text/plain": [
              "(1318, 16)"
            ]
          },
          "metadata": {},
          "execution_count": 58
        }
      ]
    },
    {
      "cell_type": "code",
      "source": [
        "el = df[df['Данные.1'].str.contains('элеваци', na=False, regex=True)]"
      ],
      "metadata": {
        "id": "dkY7pp59orx4"
      },
      "execution_count": null,
      "outputs": []
    },
    {
      "cell_type": "code",
      "source": [
        "el.shape"
      ],
      "metadata": {
        "colab": {
          "base_uri": "https://localhost:8080/"
        },
        "id": "KDddIGvupFMQ",
        "outputId": "cf4af874-6111-43b2-cf9c-8e3dfed77927"
      },
      "execution_count": null,
      "outputs": [
        {
          "output_type": "execute_result",
          "data": {
            "text/plain": [
              "(223, 16)"
            ]
          },
          "metadata": {},
          "execution_count": 60
        }
      ]
    },
    {
      "cell_type": "code",
      "source": [
        "df = df[~df['Данные.1'].str.contains('элеваци', na=False, regex=True)]"
      ],
      "metadata": {
        "id": "ZJyb5O-Swxg3"
      },
      "execution_count": null,
      "outputs": []
    },
    {
      "cell_type": "code",
      "source": [
        "df.shape"
      ],
      "metadata": {
        "colab": {
          "base_uri": "https://localhost:8080/"
        },
        "id": "mOeAl8y6wz3x",
        "outputId": "501181e9-19dd-4f1c-ffdf-9bef14e2e75f"
      },
      "execution_count": null,
      "outputs": [
        {
          "output_type": "execute_result",
          "data": {
            "text/plain": [
              "(1095, 16)"
            ]
          },
          "metadata": {},
          "execution_count": 62
        }
      ]
    },
    {
      "cell_type": "code",
      "source": [
        "# Сохранение DataFrame в CSV-файл\n",
        "el.to_csv('элевация.csv', index=False, encoding='Windows-1251', sep=';')\n",
        "\n",
        "# Скачивание файла\n",
        "from google.colab import files\n",
        "files.download('элевация.csv')"
      ],
      "metadata": {
        "colab": {
          "base_uri": "https://localhost:8080/",
          "height": 17
        },
        "id": "HbprXaHwpi3p",
        "outputId": "19534158-9bd8-4561-c85d-65ea354b7bd9"
      },
      "execution_count": null,
      "outputs": [
        {
          "output_type": "display_data",
          "data": {
            "text/plain": [
              "<IPython.core.display.Javascript object>"
            ],
            "application/javascript": [
              "\n",
              "    async function download(id, filename, size) {\n",
              "      if (!google.colab.kernel.accessAllowed) {\n",
              "        return;\n",
              "      }\n",
              "      const div = document.createElement('div');\n",
              "      const label = document.createElement('label');\n",
              "      label.textContent = `Downloading \"${filename}\": `;\n",
              "      div.appendChild(label);\n",
              "      const progress = document.createElement('progress');\n",
              "      progress.max = size;\n",
              "      div.appendChild(progress);\n",
              "      document.body.appendChild(div);\n",
              "\n",
              "      const buffers = [];\n",
              "      let downloaded = 0;\n",
              "\n",
              "      const channel = await google.colab.kernel.comms.open(id);\n",
              "      // Send a message to notify the kernel that we're ready.\n",
              "      channel.send({})\n",
              "\n",
              "      for await (const message of channel.messages) {\n",
              "        // Send a message to notify the kernel that we're ready.\n",
              "        channel.send({})\n",
              "        if (message.buffers) {\n",
              "          for (const buffer of message.buffers) {\n",
              "            buffers.push(buffer);\n",
              "            downloaded += buffer.byteLength;\n",
              "            progress.value = downloaded;\n",
              "          }\n",
              "        }\n",
              "      }\n",
              "      const blob = new Blob(buffers, {type: 'application/binary'});\n",
              "      const a = document.createElement('a');\n",
              "      a.href = window.URL.createObjectURL(blob);\n",
              "      a.download = filename;\n",
              "      div.appendChild(a);\n",
              "      a.click();\n",
              "      div.remove();\n",
              "    }\n",
              "  "
            ]
          },
          "metadata": {}
        },
        {
          "output_type": "display_data",
          "data": {
            "text/plain": [
              "<IPython.core.display.Javascript object>"
            ],
            "application/javascript": [
              "download(\"download_eddc4564-1307-4200-80d7-73bf6964288f\", \"\\u044d\\u043b\\u0435\\u0432\\u0430\\u0446\\u0438\\u044f.csv\", 283675)"
            ]
          },
          "metadata": {}
        }
      ]
    },
    {
      "cell_type": "code",
      "source": [
        "el_from_future = pd.read_csv(path/'результат/инфаркты/элевация _ДН.zip', compression='zip', encoding=\"Windows-1251\", sep=';')"
      ],
      "metadata": {
        "id": "tY3aMMgagJK8"
      },
      "execution_count": null,
      "outputs": []
    },
    {
      "cell_type": "code",
      "source": [
        "el_from_future.shape"
      ],
      "metadata": {
        "colab": {
          "base_uri": "https://localhost:8080/"
        },
        "id": "9pHpwjRqnjRd",
        "outputId": "99a42b25-119f-455a-f76c-afaa32770fef"
      },
      "execution_count": null,
      "outputs": [
        {
          "output_type": "execute_result",
          "data": {
            "text/plain": [
              "(223, 16)"
            ]
          },
          "metadata": {},
          "execution_count": 64
        }
      ]
    },
    {
      "cell_type": "code",
      "source": [
        "el_from_future.dropna(subset=['Номер_эпизода'], inplace=True)"
      ],
      "metadata": {
        "id": "plRBxnn7m1cl"
      },
      "execution_count": null,
      "outputs": []
    },
    {
      "cell_type": "code",
      "source": [
        "el_from_future.shape"
      ],
      "metadata": {
        "colab": {
          "base_uri": "https://localhost:8080/"
        },
        "id": "RWhNUwB6nrNs",
        "outputId": "8aecf760-bf0e-406c-b4ed-8a99599e522f"
      },
      "execution_count": null,
      "outputs": [
        {
          "output_type": "execute_result",
          "data": {
            "text/plain": [
              "(129, 16)"
            ]
          },
          "metadata": {},
          "execution_count": 66
        }
      ]
    },
    {
      "cell_type": "code",
      "source": [
        "df = pd.concat([df, el_from_future])"
      ],
      "metadata": {
        "id": "u01VSWOaoW4T"
      },
      "execution_count": null,
      "outputs": []
    },
    {
      "cell_type": "code",
      "source": [
        "df.shape"
      ],
      "metadata": {
        "colab": {
          "base_uri": "https://localhost:8080/"
        },
        "id": "CHUmJwDModwp",
        "outputId": "f08f28c7-4f1a-45cc-fc41-ae940dcc19ac"
      },
      "execution_count": null,
      "outputs": [
        {
          "output_type": "execute_result",
          "data": {
            "text/plain": [
              "(1224, 16)"
            ]
          },
          "metadata": {},
          "execution_count": 68
        }
      ]
    },
    {
      "cell_type": "code",
      "source": [
        "import re\n",
        "\n",
        "pattern = r'им\\s*(4|iv)\\s*а'\n",
        "df['Исход инфаркт'] = df.apply(lambda row: 1 if re.search(pattern, str(row['Данные']), re.IGNORECASE) or re.search(pattern, str(row['Данные.1']), re.IGNORECASE) else 0, axis=1)"
      ],
      "metadata": {
        "id": "l97xeWimv8qn"
      },
      "execution_count": null,
      "outputs": []
    },
    {
      "cell_type": "code",
      "source": [
        "df['Исход инфаркт'].value_counts()"
      ],
      "metadata": {
        "colab": {
          "base_uri": "https://localhost:8080/"
        },
        "id": "5ITAv06ev8L-",
        "outputId": "deb49538-e49e-43cd-d2eb-45e1a45aa6dc"
      },
      "execution_count": null,
      "outputs": [
        {
          "output_type": "execute_result",
          "data": {
            "text/plain": [
              "Исход инфаркт\n",
              "0    1213\n",
              "1      11\n",
              "Name: count, dtype: int64"
            ]
          },
          "metadata": {},
          "execution_count": 70
        }
      ]
    },
    {
      "cell_type": "code",
      "source": [
        "pattern = r'\\b(сд|сахарный диабет)\\b'\n",
        "df['Сахарный диабет'] = df.apply(lambda row: 1 if re.search(pattern, str(row['Данные']), re.IGNORECASE) or re.search(pattern, str(row['Данные.1']), re.IGNORECASE) else 0, axis=1)"
      ],
      "metadata": {
        "id": "Zm1oT4lbv8Ed"
      },
      "execution_count": null,
      "outputs": []
    },
    {
      "cell_type": "code",
      "source": [
        "df['Сахарный диабет'].value_counts()"
      ],
      "metadata": {
        "colab": {
          "base_uri": "https://localhost:8080/"
        },
        "id": "8HE3PU_4v78M",
        "outputId": "6c185cf5-c3b0-4be1-f920-2885c2a50de3"
      },
      "execution_count": null,
      "outputs": [
        {
          "output_type": "execute_result",
          "data": {
            "text/plain": [
              "Сахарный диабет\n",
              "0    978\n",
              "1    246\n",
              "Name: count, dtype: int64"
            ]
          },
          "metadata": {},
          "execution_count": 72
        }
      ]
    },
    {
      "cell_type": "code",
      "source": [
        "pattern = r'\\bонмк\\b'\n",
        "df['ОНМК'] = df.apply(lambda row: 1 if re.search(pattern, str(row['Данные']), re.IGNORECASE) or re.search(pattern, str(row['Данные.1']), re.IGNORECASE) else 0, axis=1)"
      ],
      "metadata": {
        "id": "OCM_6Ihbv70l"
      },
      "execution_count": null,
      "outputs": []
    },
    {
      "cell_type": "code",
      "source": [
        "df['ОНМК'].value_counts()"
      ],
      "metadata": {
        "colab": {
          "base_uri": "https://localhost:8080/"
        },
        "id": "nm9fDXYEv7s2",
        "outputId": "9b3fcc70-3d02-49ad-f186-73c791c92a78"
      },
      "execution_count": null,
      "outputs": [
        {
          "output_type": "execute_result",
          "data": {
            "text/plain": [
              "ОНМК\n",
              "0    1112\n",
              "1     112\n",
              "Name: count, dtype: int64"
            ]
          },
          "metadata": {},
          "execution_count": 74
        }
      ]
    },
    {
      "cell_type": "code",
      "source": [
        "pattern = r'\\b(фп|фибрилляция предсердий)\\b'\n",
        "df['Фибрилляция предсердий'] = df.apply(lambda row: 1 if re.search(pattern, str(row['Данные']), re.IGNORECASE) or re.search(pattern, str(row['Данные.1']), re.IGNORECASE) else 0, axis=1)"
      ],
      "metadata": {
        "id": "aw37Fln5v7iY"
      },
      "execution_count": null,
      "outputs": []
    },
    {
      "cell_type": "code",
      "source": [
        "df['Фибрилляция предсердий'].value_counts()"
      ],
      "metadata": {
        "colab": {
          "base_uri": "https://localhost:8080/"
        },
        "id": "TGCvxT6L0f89",
        "outputId": "3b19d189-03ac-4ebc-87ec-6871e788ee5b"
      },
      "execution_count": null,
      "outputs": [
        {
          "output_type": "execute_result",
          "data": {
            "text/plain": [
              "Фибрилляция предсердий\n",
              "0    1092\n",
              "1     132\n",
              "Name: count, dtype: int64"
            ]
          },
          "metadata": {},
          "execution_count": 76
        }
      ]
    },
    {
      "cell_type": "code",
      "source": [
        "pattern = r'хбп'\n",
        "df['ХБП'] = df['Данные'].apply(lambda x: 1 if re.search(pattern, str(x), re.IGNORECASE) else 0)"
      ],
      "metadata": {
        "id": "TQE4F5hKeoqO"
      },
      "execution_count": null,
      "outputs": []
    },
    {
      "cell_type": "code",
      "source": [
        "df['ХБП'].value_counts()"
      ],
      "metadata": {
        "colab": {
          "base_uri": "https://localhost:8080/"
        },
        "id": "K7q-eqNNevvg",
        "outputId": "2bb5cd14-b16f-4c1a-f220-5dc11f1f4ea0"
      },
      "execution_count": null,
      "outputs": [
        {
          "output_type": "execute_result",
          "data": {
            "text/plain": [
              "ХБП\n",
              "0    1104\n",
              "1     120\n",
              "Name: count, dtype: int64"
            ]
          },
          "metadata": {},
          "execution_count": 78
        }
      ]
    },
    {
      "cell_type": "code",
      "source": [
        "df = df.drop(columns=['Данные', 'Номер_эпизода.1', 'Данные.1'])"
      ],
      "metadata": {
        "id": "OJVPFas9ppMp"
      },
      "execution_count": null,
      "outputs": []
    },
    {
      "cell_type": "code",
      "source": [
        "df.columns"
      ],
      "metadata": {
        "colab": {
          "base_uri": "https://localhost:8080/"
        },
        "id": "RXBlqorcppKC",
        "outputId": "885faf1e-26f2-4d41-b6c1-1e20cf96494f"
      },
      "execution_count": null,
      "outputs": [
        {
          "output_type": "execute_result",
          "data": {
            "text/plain": [
              "Index(['Номер_эпизода', 'Дата_поступления', 'Клинический_диагноз_рубрика',\n",
              "       'Исход_эпизода', 'Результат_лечения', 'Эпизод_хэш', 'Пациент_хэш',\n",
              "       'Регистрационный_номер', 'Пол', 'Дата_рождения', 'Дата_смерти',\n",
              "       'Дата_постановки_диагноза', 'Коррекция_дата_время', 'Исход инфаркт',\n",
              "       'Сахарный диабет', 'ОНМК', 'Фибрилляция предсердий', 'ХБП'],\n",
              "      dtype='object')"
            ]
          },
          "metadata": {},
          "execution_count": 80
        }
      ]
    },
    {
      "cell_type": "code",
      "source": [
        "df.shape"
      ],
      "metadata": {
        "colab": {
          "base_uri": "https://localhost:8080/"
        },
        "id": "-TX4cQPQppHl",
        "outputId": "949a66fd-ab3b-4112-80ac-a72c8bdac3f1"
      },
      "execution_count": null,
      "outputs": [
        {
          "output_type": "execute_result",
          "data": {
            "text/plain": [
              "(1224, 18)"
            ]
          },
          "metadata": {},
          "execution_count": 81
        }
      ]
    },
    {
      "cell_type": "code",
      "source": [
        "df = df.drop_duplicates()"
      ],
      "metadata": {
        "id": "HSAxV533ppE-"
      },
      "execution_count": null,
      "outputs": []
    },
    {
      "cell_type": "code",
      "source": [
        "df.shape"
      ],
      "metadata": {
        "colab": {
          "base_uri": "https://localhost:8080/"
        },
        "id": "FobKQDjZqLBf",
        "outputId": "73df7588-6db0-40e9-8aca-eef98564a771"
      },
      "execution_count": null,
      "outputs": [
        {
          "output_type": "execute_result",
          "data": {
            "text/plain": [
              "(796, 18)"
            ]
          },
          "metadata": {},
          "execution_count": 83
        }
      ]
    },
    {
      "cell_type": "code",
      "source": [
        "cols_to_or = ['Исход инфаркт', 'Сахарный диабет', 'ОНМК', 'Фибрилляция предсердий', 'ХБП']\n",
        "\n",
        "cols_to_first = [col for col in df.columns if col not in cols_to_or and col != 'Номер_эпизода']\n",
        "\n",
        "df = (\n",
        "    df.groupby('Номер_эпизода')\n",
        "    .agg({\n",
        "        **{col: 'max' for col in cols_to_or},  # Логическое ИЛИ для указанных столбцов\n",
        "        **{col: 'first' for col in cols_to_first}  # Первое вхождение для остальных столбцов\n",
        "    })\n",
        "    .reset_index()\n",
        ")"
      ],
      "metadata": {
        "id": "6aqn7EoPppCW"
      },
      "execution_count": null,
      "outputs": []
    },
    {
      "cell_type": "code",
      "source": [
        "df = df.drop_duplicates()"
      ],
      "metadata": {
        "id": "UeDYEy_KqVoX"
      },
      "execution_count": null,
      "outputs": []
    },
    {
      "cell_type": "code",
      "source": [
        "df.shape"
      ],
      "metadata": {
        "colab": {
          "base_uri": "https://localhost:8080/"
        },
        "id": "Ggzofq2IqYdu",
        "outputId": "495a0075-939d-4e54-ff12-c72c9759983b"
      },
      "execution_count": null,
      "outputs": [
        {
          "output_type": "execute_result",
          "data": {
            "text/plain": [
              "(674, 18)"
            ]
          },
          "metadata": {},
          "execution_count": 86
        }
      ]
    },
    {
      "cell_type": "code",
      "source": [
        "df['Исход инфаркт'].value_counts()"
      ],
      "metadata": {
        "colab": {
          "base_uri": "https://localhost:8080/"
        },
        "id": "xXEr67C-qYyw",
        "outputId": "68754169-a01e-4dff-b70e-079b20e0c857"
      },
      "execution_count": null,
      "outputs": [
        {
          "output_type": "execute_result",
          "data": {
            "text/plain": [
              "Исход инфаркт\n",
              "0    665\n",
              "1      9\n",
              "Name: count, dtype: int64"
            ]
          },
          "metadata": {},
          "execution_count": 87
        }
      ]
    },
    {
      "cell_type": "code",
      "source": [
        "df['Сахарный диабет'].value_counts()"
      ],
      "metadata": {
        "colab": {
          "base_uri": "https://localhost:8080/"
        },
        "id": "COjYZfunqYwY",
        "outputId": "a94f9deb-267c-4944-daaa-9542ec03b95d"
      },
      "execution_count": null,
      "outputs": [
        {
          "output_type": "execute_result",
          "data": {
            "text/plain": [
              "Сахарный диабет\n",
              "0    494\n",
              "1    180\n",
              "Name: count, dtype: int64"
            ]
          },
          "metadata": {},
          "execution_count": 88
        }
      ]
    },
    {
      "cell_type": "code",
      "source": [
        "df['ОНМК'].value_counts()"
      ],
      "metadata": {
        "colab": {
          "base_uri": "https://localhost:8080/"
        },
        "id": "rFV_1FFtqYuA",
        "outputId": "95c90706-dd2a-43a2-8955-e4f97856ada1"
      },
      "execution_count": null,
      "outputs": [
        {
          "output_type": "execute_result",
          "data": {
            "text/plain": [
              "ОНМК\n",
              "0    585\n",
              "1     89\n",
              "Name: count, dtype: int64"
            ]
          },
          "metadata": {},
          "execution_count": 89
        }
      ]
    },
    {
      "cell_type": "code",
      "source": [
        "df['Фибрилляция предсердий'].value_counts()"
      ],
      "metadata": {
        "colab": {
          "base_uri": "https://localhost:8080/"
        },
        "id": "9CeZE5TIqn3J",
        "outputId": "2c6762a9-e326-4150-be94-31dd39235175"
      },
      "execution_count": null,
      "outputs": [
        {
          "output_type": "execute_result",
          "data": {
            "text/plain": [
              "Фибрилляция предсердий\n",
              "0    578\n",
              "1     96\n",
              "Name: count, dtype: int64"
            ]
          },
          "metadata": {},
          "execution_count": 90
        }
      ]
    },
    {
      "cell_type": "code",
      "source": [
        "df['ХБП'].value_counts()"
      ],
      "metadata": {
        "colab": {
          "base_uri": "https://localhost:8080/"
        },
        "id": "4LujWXyVfaMq",
        "outputId": "f4c8e08a-6283-44ce-cb64-a71e6e9e26d4"
      },
      "execution_count": null,
      "outputs": [
        {
          "output_type": "execute_result",
          "data": {
            "text/plain": [
              "ХБП\n",
              "0    574\n",
              "1    100\n",
              "Name: count, dtype: int64"
            ]
          },
          "metadata": {},
          "execution_count": 91
        }
      ]
    },
    {
      "cell_type": "code",
      "source": [
        "df"
      ],
      "metadata": {
        "colab": {
          "base_uri": "https://localhost:8080/",
          "height": 461
        },
        "id": "IlKoQwgiq6pd",
        "outputId": "dcc7b4a8-e3b4-479b-8ac3-7ce67ac429f8"
      },
      "execution_count": null,
      "outputs": [
        {
          "output_type": "execute_result",
          "data": {
            "text/plain": [
              "    Номер_эпизода  Исход инфаркт  Сахарный диабет  ОНМК  \\\n",
              "0      1004/С2021              0                0     0   \n",
              "1     10087/С2019              0                0     1   \n",
              "2     10090/С2019              0                1     0   \n",
              "3       101/С2021              0                1     0   \n",
              "4     10145/С2020              0                0     0   \n",
              "..            ...            ...              ...   ...   \n",
              "669    9853/С2021              0                1     0   \n",
              "670    9867/С2021              0                0     0   \n",
              "671    9894/С2020              0                0     1   \n",
              "672    9948/С2020              0                0     0   \n",
              "673     996/С2021              0                0     1   \n",
              "\n",
              "     Фибрилляция предсердий  ХБП Дата_поступления Клинический_диагноз_рубрика  \\\n",
              "0                         0    0       2021-01-17                       I21.4   \n",
              "1                         0    0       2019-04-13                       I22.0   \n",
              "2                         0    0       15.04.2019                       I21.4   \n",
              "3                         0    0       2021-01-04                       I21.4   \n",
              "4                         0    0       2020-05-14                       I21.9   \n",
              "..                      ...  ...              ...                         ...   \n",
              "669                       0    0       2021-04-11                         I22   \n",
              "670                       1    1       2021-04-12                       I21.9   \n",
              "671                       0    0       2020-04-28                       I21.9   \n",
              "672                       0    0       2020-04-30                       I21.4   \n",
              "673                       1    0       2021-01-17                       I21.4   \n",
              "\n",
              "    Исход_эпизода Результат_лечения            Эпизод_хэш  \\\n",
              "0         Выписан         улучшение    873054346868597458   \n",
              "1         Выписан         улучшение   6238717178641617106   \n",
              "2         Выписан         улучшение           4,31128E+18   \n",
              "3         Выписан         улучшение  -2703316645470574406   \n",
              "4            Умер              умер   2433793557184765965   \n",
              "..            ...               ...                   ...   \n",
              "669       Выписан         улучшение  -8248320661973480332   \n",
              "670          Умер              умер  -8747083416578987746   \n",
              "671       Выписан         улучшение  -5751300577805231907   \n",
              "672       Выписан         улучшение  -5245473935581921429   \n",
              "673       Выписан         улучшение  -4361957761341053333   \n",
              "\n",
              "              Пациент_хэш Регистрационный_номер      Пол Дата_рождения  \\\n",
              "0     7200381739065554026             60481/A16  Женский    1933-06-01   \n",
              "1    -1983437426294107095             74580/A15  Женский    1943-05-06   \n",
              "2             8,20007E+18             29335/A19  Женский    10.12.1961   \n",
              "3     -652754362701982056               153/A21  Мужской    1979-02-26   \n",
              "4    -1474196102881093333             27861/A20  Мужской    1955-11-30   \n",
              "..                    ...                   ...      ...           ...   \n",
              "669  -4593141258661414382             38101/A12  Мужской    1949-04-14   \n",
              "670  -5957652255440052664             31952/A21  Женский    1941-05-09   \n",
              "671  -6203934013892351845             27354/A20  Женский    1940-07-13   \n",
              "672   6972500658219502913             27463/A20  Мужской    1955-12-01   \n",
              "673   8301095072521954404              2736/A21  Женский    1929-08-29   \n",
              "\n",
              "    Дата_смерти Дата_постановки_диагноза Коррекция_дата_время  \n",
              "0          None               2021-02-16                 None  \n",
              "1          None               2019-04-22  2019-04-17 13:34:53  \n",
              "2          None               29.04.2019     17.04.2019 13:38  \n",
              "3          None               2021-01-08                 None  \n",
              "4    2020-05-18               2020-05-18                 None  \n",
              "..          ...                      ...                  ...  \n",
              "669        None               2021-05-04  2021-04-20 19:31:23  \n",
              "670  2021-04-12               2021-04-13                 None  \n",
              "671        None               2020-05-12                 None  \n",
              "672        None               2020-05-12  2020-05-06 16:23:17  \n",
              "673        None               2021-02-03  2021-01-20 18:42:37  \n",
              "\n",
              "[674 rows x 18 columns]"
            ],
            "text/html": [
              "\n",
              "  <div id=\"df-0f333eda-f38d-4832-9da5-98bcf649a3c9\" class=\"colab-df-container\">\n",
              "    <div>\n",
              "<style scoped>\n",
              "    .dataframe tbody tr th:only-of-type {\n",
              "        vertical-align: middle;\n",
              "    }\n",
              "\n",
              "    .dataframe tbody tr th {\n",
              "        vertical-align: top;\n",
              "    }\n",
              "\n",
              "    .dataframe thead th {\n",
              "        text-align: right;\n",
              "    }\n",
              "</style>\n",
              "<table border=\"1\" class=\"dataframe\">\n",
              "  <thead>\n",
              "    <tr style=\"text-align: right;\">\n",
              "      <th></th>\n",
              "      <th>Номер_эпизода</th>\n",
              "      <th>Исход инфаркт</th>\n",
              "      <th>Сахарный диабет</th>\n",
              "      <th>ОНМК</th>\n",
              "      <th>Фибрилляция предсердий</th>\n",
              "      <th>ХБП</th>\n",
              "      <th>Дата_поступления</th>\n",
              "      <th>Клинический_диагноз_рубрика</th>\n",
              "      <th>Исход_эпизода</th>\n",
              "      <th>Результат_лечения</th>\n",
              "      <th>Эпизод_хэш</th>\n",
              "      <th>Пациент_хэш</th>\n",
              "      <th>Регистрационный_номер</th>\n",
              "      <th>Пол</th>\n",
              "      <th>Дата_рождения</th>\n",
              "      <th>Дата_смерти</th>\n",
              "      <th>Дата_постановки_диагноза</th>\n",
              "      <th>Коррекция_дата_время</th>\n",
              "    </tr>\n",
              "  </thead>\n",
              "  <tbody>\n",
              "    <tr>\n",
              "      <th>0</th>\n",
              "      <td>1004/С2021</td>\n",
              "      <td>0</td>\n",
              "      <td>0</td>\n",
              "      <td>0</td>\n",
              "      <td>0</td>\n",
              "      <td>0</td>\n",
              "      <td>2021-01-17</td>\n",
              "      <td>I21.4</td>\n",
              "      <td>Выписан</td>\n",
              "      <td>улучшение</td>\n",
              "      <td>873054346868597458</td>\n",
              "      <td>7200381739065554026</td>\n",
              "      <td>60481/A16</td>\n",
              "      <td>Женский</td>\n",
              "      <td>1933-06-01</td>\n",
              "      <td>None</td>\n",
              "      <td>2021-02-16</td>\n",
              "      <td>None</td>\n",
              "    </tr>\n",
              "    <tr>\n",
              "      <th>1</th>\n",
              "      <td>10087/С2019</td>\n",
              "      <td>0</td>\n",
              "      <td>0</td>\n",
              "      <td>1</td>\n",
              "      <td>0</td>\n",
              "      <td>0</td>\n",
              "      <td>2019-04-13</td>\n",
              "      <td>I22.0</td>\n",
              "      <td>Выписан</td>\n",
              "      <td>улучшение</td>\n",
              "      <td>6238717178641617106</td>\n",
              "      <td>-1983437426294107095</td>\n",
              "      <td>74580/A15</td>\n",
              "      <td>Женский</td>\n",
              "      <td>1943-05-06</td>\n",
              "      <td>None</td>\n",
              "      <td>2019-04-22</td>\n",
              "      <td>2019-04-17 13:34:53</td>\n",
              "    </tr>\n",
              "    <tr>\n",
              "      <th>2</th>\n",
              "      <td>10090/С2019</td>\n",
              "      <td>0</td>\n",
              "      <td>1</td>\n",
              "      <td>0</td>\n",
              "      <td>0</td>\n",
              "      <td>0</td>\n",
              "      <td>15.04.2019</td>\n",
              "      <td>I21.4</td>\n",
              "      <td>Выписан</td>\n",
              "      <td>улучшение</td>\n",
              "      <td>4,31128E+18</td>\n",
              "      <td>8,20007E+18</td>\n",
              "      <td>29335/A19</td>\n",
              "      <td>Женский</td>\n",
              "      <td>10.12.1961</td>\n",
              "      <td>None</td>\n",
              "      <td>29.04.2019</td>\n",
              "      <td>17.04.2019 13:38</td>\n",
              "    </tr>\n",
              "    <tr>\n",
              "      <th>3</th>\n",
              "      <td>101/С2021</td>\n",
              "      <td>0</td>\n",
              "      <td>1</td>\n",
              "      <td>0</td>\n",
              "      <td>0</td>\n",
              "      <td>0</td>\n",
              "      <td>2021-01-04</td>\n",
              "      <td>I21.4</td>\n",
              "      <td>Выписан</td>\n",
              "      <td>улучшение</td>\n",
              "      <td>-2703316645470574406</td>\n",
              "      <td>-652754362701982056</td>\n",
              "      <td>153/A21</td>\n",
              "      <td>Мужской</td>\n",
              "      <td>1979-02-26</td>\n",
              "      <td>None</td>\n",
              "      <td>2021-01-08</td>\n",
              "      <td>None</td>\n",
              "    </tr>\n",
              "    <tr>\n",
              "      <th>4</th>\n",
              "      <td>10145/С2020</td>\n",
              "      <td>0</td>\n",
              "      <td>0</td>\n",
              "      <td>0</td>\n",
              "      <td>0</td>\n",
              "      <td>0</td>\n",
              "      <td>2020-05-14</td>\n",
              "      <td>I21.9</td>\n",
              "      <td>Умер</td>\n",
              "      <td>умер</td>\n",
              "      <td>2433793557184765965</td>\n",
              "      <td>-1474196102881093333</td>\n",
              "      <td>27861/A20</td>\n",
              "      <td>Мужской</td>\n",
              "      <td>1955-11-30</td>\n",
              "      <td>2020-05-18</td>\n",
              "      <td>2020-05-18</td>\n",
              "      <td>None</td>\n",
              "    </tr>\n",
              "    <tr>\n",
              "      <th>...</th>\n",
              "      <td>...</td>\n",
              "      <td>...</td>\n",
              "      <td>...</td>\n",
              "      <td>...</td>\n",
              "      <td>...</td>\n",
              "      <td>...</td>\n",
              "      <td>...</td>\n",
              "      <td>...</td>\n",
              "      <td>...</td>\n",
              "      <td>...</td>\n",
              "      <td>...</td>\n",
              "      <td>...</td>\n",
              "      <td>...</td>\n",
              "      <td>...</td>\n",
              "      <td>...</td>\n",
              "      <td>...</td>\n",
              "      <td>...</td>\n",
              "      <td>...</td>\n",
              "    </tr>\n",
              "    <tr>\n",
              "      <th>669</th>\n",
              "      <td>9853/С2021</td>\n",
              "      <td>0</td>\n",
              "      <td>1</td>\n",
              "      <td>0</td>\n",
              "      <td>0</td>\n",
              "      <td>0</td>\n",
              "      <td>2021-04-11</td>\n",
              "      <td>I22</td>\n",
              "      <td>Выписан</td>\n",
              "      <td>улучшение</td>\n",
              "      <td>-8248320661973480332</td>\n",
              "      <td>-4593141258661414382</td>\n",
              "      <td>38101/A12</td>\n",
              "      <td>Мужской</td>\n",
              "      <td>1949-04-14</td>\n",
              "      <td>None</td>\n",
              "      <td>2021-05-04</td>\n",
              "      <td>2021-04-20 19:31:23</td>\n",
              "    </tr>\n",
              "    <tr>\n",
              "      <th>670</th>\n",
              "      <td>9867/С2021</td>\n",
              "      <td>0</td>\n",
              "      <td>0</td>\n",
              "      <td>0</td>\n",
              "      <td>1</td>\n",
              "      <td>1</td>\n",
              "      <td>2021-04-12</td>\n",
              "      <td>I21.9</td>\n",
              "      <td>Умер</td>\n",
              "      <td>умер</td>\n",
              "      <td>-8747083416578987746</td>\n",
              "      <td>-5957652255440052664</td>\n",
              "      <td>31952/A21</td>\n",
              "      <td>Женский</td>\n",
              "      <td>1941-05-09</td>\n",
              "      <td>2021-04-12</td>\n",
              "      <td>2021-04-13</td>\n",
              "      <td>None</td>\n",
              "    </tr>\n",
              "    <tr>\n",
              "      <th>671</th>\n",
              "      <td>9894/С2020</td>\n",
              "      <td>0</td>\n",
              "      <td>0</td>\n",
              "      <td>1</td>\n",
              "      <td>0</td>\n",
              "      <td>0</td>\n",
              "      <td>2020-04-28</td>\n",
              "      <td>I21.9</td>\n",
              "      <td>Выписан</td>\n",
              "      <td>улучшение</td>\n",
              "      <td>-5751300577805231907</td>\n",
              "      <td>-6203934013892351845</td>\n",
              "      <td>27354/A20</td>\n",
              "      <td>Женский</td>\n",
              "      <td>1940-07-13</td>\n",
              "      <td>None</td>\n",
              "      <td>2020-05-12</td>\n",
              "      <td>None</td>\n",
              "    </tr>\n",
              "    <tr>\n",
              "      <th>672</th>\n",
              "      <td>9948/С2020</td>\n",
              "      <td>0</td>\n",
              "      <td>0</td>\n",
              "      <td>0</td>\n",
              "      <td>0</td>\n",
              "      <td>0</td>\n",
              "      <td>2020-04-30</td>\n",
              "      <td>I21.4</td>\n",
              "      <td>Выписан</td>\n",
              "      <td>улучшение</td>\n",
              "      <td>-5245473935581921429</td>\n",
              "      <td>6972500658219502913</td>\n",
              "      <td>27463/A20</td>\n",
              "      <td>Мужской</td>\n",
              "      <td>1955-12-01</td>\n",
              "      <td>None</td>\n",
              "      <td>2020-05-12</td>\n",
              "      <td>2020-05-06 16:23:17</td>\n",
              "    </tr>\n",
              "    <tr>\n",
              "      <th>673</th>\n",
              "      <td>996/С2021</td>\n",
              "      <td>0</td>\n",
              "      <td>0</td>\n",
              "      <td>1</td>\n",
              "      <td>1</td>\n",
              "      <td>0</td>\n",
              "      <td>2021-01-17</td>\n",
              "      <td>I21.4</td>\n",
              "      <td>Выписан</td>\n",
              "      <td>улучшение</td>\n",
              "      <td>-4361957761341053333</td>\n",
              "      <td>8301095072521954404</td>\n",
              "      <td>2736/A21</td>\n",
              "      <td>Женский</td>\n",
              "      <td>1929-08-29</td>\n",
              "      <td>None</td>\n",
              "      <td>2021-02-03</td>\n",
              "      <td>2021-01-20 18:42:37</td>\n",
              "    </tr>\n",
              "  </tbody>\n",
              "</table>\n",
              "<p>674 rows × 18 columns</p>\n",
              "</div>\n",
              "    <div class=\"colab-df-buttons\">\n",
              "\n",
              "  <div class=\"colab-df-container\">\n",
              "    <button class=\"colab-df-convert\" onclick=\"convertToInteractive('df-0f333eda-f38d-4832-9da5-98bcf649a3c9')\"\n",
              "            title=\"Convert this dataframe to an interactive table.\"\n",
              "            style=\"display:none;\">\n",
              "\n",
              "  <svg xmlns=\"http://www.w3.org/2000/svg\" height=\"24px\" viewBox=\"0 -960 960 960\">\n",
              "    <path d=\"M120-120v-720h720v720H120Zm60-500h600v-160H180v160Zm220 220h160v-160H400v160Zm0 220h160v-160H400v160ZM180-400h160v-160H180v160Zm440 0h160v-160H620v160ZM180-180h160v-160H180v160Zm440 0h160v-160H620v160Z\"/>\n",
              "  </svg>\n",
              "    </button>\n",
              "\n",
              "  <style>\n",
              "    .colab-df-container {\n",
              "      display:flex;\n",
              "      gap: 12px;\n",
              "    }\n",
              "\n",
              "    .colab-df-convert {\n",
              "      background-color: #E8F0FE;\n",
              "      border: none;\n",
              "      border-radius: 50%;\n",
              "      cursor: pointer;\n",
              "      display: none;\n",
              "      fill: #1967D2;\n",
              "      height: 32px;\n",
              "      padding: 0 0 0 0;\n",
              "      width: 32px;\n",
              "    }\n",
              "\n",
              "    .colab-df-convert:hover {\n",
              "      background-color: #E2EBFA;\n",
              "      box-shadow: 0px 1px 2px rgba(60, 64, 67, 0.3), 0px 1px 3px 1px rgba(60, 64, 67, 0.15);\n",
              "      fill: #174EA6;\n",
              "    }\n",
              "\n",
              "    .colab-df-buttons div {\n",
              "      margin-bottom: 4px;\n",
              "    }\n",
              "\n",
              "    [theme=dark] .colab-df-convert {\n",
              "      background-color: #3B4455;\n",
              "      fill: #D2E3FC;\n",
              "    }\n",
              "\n",
              "    [theme=dark] .colab-df-convert:hover {\n",
              "      background-color: #434B5C;\n",
              "      box-shadow: 0px 1px 3px 1px rgba(0, 0, 0, 0.15);\n",
              "      filter: drop-shadow(0px 1px 2px rgba(0, 0, 0, 0.3));\n",
              "      fill: #FFFFFF;\n",
              "    }\n",
              "  </style>\n",
              "\n",
              "    <script>\n",
              "      const buttonEl =\n",
              "        document.querySelector('#df-0f333eda-f38d-4832-9da5-98bcf649a3c9 button.colab-df-convert');\n",
              "      buttonEl.style.display =\n",
              "        google.colab.kernel.accessAllowed ? 'block' : 'none';\n",
              "\n",
              "      async function convertToInteractive(key) {\n",
              "        const element = document.querySelector('#df-0f333eda-f38d-4832-9da5-98bcf649a3c9');\n",
              "        const dataTable =\n",
              "          await google.colab.kernel.invokeFunction('convertToInteractive',\n",
              "                                                    [key], {});\n",
              "        if (!dataTable) return;\n",
              "\n",
              "        const docLinkHtml = 'Like what you see? Visit the ' +\n",
              "          '<a target=\"_blank\" href=https://colab.research.google.com/notebooks/data_table.ipynb>data table notebook</a>'\n",
              "          + ' to learn more about interactive tables.';\n",
              "        element.innerHTML = '';\n",
              "        dataTable['output_type'] = 'display_data';\n",
              "        await google.colab.output.renderOutput(dataTable, element);\n",
              "        const docLink = document.createElement('div');\n",
              "        docLink.innerHTML = docLinkHtml;\n",
              "        element.appendChild(docLink);\n",
              "      }\n",
              "    </script>\n",
              "  </div>\n",
              "\n",
              "\n",
              "<div id=\"df-11bae1ac-7640-4744-b471-88d49e9c3500\">\n",
              "  <button class=\"colab-df-quickchart\" onclick=\"quickchart('df-11bae1ac-7640-4744-b471-88d49e9c3500')\"\n",
              "            title=\"Suggest charts\"\n",
              "            style=\"display:none;\">\n",
              "\n",
              "<svg xmlns=\"http://www.w3.org/2000/svg\" height=\"24px\"viewBox=\"0 0 24 24\"\n",
              "     width=\"24px\">\n",
              "    <g>\n",
              "        <path d=\"M19 3H5c-1.1 0-2 .9-2 2v14c0 1.1.9 2 2 2h14c1.1 0 2-.9 2-2V5c0-1.1-.9-2-2-2zM9 17H7v-7h2v7zm4 0h-2V7h2v10zm4 0h-2v-4h2v4z\"/>\n",
              "    </g>\n",
              "</svg>\n",
              "  </button>\n",
              "\n",
              "<style>\n",
              "  .colab-df-quickchart {\n",
              "      --bg-color: #E8F0FE;\n",
              "      --fill-color: #1967D2;\n",
              "      --hover-bg-color: #E2EBFA;\n",
              "      --hover-fill-color: #174EA6;\n",
              "      --disabled-fill-color: #AAA;\n",
              "      --disabled-bg-color: #DDD;\n",
              "  }\n",
              "\n",
              "  [theme=dark] .colab-df-quickchart {\n",
              "      --bg-color: #3B4455;\n",
              "      --fill-color: #D2E3FC;\n",
              "      --hover-bg-color: #434B5C;\n",
              "      --hover-fill-color: #FFFFFF;\n",
              "      --disabled-bg-color: #3B4455;\n",
              "      --disabled-fill-color: #666;\n",
              "  }\n",
              "\n",
              "  .colab-df-quickchart {\n",
              "    background-color: var(--bg-color);\n",
              "    border: none;\n",
              "    border-radius: 50%;\n",
              "    cursor: pointer;\n",
              "    display: none;\n",
              "    fill: var(--fill-color);\n",
              "    height: 32px;\n",
              "    padding: 0;\n",
              "    width: 32px;\n",
              "  }\n",
              "\n",
              "  .colab-df-quickchart:hover {\n",
              "    background-color: var(--hover-bg-color);\n",
              "    box-shadow: 0 1px 2px rgba(60, 64, 67, 0.3), 0 1px 3px 1px rgba(60, 64, 67, 0.15);\n",
              "    fill: var(--button-hover-fill-color);\n",
              "  }\n",
              "\n",
              "  .colab-df-quickchart-complete:disabled,\n",
              "  .colab-df-quickchart-complete:disabled:hover {\n",
              "    background-color: var(--disabled-bg-color);\n",
              "    fill: var(--disabled-fill-color);\n",
              "    box-shadow: none;\n",
              "  }\n",
              "\n",
              "  .colab-df-spinner {\n",
              "    border: 2px solid var(--fill-color);\n",
              "    border-color: transparent;\n",
              "    border-bottom-color: var(--fill-color);\n",
              "    animation:\n",
              "      spin 1s steps(1) infinite;\n",
              "  }\n",
              "\n",
              "  @keyframes spin {\n",
              "    0% {\n",
              "      border-color: transparent;\n",
              "      border-bottom-color: var(--fill-color);\n",
              "      border-left-color: var(--fill-color);\n",
              "    }\n",
              "    20% {\n",
              "      border-color: transparent;\n",
              "      border-left-color: var(--fill-color);\n",
              "      border-top-color: var(--fill-color);\n",
              "    }\n",
              "    30% {\n",
              "      border-color: transparent;\n",
              "      border-left-color: var(--fill-color);\n",
              "      border-top-color: var(--fill-color);\n",
              "      border-right-color: var(--fill-color);\n",
              "    }\n",
              "    40% {\n",
              "      border-color: transparent;\n",
              "      border-right-color: var(--fill-color);\n",
              "      border-top-color: var(--fill-color);\n",
              "    }\n",
              "    60% {\n",
              "      border-color: transparent;\n",
              "      border-right-color: var(--fill-color);\n",
              "    }\n",
              "    80% {\n",
              "      border-color: transparent;\n",
              "      border-right-color: var(--fill-color);\n",
              "      border-bottom-color: var(--fill-color);\n",
              "    }\n",
              "    90% {\n",
              "      border-color: transparent;\n",
              "      border-bottom-color: var(--fill-color);\n",
              "    }\n",
              "  }\n",
              "</style>\n",
              "\n",
              "  <script>\n",
              "    async function quickchart(key) {\n",
              "      const quickchartButtonEl =\n",
              "        document.querySelector('#' + key + ' button');\n",
              "      quickchartButtonEl.disabled = true;  // To prevent multiple clicks.\n",
              "      quickchartButtonEl.classList.add('colab-df-spinner');\n",
              "      try {\n",
              "        const charts = await google.colab.kernel.invokeFunction(\n",
              "            'suggestCharts', [key], {});\n",
              "      } catch (error) {\n",
              "        console.error('Error during call to suggestCharts:', error);\n",
              "      }\n",
              "      quickchartButtonEl.classList.remove('colab-df-spinner');\n",
              "      quickchartButtonEl.classList.add('colab-df-quickchart-complete');\n",
              "    }\n",
              "    (() => {\n",
              "      let quickchartButtonEl =\n",
              "        document.querySelector('#df-11bae1ac-7640-4744-b471-88d49e9c3500 button');\n",
              "      quickchartButtonEl.style.display =\n",
              "        google.colab.kernel.accessAllowed ? 'block' : 'none';\n",
              "    })();\n",
              "  </script>\n",
              "</div>\n",
              "    </div>\n",
              "  </div>\n"
            ],
            "application/vnd.google.colaboratory.intrinsic+json": {
              "type": "dataframe",
              "variable_name": "df",
              "summary": "{\n  \"name\": \"df\",\n  \"rows\": 674,\n  \"fields\": [\n    {\n      \"column\": \"\\u041d\\u043e\\u043c\\u0435\\u0440_\\u044d\\u043f\\u0438\\u0437\\u043e\\u0434\\u0430\",\n      \"properties\": {\n        \"dtype\": \"string\",\n        \"num_unique_values\": 674,\n        \"samples\": [\n          \"7849/\\u04212020\",\n          \"25536/\\u04212021\",\n          \"8316/\\u04212020\"\n        ],\n        \"semantic_type\": \"\",\n        \"description\": \"\"\n      }\n    },\n    {\n      \"column\": \"\\u0418\\u0441\\u0445\\u043e\\u0434 \\u0438\\u043d\\u0444\\u0430\\u0440\\u043a\\u0442\",\n      \"properties\": {\n        \"dtype\": \"number\",\n        \"std\": 0,\n        \"min\": 0,\n        \"max\": 1,\n        \"num_unique_values\": 2,\n        \"samples\": [\n          1,\n          0\n        ],\n        \"semantic_type\": \"\",\n        \"description\": \"\"\n      }\n    },\n    {\n      \"column\": \"\\u0421\\u0430\\u0445\\u0430\\u0440\\u043d\\u044b\\u0439 \\u0434\\u0438\\u0430\\u0431\\u0435\\u0442\",\n      \"properties\": {\n        \"dtype\": \"number\",\n        \"std\": 0,\n        \"min\": 0,\n        \"max\": 1,\n        \"num_unique_values\": 2,\n        \"samples\": [\n          1,\n          0\n        ],\n        \"semantic_type\": \"\",\n        \"description\": \"\"\n      }\n    },\n    {\n      \"column\": \"\\u041e\\u041d\\u041c\\u041a\",\n      \"properties\": {\n        \"dtype\": \"number\",\n        \"std\": 0,\n        \"min\": 0,\n        \"max\": 1,\n        \"num_unique_values\": 2,\n        \"samples\": [\n          1,\n          0\n        ],\n        \"semantic_type\": \"\",\n        \"description\": \"\"\n      }\n    },\n    {\n      \"column\": \"\\u0424\\u0438\\u0431\\u0440\\u0438\\u043b\\u043b\\u044f\\u0446\\u0438\\u044f \\u043f\\u0440\\u0435\\u0434\\u0441\\u0435\\u0440\\u0434\\u0438\\u0439\",\n      \"properties\": {\n        \"dtype\": \"number\",\n        \"std\": 0,\n        \"min\": 0,\n        \"max\": 1,\n        \"num_unique_values\": 2,\n        \"samples\": [\n          1,\n          0\n        ],\n        \"semantic_type\": \"\",\n        \"description\": \"\"\n      }\n    },\n    {\n      \"column\": \"\\u0425\\u0411\\u041f\",\n      \"properties\": {\n        \"dtype\": \"number\",\n        \"std\": 0,\n        \"min\": 0,\n        \"max\": 1,\n        \"num_unique_values\": 2,\n        \"samples\": [\n          1,\n          0\n        ],\n        \"semantic_type\": \"\",\n        \"description\": \"\"\n      }\n    },\n    {\n      \"column\": \"\\u0414\\u0430\\u0442\\u0430_\\u043f\\u043e\\u0441\\u0442\\u0443\\u043f\\u043b\\u0435\\u043d\\u0438\\u044f\",\n      \"properties\": {\n        \"dtype\": \"string\",\n        \"num_unique_values\": 535,\n        \"samples\": [\n          \"2021-06-28\",\n          \"2021-01-25\"\n        ],\n        \"semantic_type\": \"\",\n        \"description\": \"\"\n      }\n    },\n    {\n      \"column\": \"\\u041a\\u043b\\u0438\\u043d\\u0438\\u0447\\u0435\\u0441\\u043a\\u0438\\u0439_\\u0434\\u0438\\u0430\\u0433\\u043d\\u043e\\u0437_\\u0440\\u0443\\u0431\\u0440\\u0438\\u043a\\u0430\",\n      \"properties\": {\n        \"dtype\": \"category\",\n        \"num_unique_values\": 7,\n        \"samples\": [\n          \"I21.4\",\n          \"I22.0\"\n        ],\n        \"semantic_type\": \"\",\n        \"description\": \"\"\n      }\n    },\n    {\n      \"column\": \"\\u0418\\u0441\\u0445\\u043e\\u0434_\\u044d\\u043f\\u0438\\u0437\\u043e\\u0434\\u0430\",\n      \"properties\": {\n        \"dtype\": \"category\",\n        \"num_unique_values\": 3,\n        \"samples\": [\n          \"\\u0412\\u044b\\u043f\\u0438\\u0441\\u0430\\u043d\",\n          \"\\u0423\\u043c\\u0435\\u0440\"\n        ],\n        \"semantic_type\": \"\",\n        \"description\": \"\"\n      }\n    },\n    {\n      \"column\": \"\\u0420\\u0435\\u0437\\u0443\\u043b\\u044c\\u0442\\u0430\\u0442_\\u043b\\u0435\\u0447\\u0435\\u043d\\u0438\\u044f\",\n      \"properties\": {\n        \"dtype\": \"category\",\n        \"num_unique_values\": 4,\n        \"samples\": [\n          \"\\u0443\\u043c\\u0435\\u0440\",\n          \"\\u0443\\u0445\\u0443\\u0434\\u0448\\u0435\\u043d\\u0438\\u0435\"\n        ],\n        \"semantic_type\": \"\",\n        \"description\": \"\"\n      }\n    },\n    {\n      \"column\": \"\\u042d\\u043f\\u0438\\u0437\\u043e\\u0434_\\u0445\\u044d\\u0448\",\n      \"properties\": {\n        \"dtype\": \"string\",\n        \"num_unique_values\": 674,\n        \"samples\": [\n          -2435239882685203574,\n          -7364990087084180082\n        ],\n        \"semantic_type\": \"\",\n        \"description\": \"\"\n      }\n    },\n    {\n      \"column\": \"\\u041f\\u0430\\u0446\\u0438\\u0435\\u043d\\u0442_\\u0445\\u044d\\u0448\",\n      \"properties\": {\n        \"dtype\": \"string\",\n        \"num_unique_values\": 669,\n        \"samples\": [\n          -8506755238341313227,\n          \"8,51972E+18\"\n        ],\n        \"semantic_type\": \"\",\n        \"description\": \"\"\n      }\n    },\n    {\n      \"column\": \"\\u0420\\u0435\\u0433\\u0438\\u0441\\u0442\\u0440\\u0430\\u0446\\u0438\\u043e\\u043d\\u043d\\u044b\\u0439_\\u043d\\u043e\\u043c\\u0435\\u0440\",\n      \"properties\": {\n        \"dtype\": \"string\",\n        \"num_unique_values\": 667,\n        \"samples\": [\n          \"31810/A21\",\n          \"61033/A21\"\n        ],\n        \"semantic_type\": \"\",\n        \"description\": \"\"\n      }\n    },\n    {\n      \"column\": \"\\u041f\\u043e\\u043b\",\n      \"properties\": {\n        \"dtype\": \"category\",\n        \"num_unique_values\": 2,\n        \"samples\": [\n          \"\\u041c\\u0443\\u0436\\u0441\\u043a\\u043e\\u0439\",\n          \"\\u0416\\u0435\\u043d\\u0441\\u043a\\u0438\\u0439\"\n        ],\n        \"semantic_type\": \"\",\n        \"description\": \"\"\n      }\n    },\n    {\n      \"column\": \"\\u0414\\u0430\\u0442\\u0430_\\u0440\\u043e\\u0436\\u0434\\u0435\\u043d\\u0438\\u044f\",\n      \"properties\": {\n        \"dtype\": \"string\",\n        \"num_unique_values\": 656,\n        \"samples\": [\n          \"1958-03-26\",\n          \"1966-02-27\"\n        ],\n        \"semantic_type\": \"\",\n        \"description\": \"\"\n      }\n    },\n    {\n      \"column\": \"\\u0414\\u0430\\u0442\\u0430_\\u0441\\u043c\\u0435\\u0440\\u0442\\u0438\",\n      \"properties\": {\n        \"dtype\": \"category\",\n        \"num_unique_values\": 67,\n        \"samples\": [\n          \"2020-12-08\",\n          \"2019-08-02\"\n        ],\n        \"semantic_type\": \"\",\n        \"description\": \"\"\n      }\n    },\n    {\n      \"column\": \"\\u0414\\u0430\\u0442\\u0430_\\u043f\\u043e\\u0441\\u0442\\u0430\\u043d\\u043e\\u0432\\u043a\\u0438_\\u0434\\u0438\\u0430\\u0433\\u043d\\u043e\\u0437\\u0430\",\n      \"properties\": {\n        \"dtype\": \"string\",\n        \"num_unique_values\": 479,\n        \"samples\": [\n          \"2021-07-12\",\n          \"2020-02-20\"\n        ],\n        \"semantic_type\": \"\",\n        \"description\": \"\"\n      }\n    },\n    {\n      \"column\": \"\\u041a\\u043e\\u0440\\u0440\\u0435\\u043a\\u0446\\u0438\\u044f_\\u0434\\u0430\\u0442\\u0430_\\u0432\\u0440\\u0435\\u043c\\u044f\",\n      \"properties\": {\n        \"dtype\": \"string\",\n        \"num_unique_values\": 344,\n        \"samples\": [\n          \"2019-11-14 12:09:33\",\n          \"2019-10-17 12:00:19\"\n        ],\n        \"semantic_type\": \"\",\n        \"description\": \"\"\n      }\n    }\n  ]\n}"
            }
          },
          "metadata": {},
          "execution_count": 92
        }
      ]
    },
    {
      "cell_type": "code",
      "source": [
        "# Сохранение DataFrame в CSV-файл\n",
        "df.to_csv('диагноз и экг инфаркты (обработано).csv', index=False, encoding='Windows-1251', sep=';')\n",
        "\n",
        "# Скачивание файла\n",
        "from google.colab import files\n",
        "files.download('диагноз и экг инфаркты (обработано).csv')"
      ],
      "metadata": {
        "colab": {
          "base_uri": "https://localhost:8080/",
          "height": 17
        },
        "id": "rYd7kLNB0LLx",
        "outputId": "3ca2d766-b3bc-420f-d4dd-fdcc85938b27"
      },
      "execution_count": null,
      "outputs": [
        {
          "output_type": "display_data",
          "data": {
            "text/plain": [
              "<IPython.core.display.Javascript object>"
            ],
            "application/javascript": [
              "\n",
              "    async function download(id, filename, size) {\n",
              "      if (!google.colab.kernel.accessAllowed) {\n",
              "        return;\n",
              "      }\n",
              "      const div = document.createElement('div');\n",
              "      const label = document.createElement('label');\n",
              "      label.textContent = `Downloading \"${filename}\": `;\n",
              "      div.appendChild(label);\n",
              "      const progress = document.createElement('progress');\n",
              "      progress.max = size;\n",
              "      div.appendChild(progress);\n",
              "      document.body.appendChild(div);\n",
              "\n",
              "      const buffers = [];\n",
              "      let downloaded = 0;\n",
              "\n",
              "      const channel = await google.colab.kernel.comms.open(id);\n",
              "      // Send a message to notify the kernel that we're ready.\n",
              "      channel.send({})\n",
              "\n",
              "      for await (const message of channel.messages) {\n",
              "        // Send a message to notify the kernel that we're ready.\n",
              "        channel.send({})\n",
              "        if (message.buffers) {\n",
              "          for (const buffer of message.buffers) {\n",
              "            buffers.push(buffer);\n",
              "            downloaded += buffer.byteLength;\n",
              "            progress.value = downloaded;\n",
              "          }\n",
              "        }\n",
              "      }\n",
              "      const blob = new Blob(buffers, {type: 'application/binary'});\n",
              "      const a = document.createElement('a');\n",
              "      a.href = window.URL.createObjectURL(blob);\n",
              "      a.download = filename;\n",
              "      div.appendChild(a);\n",
              "      a.click();\n",
              "      div.remove();\n",
              "    }\n",
              "  "
            ]
          },
          "metadata": {}
        },
        {
          "output_type": "display_data",
          "data": {
            "text/plain": [
              "<IPython.core.display.Javascript object>"
            ],
            "application/javascript": [
              "download(\"download_6a315d56-7e9a-45b2-b727-cc1e2d24241c\", \"\\u0434\\u0438\\u0430\\u0433\\u043d\\u043e\\u0437 \\u0438 \\u044d\\u043a\\u0433 \\u0438\\u043d\\u0444\\u0430\\u0440\\u043a\\u0442\\u044b (\\u043e\\u0431\\u0440\\u0430\\u0431\\u043e\\u0442\\u0430\\u043d\\u043e).csv\", 99669)"
            ]
          },
          "metadata": {}
        }
      ]
    },
    {
      "cell_type": "markdown",
      "source": [
        "### Подготовка таблицы с протоколом операции"
      ],
      "metadata": {
        "id": "ElLEuz0DO1Of"
      }
    },
    {
      "cell_type": "code",
      "source": [
        "import pandas as pd"
      ],
      "metadata": {
        "id": "2qP0Je30a735"
      },
      "execution_count": null,
      "outputs": []
    },
    {
      "cell_type": "code",
      "source": [
        "df = pd.read_csv(path/'результат/Протокол операции чистый 21.11.2023.zip', compression='zip', encoding=\"Windows-1251\", sep='\\t', header=None)"
      ],
      "metadata": {
        "id": "xrPe7XXO0gz2"
      },
      "execution_count": null,
      "outputs": []
    },
    {
      "cell_type": "code",
      "source": [
        "df[0] = df[0].str.rstrip(';')"
      ],
      "metadata": {
        "id": "yPlCAV-aC3Hl"
      },
      "execution_count": null,
      "outputs": []
    },
    {
      "cell_type": "code",
      "source": [
        "df = df[0].str.split(',', expand=True)"
      ],
      "metadata": {
        "id": "QGI0ZKT24n29"
      },
      "execution_count": null,
      "outputs": []
    },
    {
      "cell_type": "code",
      "source": [
        "df['Данные'] = df[df.columns[12:]].apply(\n",
        "    lambda x: ','.join(x.dropna().astype(str)),\n",
        "    axis=1\n",
        ")"
      ],
      "metadata": {
        "id": "S1MkZAw_AxRk"
      },
      "execution_count": null,
      "outputs": []
    },
    {
      "cell_type": "code",
      "source": [
        "df = df.drop(df.columns[13:], axis=1)"
      ],
      "metadata": {
        "id": "FYelMSHxCqDH"
      },
      "execution_count": null,
      "outputs": []
    },
    {
      "cell_type": "code",
      "source": [
        "df.columns = df.iloc[0]\n",
        "df = df[1:]"
      ],
      "metadata": {
        "id": "CAdWaj8XDOPb"
      },
      "execution_count": null,
      "outputs": []
    },
    {
      "cell_type": "code",
      "source": [
        "df = df.drop('', axis=1)"
      ],
      "metadata": {
        "id": "jk45GdNiDjiY"
      },
      "execution_count": null,
      "outputs": []
    },
    {
      "cell_type": "code",
      "source": [
        "df.columns"
      ],
      "metadata": {
        "colab": {
          "base_uri": "https://localhost:8080/"
        },
        "id": "7rO3pHIO7wIt",
        "outputId": "47f8be15-cea5-4253-917d-e06f82acaa2a"
      },
      "execution_count": null,
      "outputs": [
        {
          "output_type": "execute_result",
          "data": {
            "text/plain": [
              "Index(['Номер_эпизода', 'Дата_поступления', 'Клинический_диагноз_рубрика',\n",
              "       'Исход_эпизода', 'Результат_лечения', 'Эпизод_хэш', 'Пациент_хэш',\n",
              "       'Регистрационный_номер', 'Пол', 'Дата_рождения', 'Дата_смерти',\n",
              "       'Данные'],\n",
              "      dtype='object', name=0)"
            ]
          },
          "metadata": {},
          "execution_count": 386
        }
      ]
    },
    {
      "cell_type": "code",
      "source": [
        "df.shape"
      ],
      "metadata": {
        "colab": {
          "base_uri": "https://localhost:8080/"
        },
        "id": "VSmI09j9OmIX",
        "outputId": "462aefb5-a4da-4df9-c343-3d5201df47fe"
      },
      "execution_count": null,
      "outputs": [
        {
          "output_type": "execute_result",
          "data": {
            "text/plain": [
              "(14241, 12)"
            ]
          },
          "metadata": {},
          "execution_count": 387
        }
      ]
    },
    {
      "cell_type": "code",
      "source": [
        "df = df.drop_duplicates()"
      ],
      "metadata": {
        "id": "qGok3czBOozC"
      },
      "execution_count": null,
      "outputs": []
    },
    {
      "cell_type": "code",
      "source": [
        "df.shape"
      ],
      "metadata": {
        "colab": {
          "base_uri": "https://localhost:8080/"
        },
        "id": "JoDClxg9OKif",
        "outputId": "bae66ea7-09a9-4396-936a-2fbb07b7252c"
      },
      "execution_count": null,
      "outputs": [
        {
          "output_type": "execute_result",
          "data": {
            "text/plain": [
              "(7732, 12)"
            ]
          },
          "metadata": {},
          "execution_count": 389
        }
      ]
    },
    {
      "cell_type": "code",
      "source": [
        "def count_des(text):\n",
        "    return len(re.findall(r'\\bdes\\b', text, re.IGNORECASE))\n",
        "\n",
        "df['DES'] = df['Данные'].apply(count_des)"
      ],
      "metadata": {
        "id": "4QAvLs-m99hf"
      },
      "execution_count": null,
      "outputs": []
    },
    {
      "cell_type": "code",
      "source": [
        "df['DES'].value_counts()"
      ],
      "metadata": {
        "colab": {
          "base_uri": "https://localhost:8080/"
        },
        "id": "1DOm3YTsxvlV",
        "outputId": "b7bc7a7b-6ee1-4674-a5bf-9825ef666db9"
      },
      "execution_count": null,
      "outputs": [
        {
          "output_type": "execute_result",
          "data": {
            "text/plain": [
              "0    6553\n",
              "1    1004\n",
              "2     155\n",
              "3      20\n",
              "Name: DES, dtype: int64"
            ]
          },
          "metadata": {},
          "execution_count": 391
        }
      ]
    },
    {
      "cell_type": "code",
      "source": [
        "def count_bms(text):\n",
        "    return len(re.findall(r'\\bbms\\b', text, re.IGNORECASE))\n",
        "\n",
        "df['BMS'] = df['Данные'].apply(count_bms)"
      ],
      "metadata": {
        "id": "QebBviZ7ARte"
      },
      "execution_count": null,
      "outputs": []
    },
    {
      "cell_type": "code",
      "source": [
        "df['BMS'].value_counts()"
      ],
      "metadata": {
        "colab": {
          "base_uri": "https://localhost:8080/"
        },
        "id": "N9PXhGsHzEBm",
        "outputId": "7703e36e-1dce-4196-d838-101a436c3e4a"
      },
      "execution_count": null,
      "outputs": [
        {
          "output_type": "execute_result",
          "data": {
            "text/plain": [
              "0    7618\n",
              "1     105\n",
              "2       8\n",
              "3       1\n",
              "Name: BMS, dtype: int64"
            ]
          },
          "metadata": {},
          "execution_count": 393
        }
      ]
    },
    {
      "cell_type": "code",
      "source": [
        "pattern = re.compile(r'\\(?\\bdes\\b\\)?\\s*:?\\s*«[^»]+»\\s*(\\d+\\.\\d+)\\s*[xх]\\s*(\\d+)', re.IGNORECASE)\n",
        "\n",
        "df[['Диаметр', 'Длина']] = df['Данные'].str.extract(pattern, expand=True)"
      ],
      "metadata": {
        "id": "qUStw2uiAf14"
      },
      "execution_count": null,
      "outputs": []
    },
    {
      "cell_type": "code",
      "source": [
        "df['Диаметр'].value_counts()"
      ],
      "metadata": {
        "colab": {
          "base_uri": "https://localhost:8080/"
        },
        "id": "Nr3lOprB3y4t",
        "outputId": "cd8aa761-28fd-4a9b-b8ae-0df31058e8b3"
      },
      "execution_count": null,
      "outputs": [
        {
          "output_type": "execute_result",
          "data": {
            "text/plain": [
              "3.0     198\n",
              "3.5     165\n",
              "2.5     149\n",
              "2.75    133\n",
              "4.0      85\n",
              "3.50     18\n",
              "4.5       8\n",
              "3.00      5\n",
              "5.0       4\n",
              "Name: Диаметр, dtype: int64"
            ]
          },
          "metadata": {},
          "execution_count": 395
        }
      ]
    },
    {
      "cell_type": "code",
      "source": [
        "df['Длина'].value_counts()"
      ],
      "metadata": {
        "colab": {
          "base_uri": "https://localhost:8080/"
        },
        "id": "PcjCDxkZ55mb",
        "outputId": "a40451ed-e589-4bfa-d018-1c82888bdcde"
      },
      "execution_count": null,
      "outputs": [
        {
          "output_type": "execute_result",
          "data": {
            "text/plain": [
              "18    77\n",
              "16    66\n",
              "24    59\n",
              "30    53\n",
              "38    47\n",
              "20    44\n",
              "22    44\n",
              "28    43\n",
              "12    41\n",
              "15    38\n",
              "40    36\n",
              "32    34\n",
              "23    30\n",
              "26    29\n",
              "46    19\n",
              "35    19\n",
              "31    15\n",
              "14    14\n",
              "34    13\n",
              "8     11\n",
              "48    10\n",
              "33     9\n",
              "9      5\n",
              "13     5\n",
              "11     2\n",
              "39     2\n",
              "Name: Длина, dtype: int64"
            ]
          },
          "metadata": {},
          "execution_count": 396
        }
      ]
    },
    {
      "cell_type": "code",
      "source": [
        "df = df.drop(columns=['Данные'])"
      ],
      "metadata": {
        "id": "llANVYZg7yiH"
      },
      "execution_count": null,
      "outputs": []
    },
    {
      "cell_type": "code",
      "source": [
        "df.columns"
      ],
      "metadata": {
        "colab": {
          "base_uri": "https://localhost:8080/"
        },
        "id": "xIndxiLn7yfh",
        "outputId": "63a127b0-e4d8-466c-fde6-245b54832e76"
      },
      "execution_count": null,
      "outputs": [
        {
          "output_type": "execute_result",
          "data": {
            "text/plain": [
              "Index(['Номер_эпизода', 'Дата_поступления', 'Клинический_диагноз_рубрика',\n",
              "       'Исход_эпизода', 'Результат_лечения', 'Эпизод_хэш', 'Пациент_хэш',\n",
              "       'Регистрационный_номер', 'Пол', 'Дата_рождения', 'Дата_смерти', 'DES',\n",
              "       'BMS', 'Диаметр', 'Длина'],\n",
              "      dtype='object', name=0)"
            ]
          },
          "metadata": {},
          "execution_count": 398
        }
      ]
    },
    {
      "cell_type": "code",
      "source": [
        "df.shape"
      ],
      "metadata": {
        "colab": {
          "base_uri": "https://localhost:8080/"
        },
        "id": "7VFVt5hC7yc4",
        "outputId": "eedda4b1-5fc1-4da6-d2bd-5d776c4409d6"
      },
      "execution_count": null,
      "outputs": [
        {
          "output_type": "execute_result",
          "data": {
            "text/plain": [
              "(7732, 15)"
            ]
          },
          "metadata": {},
          "execution_count": 399
        }
      ]
    },
    {
      "cell_type": "code",
      "source": [
        "df = df.drop_duplicates()"
      ],
      "metadata": {
        "id": "FLLaV3dc7yaY"
      },
      "execution_count": null,
      "outputs": []
    },
    {
      "cell_type": "code",
      "source": [
        "df.shape"
      ],
      "metadata": {
        "colab": {
          "base_uri": "https://localhost:8080/"
        },
        "id": "k2nRneZ77yXu",
        "outputId": "7995effb-ae2a-465c-f502-47c1091edeaa"
      },
      "execution_count": null,
      "outputs": [
        {
          "output_type": "execute_result",
          "data": {
            "text/plain": [
              "(4758, 15)"
            ]
          },
          "metadata": {},
          "execution_count": 401
        }
      ]
    },
    {
      "cell_type": "code",
      "source": [
        "df['Диаметр'] = pd.to_numeric(df['Диаметр'])\n",
        "df['Длина'] =  pd.to_numeric(df['Длина'])"
      ],
      "metadata": {
        "id": "URuAtJsD_z_C"
      },
      "execution_count": null,
      "outputs": []
    },
    {
      "cell_type": "code",
      "source": [
        "cols_to_or = ['DES', 'BMS', 'Диаметр', 'Длина']\n",
        "\n",
        "cols_to_first = [col for col in df.columns if col not in cols_to_or and col != 'Номер_эпизода']\n",
        "\n",
        "df = (\n",
        "    df.groupby('Номер_эпизода')\n",
        "    .agg({\n",
        "        **{col: 'max' for col in cols_to_or},  # Максимальное значение для указанных столбцов\n",
        "        **{col: 'first' for col in cols_to_first}  # Первое вхождение для остальных столбцов\n",
        "    })\n",
        "    .reset_index()\n",
        ")"
      ],
      "metadata": {
        "id": "zcbWeK0T7yUa"
      },
      "execution_count": null,
      "outputs": []
    },
    {
      "cell_type": "code",
      "source": [
        "df.shape"
      ],
      "metadata": {
        "colab": {
          "base_uri": "https://localhost:8080/"
        },
        "id": "9hTlCyvf8FN2",
        "outputId": "628765c7-fa10-4142-b3c0-465cb486e8b9"
      },
      "execution_count": null,
      "outputs": [
        {
          "output_type": "execute_result",
          "data": {
            "text/plain": [
              "(3621, 15)"
            ]
          },
          "metadata": {},
          "execution_count": 404
        }
      ]
    },
    {
      "cell_type": "code",
      "source": [
        "df['DES'].value_counts()"
      ],
      "metadata": {
        "colab": {
          "base_uri": "https://localhost:8080/"
        },
        "id": "HOm_dpJJ8FIv",
        "outputId": "f1a5f334-6982-4847-c09a-3ec23e91f9df"
      },
      "execution_count": null,
      "outputs": [
        {
          "output_type": "execute_result",
          "data": {
            "text/plain": [
              "0    2833\n",
              "1     672\n",
              "2     105\n",
              "3      11\n",
              "Name: DES, dtype: int64"
            ]
          },
          "metadata": {},
          "execution_count": 405
        }
      ]
    },
    {
      "cell_type": "code",
      "source": [
        "df['BMS'].value_counts()"
      ],
      "metadata": {
        "colab": {
          "base_uri": "https://localhost:8080/"
        },
        "id": "-2kXjaiq8FGW",
        "outputId": "9ee11770-baea-4a2b-ca2f-b72de3de78b9"
      },
      "execution_count": null,
      "outputs": [
        {
          "output_type": "execute_result",
          "data": {
            "text/plain": [
              "0    3539\n",
              "1      74\n",
              "2       7\n",
              "3       1\n",
              "Name: BMS, dtype: int64"
            ]
          },
          "metadata": {},
          "execution_count": 406
        }
      ]
    },
    {
      "cell_type": "code",
      "source": [
        "df['Диаметр'].value_counts()"
      ],
      "metadata": {
        "colab": {
          "base_uri": "https://localhost:8080/"
        },
        "id": "3acelSJi8FDd",
        "outputId": "aea68454-58b1-4e14-a513-89b7f7a4eabc"
      },
      "execution_count": null,
      "outputs": [
        {
          "output_type": "execute_result",
          "data": {
            "text/plain": [
              "3.50    126\n",
              "3.00    119\n",
              "2.50     88\n",
              "2.75     86\n",
              "4.00     51\n",
              "4.50      6\n",
              "5.00      2\n",
              "Name: Диаметр, dtype: int64"
            ]
          },
          "metadata": {},
          "execution_count": 407
        }
      ]
    },
    {
      "cell_type": "code",
      "source": [
        "df['Длина'].value_counts()"
      ],
      "metadata": {
        "colab": {
          "base_uri": "https://localhost:8080/"
        },
        "id": "wLPafbyqCBfZ",
        "outputId": "e1288a1e-9d6c-4883-b77a-9370c1133d89"
      },
      "execution_count": null,
      "outputs": [
        {
          "output_type": "execute_result",
          "data": {
            "text/plain": [
              "24.0    47\n",
              "18.0    42\n",
              "38.0    38\n",
              "16.0    36\n",
              "30.0    31\n",
              "20.0    30\n",
              "28.0    29\n",
              "15.0    23\n",
              "12.0    23\n",
              "32.0    23\n",
              "40.0    22\n",
              "22.0    22\n",
              "23.0    17\n",
              "26.0    16\n",
              "46.0    15\n",
              "35.0    12\n",
              "31.0    11\n",
              "14.0     9\n",
              "8.0      7\n",
              "34.0     7\n",
              "48.0     6\n",
              "33.0     6\n",
              "11.0     2\n",
              "13.0     2\n",
              "39.0     1\n",
              "9.0      1\n",
              "Name: Длина, dtype: int64"
            ]
          },
          "metadata": {},
          "execution_count": 408
        }
      ]
    },
    {
      "cell_type": "code",
      "source": [
        "df"
      ],
      "metadata": {
        "colab": {
          "base_uri": "https://localhost:8080/",
          "height": 444
        },
        "id": "uSlLHIQmCNd4",
        "outputId": "785aab51-7b26-4541-a0e8-5aa09d96ab06"
      },
      "execution_count": null,
      "outputs": [
        {
          "output_type": "execute_result",
          "data": {
            "text/plain": [
              "0    Номер_эпизода  DES  BMS  Диаметр  Длина Дата_поступления  \\\n",
              "0                     2    2      4.5   46.0       2021-05-06   \n",
              "1      1001/ВО2021    0    0      NaN    NaN       2021-02-08   \n",
              "2       1004/С2021    0    0      NaN    NaN       2021-01-17   \n",
              "3      1005/ВО2021    1    0      2.5   30.0       2021-02-05   \n",
              "4      10090/С2019    1    0      NaN    NaN       2019-04-15   \n",
              "...            ...  ...  ...      ...    ...              ...   \n",
              "3616    9926/С2020    0    0      NaN    NaN       2020-04-29   \n",
              "3617    994/ВО2021    1    0      NaN    NaN       2021-02-07   \n",
              "3618    9948/С2020    0    0      NaN    NaN       2020-04-30   \n",
              "3619     996/С2021    0    0      NaN    NaN       2021-01-17   \n",
              "3620    9986/С2021    0    0      NaN    NaN       2021-04-12   \n",
              "\n",
              "0    Клинический_диагноз_рубрика Исход_эпизода Результат_лечения  \\\n",
              "0                          I20.0    Нет данных        Нет данных   \n",
              "1                          I20.0    Нет данных        Нет данных   \n",
              "2                          I21.4       Выписан         улучшение   \n",
              "3                          I20.0    Нет данных        Нет данных   \n",
              "4                          I21.4       Выписан         улучшение   \n",
              "...                          ...           ...               ...   \n",
              "3616                       I20.0       Выписан         улучшение   \n",
              "3617                       I20.0    Нет данных        Нет данных   \n",
              "3618                       I21.4       Выписан         улучшение   \n",
              "3619                       I21.4       Выписан         улучшение   \n",
              "3620                       I20.0       Выписан         улучшение   \n",
              "\n",
              "0               Эпизод_хэш           Пациент_хэш Регистрационный_номер  \\\n",
              "0      1025870445250991341  -7092422058255360651             21797/A16   \n",
              "1     -6196149770414151489  -1913836378333628497             78795/A20   \n",
              "2       873054346868597458   7200381739065554026             60481/A16   \n",
              "3     -5030796601464647284   6852237655954067511              9290/A08   \n",
              "4      4311283033182631254   8200073805393192241             29335/A19   \n",
              "...                    ...                   ...                   ...   \n",
              "3616  -3074674409836909275   -285319639425301300             27416/A20   \n",
              "3617   3357760457421577618  -5988465376728689136              9992/A21   \n",
              "3618  -5245473935581921429   6972500658219502913             27463/A20   \n",
              "3619  -4361957761341053333   8301095072521954404              2736/A21   \n",
              "3620  -2694055414706671894  -1724462241107538201             31695/A21   \n",
              "\n",
              "0         Пол Дата_рождения Дата_смерти  \n",
              "0     Мужской    1974-01-29              \n",
              "1     Мужской    1966-05-08              \n",
              "2     Женский    1933-06-01              \n",
              "3     Мужской    1961-05-01              \n",
              "4     Женский    1961-12-10              \n",
              "...       ...           ...         ...  \n",
              "3616  Женский    1949-08-20              \n",
              "3617  Женский    1938-12-24              \n",
              "3618  Мужской    1955-12-01              \n",
              "3619  Женский    1929-08-29              \n",
              "3620  Женский    1957-09-24              \n",
              "\n",
              "[3621 rows x 15 columns]"
            ],
            "text/html": [
              "\n",
              "  <div id=\"df-fe231604-2a30-4a23-8a14-4c08931340f2\" class=\"colab-df-container\">\n",
              "    <div>\n",
              "<style scoped>\n",
              "    .dataframe tbody tr th:only-of-type {\n",
              "        vertical-align: middle;\n",
              "    }\n",
              "\n",
              "    .dataframe tbody tr th {\n",
              "        vertical-align: top;\n",
              "    }\n",
              "\n",
              "    .dataframe thead th {\n",
              "        text-align: right;\n",
              "    }\n",
              "</style>\n",
              "<table border=\"1\" class=\"dataframe\">\n",
              "  <thead>\n",
              "    <tr style=\"text-align: right;\">\n",
              "      <th></th>\n",
              "      <th>Номер_эпизода</th>\n",
              "      <th>DES</th>\n",
              "      <th>BMS</th>\n",
              "      <th>Диаметр</th>\n",
              "      <th>Длина</th>\n",
              "      <th>Дата_поступления</th>\n",
              "      <th>Клинический_диагноз_рубрика</th>\n",
              "      <th>Исход_эпизода</th>\n",
              "      <th>Результат_лечения</th>\n",
              "      <th>Эпизод_хэш</th>\n",
              "      <th>Пациент_хэш</th>\n",
              "      <th>Регистрационный_номер</th>\n",
              "      <th>Пол</th>\n",
              "      <th>Дата_рождения</th>\n",
              "      <th>Дата_смерти</th>\n",
              "    </tr>\n",
              "  </thead>\n",
              "  <tbody>\n",
              "    <tr>\n",
              "      <th>0</th>\n",
              "      <td></td>\n",
              "      <td>2</td>\n",
              "      <td>2</td>\n",
              "      <td>4.5</td>\n",
              "      <td>46.0</td>\n",
              "      <td>2021-05-06</td>\n",
              "      <td>I20.0</td>\n",
              "      <td>Нет данных</td>\n",
              "      <td>Нет данных</td>\n",
              "      <td>1025870445250991341</td>\n",
              "      <td>-7092422058255360651</td>\n",
              "      <td>21797/A16</td>\n",
              "      <td>Мужской</td>\n",
              "      <td>1974-01-29</td>\n",
              "      <td></td>\n",
              "    </tr>\n",
              "    <tr>\n",
              "      <th>1</th>\n",
              "      <td>1001/ВО2021</td>\n",
              "      <td>0</td>\n",
              "      <td>0</td>\n",
              "      <td>NaN</td>\n",
              "      <td>NaN</td>\n",
              "      <td>2021-02-08</td>\n",
              "      <td>I20.0</td>\n",
              "      <td>Нет данных</td>\n",
              "      <td>Нет данных</td>\n",
              "      <td>-6196149770414151489</td>\n",
              "      <td>-1913836378333628497</td>\n",
              "      <td>78795/A20</td>\n",
              "      <td>Мужской</td>\n",
              "      <td>1966-05-08</td>\n",
              "      <td></td>\n",
              "    </tr>\n",
              "    <tr>\n",
              "      <th>2</th>\n",
              "      <td>1004/С2021</td>\n",
              "      <td>0</td>\n",
              "      <td>0</td>\n",
              "      <td>NaN</td>\n",
              "      <td>NaN</td>\n",
              "      <td>2021-01-17</td>\n",
              "      <td>I21.4</td>\n",
              "      <td>Выписан</td>\n",
              "      <td>улучшение</td>\n",
              "      <td>873054346868597458</td>\n",
              "      <td>7200381739065554026</td>\n",
              "      <td>60481/A16</td>\n",
              "      <td>Женский</td>\n",
              "      <td>1933-06-01</td>\n",
              "      <td></td>\n",
              "    </tr>\n",
              "    <tr>\n",
              "      <th>3</th>\n",
              "      <td>1005/ВО2021</td>\n",
              "      <td>1</td>\n",
              "      <td>0</td>\n",
              "      <td>2.5</td>\n",
              "      <td>30.0</td>\n",
              "      <td>2021-02-05</td>\n",
              "      <td>I20.0</td>\n",
              "      <td>Нет данных</td>\n",
              "      <td>Нет данных</td>\n",
              "      <td>-5030796601464647284</td>\n",
              "      <td>6852237655954067511</td>\n",
              "      <td>9290/A08</td>\n",
              "      <td>Мужской</td>\n",
              "      <td>1961-05-01</td>\n",
              "      <td></td>\n",
              "    </tr>\n",
              "    <tr>\n",
              "      <th>4</th>\n",
              "      <td>10090/С2019</td>\n",
              "      <td>1</td>\n",
              "      <td>0</td>\n",
              "      <td>NaN</td>\n",
              "      <td>NaN</td>\n",
              "      <td>2019-04-15</td>\n",
              "      <td>I21.4</td>\n",
              "      <td>Выписан</td>\n",
              "      <td>улучшение</td>\n",
              "      <td>4311283033182631254</td>\n",
              "      <td>8200073805393192241</td>\n",
              "      <td>29335/A19</td>\n",
              "      <td>Женский</td>\n",
              "      <td>1961-12-10</td>\n",
              "      <td></td>\n",
              "    </tr>\n",
              "    <tr>\n",
              "      <th>...</th>\n",
              "      <td>...</td>\n",
              "      <td>...</td>\n",
              "      <td>...</td>\n",
              "      <td>...</td>\n",
              "      <td>...</td>\n",
              "      <td>...</td>\n",
              "      <td>...</td>\n",
              "      <td>...</td>\n",
              "      <td>...</td>\n",
              "      <td>...</td>\n",
              "      <td>...</td>\n",
              "      <td>...</td>\n",
              "      <td>...</td>\n",
              "      <td>...</td>\n",
              "      <td>...</td>\n",
              "    </tr>\n",
              "    <tr>\n",
              "      <th>3616</th>\n",
              "      <td>9926/С2020</td>\n",
              "      <td>0</td>\n",
              "      <td>0</td>\n",
              "      <td>NaN</td>\n",
              "      <td>NaN</td>\n",
              "      <td>2020-04-29</td>\n",
              "      <td>I20.0</td>\n",
              "      <td>Выписан</td>\n",
              "      <td>улучшение</td>\n",
              "      <td>-3074674409836909275</td>\n",
              "      <td>-285319639425301300</td>\n",
              "      <td>27416/A20</td>\n",
              "      <td>Женский</td>\n",
              "      <td>1949-08-20</td>\n",
              "      <td></td>\n",
              "    </tr>\n",
              "    <tr>\n",
              "      <th>3617</th>\n",
              "      <td>994/ВО2021</td>\n",
              "      <td>1</td>\n",
              "      <td>0</td>\n",
              "      <td>NaN</td>\n",
              "      <td>NaN</td>\n",
              "      <td>2021-02-07</td>\n",
              "      <td>I20.0</td>\n",
              "      <td>Нет данных</td>\n",
              "      <td>Нет данных</td>\n",
              "      <td>3357760457421577618</td>\n",
              "      <td>-5988465376728689136</td>\n",
              "      <td>9992/A21</td>\n",
              "      <td>Женский</td>\n",
              "      <td>1938-12-24</td>\n",
              "      <td></td>\n",
              "    </tr>\n",
              "    <tr>\n",
              "      <th>3618</th>\n",
              "      <td>9948/С2020</td>\n",
              "      <td>0</td>\n",
              "      <td>0</td>\n",
              "      <td>NaN</td>\n",
              "      <td>NaN</td>\n",
              "      <td>2020-04-30</td>\n",
              "      <td>I21.4</td>\n",
              "      <td>Выписан</td>\n",
              "      <td>улучшение</td>\n",
              "      <td>-5245473935581921429</td>\n",
              "      <td>6972500658219502913</td>\n",
              "      <td>27463/A20</td>\n",
              "      <td>Мужской</td>\n",
              "      <td>1955-12-01</td>\n",
              "      <td></td>\n",
              "    </tr>\n",
              "    <tr>\n",
              "      <th>3619</th>\n",
              "      <td>996/С2021</td>\n",
              "      <td>0</td>\n",
              "      <td>0</td>\n",
              "      <td>NaN</td>\n",
              "      <td>NaN</td>\n",
              "      <td>2021-01-17</td>\n",
              "      <td>I21.4</td>\n",
              "      <td>Выписан</td>\n",
              "      <td>улучшение</td>\n",
              "      <td>-4361957761341053333</td>\n",
              "      <td>8301095072521954404</td>\n",
              "      <td>2736/A21</td>\n",
              "      <td>Женский</td>\n",
              "      <td>1929-08-29</td>\n",
              "      <td></td>\n",
              "    </tr>\n",
              "    <tr>\n",
              "      <th>3620</th>\n",
              "      <td>9986/С2021</td>\n",
              "      <td>0</td>\n",
              "      <td>0</td>\n",
              "      <td>NaN</td>\n",
              "      <td>NaN</td>\n",
              "      <td>2021-04-12</td>\n",
              "      <td>I20.0</td>\n",
              "      <td>Выписан</td>\n",
              "      <td>улучшение</td>\n",
              "      <td>-2694055414706671894</td>\n",
              "      <td>-1724462241107538201</td>\n",
              "      <td>31695/A21</td>\n",
              "      <td>Женский</td>\n",
              "      <td>1957-09-24</td>\n",
              "      <td></td>\n",
              "    </tr>\n",
              "  </tbody>\n",
              "</table>\n",
              "<p>3621 rows × 15 columns</p>\n",
              "</div>\n",
              "    <div class=\"colab-df-buttons\">\n",
              "\n",
              "  <div class=\"colab-df-container\">\n",
              "    <button class=\"colab-df-convert\" onclick=\"convertToInteractive('df-fe231604-2a30-4a23-8a14-4c08931340f2')\"\n",
              "            title=\"Convert this dataframe to an interactive table.\"\n",
              "            style=\"display:none;\">\n",
              "\n",
              "  <svg xmlns=\"http://www.w3.org/2000/svg\" height=\"24px\" viewBox=\"0 -960 960 960\">\n",
              "    <path d=\"M120-120v-720h720v720H120Zm60-500h600v-160H180v160Zm220 220h160v-160H400v160Zm0 220h160v-160H400v160ZM180-400h160v-160H180v160Zm440 0h160v-160H620v160ZM180-180h160v-160H180v160Zm440 0h160v-160H620v160Z\"/>\n",
              "  </svg>\n",
              "    </button>\n",
              "\n",
              "  <style>\n",
              "    .colab-df-container {\n",
              "      display:flex;\n",
              "      gap: 12px;\n",
              "    }\n",
              "\n",
              "    .colab-df-convert {\n",
              "      background-color: #E8F0FE;\n",
              "      border: none;\n",
              "      border-radius: 50%;\n",
              "      cursor: pointer;\n",
              "      display: none;\n",
              "      fill: #1967D2;\n",
              "      height: 32px;\n",
              "      padding: 0 0 0 0;\n",
              "      width: 32px;\n",
              "    }\n",
              "\n",
              "    .colab-df-convert:hover {\n",
              "      background-color: #E2EBFA;\n",
              "      box-shadow: 0px 1px 2px rgba(60, 64, 67, 0.3), 0px 1px 3px 1px rgba(60, 64, 67, 0.15);\n",
              "      fill: #174EA6;\n",
              "    }\n",
              "\n",
              "    .colab-df-buttons div {\n",
              "      margin-bottom: 4px;\n",
              "    }\n",
              "\n",
              "    [theme=dark] .colab-df-convert {\n",
              "      background-color: #3B4455;\n",
              "      fill: #D2E3FC;\n",
              "    }\n",
              "\n",
              "    [theme=dark] .colab-df-convert:hover {\n",
              "      background-color: #434B5C;\n",
              "      box-shadow: 0px 1px 3px 1px rgba(0, 0, 0, 0.15);\n",
              "      filter: drop-shadow(0px 1px 2px rgba(0, 0, 0, 0.3));\n",
              "      fill: #FFFFFF;\n",
              "    }\n",
              "  </style>\n",
              "\n",
              "    <script>\n",
              "      const buttonEl =\n",
              "        document.querySelector('#df-fe231604-2a30-4a23-8a14-4c08931340f2 button.colab-df-convert');\n",
              "      buttonEl.style.display =\n",
              "        google.colab.kernel.accessAllowed ? 'block' : 'none';\n",
              "\n",
              "      async function convertToInteractive(key) {\n",
              "        const element = document.querySelector('#df-fe231604-2a30-4a23-8a14-4c08931340f2');\n",
              "        const dataTable =\n",
              "          await google.colab.kernel.invokeFunction('convertToInteractive',\n",
              "                                                    [key], {});\n",
              "        if (!dataTable) return;\n",
              "\n",
              "        const docLinkHtml = 'Like what you see? Visit the ' +\n",
              "          '<a target=\"_blank\" href=https://colab.research.google.com/notebooks/data_table.ipynb>data table notebook</a>'\n",
              "          + ' to learn more about interactive tables.';\n",
              "        element.innerHTML = '';\n",
              "        dataTable['output_type'] = 'display_data';\n",
              "        await google.colab.output.renderOutput(dataTable, element);\n",
              "        const docLink = document.createElement('div');\n",
              "        docLink.innerHTML = docLinkHtml;\n",
              "        element.appendChild(docLink);\n",
              "      }\n",
              "    </script>\n",
              "  </div>\n",
              "\n",
              "\n",
              "<div id=\"df-724af620-28e3-444b-bca0-e662de89c539\">\n",
              "  <button class=\"colab-df-quickchart\" onclick=\"quickchart('df-724af620-28e3-444b-bca0-e662de89c539')\"\n",
              "            title=\"Suggest charts\"\n",
              "            style=\"display:none;\">\n",
              "\n",
              "<svg xmlns=\"http://www.w3.org/2000/svg\" height=\"24px\"viewBox=\"0 0 24 24\"\n",
              "     width=\"24px\">\n",
              "    <g>\n",
              "        <path d=\"M19 3H5c-1.1 0-2 .9-2 2v14c0 1.1.9 2 2 2h14c1.1 0 2-.9 2-2V5c0-1.1-.9-2-2-2zM9 17H7v-7h2v7zm4 0h-2V7h2v10zm4 0h-2v-4h2v4z\"/>\n",
              "    </g>\n",
              "</svg>\n",
              "  </button>\n",
              "\n",
              "<style>\n",
              "  .colab-df-quickchart {\n",
              "      --bg-color: #E8F0FE;\n",
              "      --fill-color: #1967D2;\n",
              "      --hover-bg-color: #E2EBFA;\n",
              "      --hover-fill-color: #174EA6;\n",
              "      --disabled-fill-color: #AAA;\n",
              "      --disabled-bg-color: #DDD;\n",
              "  }\n",
              "\n",
              "  [theme=dark] .colab-df-quickchart {\n",
              "      --bg-color: #3B4455;\n",
              "      --fill-color: #D2E3FC;\n",
              "      --hover-bg-color: #434B5C;\n",
              "      --hover-fill-color: #FFFFFF;\n",
              "      --disabled-bg-color: #3B4455;\n",
              "      --disabled-fill-color: #666;\n",
              "  }\n",
              "\n",
              "  .colab-df-quickchart {\n",
              "    background-color: var(--bg-color);\n",
              "    border: none;\n",
              "    border-radius: 50%;\n",
              "    cursor: pointer;\n",
              "    display: none;\n",
              "    fill: var(--fill-color);\n",
              "    height: 32px;\n",
              "    padding: 0;\n",
              "    width: 32px;\n",
              "  }\n",
              "\n",
              "  .colab-df-quickchart:hover {\n",
              "    background-color: var(--hover-bg-color);\n",
              "    box-shadow: 0 1px 2px rgba(60, 64, 67, 0.3), 0 1px 3px 1px rgba(60, 64, 67, 0.15);\n",
              "    fill: var(--button-hover-fill-color);\n",
              "  }\n",
              "\n",
              "  .colab-df-quickchart-complete:disabled,\n",
              "  .colab-df-quickchart-complete:disabled:hover {\n",
              "    background-color: var(--disabled-bg-color);\n",
              "    fill: var(--disabled-fill-color);\n",
              "    box-shadow: none;\n",
              "  }\n",
              "\n",
              "  .colab-df-spinner {\n",
              "    border: 2px solid var(--fill-color);\n",
              "    border-color: transparent;\n",
              "    border-bottom-color: var(--fill-color);\n",
              "    animation:\n",
              "      spin 1s steps(1) infinite;\n",
              "  }\n",
              "\n",
              "  @keyframes spin {\n",
              "    0% {\n",
              "      border-color: transparent;\n",
              "      border-bottom-color: var(--fill-color);\n",
              "      border-left-color: var(--fill-color);\n",
              "    }\n",
              "    20% {\n",
              "      border-color: transparent;\n",
              "      border-left-color: var(--fill-color);\n",
              "      border-top-color: var(--fill-color);\n",
              "    }\n",
              "    30% {\n",
              "      border-color: transparent;\n",
              "      border-left-color: var(--fill-color);\n",
              "      border-top-color: var(--fill-color);\n",
              "      border-right-color: var(--fill-color);\n",
              "    }\n",
              "    40% {\n",
              "      border-color: transparent;\n",
              "      border-right-color: var(--fill-color);\n",
              "      border-top-color: var(--fill-color);\n",
              "    }\n",
              "    60% {\n",
              "      border-color: transparent;\n",
              "      border-right-color: var(--fill-color);\n",
              "    }\n",
              "    80% {\n",
              "      border-color: transparent;\n",
              "      border-right-color: var(--fill-color);\n",
              "      border-bottom-color: var(--fill-color);\n",
              "    }\n",
              "    90% {\n",
              "      border-color: transparent;\n",
              "      border-bottom-color: var(--fill-color);\n",
              "    }\n",
              "  }\n",
              "</style>\n",
              "\n",
              "  <script>\n",
              "    async function quickchart(key) {\n",
              "      const quickchartButtonEl =\n",
              "        document.querySelector('#' + key + ' button');\n",
              "      quickchartButtonEl.disabled = true;  // To prevent multiple clicks.\n",
              "      quickchartButtonEl.classList.add('colab-df-spinner');\n",
              "      try {\n",
              "        const charts = await google.colab.kernel.invokeFunction(\n",
              "            'suggestCharts', [key], {});\n",
              "      } catch (error) {\n",
              "        console.error('Error during call to suggestCharts:', error);\n",
              "      }\n",
              "      quickchartButtonEl.classList.remove('colab-df-spinner');\n",
              "      quickchartButtonEl.classList.add('colab-df-quickchart-complete');\n",
              "    }\n",
              "    (() => {\n",
              "      let quickchartButtonEl =\n",
              "        document.querySelector('#df-724af620-28e3-444b-bca0-e662de89c539 button');\n",
              "      quickchartButtonEl.style.display =\n",
              "        google.colab.kernel.accessAllowed ? 'block' : 'none';\n",
              "    })();\n",
              "  </script>\n",
              "</div>\n",
              "    </div>\n",
              "  </div>\n"
            ],
            "application/vnd.google.colaboratory.intrinsic+json": {
              "type": "dataframe",
              "variable_name": "df",
              "summary": "{\n  \"name\": \"df\",\n  \"rows\": 3621,\n  \"fields\": [\n    {\n      \"column\": \"\\u041d\\u043e\\u043c\\u0435\\u0440_\\u044d\\u043f\\u0438\\u0437\\u043e\\u0434\\u0430\",\n      \"properties\": {\n        \"dtype\": \"string\",\n        \"num_unique_values\": 3621,\n        \"samples\": [\n          \"30963/\\u04212019\",\n          \"27793/\\u04212019\",\n          \"24174/\\u04212021\"\n        ],\n        \"semantic_type\": \"\",\n        \"description\": \"\"\n      }\n    },\n    {\n      \"column\": \"DES\",\n      \"properties\": {\n        \"dtype\": \"number\",\n        \"std\": 0,\n        \"min\": 0,\n        \"max\": 3,\n        \"num_unique_values\": 4,\n        \"samples\": [\n          0,\n          3,\n          2\n        ],\n        \"semantic_type\": \"\",\n        \"description\": \"\"\n      }\n    },\n    {\n      \"column\": \"BMS\",\n      \"properties\": {\n        \"dtype\": \"number\",\n        \"std\": 0,\n        \"min\": 0,\n        \"max\": 3,\n        \"num_unique_values\": 4,\n        \"samples\": [\n          0,\n          3,\n          2\n        ],\n        \"semantic_type\": \"\",\n        \"description\": \"\"\n      }\n    },\n    {\n      \"column\": \"\\u0414\\u0438\\u0430\\u043c\\u0435\\u0442\\u0440\",\n      \"properties\": {\n        \"dtype\": \"number\",\n        \"std\": 0.5087542707030207,\n        \"min\": 2.5,\n        \"max\": 5.0,\n        \"num_unique_values\": 7,\n        \"samples\": [\n          4.5,\n          2.5,\n          3.5\n        ],\n        \"semantic_type\": \"\",\n        \"description\": \"\"\n      }\n    },\n    {\n      \"column\": \"\\u0414\\u043b\\u0438\\u043d\\u0430\",\n      \"properties\": {\n        \"dtype\": \"number\",\n        \"std\": 9.40521277910984,\n        \"min\": 8.0,\n        \"max\": 48.0,\n        \"num_unique_values\": 26,\n        \"samples\": [\n          28.0,\n          22.0,\n          46.0\n        ],\n        \"semantic_type\": \"\",\n        \"description\": \"\"\n      }\n    },\n    {\n      \"column\": \"\\u0414\\u0430\\u0442\\u0430_\\u043f\\u043e\\u0441\\u0442\\u0443\\u043f\\u043b\\u0435\\u043d\\u0438\\u044f\",\n      \"properties\": {\n        \"dtype\": \"object\",\n        \"num_unique_values\": 884,\n        \"samples\": [\n          \"2019-04-29\",\n          \"2021-07-27\",\n          \"2019-11-12\"\n        ],\n        \"semantic_type\": \"\",\n        \"description\": \"\"\n      }\n    },\n    {\n      \"column\": \"\\u041a\\u043b\\u0438\\u043d\\u0438\\u0447\\u0435\\u0441\\u043a\\u0438\\u0439_\\u0434\\u0438\\u0430\\u0433\\u043d\\u043e\\u0437_\\u0440\\u0443\\u0431\\u0440\\u0438\\u043a\\u0430\",\n      \"properties\": {\n        \"dtype\": \"category\",\n        \"num_unique_values\": 9,\n        \"samples\": [\n          \"I22.8\",\n          \"I21.4\",\n          \"I22.9\"\n        ],\n        \"semantic_type\": \"\",\n        \"description\": \"\"\n      }\n    },\n    {\n      \"column\": \"\\u0418\\u0441\\u0445\\u043e\\u0434_\\u044d\\u043f\\u0438\\u0437\\u043e\\u0434\\u0430\",\n      \"properties\": {\n        \"dtype\": \"category\",\n        \"num_unique_values\": 12,\n        \"samples\": [\n          \"\\u041f\\u0435\\u0440\\u0435\\u0432\\u0435\\u0434\\u0435\\u043d \\u0432 \\u043a\\u0440\\u0443\\u0433\\u043b\\u043e\\u0441\\u0443\\u0442\\u043e\\u0447\\u043d\\u044b\\u0439 \\u0441\\u0442\\u0430\\u0446\\u0438\\u043e\\u043d\\u0430\\u0440\",\n          \"\\u0414\\u0438\\u043d\\u0430\\u043c\\u0438\\u0447\\u0435\\u0441\\u043a\\u043e\\u0435 \\u043d\\u0430\\u0431\\u043b\\u044e\\u0434\\u0435\\u043d\\u0438\\u0435\",\n          \"\\u041d\\u0435\\u0442 \\u0434\\u0430\\u043d\\u043d\\u044b\\u0445\"\n        ],\n        \"semantic_type\": \"\",\n        \"description\": \"\"\n      }\n    },\n    {\n      \"column\": \"\\u0420\\u0435\\u0437\\u0443\\u043b\\u044c\\u0442\\u0430\\u0442_\\u043b\\u0435\\u0447\\u0435\\u043d\\u0438\\u044f\",\n      \"properties\": {\n        \"dtype\": \"category\",\n        \"num_unique_values\": 6,\n        \"samples\": [\n          \"\\u041d\\u0435\\u0442 \\u0434\\u0430\\u043d\\u043d\\u044b\\u0445\",\n          \"\\u0443\\u043b\\u0443\\u0447\\u0448\\u0435\\u043d\\u0438\\u0435\",\n          \"\\u0432\\u044b\\u0437\\u0434\\u043e\\u0440\\u043e\\u0432\\u043b\\u0435\\u043d\\u0438\\u0435\"\n        ],\n        \"semantic_type\": \"\",\n        \"description\": \"\"\n      }\n    },\n    {\n      \"column\": \"\\u042d\\u043f\\u0438\\u0437\\u043e\\u0434_\\u0445\\u044d\\u0448\",\n      \"properties\": {\n        \"dtype\": \"string\",\n        \"num_unique_values\": 3621,\n        \"samples\": [\n          \"-9192523417963213516\",\n          \"7434997948181767579\",\n          \"286165250577434830\"\n        ],\n        \"semantic_type\": \"\",\n        \"description\": \"\"\n      }\n    },\n    {\n      \"column\": \"\\u041f\\u0430\\u0446\\u0438\\u0435\\u043d\\u0442_\\u0445\\u044d\\u0448\",\n      \"properties\": {\n        \"dtype\": \"string\",\n        \"num_unique_values\": 2598,\n        \"samples\": [\n          \"-4634712628392893304\",\n          \"3492090537786480395\",\n          \"2277669507775829408\"\n        ],\n        \"semantic_type\": \"\",\n        \"description\": \"\"\n      }\n    },\n    {\n      \"column\": \"\\u0420\\u0435\\u0433\\u0438\\u0441\\u0442\\u0440\\u0430\\u0446\\u0438\\u043e\\u043d\\u043d\\u044b\\u0439_\\u043d\\u043e\\u043c\\u0435\\u0440\",\n      \"properties\": {\n        \"dtype\": \"string\",\n        \"num_unique_values\": 2598,\n        \"samples\": [\n          \"43519/A21\",\n          \"64597/A20\",\n          \"20211/A15\"\n        ],\n        \"semantic_type\": \"\",\n        \"description\": \"\"\n      }\n    },\n    {\n      \"column\": \"\\u041f\\u043e\\u043b\",\n      \"properties\": {\n        \"dtype\": \"category\",\n        \"num_unique_values\": 3,\n        \"samples\": [\n          \"\\u041c\\u0443\\u0436\\u0441\\u043a\\u043e\\u0439\",\n          \"\\u0416\\u0435\\u043d\\u0441\\u043a\\u0438\\u0439\",\n          \"\\u041f\\u0435\\u043d\\u0441\\u0438\\u043e\\u043d\\u0435\\u0440\"\n        ],\n        \"semantic_type\": \"\",\n        \"description\": \"\"\n      }\n    },\n    {\n      \"column\": \"\\u0414\\u0430\\u0442\\u0430_\\u0440\\u043e\\u0436\\u0434\\u0435\\u043d\\u0438\\u044f\",\n      \"properties\": {\n        \"dtype\": \"object\",\n        \"num_unique_values\": 2334,\n        \"samples\": [\n          \"1962-02-03\",\n          \"1961-02-04\",\n          \"1955-08-03\"\n        ],\n        \"semantic_type\": \"\",\n        \"description\": \"\"\n      }\n    },\n    {\n      \"column\": \"\\u0414\\u0430\\u0442\\u0430_\\u0441\\u043c\\u0435\\u0440\\u0442\\u0438\",\n      \"properties\": {\n        \"dtype\": \"object\",\n        \"num_unique_values\": 78,\n        \"samples\": [\n          \"2020-10-21\",\n          \"\",\n          \"2020-10-06\"\n        ],\n        \"semantic_type\": \"\",\n        \"description\": \"\"\n      }\n    }\n  ]\n}"
            }
          },
          "metadata": {},
          "execution_count": 409
        }
      ]
    },
    {
      "cell_type": "code",
      "source": [
        "# Сохранение DataFrame в CSV-файл\n",
        "df.to_csv('Протокол операции (обработано).csv', index=False, encoding='Windows-1251', sep=';')\n",
        "\n",
        "# Скачивание файла\n",
        "from google.colab import files\n",
        "files.download('Протокол операции (обработано).csv')"
      ],
      "metadata": {
        "colab": {
          "base_uri": "https://localhost:8080/",
          "height": 17
        },
        "id": "a-o4j0bp9hmc",
        "outputId": "4f770c34-9ff9-466c-b0e8-5d1c3c9f50e0"
      },
      "execution_count": null,
      "outputs": [
        {
          "output_type": "display_data",
          "data": {
            "text/plain": [
              "<IPython.core.display.Javascript object>"
            ],
            "application/javascript": [
              "\n",
              "    async function download(id, filename, size) {\n",
              "      if (!google.colab.kernel.accessAllowed) {\n",
              "        return;\n",
              "      }\n",
              "      const div = document.createElement('div');\n",
              "      const label = document.createElement('label');\n",
              "      label.textContent = `Downloading \"${filename}\": `;\n",
              "      div.appendChild(label);\n",
              "      const progress = document.createElement('progress');\n",
              "      progress.max = size;\n",
              "      div.appendChild(progress);\n",
              "      document.body.appendChild(div);\n",
              "\n",
              "      const buffers = [];\n",
              "      let downloaded = 0;\n",
              "\n",
              "      const channel = await google.colab.kernel.comms.open(id);\n",
              "      // Send a message to notify the kernel that we're ready.\n",
              "      channel.send({})\n",
              "\n",
              "      for await (const message of channel.messages) {\n",
              "        // Send a message to notify the kernel that we're ready.\n",
              "        channel.send({})\n",
              "        if (message.buffers) {\n",
              "          for (const buffer of message.buffers) {\n",
              "            buffers.push(buffer);\n",
              "            downloaded += buffer.byteLength;\n",
              "            progress.value = downloaded;\n",
              "          }\n",
              "        }\n",
              "      }\n",
              "      const blob = new Blob(buffers, {type: 'application/binary'});\n",
              "      const a = document.createElement('a');\n",
              "      a.href = window.URL.createObjectURL(blob);\n",
              "      a.download = filename;\n",
              "      div.appendChild(a);\n",
              "      a.click();\n",
              "      div.remove();\n",
              "    }\n",
              "  "
            ]
          },
          "metadata": {}
        },
        {
          "output_type": "display_data",
          "data": {
            "text/plain": [
              "<IPython.core.display.Javascript object>"
            ],
            "application/javascript": [
              "download(\"download_fd08f0b6-06a2-443c-b668-aefa3991fc4d\", \"\\u041f\\u0440\\u043e\\u0442\\u043e\\u043a\\u043e\\u043b \\u043e\\u043f\\u0435\\u0440\\u0430\\u0446\\u0438\\u0438 (\\u043e\\u0431\\u0440\\u0430\\u0431\\u043e\\u0442\\u0430\\u043d\\u043e).csv\", 459734)"
            ]
          },
          "metadata": {}
        }
      ]
    },
    {
      "cell_type": "markdown",
      "source": [
        "### Подготовка коронарографии"
      ],
      "metadata": {
        "id": "lPtT5ZBiRSga"
      }
    },
    {
      "cell_type": "code",
      "source": [
        "import pandas as pd\n",
        "\n",
        "df = pd.read_csv(path/'результат/коронарография чистая 21.11.2023.zip', compression='zip', encoding=\"Windows-1251\")\n",
        "df1 = pd.read_csv(path/'результат/Коронарография.csv', encoding=\"Windows-1251\")"
      ],
      "metadata": {
        "id": "P37jgbwpOAHw"
      },
      "execution_count": null,
      "outputs": []
    },
    {
      "cell_type": "code",
      "source": [
        "df.columns"
      ],
      "metadata": {
        "colab": {
          "base_uri": "https://localhost:8080/"
        },
        "id": "ntaeYe4DRxYw",
        "outputId": "51f447b8-9b75-4716-e081-336a7f07ac23"
      },
      "execution_count": null,
      "outputs": [
        {
          "output_type": "execute_result",
          "data": {
            "text/plain": [
              "Index(['Unnamed: 0', 'Номер_эпизода', 'Дата_поступления',\n",
              "       'Клинический_диагноз_рубрика', 'Исход_эпизода', 'Результат_лечения',\n",
              "       'Эпизод_хэш', 'Пациент_хэш', 'Регистрационный_номер', 'Пол',\n",
              "       'Дата_рождения', 'Дата_смерти', 'Данные'],\n",
              "      dtype='object')"
            ]
          },
          "metadata": {},
          "execution_count": 244
        }
      ]
    },
    {
      "cell_type": "code",
      "source": [
        "df = df.drop('Unnamed: 0', axis=1)"
      ],
      "metadata": {
        "id": "Zwz9TpM2RylZ"
      },
      "execution_count": null,
      "outputs": []
    },
    {
      "cell_type": "code",
      "source": [
        "df.columns"
      ],
      "metadata": {
        "colab": {
          "base_uri": "https://localhost:8080/"
        },
        "id": "kufpc_b8SHXe",
        "outputId": "7f03b13f-fe16-4392-e43b-02d6d0a59734"
      },
      "execution_count": null,
      "outputs": [
        {
          "output_type": "execute_result",
          "data": {
            "text/plain": [
              "Index(['Номер_эпизода', 'Дата_поступления', 'Клинический_диагноз_рубрика',\n",
              "       'Исход_эпизода', 'Результат_лечения', 'Эпизод_хэш', 'Пациент_хэш',\n",
              "       'Регистрационный_номер', 'Пол', 'Дата_рождения', 'Дата_смерти',\n",
              "       'Данные'],\n",
              "      dtype='object')"
            ]
          },
          "metadata": {},
          "execution_count": 246
        }
      ]
    },
    {
      "cell_type": "code",
      "source": [
        "df1.columns"
      ],
      "metadata": {
        "colab": {
          "base_uri": "https://localhost:8080/"
        },
        "id": "3xcO71TYYTVH",
        "outputId": "5298000e-7ced-4063-a45b-b5316cf109a5"
      },
      "execution_count": null,
      "outputs": [
        {
          "output_type": "execute_result",
          "data": {
            "text/plain": [
              "Index(['Номер_эпизода', 'Статус', 'Unnamed: 2', 'Коррекция_дата_время'], dtype='object')"
            ]
          },
          "metadata": {},
          "execution_count": 247
        }
      ]
    },
    {
      "cell_type": "code",
      "source": [
        "# Переименование столбца \"Unnamed: 2\" в \"Данные\"\n",
        "df1 = df1.rename(columns={\"Unnamed: 2\": \"Данные\"})"
      ],
      "metadata": {
        "id": "l-77kcpsY_3Q"
      },
      "execution_count": null,
      "outputs": []
    },
    {
      "cell_type": "code",
      "source": [
        "df1.columns"
      ],
      "metadata": {
        "colab": {
          "base_uri": "https://localhost:8080/"
        },
        "id": "YPCnoO4GZDfS",
        "outputId": "07c38d8d-7000-4281-f4da-f27522ca589d"
      },
      "execution_count": null,
      "outputs": [
        {
          "output_type": "execute_result",
          "data": {
            "text/plain": [
              "Index(['Номер_эпизода', 'Статус', 'Данные', 'Коррекция_дата_время'], dtype='object')"
            ]
          },
          "metadata": {},
          "execution_count": 249
        }
      ]
    },
    {
      "cell_type": "code",
      "source": [
        "df = pd.concat([df, df1])"
      ],
      "metadata": {
        "id": "tLsQoFYVZJUQ"
      },
      "execution_count": null,
      "outputs": []
    },
    {
      "cell_type": "code",
      "source": [
        "df.shape"
      ],
      "metadata": {
        "colab": {
          "base_uri": "https://localhost:8080/"
        },
        "id": "tbbg9mDMSMvx",
        "outputId": "59794914-a0f3-48d0-809a-e3a5db926f73"
      },
      "execution_count": null,
      "outputs": [
        {
          "output_type": "execute_result",
          "data": {
            "text/plain": [
              "(16478, 14)"
            ]
          },
          "metadata": {},
          "execution_count": 251
        }
      ]
    },
    {
      "cell_type": "code",
      "source": [
        "df = df.dropna(subset=['Данные'])\n",
        "df.shape"
      ],
      "metadata": {
        "colab": {
          "base_uri": "https://localhost:8080/"
        },
        "id": "3rL0O4OEON6V",
        "outputId": "7e790c38-4fab-472c-ca4e-3beaf9badaff"
      },
      "execution_count": null,
      "outputs": [
        {
          "output_type": "execute_result",
          "data": {
            "text/plain": [
              "(12010, 14)"
            ]
          },
          "metadata": {},
          "execution_count": 252
        }
      ]
    },
    {
      "cell_type": "code",
      "source": [
        "df = df.drop_duplicates()"
      ],
      "metadata": {
        "id": "M7lO1gBOSO2j"
      },
      "execution_count": null,
      "outputs": []
    },
    {
      "cell_type": "code",
      "source": [
        "df.shape"
      ],
      "metadata": {
        "colab": {
          "base_uri": "https://localhost:8080/"
        },
        "id": "6b_PmKBkScoB",
        "outputId": "8a16020c-3d5e-4b11-cf1c-271a28dcda31"
      },
      "execution_count": null,
      "outputs": [
        {
          "output_type": "execute_result",
          "data": {
            "text/plain": [
              "(7247, 14)"
            ]
          },
          "metadata": {},
          "execution_count": 254
        }
      ]
    },
    {
      "cell_type": "code",
      "source": [
        "import re\n",
        "\n",
        "pattern = r'(ствол\\s*(лка)?\\s*(\\(lmca\\))?\\s*:?\\s*(короткий)?\\s*,?\\s*без\\s*(гемодинамически)?\\s*(значим\\w*)?\\s*стеноз\\w*)|(ствол\\s*(лка)?\\s*(\\(lmca\\))?\\s*:?\\s*стеноз\\w*.*([1-4]?[0-9])(?!\\d)%)'\n",
        "df['Ствол стеноз'] = df['Данные'].apply(lambda x: 0 if re.search(pattern, str(x), re.IGNORECASE) else 1)"
      ],
      "metadata": {
        "id": "r-nr2IjALOfo"
      },
      "execution_count": null,
      "outputs": []
    },
    {
      "cell_type": "code",
      "source": [
        "df['Ствол стеноз'].value_counts()"
      ],
      "metadata": {
        "colab": {
          "base_uri": "https://localhost:8080/"
        },
        "id": "Ws1it_UOMZdD",
        "outputId": "73588e99-b1c3-4ba8-a8ce-21674988e9ed"
      },
      "execution_count": null,
      "outputs": [
        {
          "output_type": "execute_result",
          "data": {
            "text/plain": [
              "Ствол стеноз\n",
              "0    5234\n",
              "1    2013\n",
              "Name: count, dtype: int64"
            ]
          },
          "metadata": {},
          "execution_count": 256
        }
      ]
    },
    {
      "cell_type": "code",
      "source": [
        "pattern = r'окк?люзия'\n",
        "df['Окклюзия'] = df['Данные'].apply(lambda x: 1 if re.search(pattern, str(x), re.IGNORECASE) else 0)"
      ],
      "metadata": {
        "id": "ZnUcdaOgN83V"
      },
      "execution_count": null,
      "outputs": []
    },
    {
      "cell_type": "code",
      "source": [
        "df['Окклюзия'].value_counts()"
      ],
      "metadata": {
        "colab": {
          "base_uri": "https://localhost:8080/"
        },
        "id": "gGL8RiHqN7AG",
        "outputId": "6b7351bf-f074-4a6c-f32c-24f74167b4ca"
      },
      "execution_count": null,
      "outputs": [
        {
          "output_type": "execute_result",
          "data": {
            "text/plain": [
              "Окклюзия\n",
              "0    3992\n",
              "1    3255\n",
              "Name: count, dtype: int64"
            ]
          },
          "metadata": {},
          "execution_count": 258
        }
      ]
    },
    {
      "cell_type": "code",
      "source": [
        "pattern = r'бифф?уркаци'\n",
        "df['Бифуркация'] = df['Данные'].apply(lambda x: 1 if re.search(pattern, str(x), re.IGNORECASE) else 0)"
      ],
      "metadata": {
        "id": "ZqeIr-PsP_GN"
      },
      "execution_count": null,
      "outputs": []
    },
    {
      "cell_type": "code",
      "source": [
        "df['Бифуркация'].value_counts()"
      ],
      "metadata": {
        "colab": {
          "base_uri": "https://localhost:8080/"
        },
        "id": "OWP84g8QN61n",
        "outputId": "1512a0c6-7ec5-49eb-ed33-46b7c6da1597"
      },
      "execution_count": null,
      "outputs": [
        {
          "output_type": "execute_result",
          "data": {
            "text/plain": [
              "Бифуркация\n",
              "0    6065\n",
              "1    1182\n",
              "Name: count, dtype: int64"
            ]
          },
          "metadata": {},
          "execution_count": 260
        }
      ]
    },
    {
      "cell_type": "code",
      "source": [
        "pattern = r'(7[0-9]|8[0-9]|9[0-9])(?!\\d)%'\n",
        "df['Количество стенозов'] = df['Данные'].apply(lambda x: len(re.findall(pattern, str(x), re.IGNORECASE)))"
      ],
      "metadata": {
        "id": "riuZ7Y_XZol8"
      },
      "execution_count": null,
      "outputs": []
    },
    {
      "cell_type": "code",
      "source": [
        "df['Количество стенозов'].value_counts()"
      ],
      "metadata": {
        "colab": {
          "base_uri": "https://localhost:8080/"
        },
        "id": "KoVBg0FRdidh",
        "outputId": "1a136c19-4b3d-4b71-9226-2e81f922d4d6"
      },
      "execution_count": null,
      "outputs": [
        {
          "output_type": "execute_result",
          "data": {
            "text/plain": [
              "Количество стенозов\n",
              "1     2067\n",
              "2     1602\n",
              "0     1462\n",
              "3      977\n",
              "4      523\n",
              "5      307\n",
              "6      154\n",
              "7      110\n",
              "8       28\n",
              "9        9\n",
              "10       4\n",
              "12       2\n",
              "13       2\n",
              "Name: count, dtype: int64"
            ]
          },
          "metadata": {},
          "execution_count": 262
        }
      ]
    },
    {
      "cell_type": "code",
      "source": [
        "def group_stenoses(x):\n",
        "    if x == 0:\n",
        "        return '0'\n",
        "    elif x == 1:\n",
        "        return '1'\n",
        "    elif x == 2:\n",
        "        return '2'\n",
        "    else:\n",
        "        return '3+'\n",
        "\n",
        "df['Группа стенозов'] = df['Количество стенозов'].apply(group_stenoses)"
      ],
      "metadata": {
        "id": "MRMLXBLsg4ed"
      },
      "execution_count": null,
      "outputs": []
    },
    {
      "cell_type": "code",
      "source": [
        "df['Группа стенозов'].value_counts()"
      ],
      "metadata": {
        "colab": {
          "base_uri": "https://localhost:8080/"
        },
        "id": "M6PrCzlyhCLF",
        "outputId": "685149ec-49fd-4c16-ac77-7bd9cc3614ad"
      },
      "execution_count": null,
      "outputs": [
        {
          "output_type": "execute_result",
          "data": {
            "text/plain": [
              "Группа стенозов\n",
              "3+    2116\n",
              "1     2067\n",
              "2     1602\n",
              "0     1462\n",
              "Name: count, dtype: int64"
            ]
          },
          "metadata": {},
          "execution_count": 264
        }
      ]
    },
    {
      "cell_type": "code",
      "source": [
        "df = df.drop(columns=['Данные'])"
      ],
      "metadata": {
        "id": "Ih6KcBeISdsF"
      },
      "execution_count": null,
      "outputs": []
    },
    {
      "cell_type": "code",
      "source": [
        "df.columns"
      ],
      "metadata": {
        "colab": {
          "base_uri": "https://localhost:8080/"
        },
        "id": "GUuT-bCWSYEY",
        "outputId": "f4adcb9b-77d2-4975-9749-bcb0a4f14402"
      },
      "execution_count": null,
      "outputs": [
        {
          "output_type": "execute_result",
          "data": {
            "text/plain": [
              "Index(['Номер_эпизода', 'Дата_поступления', 'Клинический_диагноз_рубрика',\n",
              "       'Исход_эпизода', 'Результат_лечения', 'Эпизод_хэш', 'Пациент_хэш',\n",
              "       'Регистрационный_номер', 'Пол', 'Дата_рождения', 'Дата_смерти',\n",
              "       'Статус', 'Коррекция_дата_время', 'Ствол стеноз', 'Окклюзия',\n",
              "       'Бифуркация', 'Количество стенозов', 'Группа стенозов'],\n",
              "      dtype='object')"
            ]
          },
          "metadata": {},
          "execution_count": 266
        }
      ]
    },
    {
      "cell_type": "code",
      "source": [
        "df.shape"
      ],
      "metadata": {
        "colab": {
          "base_uri": "https://localhost:8080/"
        },
        "id": "fcXnKgrCSQ9b",
        "outputId": "0d889b5c-f542-4484-ce3e-274144d59f15"
      },
      "execution_count": null,
      "outputs": [
        {
          "output_type": "execute_result",
          "data": {
            "text/plain": [
              "(7247, 18)"
            ]
          },
          "metadata": {},
          "execution_count": 267
        }
      ]
    },
    {
      "cell_type": "code",
      "source": [
        "df = df.drop_duplicates()"
      ],
      "metadata": {
        "id": "H5lklfvuSQ6v"
      },
      "execution_count": null,
      "outputs": []
    },
    {
      "cell_type": "code",
      "source": [
        "df.shape"
      ],
      "metadata": {
        "colab": {
          "base_uri": "https://localhost:8080/"
        },
        "id": "vEJ246d3SQ38",
        "outputId": "e55ea378-d05b-4249-b4d1-72b73ec53b13"
      },
      "execution_count": null,
      "outputs": [
        {
          "output_type": "execute_result",
          "data": {
            "text/plain": [
              "(5499, 18)"
            ]
          },
          "metadata": {},
          "execution_count": 269
        }
      ]
    },
    {
      "cell_type": "code",
      "source": [
        "cols_to_or = ['Ствол стеноз', 'Окклюзия', 'Бифуркация', 'Количество стенозов', 'Группа стенозов']\n",
        "\n",
        "cols_to_first = [col for col in df.columns if col not in cols_to_or and col != 'Номер_эпизода']\n",
        "\n",
        "df = (\n",
        "    df.groupby('Номер_эпизода')\n",
        "    .agg({\n",
        "        **{col: 'max' for col in cols_to_or},  # Логическое ИЛИ для указанных столбцов\n",
        "        **{col: 'first' for col in cols_to_first}  # Первое вхождение для остальных столбцов\n",
        "    })\n",
        "    .reset_index()\n",
        ")"
      ],
      "metadata": {
        "id": "70iuJahtSQ1W"
      },
      "execution_count": null,
      "outputs": []
    },
    {
      "cell_type": "code",
      "source": [
        "df.shape"
      ],
      "metadata": {
        "colab": {
          "base_uri": "https://localhost:8080/"
        },
        "id": "RQuLktu_SQyl",
        "outputId": "10e5e1ec-129a-41d6-efee-a6e851a8496b"
      },
      "execution_count": null,
      "outputs": [
        {
          "output_type": "execute_result",
          "data": {
            "text/plain": [
              "(3669, 18)"
            ]
          },
          "metadata": {},
          "execution_count": 272
        }
      ]
    },
    {
      "cell_type": "code",
      "source": [
        "df['Ствол стеноз'].value_counts()"
      ],
      "metadata": {
        "colab": {
          "base_uri": "https://localhost:8080/"
        },
        "id": "HhcTzxrJSs5Q",
        "outputId": "dacdf5c7-a209-4999-b381-f258a991af93"
      },
      "execution_count": null,
      "outputs": [
        {
          "output_type": "execute_result",
          "data": {
            "text/plain": [
              "Ствол стеноз\n",
              "0    2637\n",
              "1    1032\n",
              "Name: count, dtype: int64"
            ]
          },
          "metadata": {},
          "execution_count": 274
        }
      ]
    },
    {
      "cell_type": "code",
      "source": [
        "df['Окклюзия'].value_counts()"
      ],
      "metadata": {
        "colab": {
          "base_uri": "https://localhost:8080/"
        },
        "id": "xfCPvO0DSyd3",
        "outputId": "66916495-4f82-442d-87cc-d32d57d71812"
      },
      "execution_count": null,
      "outputs": [
        {
          "output_type": "execute_result",
          "data": {
            "text/plain": [
              "Окклюзия\n",
              "0    1898\n",
              "1    1771\n",
              "Name: count, dtype: int64"
            ]
          },
          "metadata": {},
          "execution_count": 275
        }
      ]
    },
    {
      "cell_type": "code",
      "source": [
        "df['Бифуркация'].value_counts()"
      ],
      "metadata": {
        "colab": {
          "base_uri": "https://localhost:8080/"
        },
        "id": "ZCq8N-U1S5u3",
        "outputId": "c595ce3e-6b8b-4c72-c6f9-d93ef40b4869"
      },
      "execution_count": null,
      "outputs": [
        {
          "output_type": "execute_result",
          "data": {
            "text/plain": [
              "Бифуркация\n",
              "0    2964\n",
              "1     705\n",
              "Name: count, dtype: int64"
            ]
          },
          "metadata": {},
          "execution_count": 276
        }
      ]
    },
    {
      "cell_type": "code",
      "source": [
        "df['Количество стенозов'].value_counts()"
      ],
      "metadata": {
        "colab": {
          "base_uri": "https://localhost:8080/"
        },
        "outputId": "80eb0584-f8fb-4aaa-dab8-f7e47789c4e6",
        "id": "leNM1LPohv34"
      },
      "execution_count": null,
      "outputs": [
        {
          "output_type": "execute_result",
          "data": {
            "text/plain": [
              "Количество стенозов\n",
              "1     1025\n",
              "2      782\n",
              "0      659\n",
              "3      557\n",
              "4      293\n",
              "5      180\n",
              "6       86\n",
              "7       56\n",
              "8       16\n",
              "9        8\n",
              "10       3\n",
              "13       2\n",
              "12       2\n",
              "Name: count, dtype: int64"
            ]
          },
          "metadata": {},
          "execution_count": 277
        }
      ]
    },
    {
      "cell_type": "code",
      "source": [
        "df['Группа стенозов'].value_counts()"
      ],
      "metadata": {
        "colab": {
          "base_uri": "https://localhost:8080/"
        },
        "outputId": "17ec8663-15c3-4bd9-d117-50194440a39c",
        "id": "QCxE0m7Whv34"
      },
      "execution_count": null,
      "outputs": [
        {
          "output_type": "execute_result",
          "data": {
            "text/plain": [
              "Группа стенозов\n",
              "3+    1203\n",
              "1     1025\n",
              "2      782\n",
              "0      659\n",
              "Name: count, dtype: int64"
            ]
          },
          "metadata": {},
          "execution_count": 278
        }
      ]
    },
    {
      "cell_type": "code",
      "source": [
        "df"
      ],
      "metadata": {
        "colab": {
          "base_uri": "https://localhost:8080/",
          "height": 496
        },
        "id": "nRGYrD7CTF-S",
        "outputId": "ff2b0d52-1ebc-4644-8731-2edb55f2fd70"
      },
      "execution_count": null,
      "outputs": [
        {
          "output_type": "execute_result",
          "data": {
            "text/plain": [
              "     Номер_эпизода  Ствол стеноз  Окклюзия  Бифуркация  Количество стенозов  \\\n",
              "0      1001/ВО2021             0         0           0                    1   \n",
              "1      10012/С2024             1         0           0                    2   \n",
              "2       1004/С2021             0         1           0                    3   \n",
              "3      1005/ВО2021             0         0           1                    1   \n",
              "4      10090/С2019             0         1           0                    4   \n",
              "...            ...           ...       ...         ...                  ...   \n",
              "3664    9945/С2020             1         0           0                    1   \n",
              "3665    9948/С2018             0         0           0                    1   \n",
              "3666    9948/С2020             0         0           0                    2   \n",
              "3667     996/С2021             0         0           1                    4   \n",
              "3668    9986/С2021             0         0           0                    1   \n",
              "\n",
              "     Группа стенозов Дата_поступления Клинический_диагноз_рубрика  \\\n",
              "0                  1       2021-02-08                       I20.0   \n",
              "1                  2             None                        None   \n",
              "2                 3+       2021-01-17                       I21.4   \n",
              "3                  1       2021-02-05                       I20.0   \n",
              "4                 3+       2019-04-15                       I21.4   \n",
              "...              ...              ...                         ...   \n",
              "3664               1       2020-04-30                       I20.0   \n",
              "3665               1             None                        None   \n",
              "3666               2       2020-04-30                       I21.4   \n",
              "3667              3+       2021-01-17                       I21.4   \n",
              "3668               1       2021-04-12                       I20.0   \n",
              "\n",
              "     Исход_эпизода Результат_лечения    Эпизод_хэш   Пациент_хэш  \\\n",
              "0       Нет данных        Нет данных -6.196150e+18 -1.913836e+18   \n",
              "1             None              None           NaN           NaN   \n",
              "2          Выписан         улучшение  8.730543e+17  7.200382e+18   \n",
              "3       Нет данных        Нет данных -5.030797e+18  6.852238e+18   \n",
              "4          Выписан         улучшение  4.311283e+18  8.200074e+18   \n",
              "...            ...               ...           ...           ...   \n",
              "3664       Выписан         улучшение -2.525937e+18 -4.371885e+18   \n",
              "3665          None              None           NaN           NaN   \n",
              "3666       Выписан         улучшение -5.245474e+18  6.972501e+18   \n",
              "3667       Выписан         улучшение -4.361958e+18  8.301095e+18   \n",
              "3668       Выписан         улучшение -2.694055e+18 -1.724462e+18   \n",
              "\n",
              "     Регистрационный_номер      Пол Дата_рождения Дата_смерти  \\\n",
              "0                78795/A20  Мужской    1966-05-08        None   \n",
              "1                     None     None          None        None   \n",
              "2                60481/A16  Женский    1933-06-01        None   \n",
              "3                 9290/A08  Мужской    1961-05-01        None   \n",
              "4                29335/A19  Женский    1961-12-10        None   \n",
              "...                    ...      ...           ...         ...   \n",
              "3664             27442/A20  Мужской    1956-09-15        None   \n",
              "3665                  None     None          None        None   \n",
              "3666             27463/A20  Мужской    1955-12-01        None   \n",
              "3667              2736/A21  Женский    1929-08-29        None   \n",
              "3668             31695/A21  Женский    1957-09-24        None   \n",
              "\n",
              "                         Статус Коррекция_дата_время  \n",
              "0                          None                 None  \n",
              "1     КОРОНАРОГРАФИЯ РЕЗУЛЬТАТ.  2024-04-05 21:02:24  \n",
              "2                          None                 None  \n",
              "3                          None                 None  \n",
              "4                          None                 None  \n",
              "...                         ...                  ...  \n",
              "3664                       None                 None  \n",
              "3665  КОРОНАРОГРАФИЯ РЕЗУЛЬТАТ.  2017-10-10 17:17:38  \n",
              "3666                       None                 None  \n",
              "3667                       None                 None  \n",
              "3668                       None                 None  \n",
              "\n",
              "[3669 rows x 18 columns]"
            ],
            "text/html": [
              "\n",
              "  <div id=\"df-bb475d40-e025-41f5-bba1-7fed067471e2\" class=\"colab-df-container\">\n",
              "    <div>\n",
              "<style scoped>\n",
              "    .dataframe tbody tr th:only-of-type {\n",
              "        vertical-align: middle;\n",
              "    }\n",
              "\n",
              "    .dataframe tbody tr th {\n",
              "        vertical-align: top;\n",
              "    }\n",
              "\n",
              "    .dataframe thead th {\n",
              "        text-align: right;\n",
              "    }\n",
              "</style>\n",
              "<table border=\"1\" class=\"dataframe\">\n",
              "  <thead>\n",
              "    <tr style=\"text-align: right;\">\n",
              "      <th></th>\n",
              "      <th>Номер_эпизода</th>\n",
              "      <th>Ствол стеноз</th>\n",
              "      <th>Окклюзия</th>\n",
              "      <th>Бифуркация</th>\n",
              "      <th>Количество стенозов</th>\n",
              "      <th>Группа стенозов</th>\n",
              "      <th>Дата_поступления</th>\n",
              "      <th>Клинический_диагноз_рубрика</th>\n",
              "      <th>Исход_эпизода</th>\n",
              "      <th>Результат_лечения</th>\n",
              "      <th>Эпизод_хэш</th>\n",
              "      <th>Пациент_хэш</th>\n",
              "      <th>Регистрационный_номер</th>\n",
              "      <th>Пол</th>\n",
              "      <th>Дата_рождения</th>\n",
              "      <th>Дата_смерти</th>\n",
              "      <th>Статус</th>\n",
              "      <th>Коррекция_дата_время</th>\n",
              "    </tr>\n",
              "  </thead>\n",
              "  <tbody>\n",
              "    <tr>\n",
              "      <th>0</th>\n",
              "      <td>1001/ВО2021</td>\n",
              "      <td>0</td>\n",
              "      <td>0</td>\n",
              "      <td>0</td>\n",
              "      <td>1</td>\n",
              "      <td>1</td>\n",
              "      <td>2021-02-08</td>\n",
              "      <td>I20.0</td>\n",
              "      <td>Нет данных</td>\n",
              "      <td>Нет данных</td>\n",
              "      <td>-6.196150e+18</td>\n",
              "      <td>-1.913836e+18</td>\n",
              "      <td>78795/A20</td>\n",
              "      <td>Мужской</td>\n",
              "      <td>1966-05-08</td>\n",
              "      <td>None</td>\n",
              "      <td>None</td>\n",
              "      <td>None</td>\n",
              "    </tr>\n",
              "    <tr>\n",
              "      <th>1</th>\n",
              "      <td>10012/С2024</td>\n",
              "      <td>1</td>\n",
              "      <td>0</td>\n",
              "      <td>0</td>\n",
              "      <td>2</td>\n",
              "      <td>2</td>\n",
              "      <td>None</td>\n",
              "      <td>None</td>\n",
              "      <td>None</td>\n",
              "      <td>None</td>\n",
              "      <td>NaN</td>\n",
              "      <td>NaN</td>\n",
              "      <td>None</td>\n",
              "      <td>None</td>\n",
              "      <td>None</td>\n",
              "      <td>None</td>\n",
              "      <td>КОРОНАРОГРАФИЯ РЕЗУЛЬТАТ.</td>\n",
              "      <td>2024-04-05 21:02:24</td>\n",
              "    </tr>\n",
              "    <tr>\n",
              "      <th>2</th>\n",
              "      <td>1004/С2021</td>\n",
              "      <td>0</td>\n",
              "      <td>1</td>\n",
              "      <td>0</td>\n",
              "      <td>3</td>\n",
              "      <td>3+</td>\n",
              "      <td>2021-01-17</td>\n",
              "      <td>I21.4</td>\n",
              "      <td>Выписан</td>\n",
              "      <td>улучшение</td>\n",
              "      <td>8.730543e+17</td>\n",
              "      <td>7.200382e+18</td>\n",
              "      <td>60481/A16</td>\n",
              "      <td>Женский</td>\n",
              "      <td>1933-06-01</td>\n",
              "      <td>None</td>\n",
              "      <td>None</td>\n",
              "      <td>None</td>\n",
              "    </tr>\n",
              "    <tr>\n",
              "      <th>3</th>\n",
              "      <td>1005/ВО2021</td>\n",
              "      <td>0</td>\n",
              "      <td>0</td>\n",
              "      <td>1</td>\n",
              "      <td>1</td>\n",
              "      <td>1</td>\n",
              "      <td>2021-02-05</td>\n",
              "      <td>I20.0</td>\n",
              "      <td>Нет данных</td>\n",
              "      <td>Нет данных</td>\n",
              "      <td>-5.030797e+18</td>\n",
              "      <td>6.852238e+18</td>\n",
              "      <td>9290/A08</td>\n",
              "      <td>Мужской</td>\n",
              "      <td>1961-05-01</td>\n",
              "      <td>None</td>\n",
              "      <td>None</td>\n",
              "      <td>None</td>\n",
              "    </tr>\n",
              "    <tr>\n",
              "      <th>4</th>\n",
              "      <td>10090/С2019</td>\n",
              "      <td>0</td>\n",
              "      <td>1</td>\n",
              "      <td>0</td>\n",
              "      <td>4</td>\n",
              "      <td>3+</td>\n",
              "      <td>2019-04-15</td>\n",
              "      <td>I21.4</td>\n",
              "      <td>Выписан</td>\n",
              "      <td>улучшение</td>\n",
              "      <td>4.311283e+18</td>\n",
              "      <td>8.200074e+18</td>\n",
              "      <td>29335/A19</td>\n",
              "      <td>Женский</td>\n",
              "      <td>1961-12-10</td>\n",
              "      <td>None</td>\n",
              "      <td>None</td>\n",
              "      <td>None</td>\n",
              "    </tr>\n",
              "    <tr>\n",
              "      <th>...</th>\n",
              "      <td>...</td>\n",
              "      <td>...</td>\n",
              "      <td>...</td>\n",
              "      <td>...</td>\n",
              "      <td>...</td>\n",
              "      <td>...</td>\n",
              "      <td>...</td>\n",
              "      <td>...</td>\n",
              "      <td>...</td>\n",
              "      <td>...</td>\n",
              "      <td>...</td>\n",
              "      <td>...</td>\n",
              "      <td>...</td>\n",
              "      <td>...</td>\n",
              "      <td>...</td>\n",
              "      <td>...</td>\n",
              "      <td>...</td>\n",
              "      <td>...</td>\n",
              "    </tr>\n",
              "    <tr>\n",
              "      <th>3664</th>\n",
              "      <td>9945/С2020</td>\n",
              "      <td>1</td>\n",
              "      <td>0</td>\n",
              "      <td>0</td>\n",
              "      <td>1</td>\n",
              "      <td>1</td>\n",
              "      <td>2020-04-30</td>\n",
              "      <td>I20.0</td>\n",
              "      <td>Выписан</td>\n",
              "      <td>улучшение</td>\n",
              "      <td>-2.525937e+18</td>\n",
              "      <td>-4.371885e+18</td>\n",
              "      <td>27442/A20</td>\n",
              "      <td>Мужской</td>\n",
              "      <td>1956-09-15</td>\n",
              "      <td>None</td>\n",
              "      <td>None</td>\n",
              "      <td>None</td>\n",
              "    </tr>\n",
              "    <tr>\n",
              "      <th>3665</th>\n",
              "      <td>9948/С2018</td>\n",
              "      <td>0</td>\n",
              "      <td>0</td>\n",
              "      <td>0</td>\n",
              "      <td>1</td>\n",
              "      <td>1</td>\n",
              "      <td>None</td>\n",
              "      <td>None</td>\n",
              "      <td>None</td>\n",
              "      <td>None</td>\n",
              "      <td>NaN</td>\n",
              "      <td>NaN</td>\n",
              "      <td>None</td>\n",
              "      <td>None</td>\n",
              "      <td>None</td>\n",
              "      <td>None</td>\n",
              "      <td>КОРОНАРОГРАФИЯ РЕЗУЛЬТАТ.</td>\n",
              "      <td>2017-10-10 17:17:38</td>\n",
              "    </tr>\n",
              "    <tr>\n",
              "      <th>3666</th>\n",
              "      <td>9948/С2020</td>\n",
              "      <td>0</td>\n",
              "      <td>0</td>\n",
              "      <td>0</td>\n",
              "      <td>2</td>\n",
              "      <td>2</td>\n",
              "      <td>2020-04-30</td>\n",
              "      <td>I21.4</td>\n",
              "      <td>Выписан</td>\n",
              "      <td>улучшение</td>\n",
              "      <td>-5.245474e+18</td>\n",
              "      <td>6.972501e+18</td>\n",
              "      <td>27463/A20</td>\n",
              "      <td>Мужской</td>\n",
              "      <td>1955-12-01</td>\n",
              "      <td>None</td>\n",
              "      <td>None</td>\n",
              "      <td>None</td>\n",
              "    </tr>\n",
              "    <tr>\n",
              "      <th>3667</th>\n",
              "      <td>996/С2021</td>\n",
              "      <td>0</td>\n",
              "      <td>0</td>\n",
              "      <td>1</td>\n",
              "      <td>4</td>\n",
              "      <td>3+</td>\n",
              "      <td>2021-01-17</td>\n",
              "      <td>I21.4</td>\n",
              "      <td>Выписан</td>\n",
              "      <td>улучшение</td>\n",
              "      <td>-4.361958e+18</td>\n",
              "      <td>8.301095e+18</td>\n",
              "      <td>2736/A21</td>\n",
              "      <td>Женский</td>\n",
              "      <td>1929-08-29</td>\n",
              "      <td>None</td>\n",
              "      <td>None</td>\n",
              "      <td>None</td>\n",
              "    </tr>\n",
              "    <tr>\n",
              "      <th>3668</th>\n",
              "      <td>9986/С2021</td>\n",
              "      <td>0</td>\n",
              "      <td>0</td>\n",
              "      <td>0</td>\n",
              "      <td>1</td>\n",
              "      <td>1</td>\n",
              "      <td>2021-04-12</td>\n",
              "      <td>I20.0</td>\n",
              "      <td>Выписан</td>\n",
              "      <td>улучшение</td>\n",
              "      <td>-2.694055e+18</td>\n",
              "      <td>-1.724462e+18</td>\n",
              "      <td>31695/A21</td>\n",
              "      <td>Женский</td>\n",
              "      <td>1957-09-24</td>\n",
              "      <td>None</td>\n",
              "      <td>None</td>\n",
              "      <td>None</td>\n",
              "    </tr>\n",
              "  </tbody>\n",
              "</table>\n",
              "<p>3669 rows × 18 columns</p>\n",
              "</div>\n",
              "    <div class=\"colab-df-buttons\">\n",
              "\n",
              "  <div class=\"colab-df-container\">\n",
              "    <button class=\"colab-df-convert\" onclick=\"convertToInteractive('df-bb475d40-e025-41f5-bba1-7fed067471e2')\"\n",
              "            title=\"Convert this dataframe to an interactive table.\"\n",
              "            style=\"display:none;\">\n",
              "\n",
              "  <svg xmlns=\"http://www.w3.org/2000/svg\" height=\"24px\" viewBox=\"0 -960 960 960\">\n",
              "    <path d=\"M120-120v-720h720v720H120Zm60-500h600v-160H180v160Zm220 220h160v-160H400v160Zm0 220h160v-160H400v160ZM180-400h160v-160H180v160Zm440 0h160v-160H620v160ZM180-180h160v-160H180v160Zm440 0h160v-160H620v160Z\"/>\n",
              "  </svg>\n",
              "    </button>\n",
              "\n",
              "  <style>\n",
              "    .colab-df-container {\n",
              "      display:flex;\n",
              "      gap: 12px;\n",
              "    }\n",
              "\n",
              "    .colab-df-convert {\n",
              "      background-color: #E8F0FE;\n",
              "      border: none;\n",
              "      border-radius: 50%;\n",
              "      cursor: pointer;\n",
              "      display: none;\n",
              "      fill: #1967D2;\n",
              "      height: 32px;\n",
              "      padding: 0 0 0 0;\n",
              "      width: 32px;\n",
              "    }\n",
              "\n",
              "    .colab-df-convert:hover {\n",
              "      background-color: #E2EBFA;\n",
              "      box-shadow: 0px 1px 2px rgba(60, 64, 67, 0.3), 0px 1px 3px 1px rgba(60, 64, 67, 0.15);\n",
              "      fill: #174EA6;\n",
              "    }\n",
              "\n",
              "    .colab-df-buttons div {\n",
              "      margin-bottom: 4px;\n",
              "    }\n",
              "\n",
              "    [theme=dark] .colab-df-convert {\n",
              "      background-color: #3B4455;\n",
              "      fill: #D2E3FC;\n",
              "    }\n",
              "\n",
              "    [theme=dark] .colab-df-convert:hover {\n",
              "      background-color: #434B5C;\n",
              "      box-shadow: 0px 1px 3px 1px rgba(0, 0, 0, 0.15);\n",
              "      filter: drop-shadow(0px 1px 2px rgba(0, 0, 0, 0.3));\n",
              "      fill: #FFFFFF;\n",
              "    }\n",
              "  </style>\n",
              "\n",
              "    <script>\n",
              "      const buttonEl =\n",
              "        document.querySelector('#df-bb475d40-e025-41f5-bba1-7fed067471e2 button.colab-df-convert');\n",
              "      buttonEl.style.display =\n",
              "        google.colab.kernel.accessAllowed ? 'block' : 'none';\n",
              "\n",
              "      async function convertToInteractive(key) {\n",
              "        const element = document.querySelector('#df-bb475d40-e025-41f5-bba1-7fed067471e2');\n",
              "        const dataTable =\n",
              "          await google.colab.kernel.invokeFunction('convertToInteractive',\n",
              "                                                    [key], {});\n",
              "        if (!dataTable) return;\n",
              "\n",
              "        const docLinkHtml = 'Like what you see? Visit the ' +\n",
              "          '<a target=\"_blank\" href=https://colab.research.google.com/notebooks/data_table.ipynb>data table notebook</a>'\n",
              "          + ' to learn more about interactive tables.';\n",
              "        element.innerHTML = '';\n",
              "        dataTable['output_type'] = 'display_data';\n",
              "        await google.colab.output.renderOutput(dataTable, element);\n",
              "        const docLink = document.createElement('div');\n",
              "        docLink.innerHTML = docLinkHtml;\n",
              "        element.appendChild(docLink);\n",
              "      }\n",
              "    </script>\n",
              "  </div>\n",
              "\n",
              "\n",
              "<div id=\"df-68a2e789-8e63-47be-a1dd-3f494f57a2a2\">\n",
              "  <button class=\"colab-df-quickchart\" onclick=\"quickchart('df-68a2e789-8e63-47be-a1dd-3f494f57a2a2')\"\n",
              "            title=\"Suggest charts\"\n",
              "            style=\"display:none;\">\n",
              "\n",
              "<svg xmlns=\"http://www.w3.org/2000/svg\" height=\"24px\"viewBox=\"0 0 24 24\"\n",
              "     width=\"24px\">\n",
              "    <g>\n",
              "        <path d=\"M19 3H5c-1.1 0-2 .9-2 2v14c0 1.1.9 2 2 2h14c1.1 0 2-.9 2-2V5c0-1.1-.9-2-2-2zM9 17H7v-7h2v7zm4 0h-2V7h2v10zm4 0h-2v-4h2v4z\"/>\n",
              "    </g>\n",
              "</svg>\n",
              "  </button>\n",
              "\n",
              "<style>\n",
              "  .colab-df-quickchart {\n",
              "      --bg-color: #E8F0FE;\n",
              "      --fill-color: #1967D2;\n",
              "      --hover-bg-color: #E2EBFA;\n",
              "      --hover-fill-color: #174EA6;\n",
              "      --disabled-fill-color: #AAA;\n",
              "      --disabled-bg-color: #DDD;\n",
              "  }\n",
              "\n",
              "  [theme=dark] .colab-df-quickchart {\n",
              "      --bg-color: #3B4455;\n",
              "      --fill-color: #D2E3FC;\n",
              "      --hover-bg-color: #434B5C;\n",
              "      --hover-fill-color: #FFFFFF;\n",
              "      --disabled-bg-color: #3B4455;\n",
              "      --disabled-fill-color: #666;\n",
              "  }\n",
              "\n",
              "  .colab-df-quickchart {\n",
              "    background-color: var(--bg-color);\n",
              "    border: none;\n",
              "    border-radius: 50%;\n",
              "    cursor: pointer;\n",
              "    display: none;\n",
              "    fill: var(--fill-color);\n",
              "    height: 32px;\n",
              "    padding: 0;\n",
              "    width: 32px;\n",
              "  }\n",
              "\n",
              "  .colab-df-quickchart:hover {\n",
              "    background-color: var(--hover-bg-color);\n",
              "    box-shadow: 0 1px 2px rgba(60, 64, 67, 0.3), 0 1px 3px 1px rgba(60, 64, 67, 0.15);\n",
              "    fill: var(--button-hover-fill-color);\n",
              "  }\n",
              "\n",
              "  .colab-df-quickchart-complete:disabled,\n",
              "  .colab-df-quickchart-complete:disabled:hover {\n",
              "    background-color: var(--disabled-bg-color);\n",
              "    fill: var(--disabled-fill-color);\n",
              "    box-shadow: none;\n",
              "  }\n",
              "\n",
              "  .colab-df-spinner {\n",
              "    border: 2px solid var(--fill-color);\n",
              "    border-color: transparent;\n",
              "    border-bottom-color: var(--fill-color);\n",
              "    animation:\n",
              "      spin 1s steps(1) infinite;\n",
              "  }\n",
              "\n",
              "  @keyframes spin {\n",
              "    0% {\n",
              "      border-color: transparent;\n",
              "      border-bottom-color: var(--fill-color);\n",
              "      border-left-color: var(--fill-color);\n",
              "    }\n",
              "    20% {\n",
              "      border-color: transparent;\n",
              "      border-left-color: var(--fill-color);\n",
              "      border-top-color: var(--fill-color);\n",
              "    }\n",
              "    30% {\n",
              "      border-color: transparent;\n",
              "      border-left-color: var(--fill-color);\n",
              "      border-top-color: var(--fill-color);\n",
              "      border-right-color: var(--fill-color);\n",
              "    }\n",
              "    40% {\n",
              "      border-color: transparent;\n",
              "      border-right-color: var(--fill-color);\n",
              "      border-top-color: var(--fill-color);\n",
              "    }\n",
              "    60% {\n",
              "      border-color: transparent;\n",
              "      border-right-color: var(--fill-color);\n",
              "    }\n",
              "    80% {\n",
              "      border-color: transparent;\n",
              "      border-right-color: var(--fill-color);\n",
              "      border-bottom-color: var(--fill-color);\n",
              "    }\n",
              "    90% {\n",
              "      border-color: transparent;\n",
              "      border-bottom-color: var(--fill-color);\n",
              "    }\n",
              "  }\n",
              "</style>\n",
              "\n",
              "  <script>\n",
              "    async function quickchart(key) {\n",
              "      const quickchartButtonEl =\n",
              "        document.querySelector('#' + key + ' button');\n",
              "      quickchartButtonEl.disabled = true;  // To prevent multiple clicks.\n",
              "      quickchartButtonEl.classList.add('colab-df-spinner');\n",
              "      try {\n",
              "        const charts = await google.colab.kernel.invokeFunction(\n",
              "            'suggestCharts', [key], {});\n",
              "      } catch (error) {\n",
              "        console.error('Error during call to suggestCharts:', error);\n",
              "      }\n",
              "      quickchartButtonEl.classList.remove('colab-df-spinner');\n",
              "      quickchartButtonEl.classList.add('colab-df-quickchart-complete');\n",
              "    }\n",
              "    (() => {\n",
              "      let quickchartButtonEl =\n",
              "        document.querySelector('#df-68a2e789-8e63-47be-a1dd-3f494f57a2a2 button');\n",
              "      quickchartButtonEl.style.display =\n",
              "        google.colab.kernel.accessAllowed ? 'block' : 'none';\n",
              "    })();\n",
              "  </script>\n",
              "</div>\n",
              "    </div>\n",
              "  </div>\n"
            ],
            "application/vnd.google.colaboratory.intrinsic+json": {
              "type": "dataframe",
              "variable_name": "df",
              "summary": "{\n  \"name\": \"df\",\n  \"rows\": 3669,\n  \"fields\": [\n    {\n      \"column\": \"\\u041d\\u043e\\u043c\\u0435\\u0440_\\u044d\\u043f\\u0438\\u0437\\u043e\\u0434\\u0430\",\n      \"properties\": {\n        \"dtype\": \"string\",\n        \"num_unique_values\": 3669,\n        \"samples\": [\n          \"12452/\\u04212019\",\n          \"4769/\\u04212015\",\n          \"644/\\u0412\\u041e2021\"\n        ],\n        \"semantic_type\": \"\",\n        \"description\": \"\"\n      }\n    },\n    {\n      \"column\": \"\\u0421\\u0442\\u0432\\u043e\\u043b \\u0441\\u0442\\u0435\\u043d\\u043e\\u0437\",\n      \"properties\": {\n        \"dtype\": \"number\",\n        \"std\": 0,\n        \"min\": 0,\n        \"max\": 1,\n        \"num_unique_values\": 2,\n        \"samples\": [\n          1,\n          0\n        ],\n        \"semantic_type\": \"\",\n        \"description\": \"\"\n      }\n    },\n    {\n      \"column\": \"\\u041e\\u043a\\u043a\\u043b\\u044e\\u0437\\u0438\\u044f\",\n      \"properties\": {\n        \"dtype\": \"number\",\n        \"std\": 0,\n        \"min\": 0,\n        \"max\": 1,\n        \"num_unique_values\": 2,\n        \"samples\": [\n          1,\n          0\n        ],\n        \"semantic_type\": \"\",\n        \"description\": \"\"\n      }\n    },\n    {\n      \"column\": \"\\u0411\\u0438\\u0444\\u0443\\u0440\\u043a\\u0430\\u0446\\u0438\\u044f\",\n      \"properties\": {\n        \"dtype\": \"number\",\n        \"std\": 0,\n        \"min\": 0,\n        \"max\": 1,\n        \"num_unique_values\": 2,\n        \"samples\": [\n          1,\n          0\n        ],\n        \"semantic_type\": \"\",\n        \"description\": \"\"\n      }\n    },\n    {\n      \"column\": \"\\u041a\\u043e\\u043b\\u0438\\u0447\\u0435\\u0441\\u0442\\u0432\\u043e \\u0441\\u0442\\u0435\\u043d\\u043e\\u0437\\u043e\\u0432\",\n      \"properties\": {\n        \"dtype\": \"number\",\n        \"std\": 1,\n        \"min\": 0,\n        \"max\": 13,\n        \"num_unique_values\": 13,\n        \"samples\": [\n          10,\n          9\n        ],\n        \"semantic_type\": \"\",\n        \"description\": \"\"\n      }\n    },\n    {\n      \"column\": \"\\u0413\\u0440\\u0443\\u043f\\u043f\\u0430 \\u0441\\u0442\\u0435\\u043d\\u043e\\u0437\\u043e\\u0432\",\n      \"properties\": {\n        \"dtype\": \"category\",\n        \"num_unique_values\": 4,\n        \"samples\": [\n          \"2\",\n          \"0\"\n        ],\n        \"semantic_type\": \"\",\n        \"description\": \"\"\n      }\n    },\n    {\n      \"column\": \"\\u0414\\u0430\\u0442\\u0430_\\u043f\\u043e\\u0441\\u0442\\u0443\\u043f\\u043b\\u0435\\u043d\\u0438\\u044f\",\n      \"properties\": {\n        \"dtype\": \"object\",\n        \"num_unique_values\": 888,\n        \"samples\": [\n          \"2021-06-28\",\n          \"2021-08-12\"\n        ],\n        \"semantic_type\": \"\",\n        \"description\": \"\"\n      }\n    },\n    {\n      \"column\": \"\\u041a\\u043b\\u0438\\u043d\\u0438\\u0447\\u0435\\u0441\\u043a\\u0438\\u0439_\\u0434\\u0438\\u0430\\u0433\\u043d\\u043e\\u0437_\\u0440\\u0443\\u0431\\u0440\\u0438\\u043a\\u0430\",\n      \"properties\": {\n        \"dtype\": \"category\",\n        \"num_unique_values\": 9,\n        \"samples\": [\n          \"I22\",\n          \"I21.4\"\n        ],\n        \"semantic_type\": \"\",\n        \"description\": \"\"\n      }\n    },\n    {\n      \"column\": \"\\u0418\\u0441\\u0445\\u043e\\u0434_\\u044d\\u043f\\u0438\\u0437\\u043e\\u0434\\u0430\",\n      \"properties\": {\n        \"dtype\": \"category\",\n        \"num_unique_values\": 12,\n        \"samples\": [\n          \"\\u041d\\u0430\\u043f\\u0440\\u0430\\u0432\\u043b\\u0435\\u043d \\u043d\\u0430 \\u0441\\u0442\\u0430\\u0446. \\u043b\\u0435\\u0447\\u0435\\u043d\\u0438\\u0435\",\n          \"\\u0414\\u0438\\u043d\\u0430\\u043c\\u0438\\u0447\\u0435\\u0441\\u043a\\u043e\\u0435 \\u043d\\u0430\\u0431\\u043b\\u044e\\u0434\\u0435\\u043d\\u0438\\u0435\"\n        ],\n        \"semantic_type\": \"\",\n        \"description\": \"\"\n      }\n    },\n    {\n      \"column\": \"\\u0420\\u0435\\u0437\\u0443\\u043b\\u044c\\u0442\\u0430\\u0442_\\u043b\\u0435\\u0447\\u0435\\u043d\\u0438\\u044f\",\n      \"properties\": {\n        \"dtype\": \"category\",\n        \"num_unique_values\": 6,\n        \"samples\": [\n          \"\\u041d\\u0435\\u0442 \\u0434\\u0430\\u043d\\u043d\\u044b\\u0445\",\n          \"\\u0443\\u043b\\u0443\\u0447\\u0448\\u0435\\u043d\\u0438\\u0435\"\n        ],\n        \"semantic_type\": \"\",\n        \"description\": \"\"\n      }\n    },\n    {\n      \"column\": \"\\u042d\\u043f\\u0438\\u0437\\u043e\\u0434_\\u0445\\u044d\\u0448\",\n      \"properties\": {\n        \"dtype\": \"number\",\n        \"std\": 5.35826619860511e+18,\n        \"min\": -9.219933152073632e+18,\n        \"max\": 9.222636428904693e+18,\n        \"num_unique_values\": 3555,\n        \"samples\": [\n          6.662924305924284e+18,\n          6.272291733350008e+18\n        ],\n        \"semantic_type\": \"\",\n        \"description\": \"\"\n      }\n    },\n    {\n      \"column\": \"\\u041f\\u0430\\u0446\\u0438\\u0435\\u043d\\u0442_\\u0445\\u044d\\u0448\",\n      \"properties\": {\n        \"dtype\": \"number\",\n        \"std\": 5.289234147458482e+18,\n        \"min\": -9.218699940323361e+18,\n        \"max\": 9.215760530225697e+18,\n        \"num_unique_values\": 2587,\n        \"samples\": [\n          -8.960588048875342e+18,\n          -5.361357590738128e+18\n        ],\n        \"semantic_type\": \"\",\n        \"description\": \"\"\n      }\n    },\n    {\n      \"column\": \"\\u0420\\u0435\\u0433\\u0438\\u0441\\u0442\\u0440\\u0430\\u0446\\u0438\\u043e\\u043d\\u043d\\u044b\\u0439_\\u043d\\u043e\\u043c\\u0435\\u0440\",\n      \"properties\": {\n        \"dtype\": \"string\",\n        \"num_unique_values\": 2587,\n        \"samples\": [\n          \"32077/A18\",\n          \"23167/A13\"\n        ],\n        \"semantic_type\": \"\",\n        \"description\": \"\"\n      }\n    },\n    {\n      \"column\": \"\\u041f\\u043e\\u043b\",\n      \"properties\": {\n        \"dtype\": \"category\",\n        \"num_unique_values\": 3,\n        \"samples\": [\n          \"\\u041c\\u0443\\u0436\\u0441\\u043a\\u043e\\u0439\",\n          \"\\u0416\\u0435\\u043d\\u0441\\u043a\\u0438\\u0439\"\n        ],\n        \"semantic_type\": \"\",\n        \"description\": \"\"\n      }\n    },\n    {\n      \"column\": \"\\u0414\\u0430\\u0442\\u0430_\\u0440\\u043e\\u0436\\u0434\\u0435\\u043d\\u0438\\u044f\",\n      \"properties\": {\n        \"dtype\": \"object\",\n        \"num_unique_values\": 2332,\n        \"samples\": [\n          \"1958-05-01\",\n          \"1961-08-29\"\n        ],\n        \"semantic_type\": \"\",\n        \"description\": \"\"\n      }\n    },\n    {\n      \"column\": \"\\u0414\\u0430\\u0442\\u0430_\\u0441\\u043c\\u0435\\u0440\\u0442\\u0438\",\n      \"properties\": {\n        \"dtype\": \"date\",\n        \"min\": \"2019-01-06 00:00:00\",\n        \"max\": \"2023-10-06 00:00:00\",\n        \"num_unique_values\": 96,\n        \"samples\": [\n          \"2022-07-17\",\n          \"2020-12-22\"\n        ],\n        \"semantic_type\": \"\",\n        \"description\": \"\"\n      }\n    },\n    {\n      \"column\": \"\\u0421\\u0442\\u0430\\u0442\\u0443\\u0441\",\n      \"properties\": {\n        \"dtype\": \"category\",\n        \"num_unique_values\": 2,\n        \"samples\": [\n          \"\\u041a\\u041e\\u0420\\u041e\\u041d\\u0410\\u0420\\u041e\\u0413\\u0420\\u0410\\u0424\\u0418\\u042f \\u0420\\u0415\\u0417\\u0423\\u041b\\u042c\\u0422\\u0410\\u0422\",\n          \"\\u041a\\u041e\\u0420\\u041e\\u041d\\u0410\\u0420\\u041e\\u0413\\u0420\\u0410\\u0424\\u0418\\u042f \\u0420\\u0415\\u0417\\u0423\\u041b\\u042c\\u0422\\u0410\\u0422.\"\n        ],\n        \"semantic_type\": \"\",\n        \"description\": \"\"\n      }\n    },\n    {\n      \"column\": \"\\u041a\\u043e\\u0440\\u0440\\u0435\\u043a\\u0446\\u0438\\u044f_\\u0434\\u0430\\u0442\\u0430_\\u0432\\u0440\\u0435\\u043c\\u044f\",\n      \"properties\": {\n        \"dtype\": \"date\",\n        \"min\": \"2014-01-27 19:11:15\",\n        \"max\": \"2024-04-30 19:03:54\",\n        \"num_unique_values\": 128,\n        \"samples\": [\n          \"2016-10-02 02:57:51\",\n          \"2019-08-08 17:26:19\"\n        ],\n        \"semantic_type\": \"\",\n        \"description\": \"\"\n      }\n    }\n  ]\n}"
            }
          },
          "metadata": {},
          "execution_count": 279
        }
      ]
    },
    {
      "cell_type": "code",
      "source": [
        "# Сохранение DataFrame в CSV-файл\n",
        "df.to_csv('коронарография (новая).csv', index=False, encoding='Windows-1251', sep=';')\n",
        "\n",
        "# Скачивание файла\n",
        "from google.colab import files\n",
        "files.download('коронарография (новая).csv')"
      ],
      "metadata": {
        "colab": {
          "base_uri": "https://localhost:8080/",
          "height": 17
        },
        "id": "quofUGw5S7rH",
        "outputId": "f0126459-edc4-4f1a-f9a7-fcee625d5681"
      },
      "execution_count": null,
      "outputs": [
        {
          "output_type": "display_data",
          "data": {
            "text/plain": [
              "<IPython.core.display.Javascript object>"
            ],
            "application/javascript": [
              "\n",
              "    async function download(id, filename, size) {\n",
              "      if (!google.colab.kernel.accessAllowed) {\n",
              "        return;\n",
              "      }\n",
              "      const div = document.createElement('div');\n",
              "      const label = document.createElement('label');\n",
              "      label.textContent = `Downloading \"${filename}\": `;\n",
              "      div.appendChild(label);\n",
              "      const progress = document.createElement('progress');\n",
              "      progress.max = size;\n",
              "      div.appendChild(progress);\n",
              "      document.body.appendChild(div);\n",
              "\n",
              "      const buffers = [];\n",
              "      let downloaded = 0;\n",
              "\n",
              "      const channel = await google.colab.kernel.comms.open(id);\n",
              "      // Send a message to notify the kernel that we're ready.\n",
              "      channel.send({})\n",
              "\n",
              "      for await (const message of channel.messages) {\n",
              "        // Send a message to notify the kernel that we're ready.\n",
              "        channel.send({})\n",
              "        if (message.buffers) {\n",
              "          for (const buffer of message.buffers) {\n",
              "            buffers.push(buffer);\n",
              "            downloaded += buffer.byteLength;\n",
              "            progress.value = downloaded;\n",
              "          }\n",
              "        }\n",
              "      }\n",
              "      const blob = new Blob(buffers, {type: 'application/binary'});\n",
              "      const a = document.createElement('a');\n",
              "      a.href = window.URL.createObjectURL(blob);\n",
              "      a.download = filename;\n",
              "      div.appendChild(a);\n",
              "      a.click();\n",
              "      div.remove();\n",
              "    }\n",
              "  "
            ]
          },
          "metadata": {}
        },
        {
          "output_type": "display_data",
          "data": {
            "text/plain": [
              "<IPython.core.display.Javascript object>"
            ],
            "application/javascript": [
              "download(\"download_b1fc7077-e8ec-409e-bc26-92536a31460a\", \"\\u043a\\u043e\\u0440\\u043e\\u043d\\u0430\\u0440\\u043e\\u0433\\u0440\\u0430\\u0444\\u0438\\u044f (\\u043d\\u043e\\u0432\\u0430\\u044f).csv\", 495795)"
            ]
          },
          "metadata": {}
        }
      ]
    },
    {
      "cell_type": "markdown",
      "source": [
        "### Подготовка ЭХО"
      ],
      "metadata": {
        "id": "lMnn7eKbXTHZ"
      }
    },
    {
      "cell_type": "code",
      "source": [
        "import pandas as pd\n",
        "\n",
        "df = pd.read_csv(path/'результат/эхо2 21.11.2023.zip', compression='zip', encoding=\"Windows-1251\")"
      ],
      "metadata": {
        "id": "HTIGxXuJTNeT"
      },
      "execution_count": null,
      "outputs": []
    },
    {
      "cell_type": "code",
      "source": [
        "df.columns"
      ],
      "metadata": {
        "colab": {
          "base_uri": "https://localhost:8080/"
        },
        "id": "qR9zdwCbXdlW",
        "outputId": "67acf23e-a943-4bff-e9c6-435431882622"
      },
      "execution_count": null,
      "outputs": [
        {
          "output_type": "execute_result",
          "data": {
            "text/plain": [
              "Index(['Номер_эпизода', 'Дата_поступления', 'Коррекция_дата_время',\n",
              "       'Клинический_диагноз_рубрика', 'Исход_эпизода', 'Результат_лечения',\n",
              "       'Эпизод_хэш', 'Пациент_хэш', 'Регистрационный_номер', 'Пол',\n",
              "       'Дата_рождения', 'Дата_смерти', 'Данные'],\n",
              "      dtype='object')"
            ]
          },
          "metadata": {},
          "execution_count": 132
        }
      ]
    },
    {
      "cell_type": "code",
      "source": [
        "df.shape"
      ],
      "metadata": {
        "colab": {
          "base_uri": "https://localhost:8080/"
        },
        "id": "WvTPQOq-XgC4",
        "outputId": "e8f26f87-ef4e-4ccd-f3b0-2c5d811fabd3"
      },
      "execution_count": null,
      "outputs": [
        {
          "output_type": "execute_result",
          "data": {
            "text/plain": [
              "(143555, 13)"
            ]
          },
          "metadata": {},
          "execution_count": 133
        }
      ]
    },
    {
      "cell_type": "code",
      "source": [
        "df = df.drop_duplicates()"
      ],
      "metadata": {
        "id": "3TIfi3XDXoYN"
      },
      "execution_count": null,
      "outputs": []
    },
    {
      "cell_type": "code",
      "source": [
        "df.shape"
      ],
      "metadata": {
        "colab": {
          "base_uri": "https://localhost:8080/"
        },
        "id": "BPgmlCyLXsfw",
        "outputId": "2c62e7fe-fb26-4ea4-9889-ea703022a0d9"
      },
      "execution_count": null,
      "outputs": [
        {
          "output_type": "execute_result",
          "data": {
            "text/plain": [
              "(138609, 13)"
            ]
          },
          "metadata": {},
          "execution_count": 135
        }
      ]
    },
    {
      "cell_type": "code",
      "source": [
        "import re\n",
        "\n",
        "pattern = r'фв\\s*(лж\\s*)?симпсон\\s*:?\\s*(\\d+\\.?\\d*)'\n",
        "df['Симпсон'] = df['Данные'].apply(lambda x: re.findall(pattern, x, re.IGNORECASE)[0][1] if re.findall(pattern, x, re.IGNORECASE) else None)\n",
        "df['Симпсон'] = pd.to_numeric(df['Симпсон'])"
      ],
      "metadata": {
        "id": "WpJr7vGHZpZm"
      },
      "execution_count": null,
      "outputs": []
    },
    {
      "cell_type": "code",
      "source": [
        "pattern = r'мжп\\s*:?\\s*(\\d+\\.?\\d*)'\n",
        "df['МЖП'] = df['Данные'].apply(lambda x: re.findall(pattern, x, re.IGNORECASE)[0] if re.findall(pattern, x, re.IGNORECASE) else None)\n",
        "df['МЖП'] = pd.to_numeric(df['МЖП'])"
      ],
      "metadata": {
        "id": "LnmM2mS-bVBO"
      },
      "execution_count": null,
      "outputs": []
    },
    {
      "cell_type": "code",
      "source": [
        "pattern = r'зс\\s*лж\\s*:?\\s*(\\d+\\.?\\d*)'\n",
        "df['ЗС ЛЖ'] = df['Данные'].apply(lambda x: re.findall(pattern, x, re.IGNORECASE)[0] if re.findall(pattern, x, re.IGNORECASE) else None)\n",
        "df['ЗС ЛЖ'] = pd.to_numeric(df['ЗС ЛЖ'])"
      ],
      "metadata": {
        "id": "epUHdQmhfANJ"
      },
      "execution_count": null,
      "outputs": []
    },
    {
      "cell_type": "code",
      "source": [
        "pattern = r'кдр\\s*лж\\s*:?\\s*(\\d+\\.?\\d*)'\n",
        "df['КДР ЛЖ'] = df['Данные'].apply(lambda x: re.findall(pattern, x, re.IGNORECASE)[0] if re.findall(pattern, x, re.IGNORECASE) else None)\n",
        "df['КДР ЛЖ'] = pd.to_numeric(df['КДР ЛЖ'])"
      ],
      "metadata": {
        "id": "iWh8ZNQHgl_5"
      },
      "execution_count": null,
      "outputs": []
    },
    {
      "cell_type": "code",
      "source": [
        "pattern = r'имм\\s*лж\\s*(ase\\s*)?:?\\s*(\\d+\\.?\\d*)'\n",
        "df['ИММ ЛЖ'] = df['Данные'].apply(lambda x: re.findall(pattern, x, re.IGNORECASE)[0][1] if re.findall(pattern, x, re.IGNORECASE) else None)\n",
        "df['ИММ ЛЖ'] = pd.to_numeric(df['ИММ ЛЖ'])"
      ],
      "metadata": {
        "id": "ey7LELushYiC"
      },
      "execution_count": null,
      "outputs": []
    },
    {
      "cell_type": "code",
      "source": [
        "pattern = r'отс\\s*лж\\s*:?\\s*(\\d+\\.?\\d*)'\n",
        "df['ОТС ЛЖ'] = df['Данные'].apply(lambda x: re.findall(pattern, x, re.IGNORECASE)[0] if re.findall(pattern, x, re.IGNORECASE) else None)\n",
        "df['ОТС ЛЖ'] = pd.to_numeric(df['ОТС ЛЖ'])"
      ],
      "metadata": {
        "id": "DtbDIqYqis7F"
      },
      "execution_count": null,
      "outputs": []
    },
    {
      "cell_type": "code",
      "source": [
        "pattern = r'кдо\\s*лж\\s*:?\\s*(\\d+\\.?\\d*)'\n",
        "df['КДО ЛЖ'] = df['Данные'].apply(lambda x: re.findall(pattern, x, re.IGNORECASE)[0] if re.findall(pattern, x, re.IGNORECASE) else None)\n",
        "df['КДО ЛЖ'] = pd.to_numeric(df['КДО ЛЖ'])"
      ],
      "metadata": {
        "id": "nOL2ZtlSjiU-"
      },
      "execution_count": null,
      "outputs": []
    },
    {
      "cell_type": "code",
      "source": [
        "pattern = r'кдо\\s*лж\\s*индекс\\s*:?\\s*(\\d+\\.?\\d*)'\n",
        "df['КДО ЛЖ индекс'] = df['Данные'].apply(lambda x: re.findall(pattern, x, re.IGNORECASE)[0] if re.findall(pattern, x, re.IGNORECASE) else None)\n",
        "df['КДО ЛЖ индекс'] = pd.to_numeric(df['КДО ЛЖ индекс'])"
      ],
      "metadata": {
        "id": "6WJWzwjbkNAj"
      },
      "execution_count": null,
      "outputs": []
    },
    {
      "cell_type": "code",
      "source": [
        "df = df.drop(columns=['Данные'])"
      ],
      "metadata": {
        "id": "0mgcCkKMXtvB"
      },
      "execution_count": null,
      "outputs": []
    },
    {
      "cell_type": "code",
      "source": [
        "df.columns"
      ],
      "metadata": {
        "colab": {
          "base_uri": "https://localhost:8080/"
        },
        "id": "YEPOV45HYCbL",
        "outputId": "35fe2df3-667a-429f-e338-7d0ab1cddd76"
      },
      "execution_count": null,
      "outputs": [
        {
          "output_type": "execute_result",
          "data": {
            "text/plain": [
              "Index(['Номер_эпизода', 'Дата_поступления', 'Коррекция_дата_время',\n",
              "       'Клинический_диагноз_рубрика', 'Исход_эпизода', 'Результат_лечения',\n",
              "       'Эпизод_хэш', 'Пациент_хэш', 'Регистрационный_номер', 'Пол',\n",
              "       'Дата_рождения', 'Дата_смерти', 'Симпсон', 'МЖП', 'ЗС ЛЖ', 'КДР ЛЖ',\n",
              "       'ИММ ЛЖ', 'ОТС ЛЖ', 'КДО ЛЖ', 'КДО ЛЖ индекс'],\n",
              "      dtype='object')"
            ]
          },
          "metadata": {},
          "execution_count": 145
        }
      ]
    },
    {
      "cell_type": "code",
      "source": [
        "df.shape"
      ],
      "metadata": {
        "colab": {
          "base_uri": "https://localhost:8080/"
        },
        "id": "bhZYM8IzYCYc",
        "outputId": "a5d7e93d-b5bb-4c20-862a-2cc9883c5b79"
      },
      "execution_count": null,
      "outputs": [
        {
          "output_type": "execute_result",
          "data": {
            "text/plain": [
              "(138609, 20)"
            ]
          },
          "metadata": {},
          "execution_count": 146
        }
      ]
    },
    {
      "cell_type": "code",
      "source": [
        "df = df.drop_duplicates()"
      ],
      "metadata": {
        "id": "RqO8do88YCV7"
      },
      "execution_count": null,
      "outputs": []
    },
    {
      "cell_type": "code",
      "source": [
        "df.shape"
      ],
      "metadata": {
        "colab": {
          "base_uri": "https://localhost:8080/"
        },
        "id": "F3rK3kixYCTi",
        "outputId": "00a8e4a8-09c4-4f89-d5e5-c31d3a356788"
      },
      "execution_count": null,
      "outputs": [
        {
          "output_type": "execute_result",
          "data": {
            "text/plain": [
              "(63737, 20)"
            ]
          },
          "metadata": {},
          "execution_count": 148
        }
      ]
    },
    {
      "cell_type": "code",
      "source": [
        "cols_to_or = ['Симпсон', 'МЖП', 'ЗС ЛЖ', 'КДР ЛЖ', 'ИММ ЛЖ', 'ОТС ЛЖ', 'КДО ЛЖ', 'КДО ЛЖ индекс']\n",
        "\n",
        "cols_to_first = [col for col in df.columns if col not in cols_to_or and col != 'Номер_эпизода']\n",
        "\n",
        "df = (\n",
        "    df.groupby('Номер_эпизода')\n",
        "    .agg({\n",
        "        **{col: 'max' for col in cols_to_or},  # Максимальное значение для указанных столбцов\n",
        "        **{col: 'first' for col in cols_to_first}  # Первое вхождение для остальных столбцов\n",
        "    })\n",
        "    .reset_index()\n",
        ")"
      ],
      "metadata": {
        "id": "5Z-jIlGeYMC_"
      },
      "execution_count": null,
      "outputs": []
    },
    {
      "cell_type": "code",
      "source": [
        "df.shape"
      ],
      "metadata": {
        "colab": {
          "base_uri": "https://localhost:8080/"
        },
        "id": "XtLLDeoZYLq0",
        "outputId": "652e9301-f8f3-4a6a-b9d4-fd875f9a1015"
      },
      "execution_count": null,
      "outputs": [
        {
          "output_type": "execute_result",
          "data": {
            "text/plain": [
              "(3382, 20)"
            ]
          },
          "metadata": {},
          "execution_count": 150
        }
      ]
    },
    {
      "cell_type": "code",
      "source": [
        "import matplotlib.pyplot as plt\n",
        "\n",
        "plt.figure(figsize=(10,6))\n",
        "plt.hist(df['Симпсон'], bins=30, edgecolor='black')\n",
        "plt.xlabel('Симпсон')\n",
        "plt.ylabel('Количество')\n",
        "plt.title('Гистограмма Симпсон')\n",
        "plt.show()"
      ],
      "metadata": {
        "colab": {
          "base_uri": "https://localhost:8080/",
          "height": 564
        },
        "id": "pZirTLmoYu7j",
        "outputId": "5132f24e-bac5-4784-c82b-874481be5a7b"
      },
      "execution_count": null,
      "outputs": [
        {
          "output_type": "display_data",
          "data": {
            "text/plain": [
              "<Figure size 1000x600 with 1 Axes>"
            ],
            "image/png": "[encoded data removed]"
          },
          "metadata": {}
        }
      ]
    },
    {
      "cell_type": "code",
      "source": [
        "df['МЖП'].value_counts()"
      ],
      "metadata": {
        "colab": {
          "base_uri": "https://localhost:8080/"
        },
        "id": "VBi_oh70Y71n",
        "outputId": "8f07a017-cf24-4dae-fcc7-95e9d090cdc5"
      },
      "execution_count": null,
      "outputs": [
        {
          "output_type": "execute_result",
          "data": {
            "text/plain": [
              "12.0      690\n",
              "13.0      550\n",
              "11.0      496\n",
              "14.0      356\n",
              "10.0      335\n",
              "15.0      204\n",
              "9.0       185\n",
              "16.0      107\n",
              "8.0        75\n",
              "17.0       49\n",
              "18.0       37\n",
              "7.0        28\n",
              "19.0       24\n",
              "21.0        7\n",
              "6.0         6\n",
              "20.0        5\n",
              "22.0        3\n",
              "24.0        2\n",
              "1816.0      2\n",
              "10.8        2\n",
              "27.0        1\n",
              "13.8        1\n",
              "33.0        1\n",
              "12.4        1\n",
              "38.0        1\n",
              "10.2        1\n",
              "Name: МЖП, dtype: int64"
            ]
          },
          "metadata": {},
          "execution_count": 152
        }
      ]
    },
    {
      "cell_type": "code",
      "source": [
        "# Удаляем выбросы\n",
        "df = df[df['МЖП'] < 100]"
      ],
      "metadata": {
        "id": "FNmY2RSoaZZK"
      },
      "execution_count": null,
      "outputs": []
    },
    {
      "cell_type": "code",
      "source": [
        "plt.figure(figsize=(10,6))\n",
        "plt.hist(df['МЖП'], bins=30, edgecolor='black')\n",
        "plt.xlabel('МЖП')\n",
        "plt.ylabel('Количество')\n",
        "plt.title('Гистограмма МЖП')\n",
        "plt.show()"
      ],
      "metadata": {
        "colab": {
          "base_uri": "https://localhost:8080/",
          "height": 564
        },
        "id": "-P_XnaeAaZWa",
        "outputId": "163c0099-f57f-43d2-997b-07ff9bab865e"
      },
      "execution_count": null,
      "outputs": [
        {
          "output_type": "display_data",
          "data": {
            "text/plain": [
              "<Figure size 1000x600 with 1 Axes>"
            ],
            "image/png": "[encoded data removed]"
          },
          "metadata": {}
        }
      ]
    },
    {
      "cell_type": "code",
      "source": [
        "plt.figure(figsize=(10,6))\n",
        "plt.hist(df['ЗС ЛЖ'], bins=30, edgecolor='black')\n",
        "plt.xlabel('ЗС ЛЖ')\n",
        "plt.ylabel('Количество')\n",
        "plt.title('Гистограмма ЗС ЛЖ')\n",
        "plt.show()"
      ],
      "metadata": {
        "colab": {
          "base_uri": "https://localhost:8080/",
          "height": 564
        },
        "id": "vyQxd_IybeuX",
        "outputId": "9aea1328-985f-46e1-ff8c-f0cea073affd"
      },
      "execution_count": null,
      "outputs": [
        {
          "output_type": "display_data",
          "data": {
            "text/plain": [
              "<Figure size 1000x600 with 1 Axes>"
            ],
            "image/png": "[encoded data removed]"
          },
          "metadata": {}
        }
      ]
    },
    {
      "cell_type": "code",
      "source": [
        "plt.figure(figsize=(10,6))\n",
        "plt.hist(df['КДР ЛЖ'], bins=30, edgecolor='black')\n",
        "plt.xlabel('КДР ЛЖ')\n",
        "plt.ylabel('Количество')\n",
        "plt.title('Гистограмма КДР ЛЖ')\n",
        "plt.show()"
      ],
      "metadata": {
        "colab": {
          "base_uri": "https://localhost:8080/",
          "height": 564
        },
        "id": "SONPR_RTbq2B",
        "outputId": "d89138fd-2bd7-4d52-c486-eddeff94e7dc"
      },
      "execution_count": null,
      "outputs": [
        {
          "output_type": "display_data",
          "data": {
            "text/plain": [
              "<Figure size 1000x600 with 1 Axes>"
            ],
            "image/png": "[encoded data removed]"
          },
          "metadata": {}
        }
      ]
    },
    {
      "cell_type": "code",
      "source": [
        "plt.figure(figsize=(10,6))\n",
        "plt.hist(df['ИММ ЛЖ'], bins=30, edgecolor='black')\n",
        "plt.xlabel('ИММ ЛЖ')\n",
        "plt.ylabel('Количество')\n",
        "plt.title('Гистограмма ИММ ЛЖ')\n",
        "plt.show()"
      ],
      "metadata": {
        "colab": {
          "base_uri": "https://localhost:8080/",
          "height": 564
        },
        "id": "NZ-1j-1Rbzjl",
        "outputId": "44bb187d-336e-4767-e5d6-acdd712da1da"
      },
      "execution_count": null,
      "outputs": [
        {
          "output_type": "display_data",
          "data": {
            "text/plain": [
              "<Figure size 1000x600 with 1 Axes>"
            ],
            "image/png": "[encoded data removed]"
          },
          "metadata": {}
        }
      ]
    },
    {
      "cell_type": "code",
      "source": [
        "plt.figure(figsize=(10,6))\n",
        "plt.hist(df['ОТС ЛЖ'], bins=30, edgecolor='black')\n",
        "plt.xlabel('ОТС ЛЖ')\n",
        "plt.ylabel('Количество')\n",
        "plt.title('Гистограмма ОТС ЛЖ')\n",
        "plt.show()"
      ],
      "metadata": {
        "colab": {
          "base_uri": "https://localhost:8080/",
          "height": 564
        },
        "id": "bHxQiNLqb6Xy",
        "outputId": "3b2145c9-ae6b-4078-d964-154b2eeb07f8"
      },
      "execution_count": null,
      "outputs": [
        {
          "output_type": "display_data",
          "data": {
            "text/plain": [
              "<Figure size 1000x600 with 1 Axes>"
            ],
            "image/png": "[encoded data removed]"
          },
          "metadata": {}
        }
      ]
    },
    {
      "cell_type": "code",
      "source": [
        "plt.figure(figsize=(10,6))\n",
        "plt.hist(df['КДО ЛЖ'], bins=30, edgecolor='black')\n",
        "plt.xlabel('КДО ЛЖ')\n",
        "plt.ylabel('Количество')\n",
        "plt.title('Гистограмма КДО ЛЖ')\n",
        "plt.show()"
      ],
      "metadata": {
        "colab": {
          "base_uri": "https://localhost:8080/",
          "height": 564
        },
        "id": "S4bTLEz8cFd3",
        "outputId": "c4e95975-cf90-4d0d-f32b-6954a742ff9f"
      },
      "execution_count": null,
      "outputs": [
        {
          "output_type": "display_data",
          "data": {
            "text/plain": [
              "<Figure size 1000x600 with 1 Axes>"
            ],
            "image/png": "[encoded data removed]"
          },
          "metadata": {}
        }
      ]
    },
    {
      "cell_type": "code",
      "source": [
        "plt.figure(figsize=(10,6))\n",
        "plt.hist(df['КДО ЛЖ индекс'], bins=30, edgecolor='black')\n",
        "plt.xlabel('КДО ЛЖ индекс')\n",
        "plt.ylabel('Количество')\n",
        "plt.title('Гистограмма КДО ЛЖ индекс')\n",
        "plt.show()"
      ],
      "metadata": {
        "colab": {
          "base_uri": "https://localhost:8080/",
          "height": 564
        },
        "id": "kOyW09sQcLrz",
        "outputId": "b5d117b4-beca-442d-c00d-b318878bde1e"
      },
      "execution_count": null,
      "outputs": [
        {
          "output_type": "display_data",
          "data": {
            "text/plain": [
              "<Figure size 1000x600 with 1 Axes>"
            ],
            "image/png": "[encoded data removed]"
          },
          "metadata": {}
        }
      ]
    },
    {
      "cell_type": "code",
      "source": [
        "df"
      ],
      "metadata": {
        "colab": {
          "base_uri": "https://localhost:8080/",
          "height": 461
        },
        "id": "xIrfLkrTcfrK",
        "outputId": "aff011b1-ce9d-46f8-a1e9-198d7dd0c3ad"
      },
      "execution_count": null,
      "outputs": [
        {
          "output_type": "execute_result",
          "data": {
            "text/plain": [
              "     Номер_эпизода  Симпсон   МЖП  ЗС ЛЖ  КДР ЛЖ  ИММ ЛЖ  ОТС ЛЖ  КДО ЛЖ  \\\n",
              "0      1001/ВО2021     57.0  14.0    NaN     NaN     NaN     NaN     NaN   \n",
              "1      1002/ВО2021     64.0   9.0    NaN     NaN     NaN     NaN     NaN   \n",
              "2       1004/С2021     67.0  15.0    NaN     NaN     NaN     NaN     NaN   \n",
              "3      1005/ВО2021     64.0  10.0   10.0    48.0     NaN    0.47   125.0   \n",
              "4      10087/С2019     50.0  13.0    NaN     NaN     NaN     NaN     NaN   \n",
              "...            ...      ...   ...    ...     ...     ...     ...     ...   \n",
              "3377    9908/С2019     71.0  13.0    NaN     NaN     NaN     NaN     NaN   \n",
              "3378    991/ВО2021     66.0  14.0    NaN     NaN     NaN     NaN     NaN   \n",
              "3379    9912/С2020     60.0  14.0   12.0    48.0     NaN    0.50   110.0   \n",
              "3380    994/ВО2021     28.0  12.0    NaN     NaN     NaN     NaN     NaN   \n",
              "3381    9948/С2020     68.0  12.0    NaN     NaN     NaN     NaN     NaN   \n",
              "\n",
              "      КДО ЛЖ индекс Дата_поступления Коррекция_дата_время  \\\n",
              "0               NaN       2021-02-08  2021-02-03 17:12:15   \n",
              "1               NaN       2021-02-08  2018-08-28 10:47:03   \n",
              "2               NaN       2021-01-17  2022-02-10 19:05:08   \n",
              "3              61.0       2021-02-05  2021-10-27 11:29:51   \n",
              "4               NaN       2019-04-13  2019-04-13 10:09:38   \n",
              "...             ...              ...                  ...   \n",
              "3377            NaN       2019-04-13  2019-04-13 17:23:43   \n",
              "3378            NaN       2021-02-05  2015-06-02 14:43:51   \n",
              "3379           51.0       2020-04-29  2020-06-11 18:21:51   \n",
              "3380            NaN       2021-02-07  2021-03-09 11:15:48   \n",
              "3381            NaN       2020-04-30  2021-03-02 15:47:20   \n",
              "\n",
              "     Клинический_диагноз_рубрика Исход_эпизода Результат_лечения  \\\n",
              "0                          I20.0    Нет данных        Нет данных   \n",
              "1                          I20.0    Нет данных        Нет данных   \n",
              "2                          I21.4       Выписан         улучшение   \n",
              "3                          I20.0    Нет данных        Нет данных   \n",
              "4                          I22.0       Выписан         улучшение   \n",
              "...                          ...           ...               ...   \n",
              "3377                       I20.0       Выписан         улучшение   \n",
              "3378                       I20.0    Нет данных        Нет данных   \n",
              "3379                       I20.0       Выписан         улучшение   \n",
              "3380                       I20.0    Нет данных        Нет данных   \n",
              "3381                       I21.4       Выписан         улучшение   \n",
              "\n",
              "               Эпизод_хэш          Пациент_хэш Регистрационный_номер      Пол  \\\n",
              "0    -6196149770414151489 -1913836378333628497             78795/A20  Мужской   \n",
              "1    -3043302809903744300  1777077507059778843             55269/B18  Женский   \n",
              "2      873054346868597458  7200381739065554026             60481/A16  Женский   \n",
              "3    -5030796601464647284  6852237655954067511              9290/A08  Мужской   \n",
              "4     6238717178641617106 -1983437426294107095             74580/A15  Женский   \n",
              "...                   ...                  ...                   ...      ...   \n",
              "3377 -2268177384351335633 -2894176297095657760             43240/A16  Женский   \n",
              "3378 -8289815152649864415  1879772186493299489              4573/A11  Женский   \n",
              "3379 -5401656504829476578  4802652643454616942             30136/A13  Мужской   \n",
              "3380  3357760457421577618 -5988465376728689136              9992/A21  Женский   \n",
              "3381 -5245473935581921429  6972500658219502913             27463/A20  Мужской   \n",
              "\n",
              "     Дата_рождения Дата_смерти  \n",
              "0       1966-05-08        None  \n",
              "1       1967-12-12        None  \n",
              "2       1933-06-01        None  \n",
              "3       1961-05-01        None  \n",
              "4       1943-05-06        None  \n",
              "...            ...         ...  \n",
              "3377    1937-10-28        None  \n",
              "3378    1930-08-22        None  \n",
              "3379    1962-11-30        None  \n",
              "3380    1938-12-24        None  \n",
              "3381    1955-12-01        None  \n",
              "\n",
              "[3167 rows x 20 columns]"
            ],
            "text/html": [
              "\n",
              "  <div id=\"df-22e50e31-71eb-4d34-9d64-3e2bae7b32e3\" class=\"colab-df-container\">\n",
              "    <div>\n",
              "<style scoped>\n",
              "    .dataframe tbody tr th:only-of-type {\n",
              "        vertical-align: middle;\n",
              "    }\n",
              "\n",
              "    .dataframe tbody tr th {\n",
              "        vertical-align: top;\n",
              "    }\n",
              "\n",
              "    .dataframe thead th {\n",
              "        text-align: right;\n",
              "    }\n",
              "</style>\n",
              "<table border=\"1\" class=\"dataframe\">\n",
              "  <thead>\n",
              "    <tr style=\"text-align: right;\">\n",
              "      <th></th>\n",
              "      <th>Номер_эпизода</th>\n",
              "      <th>Симпсон</th>\n",
              "      <th>МЖП</th>\n",
              "      <th>ЗС ЛЖ</th>\n",
              "      <th>КДР ЛЖ</th>\n",
              "      <th>ИММ ЛЖ</th>\n",
              "      <th>ОТС ЛЖ</th>\n",
              "      <th>КДО ЛЖ</th>\n",
              "      <th>КДО ЛЖ индекс</th>\n",
              "      <th>Дата_поступления</th>\n",
              "      <th>Коррекция_дата_время</th>\n",
              "      <th>Клинический_диагноз_рубрика</th>\n",
              "      <th>Исход_эпизода</th>\n",
              "      <th>Результат_лечения</th>\n",
              "      <th>Эпизод_хэш</th>\n",
              "      <th>Пациент_хэш</th>\n",
              "      <th>Регистрационный_номер</th>\n",
              "      <th>Пол</th>\n",
              "      <th>Дата_рождения</th>\n",
              "      <th>Дата_смерти</th>\n",
              "    </tr>\n",
              "  </thead>\n",
              "  <tbody>\n",
              "    <tr>\n",
              "      <th>0</th>\n",
              "      <td>1001/ВО2021</td>\n",
              "      <td>57.0</td>\n",
              "      <td>14.0</td>\n",
              "      <td>NaN</td>\n",
              "      <td>NaN</td>\n",
              "      <td>NaN</td>\n",
              "      <td>NaN</td>\n",
              "      <td>NaN</td>\n",
              "      <td>NaN</td>\n",
              "      <td>2021-02-08</td>\n",
              "      <td>2021-02-03 17:12:15</td>\n",
              "      <td>I20.0</td>\n",
              "      <td>Нет данных</td>\n",
              "      <td>Нет данных</td>\n",
              "      <td>-6196149770414151489</td>\n",
              "      <td>-1913836378333628497</td>\n",
              "      <td>78795/A20</td>\n",
              "      <td>Мужской</td>\n",
              "      <td>1966-05-08</td>\n",
              "      <td>None</td>\n",
              "    </tr>\n",
              "    <tr>\n",
              "      <th>1</th>\n",
              "      <td>1002/ВО2021</td>\n",
              "      <td>64.0</td>\n",
              "      <td>9.0</td>\n",
              "      <td>NaN</td>\n",
              "      <td>NaN</td>\n",
              "      <td>NaN</td>\n",
              "      <td>NaN</td>\n",
              "      <td>NaN</td>\n",
              "      <td>NaN</td>\n",
              "      <td>2021-02-08</td>\n",
              "      <td>2018-08-28 10:47:03</td>\n",
              "      <td>I20.0</td>\n",
              "      <td>Нет данных</td>\n",
              "      <td>Нет данных</td>\n",
              "      <td>-3043302809903744300</td>\n",
              "      <td>1777077507059778843</td>\n",
              "      <td>55269/B18</td>\n",
              "      <td>Женский</td>\n",
              "      <td>1967-12-12</td>\n",
              "      <td>None</td>\n",
              "    </tr>\n",
              "    <tr>\n",
              "      <th>2</th>\n",
              "      <td>1004/С2021</td>\n",
              "      <td>67.0</td>\n",
              "      <td>15.0</td>\n",
              "      <td>NaN</td>\n",
              "      <td>NaN</td>\n",
              "      <td>NaN</td>\n",
              "      <td>NaN</td>\n",
              "      <td>NaN</td>\n",
              "      <td>NaN</td>\n",
              "      <td>2021-01-17</td>\n",
              "      <td>2022-02-10 19:05:08</td>\n",
              "      <td>I21.4</td>\n",
              "      <td>Выписан</td>\n",
              "      <td>улучшение</td>\n",
              "      <td>873054346868597458</td>\n",
              "      <td>7200381739065554026</td>\n",
              "      <td>60481/A16</td>\n",
              "      <td>Женский</td>\n",
              "      <td>1933-06-01</td>\n",
              "      <td>None</td>\n",
              "    </tr>\n",
              "    <tr>\n",
              "      <th>3</th>\n",
              "      <td>1005/ВО2021</td>\n",
              "      <td>64.0</td>\n",
              "      <td>10.0</td>\n",
              "      <td>10.0</td>\n",
              "      <td>48.0</td>\n",
              "      <td>NaN</td>\n",
              "      <td>0.47</td>\n",
              "      <td>125.0</td>\n",
              "      <td>61.0</td>\n",
              "      <td>2021-02-05</td>\n",
              "      <td>2021-10-27 11:29:51</td>\n",
              "      <td>I20.0</td>\n",
              "      <td>Нет данных</td>\n",
              "      <td>Нет данных</td>\n",
              "      <td>-5030796601464647284</td>\n",
              "      <td>6852237655954067511</td>\n",
              "      <td>9290/A08</td>\n",
              "      <td>Мужской</td>\n",
              "      <td>1961-05-01</td>\n",
              "      <td>None</td>\n",
              "    </tr>\n",
              "    <tr>\n",
              "      <th>4</th>\n",
              "      <td>10087/С2019</td>\n",
              "      <td>50.0</td>\n",
              "      <td>13.0</td>\n",
              "      <td>NaN</td>\n",
              "      <td>NaN</td>\n",
              "      <td>NaN</td>\n",
              "      <td>NaN</td>\n",
              "      <td>NaN</td>\n",
              "      <td>NaN</td>\n",
              "      <td>2019-04-13</td>\n",
              "      <td>2019-04-13 10:09:38</td>\n",
              "      <td>I22.0</td>\n",
              "      <td>Выписан</td>\n",
              "      <td>улучшение</td>\n",
              "      <td>6238717178641617106</td>\n",
              "      <td>-1983437426294107095</td>\n",
              "      <td>74580/A15</td>\n",
              "      <td>Женский</td>\n",
              "      <td>1943-05-06</td>\n",
              "      <td>None</td>\n",
              "    </tr>\n",
              "    <tr>\n",
              "      <th>...</th>\n",
              "      <td>...</td>\n",
              "      <td>...</td>\n",
              "      <td>...</td>\n",
              "      <td>...</td>\n",
              "      <td>...</td>\n",
              "      <td>...</td>\n",
              "      <td>...</td>\n",
              "      <td>...</td>\n",
              "      <td>...</td>\n",
              "      <td>...</td>\n",
              "      <td>...</td>\n",
              "      <td>...</td>\n",
              "      <td>...</td>\n",
              "      <td>...</td>\n",
              "      <td>...</td>\n",
              "      <td>...</td>\n",
              "      <td>...</td>\n",
              "      <td>...</td>\n",
              "      <td>...</td>\n",
              "      <td>...</td>\n",
              "    </tr>\n",
              "    <tr>\n",
              "      <th>3377</th>\n",
              "      <td>9908/С2019</td>\n",
              "      <td>71.0</td>\n",
              "      <td>13.0</td>\n",
              "      <td>NaN</td>\n",
              "      <td>NaN</td>\n",
              "      <td>NaN</td>\n",
              "      <td>NaN</td>\n",
              "      <td>NaN</td>\n",
              "      <td>NaN</td>\n",
              "      <td>2019-04-13</td>\n",
              "      <td>2019-04-13 17:23:43</td>\n",
              "      <td>I20.0</td>\n",
              "      <td>Выписан</td>\n",
              "      <td>улучшение</td>\n",
              "      <td>-2268177384351335633</td>\n",
              "      <td>-2894176297095657760</td>\n",
              "      <td>43240/A16</td>\n",
              "      <td>Женский</td>\n",
              "      <td>1937-10-28</td>\n",
              "      <td>None</td>\n",
              "    </tr>\n",
              "    <tr>\n",
              "      <th>3378</th>\n",
              "      <td>991/ВО2021</td>\n",
              "      <td>66.0</td>\n",
              "      <td>14.0</td>\n",
              "      <td>NaN</td>\n",
              "      <td>NaN</td>\n",
              "      <td>NaN</td>\n",
              "      <td>NaN</td>\n",
              "      <td>NaN</td>\n",
              "      <td>NaN</td>\n",
              "      <td>2021-02-05</td>\n",
              "      <td>2015-06-02 14:43:51</td>\n",
              "      <td>I20.0</td>\n",
              "      <td>Нет данных</td>\n",
              "      <td>Нет данных</td>\n",
              "      <td>-8289815152649864415</td>\n",
              "      <td>1879772186493299489</td>\n",
              "      <td>4573/A11</td>\n",
              "      <td>Женский</td>\n",
              "      <td>1930-08-22</td>\n",
              "      <td>None</td>\n",
              "    </tr>\n",
              "    <tr>\n",
              "      <th>3379</th>\n",
              "      <td>9912/С2020</td>\n",
              "      <td>60.0</td>\n",
              "      <td>14.0</td>\n",
              "      <td>12.0</td>\n",
              "      <td>48.0</td>\n",
              "      <td>NaN</td>\n",
              "      <td>0.50</td>\n",
              "      <td>110.0</td>\n",
              "      <td>51.0</td>\n",
              "      <td>2020-04-29</td>\n",
              "      <td>2020-06-11 18:21:51</td>\n",
              "      <td>I20.0</td>\n",
              "      <td>Выписан</td>\n",
              "      <td>улучшение</td>\n",
              "      <td>-5401656504829476578</td>\n",
              "      <td>4802652643454616942</td>\n",
              "      <td>30136/A13</td>\n",
              "      <td>Мужской</td>\n",
              "      <td>1962-11-30</td>\n",
              "      <td>None</td>\n",
              "    </tr>\n",
              "    <tr>\n",
              "      <th>3380</th>\n",
              "      <td>994/ВО2021</td>\n",
              "      <td>28.0</td>\n",
              "      <td>12.0</td>\n",
              "      <td>NaN</td>\n",
              "      <td>NaN</td>\n",
              "      <td>NaN</td>\n",
              "      <td>NaN</td>\n",
              "      <td>NaN</td>\n",
              "      <td>NaN</td>\n",
              "      <td>2021-02-07</td>\n",
              "      <td>2021-03-09 11:15:48</td>\n",
              "      <td>I20.0</td>\n",
              "      <td>Нет данных</td>\n",
              "      <td>Нет данных</td>\n",
              "      <td>3357760457421577618</td>\n",
              "      <td>-5988465376728689136</td>\n",
              "      <td>9992/A21</td>\n",
              "      <td>Женский</td>\n",
              "      <td>1938-12-24</td>\n",
              "      <td>None</td>\n",
              "    </tr>\n",
              "    <tr>\n",
              "      <th>3381</th>\n",
              "      <td>9948/С2020</td>\n",
              "      <td>68.0</td>\n",
              "      <td>12.0</td>\n",
              "      <td>NaN</td>\n",
              "      <td>NaN</td>\n",
              "      <td>NaN</td>\n",
              "      <td>NaN</td>\n",
              "      <td>NaN</td>\n",
              "      <td>NaN</td>\n",
              "      <td>2020-04-30</td>\n",
              "      <td>2021-03-02 15:47:20</td>\n",
              "      <td>I21.4</td>\n",
              "      <td>Выписан</td>\n",
              "      <td>улучшение</td>\n",
              "      <td>-5245473935581921429</td>\n",
              "      <td>6972500658219502913</td>\n",
              "      <td>27463/A20</td>\n",
              "      <td>Мужской</td>\n",
              "      <td>1955-12-01</td>\n",
              "      <td>None</td>\n",
              "    </tr>\n",
              "  </tbody>\n",
              "</table>\n",
              "<p>3167 rows × 20 columns</p>\n",
              "</div>\n",
              "    <div class=\"colab-df-buttons\">\n",
              "\n",
              "  <div class=\"colab-df-container\">\n",
              "    <button class=\"colab-df-convert\" onclick=\"convertToInteractive('df-22e50e31-71eb-4d34-9d64-3e2bae7b32e3')\"\n",
              "            title=\"Convert this dataframe to an interactive table.\"\n",
              "            style=\"display:none;\">\n",
              "\n",
              "  <svg xmlns=\"http://www.w3.org/2000/svg\" height=\"24px\" viewBox=\"0 -960 960 960\">\n",
              "    <path d=\"M120-120v-720h720v720H120Zm60-500h600v-160H180v160Zm220 220h160v-160H400v160Zm0 220h160v-160H400v160ZM180-400h160v-160H180v160Zm440 0h160v-160H620v160ZM180-180h160v-160H180v160Zm440 0h160v-160H620v160Z\"/>\n",
              "  </svg>\n",
              "    </button>\n",
              "\n",
              "  <style>\n",
              "    .colab-df-container {\n",
              "      display:flex;\n",
              "      gap: 12px;\n",
              "    }\n",
              "\n",
              "    .colab-df-convert {\n",
              "      background-color: #E8F0FE;\n",
              "      border: none;\n",
              "      border-radius: 50%;\n",
              "      cursor: pointer;\n",
              "      display: none;\n",
              "      fill: #1967D2;\n",
              "      height: 32px;\n",
              "      padding: 0 0 0 0;\n",
              "      width: 32px;\n",
              "    }\n",
              "\n",
              "    .colab-df-convert:hover {\n",
              "      background-color: #E2EBFA;\n",
              "      box-shadow: 0px 1px 2px rgba(60, 64, 67, 0.3), 0px 1px 3px 1px rgba(60, 64, 67, 0.15);\n",
              "      fill: #174EA6;\n",
              "    }\n",
              "\n",
              "    .colab-df-buttons div {\n",
              "      margin-bottom: 4px;\n",
              "    }\n",
              "\n",
              "    [theme=dark] .colab-df-convert {\n",
              "      background-color: #3B4455;\n",
              "      fill: #D2E3FC;\n",
              "    }\n",
              "\n",
              "    [theme=dark] .colab-df-convert:hover {\n",
              "      background-color: #434B5C;\n",
              "      box-shadow: 0px 1px 3px 1px rgba(0, 0, 0, 0.15);\n",
              "      filter: drop-shadow(0px 1px 2px rgba(0, 0, 0, 0.3));\n",
              "      fill: #FFFFFF;\n",
              "    }\n",
              "  </style>\n",
              "\n",
              "    <script>\n",
              "      const buttonEl =\n",
              "        document.querySelector('#df-22e50e31-71eb-4d34-9d64-3e2bae7b32e3 button.colab-df-convert');\n",
              "      buttonEl.style.display =\n",
              "        google.colab.kernel.accessAllowed ? 'block' : 'none';\n",
              "\n",
              "      async function convertToInteractive(key) {\n",
              "        const element = document.querySelector('#df-22e50e31-71eb-4d34-9d64-3e2bae7b32e3');\n",
              "        const dataTable =\n",
              "          await google.colab.kernel.invokeFunction('convertToInteractive',\n",
              "                                                    [key], {});\n",
              "        if (!dataTable) return;\n",
              "\n",
              "        const docLinkHtml = 'Like what you see? Visit the ' +\n",
              "          '<a target=\"_blank\" href=https://colab.research.google.com/notebooks/data_table.ipynb>data table notebook</a>'\n",
              "          + ' to learn more about interactive tables.';\n",
              "        element.innerHTML = '';\n",
              "        dataTable['output_type'] = 'display_data';\n",
              "        await google.colab.output.renderOutput(dataTable, element);\n",
              "        const docLink = document.createElement('div');\n",
              "        docLink.innerHTML = docLinkHtml;\n",
              "        element.appendChild(docLink);\n",
              "      }\n",
              "    </script>\n",
              "  </div>\n",
              "\n",
              "\n",
              "<div id=\"df-69164ea3-d69f-42b6-9754-9c2cb807d393\">\n",
              "  <button class=\"colab-df-quickchart\" onclick=\"quickchart('df-69164ea3-d69f-42b6-9754-9c2cb807d393')\"\n",
              "            title=\"Suggest charts\"\n",
              "            style=\"display:none;\">\n",
              "\n",
              "<svg xmlns=\"http://www.w3.org/2000/svg\" height=\"24px\"viewBox=\"0 0 24 24\"\n",
              "     width=\"24px\">\n",
              "    <g>\n",
              "        <path d=\"M19 3H5c-1.1 0-2 .9-2 2v14c0 1.1.9 2 2 2h14c1.1 0 2-.9 2-2V5c0-1.1-.9-2-2-2zM9 17H7v-7h2v7zm4 0h-2V7h2v10zm4 0h-2v-4h2v4z\"/>\n",
              "    </g>\n",
              "</svg>\n",
              "  </button>\n",
              "\n",
              "<style>\n",
              "  .colab-df-quickchart {\n",
              "      --bg-color: #E8F0FE;\n",
              "      --fill-color: #1967D2;\n",
              "      --hover-bg-color: #E2EBFA;\n",
              "      --hover-fill-color: #174EA6;\n",
              "      --disabled-fill-color: #AAA;\n",
              "      --disabled-bg-color: #DDD;\n",
              "  }\n",
              "\n",
              "  [theme=dark] .colab-df-quickchart {\n",
              "      --bg-color: #3B4455;\n",
              "      --fill-color: #D2E3FC;\n",
              "      --hover-bg-color: #434B5C;\n",
              "      --hover-fill-color: #FFFFFF;\n",
              "      --disabled-bg-color: #3B4455;\n",
              "      --disabled-fill-color: #666;\n",
              "  }\n",
              "\n",
              "  .colab-df-quickchart {\n",
              "    background-color: var(--bg-color);\n",
              "    border: none;\n",
              "    border-radius: 50%;\n",
              "    cursor: pointer;\n",
              "    display: none;\n",
              "    fill: var(--fill-color);\n",
              "    height: 32px;\n",
              "    padding: 0;\n",
              "    width: 32px;\n",
              "  }\n",
              "\n",
              "  .colab-df-quickchart:hover {\n",
              "    background-color: var(--hover-bg-color);\n",
              "    box-shadow: 0 1px 2px rgba(60, 64, 67, 0.3), 0 1px 3px 1px rgba(60, 64, 67, 0.15);\n",
              "    fill: var(--button-hover-fill-color);\n",
              "  }\n",
              "\n",
              "  .colab-df-quickchart-complete:disabled,\n",
              "  .colab-df-quickchart-complete:disabled:hover {\n",
              "    background-color: var(--disabled-bg-color);\n",
              "    fill: var(--disabled-fill-color);\n",
              "    box-shadow: none;\n",
              "  }\n",
              "\n",
              "  .colab-df-spinner {\n",
              "    border: 2px solid var(--fill-color);\n",
              "    border-color: transparent;\n",
              "    border-bottom-color: var(--fill-color);\n",
              "    animation:\n",
              "      spin 1s steps(1) infinite;\n",
              "  }\n",
              "\n",
              "  @keyframes spin {\n",
              "    0% {\n",
              "      border-color: transparent;\n",
              "      border-bottom-color: var(--fill-color);\n",
              "      border-left-color: var(--fill-color);\n",
              "    }\n",
              "    20% {\n",
              "      border-color: transparent;\n",
              "      border-left-color: var(--fill-color);\n",
              "      border-top-color: var(--fill-color);\n",
              "    }\n",
              "    30% {\n",
              "      border-color: transparent;\n",
              "      border-left-color: var(--fill-color);\n",
              "      border-top-color: var(--fill-color);\n",
              "      border-right-color: var(--fill-color);\n",
              "    }\n",
              "    40% {\n",
              "      border-color: transparent;\n",
              "      border-right-color: var(--fill-color);\n",
              "      border-top-color: var(--fill-color);\n",
              "    }\n",
              "    60% {\n",
              "      border-color: transparent;\n",
              "      border-right-color: var(--fill-color);\n",
              "    }\n",
              "    80% {\n",
              "      border-color: transparent;\n",
              "      border-right-color: var(--fill-color);\n",
              "      border-bottom-color: var(--fill-color);\n",
              "    }\n",
              "    90% {\n",
              "      border-color: transparent;\n",
              "      border-bottom-color: var(--fill-color);\n",
              "    }\n",
              "  }\n",
              "</style>\n",
              "\n",
              "  <script>\n",
              "    async function quickchart(key) {\n",
              "      const quickchartButtonEl =\n",
              "        document.querySelector('#' + key + ' button');\n",
              "      quickchartButtonEl.disabled = true;  // To prevent multiple clicks.\n",
              "      quickchartButtonEl.classList.add('colab-df-spinner');\n",
              "      try {\n",
              "        const charts = await google.colab.kernel.invokeFunction(\n",
              "            'suggestCharts', [key], {});\n",
              "      } catch (error) {\n",
              "        console.error('Error during call to suggestCharts:', error);\n",
              "      }\n",
              "      quickchartButtonEl.classList.remove('colab-df-spinner');\n",
              "      quickchartButtonEl.classList.add('colab-df-quickchart-complete');\n",
              "    }\n",
              "    (() => {\n",
              "      let quickchartButtonEl =\n",
              "        document.querySelector('#df-69164ea3-d69f-42b6-9754-9c2cb807d393 button');\n",
              "      quickchartButtonEl.style.display =\n",
              "        google.colab.kernel.accessAllowed ? 'block' : 'none';\n",
              "    })();\n",
              "  </script>\n",
              "</div>\n",
              "    </div>\n",
              "  </div>\n"
            ],
            "application/vnd.google.colaboratory.intrinsic+json": {
              "type": "dataframe",
              "variable_name": "df",
              "summary": "{\n  \"name\": \"df\",\n  \"rows\": 3167,\n  \"fields\": [\n    {\n      \"column\": \"\\u041d\\u043e\\u043c\\u0435\\u0440_\\u044d\\u043f\\u0438\\u0437\\u043e\\u0434\\u0430\",\n      \"properties\": {\n        \"dtype\": \"string\",\n        \"num_unique_values\": 3167,\n        \"samples\": [\n          \"18950/\\u04212019\",\n          \"29077/\\u04212020\",\n          \"1275/\\u0412\\u041e2021\"\n        ],\n        \"semantic_type\": \"\",\n        \"description\": \"\"\n      }\n    },\n    {\n      \"column\": \"\\u0421\\u0438\\u043c\\u043f\\u0441\\u043e\\u043d\",\n      \"properties\": {\n        \"dtype\": \"number\",\n        \"std\": 10.9002392405958,\n        \"min\": 10.0,\n        \"max\": 84.0,\n        \"num_unique_values\": 66,\n        \"samples\": [\n          24.0,\n          18.0,\n          57.0\n        ],\n        \"semantic_type\": \"\",\n        \"description\": \"\"\n      }\n    },\n    {\n      \"column\": \"\\u041c\\u0416\\u041f\",\n      \"properties\": {\n        \"dtype\": \"number\",\n        \"std\": 2.344961060955835,\n        \"min\": 6.0,\n        \"max\": 38.0,\n        \"num_unique_values\": 25,\n        \"samples\": [\n          6.0,\n          27.0,\n          14.0\n        ],\n        \"semantic_type\": \"\",\n        \"description\": \"\"\n      }\n    },\n    {\n      \"column\": \"\\u0417\\u0421 \\u041b\\u0416\",\n      \"properties\": {\n        \"dtype\": \"number\",\n        \"std\": 1.7005960221872063,\n        \"min\": 6.0,\n        \"max\": 17.0,\n        \"num_unique_values\": 21,\n        \"samples\": [\n          10.0,\n          9.8,\n          8.6\n        ],\n        \"semantic_type\": \"\",\n        \"description\": \"\"\n      }\n    },\n    {\n      \"column\": \"\\u041a\\u0414\\u0420 \\u041b\\u0416\",\n      \"properties\": {\n        \"dtype\": \"number\",\n        \"std\": 8.324576345568996,\n        \"min\": 35.0,\n        \"max\": 87.0,\n        \"num_unique_values\": 46,\n        \"samples\": [\n          71.0,\n          58.0,\n          61.0\n        ],\n        \"semantic_type\": \"\",\n        \"description\": \"\"\n      }\n    },\n    {\n      \"column\": \"\\u0418\\u041c\\u041c \\u041b\\u0416\",\n      \"properties\": {\n        \"dtype\": \"number\",\n        \"std\": 24.065501275650828,\n        \"min\": 73.0,\n        \"max\": 154.0,\n        \"num_unique_values\": 7,\n        \"samples\": [\n          79.0,\n          89.0,\n          95.0\n        ],\n        \"semantic_type\": \"\",\n        \"description\": \"\"\n      }\n    },\n    {\n      \"column\": \"\\u041e\\u0422\\u0421 \\u041b\\u0416\",\n      \"properties\": {\n        \"dtype\": \"number\",\n        \"std\": 0.19423022773905152,\n        \"min\": 0.0,\n        \"max\": 0.8,\n        \"num_unique_values\": 49,\n        \"samples\": [\n          0.39,\n          0.23,\n          0.68\n        ],\n        \"semantic_type\": \"\",\n        \"description\": \"\"\n      }\n    },\n    {\n      \"column\": \"\\u041a\\u0414\\u041e \\u041b\\u0416\",\n      \"properties\": {\n        \"dtype\": \"number\",\n        \"std\": 61.4134332166853,\n        \"min\": 45.0,\n        \"max\": 445.0,\n        \"num_unique_values\": 163,\n        \"samples\": [\n          226.0,\n          179.0,\n          106.0\n        ],\n        \"semantic_type\": \"\",\n        \"description\": \"\"\n      }\n    },\n    {\n      \"column\": \"\\u041a\\u0414\\u041e \\u041b\\u0416 \\u0438\\u043d\\u0434\\u0435\\u043a\\u0441\",\n      \"properties\": {\n        \"dtype\": \"number\",\n        \"std\": 27.86734374985549,\n        \"min\": 26.0,\n        \"max\": 209.0,\n        \"num_unique_values\": 98,\n        \"samples\": [\n          35.0,\n          80.0,\n          137.0\n        ],\n        \"semantic_type\": \"\",\n        \"description\": \"\"\n      }\n    },\n    {\n      \"column\": \"\\u0414\\u0430\\u0442\\u0430_\\u043f\\u043e\\u0441\\u0442\\u0443\\u043f\\u043b\\u0435\\u043d\\u0438\\u044f\",\n      \"properties\": {\n        \"dtype\": \"object\",\n        \"num_unique_values\": 853,\n        \"samples\": [\n          \"2019-05-08\",\n          \"2020-10-26\",\n          \"2019-03-20\"\n        ],\n        \"semantic_type\": \"\",\n        \"description\": \"\"\n      }\n    },\n    {\n      \"column\": \"\\u041a\\u043e\\u0440\\u0440\\u0435\\u043a\\u0446\\u0438\\u044f_\\u0434\\u0430\\u0442\\u0430_\\u0432\\u0440\\u0435\\u043c\\u044f\",\n      \"properties\": {\n        \"dtype\": \"object\",\n        \"num_unique_values\": 2389,\n        \"samples\": [\n          \"2021-10-11 17:23:07\",\n          \"2022-05-11 11:24:51\",\n          \"2021-09-03 10:41:15\"\n        ],\n        \"semantic_type\": \"\",\n        \"description\": \"\"\n      }\n    },\n    {\n      \"column\": \"\\u041a\\u043b\\u0438\\u043d\\u0438\\u0447\\u0435\\u0441\\u043a\\u0438\\u0439_\\u0434\\u0438\\u0430\\u0433\\u043d\\u043e\\u0437_\\u0440\\u0443\\u0431\\u0440\\u0438\\u043a\\u0430\",\n      \"properties\": {\n        \"dtype\": \"category\",\n        \"num_unique_values\": 9,\n        \"samples\": [\n          \"I22.8\",\n          \"I21.4\",\n          \"I22.9\"\n        ],\n        \"semantic_type\": \"\",\n        \"description\": \"\"\n      }\n    },\n    {\n      \"column\": \"\\u0418\\u0441\\u0445\\u043e\\u0434_\\u044d\\u043f\\u0438\\u0437\\u043e\\u0434\\u0430\",\n      \"properties\": {\n        \"dtype\": \"category\",\n        \"num_unique_values\": 10,\n        \"samples\": [\n          \"\\u041d\\u0430\\u043f\\u0440\\u0430\\u0432\\u043b\\u0435\\u043d \\u043d\\u0430 \\u0441\\u0442\\u0430\\u0446. \\u043b\\u0435\\u0447\\u0435\\u043d\\u0438\\u0435\",\n          \"\\u0412\\u044b\\u043f\\u0438\\u0441\\u0430\\u043d\",\n          \"\\u0411\\u0435\\u0437 \\u043f\\u0435\\u0440\\u0435\\u043c\\u0435\\u043d\"\n        ],\n        \"semantic_type\": \"\",\n        \"description\": \"\"\n      }\n    },\n    {\n      \"column\": \"\\u0420\\u0435\\u0437\\u0443\\u043b\\u044c\\u0442\\u0430\\u0442_\\u043b\\u0435\\u0447\\u0435\\u043d\\u0438\\u044f\",\n      \"properties\": {\n        \"dtype\": \"category\",\n        \"num_unique_values\": 6,\n        \"samples\": [\n          \"\\u041d\\u0435\\u0442 \\u0434\\u0430\\u043d\\u043d\\u044b\\u0445\",\n          \"\\u0443\\u043b\\u0443\\u0447\\u0448\\u0435\\u043d\\u0438\\u0435\",\n          \"\\u0432\\u044b\\u0437\\u0434\\u043e\\u0440\\u043e\\u0432\\u043b\\u0435\\u043d\\u0438\\u0435\"\n        ],\n        \"semantic_type\": \"\",\n        \"description\": \"\"\n      }\n    },\n    {\n      \"column\": \"\\u042d\\u043f\\u0438\\u0437\\u043e\\u0434_\\u0445\\u044d\\u0448\",\n      \"properties\": {\n        \"dtype\": \"number\",\n        \"std\": 5379780796301388800,\n        \"min\": -9202331778240219686,\n        \"max\": 9223339404763146071,\n        \"num_unique_values\": 3167,\n        \"samples\": [\n          -3150905637347892171,\n          -8483456332530850060,\n          -3956381152991273376\n        ],\n        \"semantic_type\": \"\",\n        \"description\": \"\"\n      }\n    },\n    {\n      \"column\": \"\\u041f\\u0430\\u0446\\u0438\\u0435\\u043d\\u0442_\\u0445\\u044d\\u0448\",\n      \"properties\": {\n        \"dtype\": \"number\",\n        \"std\": 5236410729456262144,\n        \"min\": -9218699940323360932,\n        \"max\": 9218568038152610563,\n        \"num_unique_values\": 2389,\n        \"samples\": [\n          6995352487920898515,\n          -2749006731054219150,\n          -6177763816978630801\n        ],\n        \"semantic_type\": \"\",\n        \"description\": \"\"\n      }\n    },\n    {\n      \"column\": \"\\u0420\\u0435\\u0433\\u0438\\u0441\\u0442\\u0440\\u0430\\u0446\\u0438\\u043e\\u043d\\u043d\\u044b\\u0439_\\u043d\\u043e\\u043c\\u0435\\u0440\",\n      \"properties\": {\n        \"dtype\": \"string\",\n        \"num_unique_values\": 2389,\n        \"samples\": [\n          \"93758/A21\",\n          \"51225/A16\",\n          \"28351/A21\"\n        ],\n        \"semantic_type\": \"\",\n        \"description\": \"\"\n      }\n    },\n    {\n      \"column\": \"\\u041f\\u043e\\u043b\",\n      \"properties\": {\n        \"dtype\": \"category\",\n        \"num_unique_values\": 3,\n        \"samples\": [\n          \"\\u041c\\u0443\\u0436\\u0441\\u043a\\u043e\\u0439\",\n          \"\\u0416\\u0435\\u043d\\u0441\\u043a\\u0438\\u0439\",\n          \"\\u041f\\u0435\\u043d\\u0441\\u0438\\u043e\\u043d\\u0435\\u0440\"\n        ],\n        \"semantic_type\": \"\",\n        \"description\": \"\"\n      }\n    },\n    {\n      \"column\": \"\\u0414\\u0430\\u0442\\u0430_\\u0440\\u043e\\u0436\\u0434\\u0435\\u043d\\u0438\\u044f\",\n      \"properties\": {\n        \"dtype\": \"object\",\n        \"num_unique_values\": 2193,\n        \"samples\": [\n          \"1945-06-07\",\n          \"1962-12-11\",\n          \"1984-07-06\"\n        ],\n        \"semantic_type\": \"\",\n        \"description\": \"\"\n      }\n    },\n    {\n      \"column\": \"\\u0414\\u0430\\u0442\\u0430_\\u0441\\u043c\\u0435\\u0440\\u0442\\u0438\",\n      \"properties\": {\n        \"dtype\": \"date\",\n        \"min\": \"2019-03-08 00:00:00\",\n        \"max\": \"2023-10-06 00:00:00\",\n        \"num_unique_values\": 69,\n        \"samples\": [\n          \"2020-10-21\",\n          \"2021-07-06\",\n          \"2022-09-22\"\n        ],\n        \"semantic_type\": \"\",\n        \"description\": \"\"\n      }\n    }\n  ]\n}"
            }
          },
          "metadata": {},
          "execution_count": 161
        }
      ]
    },
    {
      "cell_type": "code",
      "source": [
        "# Сохранение DataFrame в CSV-файл\n",
        "df.to_csv('эхо (обработано).csv', index=False, encoding='Windows-1251', sep=';')\n",
        "\n",
        "# Скачивание файла\n",
        "from google.colab import files\n",
        "files.download('эхо (обработано).csv')"
      ],
      "metadata": {
        "colab": {
          "base_uri": "https://localhost:8080/",
          "height": 17
        },
        "id": "RLoqdC_FXy-t",
        "outputId": "fcac7b44-4868-4412-c91a-fe050874cee5"
      },
      "execution_count": null,
      "outputs": [
        {
          "output_type": "display_data",
          "data": {
            "text/plain": [
              "<IPython.core.display.Javascript object>"
            ],
            "application/javascript": [
              "\n",
              "    async function download(id, filename, size) {\n",
              "      if (!google.colab.kernel.accessAllowed) {\n",
              "        return;\n",
              "      }\n",
              "      const div = document.createElement('div');\n",
              "      const label = document.createElement('label');\n",
              "      label.textContent = `Downloading \"${filename}\": `;\n",
              "      div.appendChild(label);\n",
              "      const progress = document.createElement('progress');\n",
              "      progress.max = size;\n",
              "      div.appendChild(progress);\n",
              "      document.body.appendChild(div);\n",
              "\n",
              "      const buffers = [];\n",
              "      let downloaded = 0;\n",
              "\n",
              "      const channel = await google.colab.kernel.comms.open(id);\n",
              "      // Send a message to notify the kernel that we're ready.\n",
              "      channel.send({})\n",
              "\n",
              "      for await (const message of channel.messages) {\n",
              "        // Send a message to notify the kernel that we're ready.\n",
              "        channel.send({})\n",
              "        if (message.buffers) {\n",
              "          for (const buffer of message.buffers) {\n",
              "            buffers.push(buffer);\n",
              "            downloaded += buffer.byteLength;\n",
              "            progress.value = downloaded;\n",
              "          }\n",
              "        }\n",
              "      }\n",
              "      const blob = new Blob(buffers, {type: 'application/binary'});\n",
              "      const a = document.createElement('a');\n",
              "      a.href = window.URL.createObjectURL(blob);\n",
              "      a.download = filename;\n",
              "      div.appendChild(a);\n",
              "      a.click();\n",
              "      div.remove();\n",
              "    }\n",
              "  "
            ]
          },
          "metadata": {}
        },
        {
          "output_type": "display_data",
          "data": {
            "text/plain": [
              "<IPython.core.display.Javascript object>"
            ],
            "application/javascript": [
              "download(\"download_40b52e50-2320-4259-8013-9a41f3775a84\", \"\\u044d\\u0445\\u043e (\\u043e\\u0431\\u0440\\u0430\\u0431\\u043e\\u0442\\u0430\\u043d\\u043e).csv\", 506892)"
            ]
          },
          "metadata": {}
        }
      ]
    },
    {
      "cell_type": "markdown",
      "source": [
        "## Объединение таблиц"
      ],
      "metadata": {
        "id": "gSD1r8jeaLWa"
      }
    },
    {
      "cell_type": "code",
      "source": [
        "import pandas as pd\n",
        "\n",
        "df = pd.read_csv(path/'результат/новое/диагноз общий (новая).csv', encoding=\"Windows-1251\", sep=';')\n",
        "df3 = pd.read_csv(path/'результат/обработано/эхо (обработано).csv', encoding=\"Windows-1251\", sep=';')\n",
        "df4 = pd.read_csv(path/'результат/новое/коронарография (новая).csv', encoding=\"Windows-1251\", sep=';')\n",
        "df5 = pd.read_csv(path/'результат/обработано/протокол операции (обработано).csv', encoding=\"Windows-1251\", sep=';')"
      ],
      "metadata": {
        "id": "eAbhcChrYBpN"
      },
      "execution_count": null,
      "outputs": []
    },
    {
      "cell_type": "code",
      "source": [
        "df.columns"
      ],
      "metadata": {
        "colab": {
          "base_uri": "https://localhost:8080/"
        },
        "id": "n8UeqNbTMUS5",
        "outputId": "eca45f99-11f3-497a-c88b-02a7a3cbe87c"
      },
      "execution_count": null,
      "outputs": [
        {
          "output_type": "execute_result",
          "data": {
            "text/plain": [
              "Index(['Номер_эпизода', 'Исход инфаркт', 'Сахарный диабет', 'ОНМК',\n",
              "       'Фибрилляция предсердий', 'ХБП', 'Депрессия', 'Отек легких',\n",
              "       'Кардиогенный шок', 'ПИКС', 'ПЭКС', 'ВЭКС', 'Ожирение',\n",
              "       'Атеросклероз БЦА', 'АКШ', 'ХСН', 'Облитерирующий атеросклероз',\n",
              "       'Аневризма', 'Анемия', 'НАЖБП', 'ХОБЛ', 'Дата_поступления',\n",
              "       'Клинический_диагноз_рубрика', 'Исход_эпизода', 'Результат_лечения',\n",
              "       'Эпизод_хэш', 'Пациент_хэш', 'Регистрационный_номер', 'Пол',\n",
              "       'Дата_рождения', 'Дата_смерти', 'Дата_постановки_диагноза',\n",
              "       'Коррекция_дата_время', 'Диагноз'],\n",
              "      dtype='object')"
            ]
          },
          "metadata": {},
          "execution_count": 282
        }
      ]
    },
    {
      "cell_type": "code",
      "source": [
        "df.shape"
      ],
      "metadata": {
        "colab": {
          "base_uri": "https://localhost:8080/"
        },
        "id": "gBRtf5Jfet6P",
        "outputId": "5201b482-eaaa-4827-be16-3fe6e0b26284"
      },
      "execution_count": null,
      "outputs": [
        {
          "output_type": "execute_result",
          "data": {
            "text/plain": [
              "(3200, 34)"
            ]
          },
          "metadata": {},
          "execution_count": 283
        }
      ]
    },
    {
      "cell_type": "code",
      "source": [
        "df['Номер_эпизода'].value_counts()"
      ],
      "metadata": {
        "colab": {
          "base_uri": "https://localhost:8080/"
        },
        "id": "1iTmPPT-e1Fl",
        "outputId": "0b144d31-b8fc-47ba-c565-5622a6d5cd0f"
      },
      "execution_count": null,
      "outputs": [
        {
          "output_type": "execute_result",
          "data": {
            "text/plain": [
              "Номер_эпизода\n",
              "10012/С2024    1\n",
              "32892/С2019    1\n",
              "32776/С2021    1\n",
              "32782/С2021    1\n",
              "32785/С2021    1\n",
              "              ..\n",
              "22753/С2020    1\n",
              "22777/С2018    1\n",
              "22780/С2020    1\n",
              "22789/С2020    1\n",
              "9998/С2019     1\n",
              "Name: count, Length: 3200, dtype: int64"
            ]
          },
          "metadata": {},
          "execution_count": 284
        }
      ]
    },
    {
      "cell_type": "code",
      "source": [
        "df3.columns"
      ],
      "metadata": {
        "id": "j7E3JgypoSSr",
        "colab": {
          "base_uri": "https://localhost:8080/"
        },
        "outputId": "92ef9afc-9048-4fca-c8e8-4334cd634269"
      },
      "execution_count": null,
      "outputs": [
        {
          "output_type": "execute_result",
          "data": {
            "text/plain": [
              "Index(['Номер_эпизода', 'Симпсон', 'МЖП', 'ЗС ЛЖ', 'КДР ЛЖ', 'ИММ ЛЖ',\n",
              "       'ОТС ЛЖ', 'КДО ЛЖ', 'КДО ЛЖ индекс', 'Дата_поступления',\n",
              "       'Коррекция_дата_время', 'Клинический_диагноз_рубрика', 'Исход_эпизода',\n",
              "       'Результат_лечения', 'Эпизод_хэш', 'Пациент_хэш',\n",
              "       'Регистрационный_номер', 'Пол', 'Дата_рождения', 'Дата_смерти'],\n",
              "      dtype='object')"
            ]
          },
          "metadata": {},
          "execution_count": 285
        }
      ]
    },
    {
      "cell_type": "code",
      "source": [
        "df4.columns"
      ],
      "metadata": {
        "colab": {
          "base_uri": "https://localhost:8080/"
        },
        "id": "VvRIT9ahJx9u",
        "outputId": "2e2159bc-c019-4a78-a681-5a4f767821d8"
      },
      "execution_count": null,
      "outputs": [
        {
          "output_type": "execute_result",
          "data": {
            "text/plain": [
              "Index(['Номер_эпизода', 'Ствол стеноз', 'Окклюзия', 'Бифуркация',\n",
              "       'Количество стенозов', 'Группа стенозов', 'Дата_поступления',\n",
              "       'Клинический_диагноз_рубрика', 'Исход_эпизода', 'Результат_лечения',\n",
              "       'Эпизод_хэш', 'Пациент_хэш', 'Регистрационный_номер', 'Пол',\n",
              "       'Дата_рождения', 'Дата_смерти', 'Статус', 'Коррекция_дата_время'],\n",
              "      dtype='object')"
            ]
          },
          "metadata": {},
          "execution_count": 286
        }
      ]
    },
    {
      "cell_type": "code",
      "source": [
        "df5.columns"
      ],
      "metadata": {
        "colab": {
          "base_uri": "https://localhost:8080/"
        },
        "id": "2Owmhm0ZNQoy",
        "outputId": "c7dded11-4c49-4e56-f121-e7178a736464"
      },
      "execution_count": null,
      "outputs": [
        {
          "output_type": "execute_result",
          "data": {
            "text/plain": [
              "Index(['Номер_эпизода', 'DES', 'BMS', 'Диаметр', 'Длина', 'Дата_поступления',\n",
              "       'Клинический_диагноз_рубрика', 'Исход_эпизода', 'Результат_лечения',\n",
              "       'Эпизод_хэш', 'Пациент_хэш', 'Регистрационный_номер', 'Пол',\n",
              "       'Дата_рождения', 'Дата_смерти'],\n",
              "      dtype='object')"
            ]
          },
          "metadata": {},
          "execution_count": 287
        }
      ]
    },
    {
      "cell_type": "code",
      "source": [
        "# Определим функцию для объединения двух фреймов данных и обработки дублирующихся столбцов\n",
        "def merge_dfs(df1, df2, on, how='outer', suffixes=('_df1', '_df2')):\n",
        "    if isinstance(on, list):\n",
        "        intersecting_columns = set(df1.columns).intersection(set(df2.columns)) - set(on)\n",
        "    else:\n",
        "        intersecting_columns = set(df1.columns).intersection(set(df2.columns)) - {on}\n",
        "    df1 = df1.rename(columns={col: col + suffixes[0] for col in intersecting_columns})\n",
        "    df2 = df2.rename(columns={col: col + suffixes[1] for col in intersecting_columns})\n",
        "    merged_df = df1.merge(df2, on=on, how=how)\n",
        "    for column in intersecting_columns:\n",
        "        merged_df[column] = merged_df[column + suffixes[0]].combine_first(merged_df[column + suffixes[1]])\n",
        "        merged_df.drop([column + suffixes[0], column + suffixes[1]], axis=1, inplace=True)\n",
        "    return merged_df"
      ],
      "metadata": {
        "id": "-wHbA-gN0vT9"
      },
      "execution_count": null,
      "outputs": []
    },
    {
      "cell_type": "code",
      "source": [
        "# Объединим все фреймы данных\n",
        "df = merge_dfs(df, df3, on='Номер_эпизода', how='left')\n",
        "df = merge_dfs(df, df4, on='Номер_эпизода', how='left')\n",
        "df = merge_dfs(df, df5, on='Номер_эпизода', how='left')"
      ],
      "metadata": {
        "id": "pm2-YNCf1C-G"
      },
      "execution_count": null,
      "outputs": []
    },
    {
      "cell_type": "code",
      "source": [
        "df.shape"
      ],
      "metadata": {
        "colab": {
          "base_uri": "https://localhost:8080/"
        },
        "id": "wqq9kQWiL6Se",
        "outputId": "ce2a41a9-b16f-4569-a703-6e9318e91513"
      },
      "execution_count": null,
      "outputs": [
        {
          "output_type": "execute_result",
          "data": {
            "text/plain": [
              "(3200, 52)"
            ]
          },
          "metadata": {},
          "execution_count": 290
        }
      ]
    },
    {
      "cell_type": "code",
      "source": [
        "def convert_date_format(date_str):\n",
        "    try:\n",
        "        # Пробуем преобразовать строку в дату с форматом %d.%m.%Y\n",
        "        dt = pd.to_datetime(date_str, format='%d.%m.%Y', errors='raise')\n",
        "        # Если преобразование успешно, возвращаем дату в формате %Y-%m-%d\n",
        "        return dt.strftime('%Y-%m-%d')\n",
        "    except ValueError:\n",
        "        # Если преобразование не удалось, возвращаем исходную строку\n",
        "        return date_str\n",
        "\n",
        "# Применяем функцию ко всем датам в столбцах 'Дата_поступления' и 'Дата_рождения'\n",
        "df['Дата_поступления'] = df['Дата_поступления'].apply(convert_date_format)\n",
        "df['Дата_рождения'] = df['Дата_рождения'].apply(convert_date_format)"
      ],
      "metadata": {
        "id": "a3MfYCscunMi"
      },
      "execution_count": null,
      "outputs": []
    },
    {
      "cell_type": "code",
      "source": [
        "df['Дата_поступления'] = pd.to_datetime(df['Дата_поступления'])\n",
        "df['Дата_рождения'] = pd.to_datetime(df['Дата_рождения'])\n",
        "\n",
        "df['Возраст'] = (df['Дата_поступления'] - df['Дата_рождения']).dt.days // 365"
      ],
      "metadata": {
        "id": "HCIR-Aa3jifN"
      },
      "execution_count": null,
      "outputs": []
    },
    {
      "cell_type": "code",
      "source": [
        "df.columns"
      ],
      "metadata": {
        "id": "erapSEjaML9T",
        "colab": {
          "base_uri": "https://localhost:8080/"
        },
        "outputId": "56a36e99-49f4-467c-ecfa-5e9366ec3d08"
      },
      "execution_count": null,
      "outputs": [
        {
          "output_type": "execute_result",
          "data": {
            "text/plain": [
              "Index(['Номер_эпизода', 'Исход инфаркт', 'Сахарный диабет', 'ОНМК',\n",
              "       'Фибрилляция предсердий', 'ХБП', 'Депрессия', 'Отек легких',\n",
              "       'Кардиогенный шок', 'ПИКС', 'ПЭКС', 'ВЭКС', 'Ожирение',\n",
              "       'Атеросклероз БЦА', 'АКШ', 'ХСН', 'Облитерирующий атеросклероз',\n",
              "       'Аневризма', 'Анемия', 'НАЖБП', 'ХОБЛ', 'Дата_постановки_диагноза',\n",
              "       'Диагноз', 'Симпсон', 'МЖП', 'ЗС ЛЖ', 'КДР ЛЖ', 'ИММ ЛЖ', 'ОТС ЛЖ',\n",
              "       'КДО ЛЖ', 'КДО ЛЖ индекс', 'Ствол стеноз', 'Окклюзия', 'Бифуркация',\n",
              "       'Количество стенозов', 'Группа стенозов', 'Статус',\n",
              "       'Коррекция_дата_время', 'DES', 'BMS', 'Диаметр', 'Длина',\n",
              "       'Клинический_диагноз_рубрика', 'Дата_рождения', 'Пациент_хэш',\n",
              "       'Дата_смерти', 'Исход_эпизода', 'Пол', 'Результат_лечения',\n",
              "       'Регистрационный_номер', 'Дата_поступления', 'Эпизод_хэш', 'Возраст'],\n",
              "      dtype='object')"
            ]
          },
          "metadata": {},
          "execution_count": 293
        }
      ]
    },
    {
      "cell_type": "code",
      "source": [
        "lab = pd.read_csv(path/'лаборатория/запрос 07.09.23.zip', compression='zip', encoding=\"Windows-1251\", sep=';', low_memory=False)"
      ],
      "metadata": {
        "id": "ruv3zHkslDFb"
      },
      "execution_count": null,
      "outputs": []
    },
    {
      "cell_type": "code",
      "source": [
        "lab.columns"
      ],
      "metadata": {
        "colab": {
          "base_uri": "https://localhost:8080/"
        },
        "id": "U8Y3foWNlDC5",
        "outputId": "75742e4f-68c6-461e-ac37-99c86f82f5b1"
      },
      "execution_count": null,
      "outputs": [
        {
          "output_type": "execute_result",
          "data": {
            "text/plain": [
              "Index(['Номер_эпизода', 'Дата_поступления', 'Клинический_диагноз_рубрика',\n",
              "       'Исход_эпизода', 'Результат_лечения', 'Эпизод_хэш', 'Пациент_хэш',\n",
              "       'Тропонин_1', 'Тропонин_2', 'ЛПВП', 'ЛПОНП', 'ЛПНП', 'ХС_общ', 'СКФ',\n",
              "       'креат', 'СРБ', 'Глюкоза', 'Баз_абс', 'Баз_отн', 'Эоз_абс', 'Эоз_отн',\n",
              "       'Моно_абс', 'Моно_отн', 'Лимф_абс', 'Лимф_отн', 'нейтр_абс',\n",
              "       'нейтр_отн', 'WBC', 'PCT', 'PDW', 'MPV', 'PLT', 'RDW_SD', 'RDW', 'HCT',\n",
              "       'MCHC', 'MCH', 'MCV', 'RBC', 'Hb'],\n",
              "      dtype='object')"
            ]
          },
          "metadata": {},
          "execution_count": 295
        }
      ]
    },
    {
      "cell_type": "code",
      "source": [
        "df = merge_dfs(df, lab, on='Номер_эпизода', how='left')"
      ],
      "metadata": {
        "id": "BNjYyLd3D-6M"
      },
      "execution_count": null,
      "outputs": []
    },
    {
      "cell_type": "code",
      "source": [
        "df.shape"
      ],
      "metadata": {
        "colab": {
          "base_uri": "https://localhost:8080/"
        },
        "id": "j4TNB6iiETs9",
        "outputId": "22134fc5-1c50-41db-da2c-7cba17b37c3d"
      },
      "execution_count": null,
      "outputs": [
        {
          "output_type": "execute_result",
          "data": {
            "text/plain": [
              "(3200, 86)"
            ]
          },
          "metadata": {},
          "execution_count": 297
        }
      ]
    },
    {
      "cell_type": "code",
      "source": [
        "df.columns"
      ],
      "metadata": {
        "colab": {
          "base_uri": "https://localhost:8080/"
        },
        "id": "nniJJoFoEdgA",
        "outputId": "97cdb68c-80ea-4776-bd60-1afd402903c3"
      },
      "execution_count": null,
      "outputs": [
        {
          "output_type": "execute_result",
          "data": {
            "text/plain": [
              "Index(['Номер_эпизода', 'Исход инфаркт', 'Сахарный диабет', 'ОНМК',\n",
              "       'Фибрилляция предсердий', 'ХБП', 'Депрессия', 'Отек легких',\n",
              "       'Кардиогенный шок', 'ПИКС', 'ПЭКС', 'ВЭКС', 'Ожирение',\n",
              "       'Атеросклероз БЦА', 'АКШ', 'ХСН', 'Облитерирующий атеросклероз',\n",
              "       'Аневризма', 'Анемия', 'НАЖБП', 'ХОБЛ', 'Дата_постановки_диагноза',\n",
              "       'Диагноз', 'Симпсон', 'МЖП', 'ЗС ЛЖ', 'КДР ЛЖ', 'ИММ ЛЖ', 'ОТС ЛЖ',\n",
              "       'КДО ЛЖ', 'КДО ЛЖ индекс', 'Ствол стеноз', 'Окклюзия', 'Бифуркация',\n",
              "       'Количество стенозов', 'Группа стенозов', 'Статус',\n",
              "       'Коррекция_дата_время', 'DES', 'BMS', 'Диаметр', 'Длина',\n",
              "       'Дата_рождения', 'Дата_смерти', 'Пол', 'Регистрационный_номер',\n",
              "       'Возраст', 'Тропонин_1', 'Тропонин_2', 'ЛПВП', 'ЛПОНП', 'ЛПНП',\n",
              "       'ХС_общ', 'СКФ', 'креат', 'СРБ', 'Глюкоза', 'Баз_абс', 'Баз_отн',\n",
              "       'Эоз_абс', 'Эоз_отн', 'Моно_абс', 'Моно_отн', 'Лимф_абс', 'Лимф_отн',\n",
              "       'нейтр_абс', 'нейтр_отн', 'WBC', 'PCT', 'PDW', 'MPV', 'PLT', 'RDW_SD',\n",
              "       'RDW', 'HCT', 'MCHC', 'MCH', 'MCV', 'RBC', 'Hb',\n",
              "       'Клинический_диагноз_рубрика', 'Пациент_хэш', 'Исход_эпизода',\n",
              "       'Результат_лечения', 'Дата_поступления', 'Эпизод_хэш'],\n",
              "      dtype='object')"
            ]
          },
          "metadata": {},
          "execution_count": 298
        }
      ]
    },
    {
      "cell_type": "code",
      "source": [
        "#df = df.dropna(subset=['DES', 'BMS', 'Стеноз'])"
      ],
      "metadata": {
        "id": "eUJDwN9oEok3"
      },
      "execution_count": null,
      "outputs": []
    },
    {
      "cell_type": "code",
      "source": [
        "df.shape"
      ],
      "metadata": {
        "colab": {
          "base_uri": "https://localhost:8080/"
        },
        "id": "Yu-AfbjfhDjh",
        "outputId": "dc45ebeb-df18-4b9a-c37e-bec8c1ccf1d4"
      },
      "execution_count": null,
      "outputs": [
        {
          "output_type": "execute_result",
          "data": {
            "text/plain": [
              "(1804, 67)"
            ]
          },
          "metadata": {},
          "execution_count": 24
        }
      ]
    },
    {
      "cell_type": "code",
      "source": [
        "df['Исход'] = df['Исход_эпизода'].apply(lambda x: 1 if x == 'Умер' else 0)"
      ],
      "metadata": {
        "id": "OuZyURg0HXOg"
      },
      "execution_count": null,
      "outputs": []
    },
    {
      "cell_type": "code",
      "source": [
        "df.columns"
      ],
      "metadata": {
        "colab": {
          "base_uri": "https://localhost:8080/"
        },
        "id": "vcIS10DTIiGH",
        "outputId": "f790b99a-1777-409e-a0c2-1f3a36abd164"
      },
      "execution_count": null,
      "outputs": [
        {
          "output_type": "execute_result",
          "data": {
            "text/plain": [
              "Index(['Номер_эпизода', 'Исход инфаркт', 'Сахарный диабет', 'ОНМК',\n",
              "       'Фибрилляция предсердий', 'ХБП', 'Депрессия', 'Отек легких',\n",
              "       'Кардиогенный шок', 'ПИКС', 'ПЭКС', 'ВЭКС', 'Ожирение',\n",
              "       'Атеросклероз БЦА', 'АКШ', 'ХСН', 'Облитерирующий атеросклероз',\n",
              "       'Аневризма', 'Анемия', 'НАЖБП', 'ХОБЛ', 'Дата_постановки_диагноза',\n",
              "       'Диагноз', 'Симпсон', 'МЖП', 'ЗС ЛЖ', 'КДР ЛЖ', 'ИММ ЛЖ', 'ОТС ЛЖ',\n",
              "       'КДО ЛЖ', 'КДО ЛЖ индекс', 'Ствол стеноз', 'Окклюзия', 'Бифуркация',\n",
              "       'Количество стенозов', 'Группа стенозов', 'Статус',\n",
              "       'Коррекция_дата_время', 'DES', 'BMS', 'Диаметр', 'Длина',\n",
              "       'Дата_рождения', 'Дата_смерти', 'Пол', 'Регистрационный_номер',\n",
              "       'Возраст', 'Тропонин_1', 'Тропонин_2', 'ЛПВП', 'ЛПОНП', 'ЛПНП',\n",
              "       'ХС_общ', 'СКФ', 'креат', 'СРБ', 'Глюкоза', 'Баз_абс', 'Баз_отн',\n",
              "       'Эоз_абс', 'Эоз_отн', 'Моно_абс', 'Моно_отн', 'Лимф_абс', 'Лимф_отн',\n",
              "       'нейтр_абс', 'нейтр_отн', 'WBC', 'PCT', 'PDW', 'MPV', 'PLT', 'RDW_SD',\n",
              "       'RDW', 'HCT', 'MCHC', 'MCH', 'MCV', 'RBC', 'Hb',\n",
              "       'Клинический_диагноз_рубрика', 'Пациент_хэш', 'Исход_эпизода',\n",
              "       'Результат_лечения', 'Дата_поступления', 'Эпизод_хэш', 'Исход'],\n",
              "      dtype='object')"
            ]
          },
          "metadata": {},
          "execution_count": 300
        }
      ]
    },
    {
      "cell_type": "code",
      "source": [
        "df.shape"
      ],
      "metadata": {
        "colab": {
          "base_uri": "https://localhost:8080/"
        },
        "id": "h4JC1T4tY6dJ",
        "outputId": "db76e280-98da-4ae5-b380-677aef644689"
      },
      "execution_count": null,
      "outputs": [
        {
          "output_type": "execute_result",
          "data": {
            "text/plain": [
              "(3200, 87)"
            ]
          },
          "metadata": {},
          "execution_count": 301
        }
      ]
    },
    {
      "cell_type": "markdown",
      "source": [
        "## Добавление дополнительных таблиц"
      ],
      "metadata": {
        "id": "w9I9T-vrIAet"
      }
    },
    {
      "cell_type": "code",
      "source": [
        "import pandas as pd\n",
        "import os\n",
        "import unicodedata\n",
        "\n",
        "def merge_csv_files_with_main_df(directory, main_df):\n",
        "    # Получаем список всех CSV-файлов в директории\n",
        "    csv_files = [f for f in os.listdir(directory) if f.endswith('.csv')]\n",
        "\n",
        "    # Читаем каждый CSV-файл, обрабатываем его и объединяем с главным датафреймом\n",
        "    for file in csv_files:\n",
        "        df = pd.read_csv(os.path.join(directory, file), encoding=\"Windows-1251\")\n",
        "\n",
        "        # Создаем новый столбец с таким же названием, как и у файла (без расширения '.csv'), и копируем в него значения из столбца 'Значение'\n",
        "        file_name_without_extension = os.path.splitext(file)[0]\n",
        "        df[file_name_without_extension] = df['Значение']\n",
        "\n",
        "        # Оставляем только два столбца: 'Номер_эпизода' и новый столбец\n",
        "        df = df[['Номер_эпизода', file_name_without_extension]]\n",
        "\n",
        "        # преобразуем названия столбцов в нормализованную форму\n",
        "        df.columns = [unicodedata.normalize('NFC', col) for col in df.columns]\n",
        "\n",
        "        # Объединяем обработанный датафрейм с главным датафреймом\n",
        "        main_df = merge_dfs(main_df, df, on='Номер_эпизода', how='left')\n",
        "\n",
        "    return main_df\n",
        "\n",
        "directory = path/'лаборатория/дополнительные таблицы'\n",
        "df = merge_csv_files_with_main_df(directory, df)"
      ],
      "metadata": {
        "id": "Xw907TyNP0kR"
      },
      "execution_count": null,
      "outputs": []
    },
    {
      "cell_type": "code",
      "source": [
        "directory = path/'лаборатория/новые таблицы'\n",
        "df = merge_csv_files_with_main_df(directory, df)"
      ],
      "metadata": {
        "id": "yM2velsqkRnJ"
      },
      "execution_count": null,
      "outputs": []
    },
    {
      "cell_type": "code",
      "source": [
        "simpson1 = pd.read_csv(path/'результат/дополнительные таблицы/ФВ Симпсон 01.04.24.csv', encoding=\"Windows-1251\")\n",
        "simpson2 = pd.read_csv(path/'результат/новые таблицы/ФВ Симпсон.csv', encoding=\"Windows-1251\")"
      ],
      "metadata": {
        "id": "Olb3vyNncNZZ"
      },
      "execution_count": null,
      "outputs": []
    },
    {
      "cell_type": "code",
      "source": [
        "simpson = pd.concat([simpson1, simpson2])"
      ],
      "metadata": {
        "id": "3bl10t7EnGN0"
      },
      "execution_count": null,
      "outputs": []
    },
    {
      "cell_type": "code",
      "source": [
        "simpson"
      ],
      "metadata": {
        "colab": {
          "base_uri": "https://localhost:8080/",
          "height": 424
        },
        "id": "vM135WWvclAm",
        "outputId": "38c51d46-c471-40c1-acf2-466fdf52947c"
      },
      "execution_count": null,
      "outputs": [
        {
          "output_type": "execute_result",
          "data": {
            "text/plain": [
              "    Номер_эпизода                                             Статус  \\\n",
              "0     33077/С2019  ЭХОКАРДИОГРАФИЧЕСКОЕ ИССЛЕДОВАНИЕ (С РАСЧЕТАМИ...   \n",
              "1     32609/С2021  ЭХОКАРДИОГРАФИЧЕСКОЕ ИССЛЕДОВАНИЕ (С РАСЧЕТАМИ...   \n",
              "2     32609/С2021  ЭХОКАРДИОГРАФИЧЕСКОЕ ИССЛЕДОВАНИЕ (С РАСЧЕТАМИ...   \n",
              "3     32609/С2021  ЭХОКАРДИОГРАФИЧЕСКОЕ ИССЛЕДОВАНИЕ ПОВТОРНОЕ РЕ...   \n",
              "4       822/С2020  ЭХОКАРДИОГРАФИЧЕСКОЕ ИССЛЕДОВАНИЕ (С РАСЧЕТАМИ...   \n",
              "..            ...                                                ...   \n",
              "288   22247/С2016        ЭХОКАРДИОГРАФИЧЕСКОЕ ИССЛЕДОВАНИЕ РЕЗУЛЬТАТ   \n",
              "289    6789/С2016        ЭХОКАРДИОГРАФИЧЕСКОЕ ИССЛЕДОВАНИЕ РЕЗУЛЬТАТ   \n",
              "290   24089/С2019        ЭХОКАРДИОГРАФИЧЕСКОЕ ИССЛЕДОВАНИЕ РЕЗУЛЬТАТ   \n",
              "291   24089/С2019  ЭХОКАРДИОГРАФИЧЕСКОЕ ИССЛЕДОВАНИЕ (С РАСЧЕТАМИ...   \n",
              "292   24089/С2019  ЭХОКАРДИОГРАФИЧЕСКОЕ ИССЛЕДОВАНИЕ (С РАСЧЕТАМИ...   \n",
              "\n",
              "            Unnamed: 2 Коррекция_дата_время  \n",
              "0    ФВ Симпсон   47    2019-12-04 14:25:33  \n",
              "1    ФВ Симпсон   57    2021-10-30 08:41:09  \n",
              "2    ФВ Симпсон   60    2019-10-08 21:49:06  \n",
              "3    ФВ Симпсон   57    2019-10-23 09:33:55  \n",
              "4    ФВ Симпсон   65    2019-07-12 10:39:35  \n",
              "..                 ...                  ...  \n",
              "288  ФВ Симпсон   35    2016-09-10 16:35:42  \n",
              "289  ФВ Симпсон   50    2016-03-14 16:06:35  \n",
              "290  ФВ Симпсон   32    2019-09-12 11:20:30  \n",
              "291  ФВ Симпсон   33    2019-09-20 11:26:07  \n",
              "292  ФВ Симпсон   37    2019-09-22 17:31:53  \n",
              "\n",
              "[1258 rows x 4 columns]"
            ],
            "text/html": [
              "\n",
              "  <div id=\"df-613748e9-460d-4009-b42c-1685d9ef0597\" class=\"colab-df-container\">\n",
              "    <div>\n",
              "<style scoped>\n",
              "    .dataframe tbody tr th:only-of-type {\n",
              "        vertical-align: middle;\n",
              "    }\n",
              "\n",
              "    .dataframe tbody tr th {\n",
              "        vertical-align: top;\n",
              "    }\n",
              "\n",
              "    .dataframe thead th {\n",
              "        text-align: right;\n",
              "    }\n",
              "</style>\n",
              "<table border=\"1\" class=\"dataframe\">\n",
              "  <thead>\n",
              "    <tr style=\"text-align: right;\">\n",
              "      <th></th>\n",
              "      <th>Номер_эпизода</th>\n",
              "      <th>Статус</th>\n",
              "      <th>Unnamed: 2</th>\n",
              "      <th>Коррекция_дата_время</th>\n",
              "    </tr>\n",
              "  </thead>\n",
              "  <tbody>\n",
              "    <tr>\n",
              "      <th>0</th>\n",
              "      <td>33077/С2019</td>\n",
              "      <td>ЭХОКАРДИОГРАФИЧЕСКОЕ ИССЛЕДОВАНИЕ (С РАСЧЕТАМИ...</td>\n",
              "      <td>ФВ Симпсон   47</td>\n",
              "      <td>2019-12-04 14:25:33</td>\n",
              "    </tr>\n",
              "    <tr>\n",
              "      <th>1</th>\n",
              "      <td>32609/С2021</td>\n",
              "      <td>ЭХОКАРДИОГРАФИЧЕСКОЕ ИССЛЕДОВАНИЕ (С РАСЧЕТАМИ...</td>\n",
              "      <td>ФВ Симпсон   57</td>\n",
              "      <td>2021-10-30 08:41:09</td>\n",
              "    </tr>\n",
              "    <tr>\n",
              "      <th>2</th>\n",
              "      <td>32609/С2021</td>\n",
              "      <td>ЭХОКАРДИОГРАФИЧЕСКОЕ ИССЛЕДОВАНИЕ (С РАСЧЕТАМИ...</td>\n",
              "      <td>ФВ Симпсон   60</td>\n",
              "      <td>2019-10-08 21:49:06</td>\n",
              "    </tr>\n",
              "    <tr>\n",
              "      <th>3</th>\n",
              "      <td>32609/С2021</td>\n",
              "      <td>ЭХОКАРДИОГРАФИЧЕСКОЕ ИССЛЕДОВАНИЕ ПОВТОРНОЕ РЕ...</td>\n",
              "      <td>ФВ Симпсон   57</td>\n",
              "      <td>2019-10-23 09:33:55</td>\n",
              "    </tr>\n",
              "    <tr>\n",
              "      <th>4</th>\n",
              "      <td>822/С2020</td>\n",
              "      <td>ЭХОКАРДИОГРАФИЧЕСКОЕ ИССЛЕДОВАНИЕ (С РАСЧЕТАМИ...</td>\n",
              "      <td>ФВ Симпсон   65</td>\n",
              "      <td>2019-07-12 10:39:35</td>\n",
              "    </tr>\n",
              "    <tr>\n",
              "      <th>...</th>\n",
              "      <td>...</td>\n",
              "      <td>...</td>\n",
              "      <td>...</td>\n",
              "      <td>...</td>\n",
              "    </tr>\n",
              "    <tr>\n",
              "      <th>288</th>\n",
              "      <td>22247/С2016</td>\n",
              "      <td>ЭХОКАРДИОГРАФИЧЕСКОЕ ИССЛЕДОВАНИЕ РЕЗУЛЬТАТ</td>\n",
              "      <td>ФВ Симпсон   35</td>\n",
              "      <td>2016-09-10 16:35:42</td>\n",
              "    </tr>\n",
              "    <tr>\n",
              "      <th>289</th>\n",
              "      <td>6789/С2016</td>\n",
              "      <td>ЭХОКАРДИОГРАФИЧЕСКОЕ ИССЛЕДОВАНИЕ РЕЗУЛЬТАТ</td>\n",
              "      <td>ФВ Симпсон   50</td>\n",
              "      <td>2016-03-14 16:06:35</td>\n",
              "    </tr>\n",
              "    <tr>\n",
              "      <th>290</th>\n",
              "      <td>24089/С2019</td>\n",
              "      <td>ЭХОКАРДИОГРАФИЧЕСКОЕ ИССЛЕДОВАНИЕ РЕЗУЛЬТАТ</td>\n",
              "      <td>ФВ Симпсон   32</td>\n",
              "      <td>2019-09-12 11:20:30</td>\n",
              "    </tr>\n",
              "    <tr>\n",
              "      <th>291</th>\n",
              "      <td>24089/С2019</td>\n",
              "      <td>ЭХОКАРДИОГРАФИЧЕСКОЕ ИССЛЕДОВАНИЕ (С РАСЧЕТАМИ...</td>\n",
              "      <td>ФВ Симпсон   33</td>\n",
              "      <td>2019-09-20 11:26:07</td>\n",
              "    </tr>\n",
              "    <tr>\n",
              "      <th>292</th>\n",
              "      <td>24089/С2019</td>\n",
              "      <td>ЭХОКАРДИОГРАФИЧЕСКОЕ ИССЛЕДОВАНИЕ (С РАСЧЕТАМИ...</td>\n",
              "      <td>ФВ Симпсон   37</td>\n",
              "      <td>2019-09-22 17:31:53</td>\n",
              "    </tr>\n",
              "  </tbody>\n",
              "</table>\n",
              "<p>1258 rows × 4 columns</p>\n",
              "</div>\n",
              "    <div class=\"colab-df-buttons\">\n",
              "\n",
              "  <div class=\"colab-df-container\">\n",
              "    <button class=\"colab-df-convert\" onclick=\"convertToInteractive('df-613748e9-460d-4009-b42c-1685d9ef0597')\"\n",
              "            title=\"Convert this dataframe to an interactive table.\"\n",
              "            style=\"display:none;\">\n",
              "\n",
              "  <svg xmlns=\"http://www.w3.org/2000/svg\" height=\"24px\" viewBox=\"0 -960 960 960\">\n",
              "    <path d=\"M120-120v-720h720v720H120Zm60-500h600v-160H180v160Zm220 220h160v-160H400v160Zm0 220h160v-160H400v160ZM180-400h160v-160H180v160Zm440 0h160v-160H620v160ZM180-180h160v-160H180v160Zm440 0h160v-160H620v160Z\"/>\n",
              "  </svg>\n",
              "    </button>\n",
              "\n",
              "  <style>\n",
              "    .colab-df-container {\n",
              "      display:flex;\n",
              "      gap: 12px;\n",
              "    }\n",
              "\n",
              "    .colab-df-convert {\n",
              "      background-color: #E8F0FE;\n",
              "      border: none;\n",
              "      border-radius: 50%;\n",
              "      cursor: pointer;\n",
              "      display: none;\n",
              "      fill: #1967D2;\n",
              "      height: 32px;\n",
              "      padding: 0 0 0 0;\n",
              "      width: 32px;\n",
              "    }\n",
              "\n",
              "    .colab-df-convert:hover {\n",
              "      background-color: #E2EBFA;\n",
              "      box-shadow: 0px 1px 2px rgba(60, 64, 67, 0.3), 0px 1px 3px 1px rgba(60, 64, 67, 0.15);\n",
              "      fill: #174EA6;\n",
              "    }\n",
              "\n",
              "    .colab-df-buttons div {\n",
              "      margin-bottom: 4px;\n",
              "    }\n",
              "\n",
              "    [theme=dark] .colab-df-convert {\n",
              "      background-color: #3B4455;\n",
              "      fill: #D2E3FC;\n",
              "    }\n",
              "\n",
              "    [theme=dark] .colab-df-convert:hover {\n",
              "      background-color: #434B5C;\n",
              "      box-shadow: 0px 1px 3px 1px rgba(0, 0, 0, 0.15);\n",
              "      filter: drop-shadow(0px 1px 2px rgba(0, 0, 0, 0.3));\n",
              "      fill: #FFFFFF;\n",
              "    }\n",
              "  </style>\n",
              "\n",
              "    <script>\n",
              "      const buttonEl =\n",
              "        document.querySelector('#df-613748e9-460d-4009-b42c-1685d9ef0597 button.colab-df-convert');\n",
              "      buttonEl.style.display =\n",
              "        google.colab.kernel.accessAllowed ? 'block' : 'none';\n",
              "\n",
              "      async function convertToInteractive(key) {\n",
              "        const element = document.querySelector('#df-613748e9-460d-4009-b42c-1685d9ef0597');\n",
              "        const dataTable =\n",
              "          await google.colab.kernel.invokeFunction('convertToInteractive',\n",
              "                                                    [key], {});\n",
              "        if (!dataTable) return;\n",
              "\n",
              "        const docLinkHtml = 'Like what you see? Visit the ' +\n",
              "          '<a target=\"_blank\" href=https://colab.research.google.com/notebooks/data_table.ipynb>data table notebook</a>'\n",
              "          + ' to learn more about interactive tables.';\n",
              "        element.innerHTML = '';\n",
              "        dataTable['output_type'] = 'display_data';\n",
              "        await google.colab.output.renderOutput(dataTable, element);\n",
              "        const docLink = document.createElement('div');\n",
              "        docLink.innerHTML = docLinkHtml;\n",
              "        element.appendChild(docLink);\n",
              "      }\n",
              "    </script>\n",
              "  </div>\n",
              "\n",
              "\n",
              "<div id=\"df-27b57408-0974-4e9e-a792-bdcfcf519d64\">\n",
              "  <button class=\"colab-df-quickchart\" onclick=\"quickchart('df-27b57408-0974-4e9e-a792-bdcfcf519d64')\"\n",
              "            title=\"Suggest charts\"\n",
              "            style=\"display:none;\">\n",
              "\n",
              "<svg xmlns=\"http://www.w3.org/2000/svg\" height=\"24px\"viewBox=\"0 0 24 24\"\n",
              "     width=\"24px\">\n",
              "    <g>\n",
              "        <path d=\"M19 3H5c-1.1 0-2 .9-2 2v14c0 1.1.9 2 2 2h14c1.1 0 2-.9 2-2V5c0-1.1-.9-2-2-2zM9 17H7v-7h2v7zm4 0h-2V7h2v10zm4 0h-2v-4h2v4z\"/>\n",
              "    </g>\n",
              "</svg>\n",
              "  </button>\n",
              "\n",
              "<style>\n",
              "  .colab-df-quickchart {\n",
              "      --bg-color: #E8F0FE;\n",
              "      --fill-color: #1967D2;\n",
              "      --hover-bg-color: #E2EBFA;\n",
              "      --hover-fill-color: #174EA6;\n",
              "      --disabled-fill-color: #AAA;\n",
              "      --disabled-bg-color: #DDD;\n",
              "  }\n",
              "\n",
              "  [theme=dark] .colab-df-quickchart {\n",
              "      --bg-color: #3B4455;\n",
              "      --fill-color: #D2E3FC;\n",
              "      --hover-bg-color: #434B5C;\n",
              "      --hover-fill-color: #FFFFFF;\n",
              "      --disabled-bg-color: #3B4455;\n",
              "      --disabled-fill-color: #666;\n",
              "  }\n",
              "\n",
              "  .colab-df-quickchart {\n",
              "    background-color: var(--bg-color);\n",
              "    border: none;\n",
              "    border-radius: 50%;\n",
              "    cursor: pointer;\n",
              "    display: none;\n",
              "    fill: var(--fill-color);\n",
              "    height: 32px;\n",
              "    padding: 0;\n",
              "    width: 32px;\n",
              "  }\n",
              "\n",
              "  .colab-df-quickchart:hover {\n",
              "    background-color: var(--hover-bg-color);\n",
              "    box-shadow: 0 1px 2px rgba(60, 64, 67, 0.3), 0 1px 3px 1px rgba(60, 64, 67, 0.15);\n",
              "    fill: var(--button-hover-fill-color);\n",
              "  }\n",
              "\n",
              "  .colab-df-quickchart-complete:disabled,\n",
              "  .colab-df-quickchart-complete:disabled:hover {\n",
              "    background-color: var(--disabled-bg-color);\n",
              "    fill: var(--disabled-fill-color);\n",
              "    box-shadow: none;\n",
              "  }\n",
              "\n",
              "  .colab-df-spinner {\n",
              "    border: 2px solid var(--fill-color);\n",
              "    border-color: transparent;\n",
              "    border-bottom-color: var(--fill-color);\n",
              "    animation:\n",
              "      spin 1s steps(1) infinite;\n",
              "  }\n",
              "\n",
              "  @keyframes spin {\n",
              "    0% {\n",
              "      border-color: transparent;\n",
              "      border-bottom-color: var(--fill-color);\n",
              "      border-left-color: var(--fill-color);\n",
              "    }\n",
              "    20% {\n",
              "      border-color: transparent;\n",
              "      border-left-color: var(--fill-color);\n",
              "      border-top-color: var(--fill-color);\n",
              "    }\n",
              "    30% {\n",
              "      border-color: transparent;\n",
              "      border-left-color: var(--fill-color);\n",
              "      border-top-color: var(--fill-color);\n",
              "      border-right-color: var(--fill-color);\n",
              "    }\n",
              "    40% {\n",
              "      border-color: transparent;\n",
              "      border-right-color: var(--fill-color);\n",
              "      border-top-color: var(--fill-color);\n",
              "    }\n",
              "    60% {\n",
              "      border-color: transparent;\n",
              "      border-right-color: var(--fill-color);\n",
              "    }\n",
              "    80% {\n",
              "      border-color: transparent;\n",
              "      border-right-color: var(--fill-color);\n",
              "      border-bottom-color: var(--fill-color);\n",
              "    }\n",
              "    90% {\n",
              "      border-color: transparent;\n",
              "      border-bottom-color: var(--fill-color);\n",
              "    }\n",
              "  }\n",
              "</style>\n",
              "\n",
              "  <script>\n",
              "    async function quickchart(key) {\n",
              "      const quickchartButtonEl =\n",
              "        document.querySelector('#' + key + ' button');\n",
              "      quickchartButtonEl.disabled = true;  // To prevent multiple clicks.\n",
              "      quickchartButtonEl.classList.add('colab-df-spinner');\n",
              "      try {\n",
              "        const charts = await google.colab.kernel.invokeFunction(\n",
              "            'suggestCharts', [key], {});\n",
              "      } catch (error) {\n",
              "        console.error('Error during call to suggestCharts:', error);\n",
              "      }\n",
              "      quickchartButtonEl.classList.remove('colab-df-spinner');\n",
              "      quickchartButtonEl.classList.add('colab-df-quickchart-complete');\n",
              "    }\n",
              "    (() => {\n",
              "      let quickchartButtonEl =\n",
              "        document.querySelector('#df-27b57408-0974-4e9e-a792-bdcfcf519d64 button');\n",
              "      quickchartButtonEl.style.display =\n",
              "        google.colab.kernel.accessAllowed ? 'block' : 'none';\n",
              "    })();\n",
              "  </script>\n",
              "</div>\n",
              "    </div>\n",
              "  </div>\n"
            ],
            "application/vnd.google.colaboratory.intrinsic+json": {
              "type": "dataframe",
              "variable_name": "simpson",
              "summary": "{\n  \"name\": \"simpson\",\n  \"rows\": 1258,\n  \"fields\": [\n    {\n      \"column\": \"\\u041d\\u043e\\u043c\\u0435\\u0440_\\u044d\\u043f\\u0438\\u0437\\u043e\\u0434\\u0430\",\n      \"properties\": {\n        \"dtype\": \"string\",\n        \"num_unique_values\": 752,\n        \"samples\": [\n          \"12016/\\u04212019\",\n          \"6556/\\u04212020\",\n          \"29201/\\u04212020\"\n        ],\n        \"semantic_type\": \"\",\n        \"description\": \"\"\n      }\n    },\n    {\n      \"column\": \"\\u0421\\u0442\\u0430\\u0442\\u0443\\u0441\",\n      \"properties\": {\n        \"dtype\": \"category\",\n        \"num_unique_values\": 4,\n        \"samples\": [\n          \"\\u042d\\u0425\\u041e\\u041a\\u0410\\u0420\\u0414\\u0418\\u041e\\u0413\\u0420\\u0410\\u0424\\u0418\\u0427\\u0415\\u0421\\u041a\\u041e\\u0415 \\u0418\\u0421\\u0421\\u041b\\u0415\\u0414\\u041e\\u0412\\u0410\\u041d\\u0418\\u0415 \\u041f\\u041e\\u0412\\u0422\\u041e\\u0420\\u041d\\u041e\\u0415 \\u0420\\u0415\\u0417\\u0423\\u041b\\u042c\\u0422\\u0410\\u0422\",\n          \"\\u042d\\u0425\\u041e\\u041a\\u0410\\u0420\\u0414\\u0418\\u041e\\u0413\\u0420\\u0410\\u0424\\u0418\\u0427\\u0415\\u0421\\u041a\\u041e\\u0415 \\u0418\\u0421\\u0421\\u041b\\u0415\\u0414\\u041e\\u0412\\u0410\\u041d\\u0418\\u0415 \\u0420\\u0415\\u0417\\u0423\\u041b\\u042c\\u0422\\u0410\\u0422 NEW\",\n          \"\\u042d\\u0425\\u041e\\u041a\\u0410\\u0420\\u0414\\u0418\\u041e\\u0413\\u0420\\u0410\\u0424\\u0418\\u0427\\u0415\\u0421\\u041a\\u041e\\u0415 \\u0418\\u0421\\u0421\\u041b\\u0415\\u0414\\u041e\\u0412\\u0410\\u041d\\u0418\\u0415 (\\u0421 \\u0420\\u0410\\u0421\\u0427\\u0415\\u0422\\u0410\\u041c\\u0418) (\\u044d\\u043a\\u0441\\u043f\\u0435\\u0440\\u0438\\u043c\\u0435\\u043d\\u0442)\"\n        ],\n        \"semantic_type\": \"\",\n        \"description\": \"\"\n      }\n    },\n    {\n      \"column\": \"Unnamed: 2\",\n      \"properties\": {\n        \"dtype\": \"category\",\n        \"num_unique_values\": 84,\n        \"samples\": [\n          \"\\u0424\\u0412 \\u0421\\u0438\\u043c\\u043f\\u0441\\u043e\\u043d 12  % \",\n          \"\\u0424\\u0412 \\u0421\\u0438\\u043c\\u043f\\u0441\\u043e\\u043d   47  \",\n          \"\\u0424\\u0412 \\u0421\\u0438\\u043c\\u043f\\u0441\\u043e\\u043d   26  \"\n        ],\n        \"semantic_type\": \"\",\n        \"description\": \"\"\n      }\n    },\n    {\n      \"column\": \"\\u041a\\u043e\\u0440\\u0440\\u0435\\u043a\\u0446\\u0438\\u044f_\\u0434\\u0430\\u0442\\u0430_\\u0432\\u0440\\u0435\\u043c\\u044f\",\n      \"properties\": {\n        \"dtype\": \"date\",\n        \"min\": \"2014-01-27 09:52:29\",\n        \"max\": \"2022-12-07 14:38:47\",\n        \"num_unique_values\": 1169,\n        \"samples\": [\n          \"2021-03-03 14:10:22\",\n          \"2022-08-07 00:04:36\",\n          \"2020-03-08 01:25:08\"\n        ],\n        \"semantic_type\": \"\",\n        \"description\": \"\"\n      }\n    }\n  ]\n}"
            }
          },
          "metadata": {},
          "execution_count": 306
        }
      ]
    },
    {
      "cell_type": "code",
      "source": [
        "simpson['Симпсон'] = simpson['Unnamed: 2'].str.extract('(\\d+)').astype(int)  # Создаем новый столбец 'Симпсон', извлекая числа из 'Unnamed: 2'\n",
        "\n",
        "# Преобразуем 'Коррекция_дата_время' в формат datetime\n",
        "simpson['Коррекция_дата_время'] = pd.to_datetime(simpson['Коррекция_дата_время'])\n",
        "\n",
        "# Сортируем по 'Номер_эпизода' и 'Коррекция_дата_время', затем оставляем только первую запись для каждого 'Номер_эпизода'\n",
        "simpson = simpson.sort_values(['Номер_эпизода', 'Коррекция_дата_время']).groupby('Номер_эпизода').first().reset_index()\n",
        "\n",
        "# Оставляем только столбцы 'Номер_эпизода' и 'Симпсон'\n",
        "simpson = simpson[['Номер_эпизода', 'Симпсон']]"
      ],
      "metadata": {
        "id": "YL3eHkTbefuc"
      },
      "execution_count": null,
      "outputs": []
    },
    {
      "cell_type": "code",
      "source": [
        "simpson"
      ],
      "metadata": {
        "colab": {
          "base_uri": "https://localhost:8080/",
          "height": 424
        },
        "id": "fcGt2N47efrv",
        "outputId": "63a3e1da-55d7-4ae5-da1c-aa182f28af1f"
      },
      "execution_count": null,
      "outputs": [
        {
          "output_type": "execute_result",
          "data": {
            "text/plain": [
              "    Номер_эпизода  Симпсон\n",
              "0       101/С2021       56\n",
              "1     10208/С2021       42\n",
              "2     10248/С2021       35\n",
              "3     10317/С2015       57\n",
              "4     10326/С2021       59\n",
              "..            ...      ...\n",
              "747    9926/С2020       62\n",
              "748    9948/С2018       39\n",
              "749     996/С2021       60\n",
              "750    9986/С2021       56\n",
              "751    9992/С2015       40\n",
              "\n",
              "[752 rows x 2 columns]"
            ],
            "text/html": [
              "\n",
              "  <div id=\"df-b5231481-c183-4e92-8fec-09a3fd2c49e1\" class=\"colab-df-container\">\n",
              "    <div>\n",
              "<style scoped>\n",
              "    .dataframe tbody tr th:only-of-type {\n",
              "        vertical-align: middle;\n",
              "    }\n",
              "\n",
              "    .dataframe tbody tr th {\n",
              "        vertical-align: top;\n",
              "    }\n",
              "\n",
              "    .dataframe thead th {\n",
              "        text-align: right;\n",
              "    }\n",
              "</style>\n",
              "<table border=\"1\" class=\"dataframe\">\n",
              "  <thead>\n",
              "    <tr style=\"text-align: right;\">\n",
              "      <th></th>\n",
              "      <th>Номер_эпизода</th>\n",
              "      <th>Симпсон</th>\n",
              "    </tr>\n",
              "  </thead>\n",
              "  <tbody>\n",
              "    <tr>\n",
              "      <th>0</th>\n",
              "      <td>101/С2021</td>\n",
              "      <td>56</td>\n",
              "    </tr>\n",
              "    <tr>\n",
              "      <th>1</th>\n",
              "      <td>10208/С2021</td>\n",
              "      <td>42</td>\n",
              "    </tr>\n",
              "    <tr>\n",
              "      <th>2</th>\n",
              "      <td>10248/С2021</td>\n",
              "      <td>35</td>\n",
              "    </tr>\n",
              "    <tr>\n",
              "      <th>3</th>\n",
              "      <td>10317/С2015</td>\n",
              "      <td>57</td>\n",
              "    </tr>\n",
              "    <tr>\n",
              "      <th>4</th>\n",
              "      <td>10326/С2021</td>\n",
              "      <td>59</td>\n",
              "    </tr>\n",
              "    <tr>\n",
              "      <th>...</th>\n",
              "      <td>...</td>\n",
              "      <td>...</td>\n",
              "    </tr>\n",
              "    <tr>\n",
              "      <th>747</th>\n",
              "      <td>9926/С2020</td>\n",
              "      <td>62</td>\n",
              "    </tr>\n",
              "    <tr>\n",
              "      <th>748</th>\n",
              "      <td>9948/С2018</td>\n",
              "      <td>39</td>\n",
              "    </tr>\n",
              "    <tr>\n",
              "      <th>749</th>\n",
              "      <td>996/С2021</td>\n",
              "      <td>60</td>\n",
              "    </tr>\n",
              "    <tr>\n",
              "      <th>750</th>\n",
              "      <td>9986/С2021</td>\n",
              "      <td>56</td>\n",
              "    </tr>\n",
              "    <tr>\n",
              "      <th>751</th>\n",
              "      <td>9992/С2015</td>\n",
              "      <td>40</td>\n",
              "    </tr>\n",
              "  </tbody>\n",
              "</table>\n",
              "<p>752 rows × 2 columns</p>\n",
              "</div>\n",
              "    <div class=\"colab-df-buttons\">\n",
              "\n",
              "  <div class=\"colab-df-container\">\n",
              "    <button class=\"colab-df-convert\" onclick=\"convertToInteractive('df-b5231481-c183-4e92-8fec-09a3fd2c49e1')\"\n",
              "            title=\"Convert this dataframe to an interactive table.\"\n",
              "            style=\"display:none;\">\n",
              "\n",
              "  <svg xmlns=\"http://www.w3.org/2000/svg\" height=\"24px\" viewBox=\"0 -960 960 960\">\n",
              "    <path d=\"M120-120v-720h720v720H120Zm60-500h600v-160H180v160Zm220 220h160v-160H400v160Zm0 220h160v-160H400v160ZM180-400h160v-160H180v160Zm440 0h160v-160H620v160ZM180-180h160v-160H180v160Zm440 0h160v-160H620v160Z\"/>\n",
              "  </svg>\n",
              "    </button>\n",
              "\n",
              "  <style>\n",
              "    .colab-df-container {\n",
              "      display:flex;\n",
              "      gap: 12px;\n",
              "    }\n",
              "\n",
              "    .colab-df-convert {\n",
              "      background-color: #E8F0FE;\n",
              "      border: none;\n",
              "      border-radius: 50%;\n",
              "      cursor: pointer;\n",
              "      display: none;\n",
              "      fill: #1967D2;\n",
              "      height: 32px;\n",
              "      padding: 0 0 0 0;\n",
              "      width: 32px;\n",
              "    }\n",
              "\n",
              "    .colab-df-convert:hover {\n",
              "      background-color: #E2EBFA;\n",
              "      box-shadow: 0px 1px 2px rgba(60, 64, 67, 0.3), 0px 1px 3px 1px rgba(60, 64, 67, 0.15);\n",
              "      fill: #174EA6;\n",
              "    }\n",
              "\n",
              "    .colab-df-buttons div {\n",
              "      margin-bottom: 4px;\n",
              "    }\n",
              "\n",
              "    [theme=dark] .colab-df-convert {\n",
              "      background-color: #3B4455;\n",
              "      fill: #D2E3FC;\n",
              "    }\n",
              "\n",
              "    [theme=dark] .colab-df-convert:hover {\n",
              "      background-color: #434B5C;\n",
              "      box-shadow: 0px 1px 3px 1px rgba(0, 0, 0, 0.15);\n",
              "      filter: drop-shadow(0px 1px 2px rgba(0, 0, 0, 0.3));\n",
              "      fill: #FFFFFF;\n",
              "    }\n",
              "  </style>\n",
              "\n",
              "    <script>\n",
              "      const buttonEl =\n",
              "        document.querySelector('#df-b5231481-c183-4e92-8fec-09a3fd2c49e1 button.colab-df-convert');\n",
              "      buttonEl.style.display =\n",
              "        google.colab.kernel.accessAllowed ? 'block' : 'none';\n",
              "\n",
              "      async function convertToInteractive(key) {\n",
              "        const element = document.querySelector('#df-b5231481-c183-4e92-8fec-09a3fd2c49e1');\n",
              "        const dataTable =\n",
              "          await google.colab.kernel.invokeFunction('convertToInteractive',\n",
              "                                                    [key], {});\n",
              "        if (!dataTable) return;\n",
              "\n",
              "        const docLinkHtml = 'Like what you see? Visit the ' +\n",
              "          '<a target=\"_blank\" href=https://colab.research.google.com/notebooks/data_table.ipynb>data table notebook</a>'\n",
              "          + ' to learn more about interactive tables.';\n",
              "        element.innerHTML = '';\n",
              "        dataTable['output_type'] = 'display_data';\n",
              "        await google.colab.output.renderOutput(dataTable, element);\n",
              "        const docLink = document.createElement('div');\n",
              "        docLink.innerHTML = docLinkHtml;\n",
              "        element.appendChild(docLink);\n",
              "      }\n",
              "    </script>\n",
              "  </div>\n",
              "\n",
              "\n",
              "<div id=\"df-a346ad9a-2ec4-4e1e-ac84-139dd0c7d888\">\n",
              "  <button class=\"colab-df-quickchart\" onclick=\"quickchart('df-a346ad9a-2ec4-4e1e-ac84-139dd0c7d888')\"\n",
              "            title=\"Suggest charts\"\n",
              "            style=\"display:none;\">\n",
              "\n",
              "<svg xmlns=\"http://www.w3.org/2000/svg\" height=\"24px\"viewBox=\"0 0 24 24\"\n",
              "     width=\"24px\">\n",
              "    <g>\n",
              "        <path d=\"M19 3H5c-1.1 0-2 .9-2 2v14c0 1.1.9 2 2 2h14c1.1 0 2-.9 2-2V5c0-1.1-.9-2-2-2zM9 17H7v-7h2v7zm4 0h-2V7h2v10zm4 0h-2v-4h2v4z\"/>\n",
              "    </g>\n",
              "</svg>\n",
              "  </button>\n",
              "\n",
              "<style>\n",
              "  .colab-df-quickchart {\n",
              "      --bg-color: #E8F0FE;\n",
              "      --fill-color: #1967D2;\n",
              "      --hover-bg-color: #E2EBFA;\n",
              "      --hover-fill-color: #174EA6;\n",
              "      --disabled-fill-color: #AAA;\n",
              "      --disabled-bg-color: #DDD;\n",
              "  }\n",
              "\n",
              "  [theme=dark] .colab-df-quickchart {\n",
              "      --bg-color: #3B4455;\n",
              "      --fill-color: #D2E3FC;\n",
              "      --hover-bg-color: #434B5C;\n",
              "      --hover-fill-color: #FFFFFF;\n",
              "      --disabled-bg-color: #3B4455;\n",
              "      --disabled-fill-color: #666;\n",
              "  }\n",
              "\n",
              "  .colab-df-quickchart {\n",
              "    background-color: var(--bg-color);\n",
              "    border: none;\n",
              "    border-radius: 50%;\n",
              "    cursor: pointer;\n",
              "    display: none;\n",
              "    fill: var(--fill-color);\n",
              "    height: 32px;\n",
              "    padding: 0;\n",
              "    width: 32px;\n",
              "  }\n",
              "\n",
              "  .colab-df-quickchart:hover {\n",
              "    background-color: var(--hover-bg-color);\n",
              "    box-shadow: 0 1px 2px rgba(60, 64, 67, 0.3), 0 1px 3px 1px rgba(60, 64, 67, 0.15);\n",
              "    fill: var(--button-hover-fill-color);\n",
              "  }\n",
              "\n",
              "  .colab-df-quickchart-complete:disabled,\n",
              "  .colab-df-quickchart-complete:disabled:hover {\n",
              "    background-color: var(--disabled-bg-color);\n",
              "    fill: var(--disabled-fill-color);\n",
              "    box-shadow: none;\n",
              "  }\n",
              "\n",
              "  .colab-df-spinner {\n",
              "    border: 2px solid var(--fill-color);\n",
              "    border-color: transparent;\n",
              "    border-bottom-color: var(--fill-color);\n",
              "    animation:\n",
              "      spin 1s steps(1) infinite;\n",
              "  }\n",
              "\n",
              "  @keyframes spin {\n",
              "    0% {\n",
              "      border-color: transparent;\n",
              "      border-bottom-color: var(--fill-color);\n",
              "      border-left-color: var(--fill-color);\n",
              "    }\n",
              "    20% {\n",
              "      border-color: transparent;\n",
              "      border-left-color: var(--fill-color);\n",
              "      border-top-color: var(--fill-color);\n",
              "    }\n",
              "    30% {\n",
              "      border-color: transparent;\n",
              "      border-left-color: var(--fill-color);\n",
              "      border-top-color: var(--fill-color);\n",
              "      border-right-color: var(--fill-color);\n",
              "    }\n",
              "    40% {\n",
              "      border-color: transparent;\n",
              "      border-right-color: var(--fill-color);\n",
              "      border-top-color: var(--fill-color);\n",
              "    }\n",
              "    60% {\n",
              "      border-color: transparent;\n",
              "      border-right-color: var(--fill-color);\n",
              "    }\n",
              "    80% {\n",
              "      border-color: transparent;\n",
              "      border-right-color: var(--fill-color);\n",
              "      border-bottom-color: var(--fill-color);\n",
              "    }\n",
              "    90% {\n",
              "      border-color: transparent;\n",
              "      border-bottom-color: var(--fill-color);\n",
              "    }\n",
              "  }\n",
              "</style>\n",
              "\n",
              "  <script>\n",
              "    async function quickchart(key) {\n",
              "      const quickchartButtonEl =\n",
              "        document.querySelector('#' + key + ' button');\n",
              "      quickchartButtonEl.disabled = true;  // To prevent multiple clicks.\n",
              "      quickchartButtonEl.classList.add('colab-df-spinner');\n",
              "      try {\n",
              "        const charts = await google.colab.kernel.invokeFunction(\n",
              "            'suggestCharts', [key], {});\n",
              "      } catch (error) {\n",
              "        console.error('Error during call to suggestCharts:', error);\n",
              "      }\n",
              "      quickchartButtonEl.classList.remove('colab-df-spinner');\n",
              "      quickchartButtonEl.classList.add('colab-df-quickchart-complete');\n",
              "    }\n",
              "    (() => {\n",
              "      let quickchartButtonEl =\n",
              "        document.querySelector('#df-a346ad9a-2ec4-4e1e-ac84-139dd0c7d888 button');\n",
              "      quickchartButtonEl.style.display =\n",
              "        google.colab.kernel.accessAllowed ? 'block' : 'none';\n",
              "    })();\n",
              "  </script>\n",
              "</div>\n",
              "    </div>\n",
              "  </div>\n"
            ],
            "application/vnd.google.colaboratory.intrinsic+json": {
              "type": "dataframe",
              "variable_name": "simpson",
              "summary": "{\n  \"name\": \"simpson\",\n  \"rows\": 752,\n  \"fields\": [\n    {\n      \"column\": \"\\u041d\\u043e\\u043c\\u0435\\u0440_\\u044d\\u043f\\u0438\\u0437\\u043e\\u0434\\u0430\",\n      \"properties\": {\n        \"dtype\": \"string\",\n        \"num_unique_values\": 752,\n        \"samples\": [\n          \"38452/\\u04212021\",\n          \"38925/\\u04212021\",\n          \"31619/\\u04212021\"\n        ],\n        \"semantic_type\": \"\",\n        \"description\": \"\"\n      }\n    },\n    {\n      \"column\": \"\\u0421\\u0438\\u043c\\u043f\\u0441\\u043e\\u043d\",\n      \"properties\": {\n        \"dtype\": \"number\",\n        \"std\": 12,\n        \"min\": 15,\n        \"max\": 75,\n        \"num_unique_values\": 60,\n        \"samples\": [\n          56,\n          32,\n          52\n        ],\n        \"semantic_type\": \"\",\n        \"description\": \"\"\n      }\n    }\n  ]\n}"
            }
          },
          "metadata": {},
          "execution_count": 308
        }
      ]
    },
    {
      "cell_type": "code",
      "source": [
        "df = merge_dfs(df, simpson, on='Номер_эпизода', how='left')"
      ],
      "metadata": {
        "id": "YqYVzBmmefpG"
      },
      "execution_count": null,
      "outputs": []
    },
    {
      "cell_type": "code",
      "source": [
        "df.shape"
      ],
      "metadata": {
        "colab": {
          "base_uri": "https://localhost:8080/"
        },
        "id": "xr0CWsdvNw1M",
        "outputId": "6b7da002-6ece-412a-bf1c-a6a8bbd52991"
      },
      "execution_count": null,
      "outputs": [
        {
          "output_type": "execute_result",
          "data": {
            "text/plain": [
              "(3200, 87)"
            ]
          },
          "metadata": {},
          "execution_count": 310
        }
      ]
    },
    {
      "cell_type": "code",
      "source": [
        "df"
      ],
      "metadata": {
        "colab": {
          "base_uri": "https://localhost:8080/",
          "height": 424
        },
        "id": "A3gDJQ0dJEHf",
        "outputId": "44394a3d-9c85-4b6c-d72f-392e24dccaa3"
      },
      "execution_count": null,
      "outputs": [
        {
          "output_type": "execute_result",
          "data": {
            "text/plain": [
              "     Номер_эпизода  Исход инфаркт  Сахарный диабет  ОНМК  \\\n",
              "0      10012/С2024              0                1     0   \n",
              "1       1004/С2021              0                0     0   \n",
              "2      10087/С2019              0                0     1   \n",
              "3      10090/С2019              0                1     0   \n",
              "4        101/С2021              0                1     0   \n",
              "...            ...            ...              ...   ...   \n",
              "3195     996/С2021              0                0     1   \n",
              "3196    9973/С2020              0                0     1   \n",
              "3197    9986/С2021              0                1     0   \n",
              "3198    9992/С2015              0                0     0   \n",
              "3199    9998/С2019              0                0     0   \n",
              "\n",
              "      Фибрилляция предсердий  ХБП  Депрессия  Отек легких  Кардиогенный шок  \\\n",
              "0                          0    1          0            1                 0   \n",
              "1                          0    0          0            0                 0   \n",
              "2                          0    0          0            0                 0   \n",
              "3                          0    0          1            0                 0   \n",
              "4                          0    0          0            0                 0   \n",
              "...                      ...  ...        ...          ...               ...   \n",
              "3195                       1    0          1            0                 0   \n",
              "3196                       0    0          0            0                 0   \n",
              "3197                       0    0          0            0                 0   \n",
              "3198                       0    0          0            0                 0   \n",
              "3199                       0    0          0            0                 0   \n",
              "\n",
              "      ПИКС  ...    PCT  ЛПВП  Моно_абс  Моно_отн  Глюкоза  нейтр_отн  ЛПОНП  \\\n",
              "0        0  ...  0.138   NaN      0.51       4.5      NaN       89.3    NaN   \n",
              "1        1  ...  0.173   NaN      0.32       4.5      NaN       71.2    NaN   \n",
              "2        0  ...    NaN   NaN       NaN       NaN      NaN        NaN    NaN   \n",
              "3        0  ...  0.200  0.94      0.55       7.1      NaN       67.5   2.83   \n",
              "4        0  ...  0.197  1.11      0.37       4.5      NaN       66.7   1.28   \n",
              "...    ...  ...    ...   ...       ...       ...      ...        ...    ...   \n",
              "3195     0  ...  0.186  1.55      0.67       6.5      NaN       68.5   0.56   \n",
              "3196     0  ...    NaN   NaN       NaN       NaN      NaN        NaN    NaN   \n",
              "3197     0  ...  0.213  0.87      0.46       6.8    13.38       51.1   2.72   \n",
              "3198     0  ...    NaN   NaN       NaN       NaN      NaN        NaN    NaN   \n",
              "3199     0  ...    NaN   NaN       NaN       NaN      NaN        NaN    NaN   \n",
              "\n",
              "      ЛПНП   креат  Симпсон  \n",
              "0      NaN   203.0      NaN  \n",
              "1      NaN    92.0     67.0  \n",
              "2      NaN     NaN     50.0  \n",
              "3     1.82    52.0     55.0  \n",
              "4     2.26   58.00     56.0  \n",
              "...    ...     ...      ...  \n",
              "3195  4.24  120.00     60.0  \n",
              "3196   NaN     NaN      NaN  \n",
              "3197  1.72   66.90     56.0  \n",
              "3198   NaN   112.0     40.0  \n",
              "3199   NaN     NaN      NaN  \n",
              "\n",
              "[3200 rows x 87 columns]"
            ],
            "text/html": [
              "\n",
              "  <div id=\"df-ab206708-f268-4027-8390-19698e95c5ee\" class=\"colab-df-container\">\n",
              "    <div>\n",
              "<style scoped>\n",
              "    .dataframe tbody tr th:only-of-type {\n",
              "        vertical-align: middle;\n",
              "    }\n",
              "\n",
              "    .dataframe tbody tr th {\n",
              "        vertical-align: top;\n",
              "    }\n",
              "\n",
              "    .dataframe thead th {\n",
              "        text-align: right;\n",
              "    }\n",
              "</style>\n",
              "<table border=\"1\" class=\"dataframe\">\n",
              "  <thead>\n",
              "    <tr style=\"text-align: right;\">\n",
              "      <th></th>\n",
              "      <th>Номер_эпизода</th>\n",
              "      <th>Исход инфаркт</th>\n",
              "      <th>Сахарный диабет</th>\n",
              "      <th>ОНМК</th>\n",
              "      <th>Фибрилляция предсердий</th>\n",
              "      <th>ХБП</th>\n",
              "      <th>Депрессия</th>\n",
              "      <th>Отек легких</th>\n",
              "      <th>Кардиогенный шок</th>\n",
              "      <th>ПИКС</th>\n",
              "      <th>...</th>\n",
              "      <th>PCT</th>\n",
              "      <th>ЛПВП</th>\n",
              "      <th>Моно_абс</th>\n",
              "      <th>Моно_отн</th>\n",
              "      <th>Глюкоза</th>\n",
              "      <th>нейтр_отн</th>\n",
              "      <th>ЛПОНП</th>\n",
              "      <th>ЛПНП</th>\n",
              "      <th>креат</th>\n",
              "      <th>Симпсон</th>\n",
              "    </tr>\n",
              "  </thead>\n",
              "  <tbody>\n",
              "    <tr>\n",
              "      <th>0</th>\n",
              "      <td>10012/С2024</td>\n",
              "      <td>0</td>\n",
              "      <td>1</td>\n",
              "      <td>0</td>\n",
              "      <td>0</td>\n",
              "      <td>1</td>\n",
              "      <td>0</td>\n",
              "      <td>1</td>\n",
              "      <td>0</td>\n",
              "      <td>0</td>\n",
              "      <td>...</td>\n",
              "      <td>0.138</td>\n",
              "      <td>NaN</td>\n",
              "      <td>0.51</td>\n",
              "      <td>4.5</td>\n",
              "      <td>NaN</td>\n",
              "      <td>89.3</td>\n",
              "      <td>NaN</td>\n",
              "      <td>NaN</td>\n",
              "      <td>203.0</td>\n",
              "      <td>NaN</td>\n",
              "    </tr>\n",
              "    <tr>\n",
              "      <th>1</th>\n",
              "      <td>1004/С2021</td>\n",
              "      <td>0</td>\n",
              "      <td>0</td>\n",
              "      <td>0</td>\n",
              "      <td>0</td>\n",
              "      <td>0</td>\n",
              "      <td>0</td>\n",
              "      <td>0</td>\n",
              "      <td>0</td>\n",
              "      <td>1</td>\n",
              "      <td>...</td>\n",
              "      <td>0.173</td>\n",
              "      <td>NaN</td>\n",
              "      <td>0.32</td>\n",
              "      <td>4.5</td>\n",
              "      <td>NaN</td>\n",
              "      <td>71.2</td>\n",
              "      <td>NaN</td>\n",
              "      <td>NaN</td>\n",
              "      <td>92.0</td>\n",
              "      <td>67.0</td>\n",
              "    </tr>\n",
              "    <tr>\n",
              "      <th>2</th>\n",
              "      <td>10087/С2019</td>\n",
              "      <td>0</td>\n",
              "      <td>0</td>\n",
              "      <td>1</td>\n",
              "      <td>0</td>\n",
              "      <td>0</td>\n",
              "      <td>0</td>\n",
              "      <td>0</td>\n",
              "      <td>0</td>\n",
              "      <td>0</td>\n",
              "      <td>...</td>\n",
              "      <td>NaN</td>\n",
              "      <td>NaN</td>\n",
              "      <td>NaN</td>\n",
              "      <td>NaN</td>\n",
              "      <td>NaN</td>\n",
              "      <td>NaN</td>\n",
              "      <td>NaN</td>\n",
              "      <td>NaN</td>\n",
              "      <td>NaN</td>\n",
              "      <td>50.0</td>\n",
              "    </tr>\n",
              "    <tr>\n",
              "      <th>3</th>\n",
              "      <td>10090/С2019</td>\n",
              "      <td>0</td>\n",
              "      <td>1</td>\n",
              "      <td>0</td>\n",
              "      <td>0</td>\n",
              "      <td>0</td>\n",
              "      <td>1</td>\n",
              "      <td>0</td>\n",
              "      <td>0</td>\n",
              "      <td>0</td>\n",
              "      <td>...</td>\n",
              "      <td>0.200</td>\n",
              "      <td>0.94</td>\n",
              "      <td>0.55</td>\n",
              "      <td>7.1</td>\n",
              "      <td>NaN</td>\n",
              "      <td>67.5</td>\n",
              "      <td>2.83</td>\n",
              "      <td>1.82</td>\n",
              "      <td>52.0</td>\n",
              "      <td>55.0</td>\n",
              "    </tr>\n",
              "    <tr>\n",
              "      <th>4</th>\n",
              "      <td>101/С2021</td>\n",
              "      <td>0</td>\n",
              "      <td>1</td>\n",
              "      <td>0</td>\n",
              "      <td>0</td>\n",
              "      <td>0</td>\n",
              "      <td>0</td>\n",
              "      <td>0</td>\n",
              "      <td>0</td>\n",
              "      <td>0</td>\n",
              "      <td>...</td>\n",
              "      <td>0.197</td>\n",
              "      <td>1.11</td>\n",
              "      <td>0.37</td>\n",
              "      <td>4.5</td>\n",
              "      <td>NaN</td>\n",
              "      <td>66.7</td>\n",
              "      <td>1.28</td>\n",
              "      <td>2.26</td>\n",
              "      <td>58.00</td>\n",
              "      <td>56.0</td>\n",
              "    </tr>\n",
              "    <tr>\n",
              "      <th>...</th>\n",
              "      <td>...</td>\n",
              "      <td>...</td>\n",
              "      <td>...</td>\n",
              "      <td>...</td>\n",
              "      <td>...</td>\n",
              "      <td>...</td>\n",
              "      <td>...</td>\n",
              "      <td>...</td>\n",
              "      <td>...</td>\n",
              "      <td>...</td>\n",
              "      <td>...</td>\n",
              "      <td>...</td>\n",
              "      <td>...</td>\n",
              "      <td>...</td>\n",
              "      <td>...</td>\n",
              "      <td>...</td>\n",
              "      <td>...</td>\n",
              "      <td>...</td>\n",
              "      <td>...</td>\n",
              "      <td>...</td>\n",
              "      <td>...</td>\n",
              "    </tr>\n",
              "    <tr>\n",
              "      <th>3195</th>\n",
              "      <td>996/С2021</td>\n",
              "      <td>0</td>\n",
              "      <td>0</td>\n",
              "      <td>1</td>\n",
              "      <td>1</td>\n",
              "      <td>0</td>\n",
              "      <td>1</td>\n",
              "      <td>0</td>\n",
              "      <td>0</td>\n",
              "      <td>0</td>\n",
              "      <td>...</td>\n",
              "      <td>0.186</td>\n",
              "      <td>1.55</td>\n",
              "      <td>0.67</td>\n",
              "      <td>6.5</td>\n",
              "      <td>NaN</td>\n",
              "      <td>68.5</td>\n",
              "      <td>0.56</td>\n",
              "      <td>4.24</td>\n",
              "      <td>120.00</td>\n",
              "      <td>60.0</td>\n",
              "    </tr>\n",
              "    <tr>\n",
              "      <th>3196</th>\n",
              "      <td>9973/С2020</td>\n",
              "      <td>0</td>\n",
              "      <td>0</td>\n",
              "      <td>1</td>\n",
              "      <td>0</td>\n",
              "      <td>0</td>\n",
              "      <td>0</td>\n",
              "      <td>0</td>\n",
              "      <td>0</td>\n",
              "      <td>0</td>\n",
              "      <td>...</td>\n",
              "      <td>NaN</td>\n",
              "      <td>NaN</td>\n",
              "      <td>NaN</td>\n",
              "      <td>NaN</td>\n",
              "      <td>NaN</td>\n",
              "      <td>NaN</td>\n",
              "      <td>NaN</td>\n",
              "      <td>NaN</td>\n",
              "      <td>NaN</td>\n",
              "      <td>NaN</td>\n",
              "    </tr>\n",
              "    <tr>\n",
              "      <th>3197</th>\n",
              "      <td>9986/С2021</td>\n",
              "      <td>0</td>\n",
              "      <td>1</td>\n",
              "      <td>0</td>\n",
              "      <td>0</td>\n",
              "      <td>0</td>\n",
              "      <td>0</td>\n",
              "      <td>0</td>\n",
              "      <td>0</td>\n",
              "      <td>0</td>\n",
              "      <td>...</td>\n",
              "      <td>0.213</td>\n",
              "      <td>0.87</td>\n",
              "      <td>0.46</td>\n",
              "      <td>6.8</td>\n",
              "      <td>13.38</td>\n",
              "      <td>51.1</td>\n",
              "      <td>2.72</td>\n",
              "      <td>1.72</td>\n",
              "      <td>66.90</td>\n",
              "      <td>56.0</td>\n",
              "    </tr>\n",
              "    <tr>\n",
              "      <th>3198</th>\n",
              "      <td>9992/С2015</td>\n",
              "      <td>0</td>\n",
              "      <td>0</td>\n",
              "      <td>0</td>\n",
              "      <td>0</td>\n",
              "      <td>0</td>\n",
              "      <td>0</td>\n",
              "      <td>0</td>\n",
              "      <td>0</td>\n",
              "      <td>0</td>\n",
              "      <td>...</td>\n",
              "      <td>NaN</td>\n",
              "      <td>NaN</td>\n",
              "      <td>NaN</td>\n",
              "      <td>NaN</td>\n",
              "      <td>NaN</td>\n",
              "      <td>NaN</td>\n",
              "      <td>NaN</td>\n",
              "      <td>NaN</td>\n",
              "      <td>112.0</td>\n",
              "      <td>40.0</td>\n",
              "    </tr>\n",
              "    <tr>\n",
              "      <th>3199</th>\n",
              "      <td>9998/С2019</td>\n",
              "      <td>0</td>\n",
              "      <td>0</td>\n",
              "      <td>0</td>\n",
              "      <td>0</td>\n",
              "      <td>0</td>\n",
              "      <td>0</td>\n",
              "      <td>0</td>\n",
              "      <td>0</td>\n",
              "      <td>0</td>\n",
              "      <td>...</td>\n",
              "      <td>NaN</td>\n",
              "      <td>NaN</td>\n",
              "      <td>NaN</td>\n",
              "      <td>NaN</td>\n",
              "      <td>NaN</td>\n",
              "      <td>NaN</td>\n",
              "      <td>NaN</td>\n",
              "      <td>NaN</td>\n",
              "      <td>NaN</td>\n",
              "      <td>NaN</td>\n",
              "    </tr>\n",
              "  </tbody>\n",
              "</table>\n",
              "<p>3200 rows × 87 columns</p>\n",
              "</div>\n",
              "    <div class=\"colab-df-buttons\">\n",
              "\n",
              "  <div class=\"colab-df-container\">\n",
              "    <button class=\"colab-df-convert\" onclick=\"convertToInteractive('df-ab206708-f268-4027-8390-19698e95c5ee')\"\n",
              "            title=\"Convert this dataframe to an interactive table.\"\n",
              "            style=\"display:none;\">\n",
              "\n",
              "  <svg xmlns=\"http://www.w3.org/2000/svg\" height=\"24px\" viewBox=\"0 -960 960 960\">\n",
              "    <path d=\"M120-120v-720h720v720H120Zm60-500h600v-160H180v160Zm220 220h160v-160H400v160Zm0 220h160v-160H400v160ZM180-400h160v-160H180v160Zm440 0h160v-160H620v160ZM180-180h160v-160H180v160Zm440 0h160v-160H620v160Z\"/>\n",
              "  </svg>\n",
              "    </button>\n",
              "\n",
              "  <style>\n",
              "    .colab-df-container {\n",
              "      display:flex;\n",
              "      gap: 12px;\n",
              "    }\n",
              "\n",
              "    .colab-df-convert {\n",
              "      background-color: #E8F0FE;\n",
              "      border: none;\n",
              "      border-radius: 50%;\n",
              "      cursor: pointer;\n",
              "      display: none;\n",
              "      fill: #1967D2;\n",
              "      height: 32px;\n",
              "      padding: 0 0 0 0;\n",
              "      width: 32px;\n",
              "    }\n",
              "\n",
              "    .colab-df-convert:hover {\n",
              "      background-color: #E2EBFA;\n",
              "      box-shadow: 0px 1px 2px rgba(60, 64, 67, 0.3), 0px 1px 3px 1px rgba(60, 64, 67, 0.15);\n",
              "      fill: #174EA6;\n",
              "    }\n",
              "\n",
              "    .colab-df-buttons div {\n",
              "      margin-bottom: 4px;\n",
              "    }\n",
              "\n",
              "    [theme=dark] .colab-df-convert {\n",
              "      background-color: #3B4455;\n",
              "      fill: #D2E3FC;\n",
              "    }\n",
              "\n",
              "    [theme=dark] .colab-df-convert:hover {\n",
              "      background-color: #434B5C;\n",
              "      box-shadow: 0px 1px 3px 1px rgba(0, 0, 0, 0.15);\n",
              "      filter: drop-shadow(0px 1px 2px rgba(0, 0, 0, 0.3));\n",
              "      fill: #FFFFFF;\n",
              "    }\n",
              "  </style>\n",
              "\n",
              "    <script>\n",
              "      const buttonEl =\n",
              "        document.querySelector('#df-ab206708-f268-4027-8390-19698e95c5ee button.colab-df-convert');\n",
              "      buttonEl.style.display =\n",
              "        google.colab.kernel.accessAllowed ? 'block' : 'none';\n",
              "\n",
              "      async function convertToInteractive(key) {\n",
              "        const element = document.querySelector('#df-ab206708-f268-4027-8390-19698e95c5ee');\n",
              "        const dataTable =\n",
              "          await google.colab.kernel.invokeFunction('convertToInteractive',\n",
              "                                                    [key], {});\n",
              "        if (!dataTable) return;\n",
              "\n",
              "        const docLinkHtml = 'Like what you see? Visit the ' +\n",
              "          '<a target=\"_blank\" href=https://colab.research.google.com/notebooks/data_table.ipynb>data table notebook</a>'\n",
              "          + ' to learn more about interactive tables.';\n",
              "        element.innerHTML = '';\n",
              "        dataTable['output_type'] = 'display_data';\n",
              "        await google.colab.output.renderOutput(dataTable, element);\n",
              "        const docLink = document.createElement('div');\n",
              "        docLink.innerHTML = docLinkHtml;\n",
              "        element.appendChild(docLink);\n",
              "      }\n",
              "    </script>\n",
              "  </div>\n",
              "\n",
              "\n",
              "<div id=\"df-19edef21-8624-40c7-a8b1-db0dc3fe7952\">\n",
              "  <button class=\"colab-df-quickchart\" onclick=\"quickchart('df-19edef21-8624-40c7-a8b1-db0dc3fe7952')\"\n",
              "            title=\"Suggest charts\"\n",
              "            style=\"display:none;\">\n",
              "\n",
              "<svg xmlns=\"http://www.w3.org/2000/svg\" height=\"24px\"viewBox=\"0 0 24 24\"\n",
              "     width=\"24px\">\n",
              "    <g>\n",
              "        <path d=\"M19 3H5c-1.1 0-2 .9-2 2v14c0 1.1.9 2 2 2h14c1.1 0 2-.9 2-2V5c0-1.1-.9-2-2-2zM9 17H7v-7h2v7zm4 0h-2V7h2v10zm4 0h-2v-4h2v4z\"/>\n",
              "    </g>\n",
              "</svg>\n",
              "  </button>\n",
              "\n",
              "<style>\n",
              "  .colab-df-quickchart {\n",
              "      --bg-color: #E8F0FE;\n",
              "      --fill-color: #1967D2;\n",
              "      --hover-bg-color: #E2EBFA;\n",
              "      --hover-fill-color: #174EA6;\n",
              "      --disabled-fill-color: #AAA;\n",
              "      --disabled-bg-color: #DDD;\n",
              "  }\n",
              "\n",
              "  [theme=dark] .colab-df-quickchart {\n",
              "      --bg-color: #3B4455;\n",
              "      --fill-color: #D2E3FC;\n",
              "      --hover-bg-color: #434B5C;\n",
              "      --hover-fill-color: #FFFFFF;\n",
              "      --disabled-bg-color: #3B4455;\n",
              "      --disabled-fill-color: #666;\n",
              "  }\n",
              "\n",
              "  .colab-df-quickchart {\n",
              "    background-color: var(--bg-color);\n",
              "    border: none;\n",
              "    border-radius: 50%;\n",
              "    cursor: pointer;\n",
              "    display: none;\n",
              "    fill: var(--fill-color);\n",
              "    height: 32px;\n",
              "    padding: 0;\n",
              "    width: 32px;\n",
              "  }\n",
              "\n",
              "  .colab-df-quickchart:hover {\n",
              "    background-color: var(--hover-bg-color);\n",
              "    box-shadow: 0 1px 2px rgba(60, 64, 67, 0.3), 0 1px 3px 1px rgba(60, 64, 67, 0.15);\n",
              "    fill: var(--button-hover-fill-color);\n",
              "  }\n",
              "\n",
              "  .colab-df-quickchart-complete:disabled,\n",
              "  .colab-df-quickchart-complete:disabled:hover {\n",
              "    background-color: var(--disabled-bg-color);\n",
              "    fill: var(--disabled-fill-color);\n",
              "    box-shadow: none;\n",
              "  }\n",
              "\n",
              "  .colab-df-spinner {\n",
              "    border: 2px solid var(--fill-color);\n",
              "    border-color: transparent;\n",
              "    border-bottom-color: var(--fill-color);\n",
              "    animation:\n",
              "      spin 1s steps(1) infinite;\n",
              "  }\n",
              "\n",
              "  @keyframes spin {\n",
              "    0% {\n",
              "      border-color: transparent;\n",
              "      border-bottom-color: var(--fill-color);\n",
              "      border-left-color: var(--fill-color);\n",
              "    }\n",
              "    20% {\n",
              "      border-color: transparent;\n",
              "      border-left-color: var(--fill-color);\n",
              "      border-top-color: var(--fill-color);\n",
              "    }\n",
              "    30% {\n",
              "      border-color: transparent;\n",
              "      border-left-color: var(--fill-color);\n",
              "      border-top-color: var(--fill-color);\n",
              "      border-right-color: var(--fill-color);\n",
              "    }\n",
              "    40% {\n",
              "      border-color: transparent;\n",
              "      border-right-color: var(--fill-color);\n",
              "      border-top-color: var(--fill-color);\n",
              "    }\n",
              "    60% {\n",
              "      border-color: transparent;\n",
              "      border-right-color: var(--fill-color);\n",
              "    }\n",
              "    80% {\n",
              "      border-color: transparent;\n",
              "      border-right-color: var(--fill-color);\n",
              "      border-bottom-color: var(--fill-color);\n",
              "    }\n",
              "    90% {\n",
              "      border-color: transparent;\n",
              "      border-bottom-color: var(--fill-color);\n",
              "    }\n",
              "  }\n",
              "</style>\n",
              "\n",
              "  <script>\n",
              "    async function quickchart(key) {\n",
              "      const quickchartButtonEl =\n",
              "        document.querySelector('#' + key + ' button');\n",
              "      quickchartButtonEl.disabled = true;  // To prevent multiple clicks.\n",
              "      quickchartButtonEl.classList.add('colab-df-spinner');\n",
              "      try {\n",
              "        const charts = await google.colab.kernel.invokeFunction(\n",
              "            'suggestCharts', [key], {});\n",
              "      } catch (error) {\n",
              "        console.error('Error during call to suggestCharts:', error);\n",
              "      }\n",
              "      quickchartButtonEl.classList.remove('colab-df-spinner');\n",
              "      quickchartButtonEl.classList.add('colab-df-quickchart-complete');\n",
              "    }\n",
              "    (() => {\n",
              "      let quickchartButtonEl =\n",
              "        document.querySelector('#df-19edef21-8624-40c7-a8b1-db0dc3fe7952 button');\n",
              "      quickchartButtonEl.style.display =\n",
              "        google.colab.kernel.accessAllowed ? 'block' : 'none';\n",
              "    })();\n",
              "  </script>\n",
              "</div>\n",
              "    </div>\n",
              "  </div>\n"
            ],
            "application/vnd.google.colaboratory.intrinsic+json": {
              "type": "dataframe",
              "variable_name": "df"
            }
          },
          "metadata": {},
          "execution_count": 311
        }
      ]
    },
    {
      "cell_type": "code",
      "source": [
        "df['Тропонин_2'] = df['Тропонин_2'].fillna(df['Тропонин_1'])"
      ],
      "metadata": {
        "id": "Jk69e3ip5BfL"
      },
      "execution_count": null,
      "outputs": []
    },
    {
      "cell_type": "code",
      "source": [
        "df['Исход'].value_counts()"
      ],
      "metadata": {
        "colab": {
          "base_uri": "https://localhost:8080/"
        },
        "id": "ZYvjU3SzKz_H",
        "outputId": "c207ab99-264f-430f-90f6-4aa7645d5eb4"
      },
      "execution_count": null,
      "outputs": [
        {
          "output_type": "execute_result",
          "data": {
            "text/plain": [
              "Исход\n",
              "0    2991\n",
              "1     209\n",
              "Name: count, dtype: int64"
            ]
          },
          "metadata": {},
          "execution_count": 313
        }
      ]
    },
    {
      "cell_type": "code",
      "source": [
        "df['Исход инфаркт'].value_counts()"
      ],
      "metadata": {
        "colab": {
          "base_uri": "https://localhost:8080/"
        },
        "id": "SQU1UR83jTPK",
        "outputId": "12e29423-95ae-47c0-9a27-285255ca0fa7"
      },
      "execution_count": null,
      "outputs": [
        {
          "output_type": "execute_result",
          "data": {
            "text/plain": [
              "Исход инфаркт\n",
              "0    3147\n",
              "1      53\n",
              "Name: count, dtype: int64"
            ]
          },
          "metadata": {},
          "execution_count": 314
        }
      ]
    },
    {
      "cell_type": "code",
      "source": [
        "df['Сахарный диабет'].value_counts()"
      ],
      "metadata": {
        "colab": {
          "base_uri": "https://localhost:8080/"
        },
        "id": "_s0fiD5fjaQj",
        "outputId": "e95b646b-0ba9-4c82-b2c4-77f25e6be390"
      },
      "execution_count": null,
      "outputs": [
        {
          "output_type": "execute_result",
          "data": {
            "text/plain": [
              "Сахарный диабет\n",
              "0    2379\n",
              "1     821\n",
              "Name: count, dtype: int64"
            ]
          },
          "metadata": {},
          "execution_count": 315
        }
      ]
    },
    {
      "cell_type": "code",
      "source": [
        "df['ОНМК'].value_counts()"
      ],
      "metadata": {
        "colab": {
          "base_uri": "https://localhost:8080/"
        },
        "id": "ST_38Wl-jaNn",
        "outputId": "952e60e6-5563-43aa-ef97-0d8775a44d1f"
      },
      "execution_count": null,
      "outputs": [
        {
          "output_type": "execute_result",
          "data": {
            "text/plain": [
              "ОНМК\n",
              "0    2799\n",
              "1     401\n",
              "Name: count, dtype: int64"
            ]
          },
          "metadata": {},
          "execution_count": 316
        }
      ]
    },
    {
      "cell_type": "code",
      "source": [
        "df['Фибрилляция предсердий'].value_counts()"
      ],
      "metadata": {
        "colab": {
          "base_uri": "https://localhost:8080/"
        },
        "id": "NRXJgL3ujaK3",
        "outputId": "2f6b6741-16ae-4e7f-f575-a851912b24a0"
      },
      "execution_count": null,
      "outputs": [
        {
          "output_type": "execute_result",
          "data": {
            "text/plain": [
              "Фибрилляция предсердий\n",
              "0    2866\n",
              "1     334\n",
              "Name: count, dtype: int64"
            ]
          },
          "metadata": {},
          "execution_count": 317
        }
      ]
    },
    {
      "cell_type": "code",
      "source": [
        "df['ХБП'].value_counts()"
      ],
      "metadata": {
        "colab": {
          "base_uri": "https://localhost:8080/"
        },
        "id": "M4hyIvII7CUs",
        "outputId": "7b359e37-0cab-41b2-98c4-2901cfef4d75"
      },
      "execution_count": null,
      "outputs": [
        {
          "output_type": "execute_result",
          "data": {
            "text/plain": [
              "ХБП\n",
              "0    2843\n",
              "1     357\n",
              "Name: count, dtype: int64"
            ]
          },
          "metadata": {},
          "execution_count": 318
        }
      ]
    },
    {
      "cell_type": "code",
      "source": [
        "df['Стеноз'].value_counts()"
      ],
      "metadata": {
        "colab": {
          "base_uri": "https://localhost:8080/"
        },
        "id": "NjM0-iDbjaIW",
        "outputId": "38775c72-dd53-4fe3-e83d-2afe1cc51871"
      },
      "execution_count": null,
      "outputs": [
        {
          "output_type": "execute_result",
          "data": {
            "text/plain": [
              "Стеноз\n",
              "0.0    1304\n",
              "1.0     500\n",
              "Name: count, dtype: int64"
            ]
          },
          "metadata": {},
          "execution_count": 43
        }
      ]
    },
    {
      "cell_type": "markdown",
      "source": [
        "Было   \n",
        "0.0 - 1120   \n",
        "1.0 - 684"
      ],
      "metadata": {
        "id": "6vyjCbun58PA"
      }
    },
    {
      "cell_type": "code",
      "source": [
        "df['Окклюзия'].value_counts()"
      ],
      "metadata": {
        "colab": {
          "base_uri": "https://localhost:8080/"
        },
        "id": "kRzxxnZzjaFe",
        "outputId": "95809175-f88c-4858-a17b-6607f7c9fea0"
      },
      "execution_count": null,
      "outputs": [
        {
          "output_type": "execute_result",
          "data": {
            "text/plain": [
              "Окклюзия\n",
              "0.0    940\n",
              "1.0    864\n",
              "Name: count, dtype: int64"
            ]
          },
          "metadata": {},
          "execution_count": 44
        }
      ]
    },
    {
      "cell_type": "code",
      "source": [
        "df['Бифуркация'].value_counts()"
      ],
      "metadata": {
        "colab": {
          "base_uri": "https://localhost:8080/"
        },
        "id": "6-zWjASwjaCx",
        "outputId": "fc76946a-75c1-40cb-df63-16bad162eed1"
      },
      "execution_count": null,
      "outputs": [
        {
          "output_type": "execute_result",
          "data": {
            "text/plain": [
              "Бифуркация\n",
              "0.0    1439\n",
              "1.0     365\n",
              "Name: count, dtype: int64"
            ]
          },
          "metadata": {},
          "execution_count": 45
        }
      ]
    },
    {
      "cell_type": "code",
      "source": [
        "df['DES'].value_counts()"
      ],
      "metadata": {
        "colab": {
          "base_uri": "https://localhost:8080/"
        },
        "id": "XqDxuNQ4jaAK",
        "outputId": "c9f6cd9a-e142-48cf-81f2-e9c017276291"
      },
      "execution_count": null,
      "outputs": [
        {
          "output_type": "execute_result",
          "data": {
            "text/plain": [
              "DES\n",
              "0.0    1401\n",
              "1.0     354\n",
              "2.0      43\n",
              "3.0       6\n",
              "Name: count, dtype: int64"
            ]
          },
          "metadata": {},
          "execution_count": 46
        }
      ]
    },
    {
      "cell_type": "code",
      "source": [
        "df['BMS'].value_counts()"
      ],
      "metadata": {
        "colab": {
          "base_uri": "https://localhost:8080/"
        },
        "id": "asRFqU44jZ9c",
        "outputId": "79dfdf55-38f4-4092-e48d-ca120bfbfc35"
      },
      "execution_count": null,
      "outputs": [
        {
          "output_type": "execute_result",
          "data": {
            "text/plain": [
              "BMS\n",
              "0.0    1752\n",
              "1.0      49\n",
              "2.0       3\n",
              "Name: count, dtype: int64"
            ]
          },
          "metadata": {},
          "execution_count": 47
        }
      ]
    },
    {
      "cell_type": "code",
      "source": [
        "df['Диаметр'].isna().sum() ## БЕСПОЛЕЗНЫЙ СТОЛБЕЦ"
      ],
      "metadata": {
        "colab": {
          "base_uri": "https://localhost:8080/"
        },
        "id": "F24bwMd3jZ6u",
        "outputId": "1b069b49-a0d4-4a9e-9382-d2fccc3c0302"
      },
      "execution_count": null,
      "outputs": [
        {
          "output_type": "execute_result",
          "data": {
            "text/plain": [
              "1560"
            ]
          },
          "metadata": {},
          "execution_count": 48
        }
      ]
    },
    {
      "cell_type": "code",
      "source": [
        "df['Длина'].isna().sum() ## БЕСПОЛЕЗНЫЙ СТОЛБЕЦ"
      ],
      "metadata": {
        "colab": {
          "base_uri": "https://localhost:8080/"
        },
        "id": "yj4j0T_HjZ1f",
        "outputId": "da73735f-b89c-4593-e024-570a8d7623ac"
      },
      "execution_count": null,
      "outputs": [
        {
          "output_type": "execute_result",
          "data": {
            "text/plain": [
              "1560"
            ]
          },
          "metadata": {},
          "execution_count": 49
        }
      ]
    },
    {
      "cell_type": "code",
      "source": [
        "df['Симпсон'].isna().sum()"
      ],
      "metadata": {
        "colab": {
          "base_uri": "https://localhost:8080/"
        },
        "id": "8Qt1Kzick6F-",
        "outputId": "e4950d16-0849-46ed-ac41-d02a718c6ff5"
      },
      "execution_count": null,
      "outputs": [
        {
          "output_type": "execute_result",
          "data": {
            "text/plain": [
              "81"
            ]
          },
          "metadata": {},
          "execution_count": 50
        }
      ]
    },
    {
      "cell_type": "code",
      "source": [
        "import matplotlib.pyplot as plt\n",
        "\n",
        "plt.figure(figsize=(10,6))\n",
        "plt.hist(df['Симпсон'], bins=30, edgecolor='black')\n",
        "plt.xlabel('Симпсон')\n",
        "plt.ylabel('Количество')\n",
        "plt.title('Гистограмма Симпсон')\n",
        "plt.show()"
      ],
      "metadata": {
        "colab": {
          "base_uri": "https://localhost:8080/",
          "height": 564
        },
        "id": "YHZyf5U1lTgk",
        "outputId": "6b0ce109-7c9a-49e0-e1f1-cde30edc3b06"
      },
      "execution_count": null,
      "outputs": [
        {
          "output_type": "display_data",
          "data": {
            "text/plain": [
              "<Figure size 1000x600 with 1 Axes>"
            ],
            "image/png": "[encoded data removed]"
          },
          "metadata": {}
        }
      ]
    },
    {
      "cell_type": "code",
      "source": [
        "df['МЖП'].isna().sum() ## ПРОПУСКОВ МЕНЬШЕ ПОЛОВИНЫ"
      ],
      "metadata": {
        "colab": {
          "base_uri": "https://localhost:8080/"
        },
        "id": "MSY1cL-xlHJQ",
        "outputId": "2fdd8ce2-2cb6-445c-8c12-6c3648fd95f9"
      },
      "execution_count": null,
      "outputs": [
        {
          "output_type": "execute_result",
          "data": {
            "text/plain": [
              "717"
            ]
          },
          "metadata": {},
          "execution_count": 52
        }
      ]
    },
    {
      "cell_type": "code",
      "source": [
        "plt.figure(figsize=(10,6))\n",
        "plt.hist(df['МЖП'], bins=30, edgecolor='black')\n",
        "plt.xlabel('МЖП')\n",
        "plt.ylabel('Количество')\n",
        "plt.title('Гистограмма МЖП')\n",
        "plt.show()"
      ],
      "metadata": {
        "colab": {
          "base_uri": "https://localhost:8080/",
          "height": 564
        },
        "id": "1bl_LrKollhc",
        "outputId": "4746c362-e0bd-438e-a6f8-f935aecaf826"
      },
      "execution_count": null,
      "outputs": [
        {
          "output_type": "display_data",
          "data": {
            "text/plain": [
              "<Figure size 1000x600 with 1 Axes>"
            ],
            "image/png": "[encoded data removed]"
          },
          "metadata": {}
        }
      ]
    },
    {
      "cell_type": "code",
      "source": [
        "df['ЗС ЛЖ'].isna().sum() ## БЕСПОЛЕЗНЫЙ СТОЛБЕЦ"
      ],
      "metadata": {
        "colab": {
          "base_uri": "https://localhost:8080/"
        },
        "id": "zaaf8O46lMHq",
        "outputId": "3c8c4683-d743-46c4-99da-674b86daca55"
      },
      "execution_count": null,
      "outputs": [
        {
          "output_type": "execute_result",
          "data": {
            "text/plain": [
              "1588"
            ]
          },
          "metadata": {},
          "execution_count": 54
        }
      ]
    },
    {
      "cell_type": "code",
      "source": [
        "df['КДР ЛЖ'].isna().sum() ## БЕСПОЛЕЗНЫЙ СТОЛБЕЦ"
      ],
      "metadata": {
        "colab": {
          "base_uri": "https://localhost:8080/"
        },
        "id": "2GqxKJA4jZy0",
        "outputId": "f8c25e7e-a994-4e6c-a996-5c0c24f5502d"
      },
      "execution_count": null,
      "outputs": [
        {
          "output_type": "execute_result",
          "data": {
            "text/plain": [
              "1587"
            ]
          },
          "metadata": {},
          "execution_count": 55
        }
      ]
    },
    {
      "cell_type": "code",
      "source": [
        "df['ИММ ЛЖ'].isna().sum() ## БЕСПОЛЕЗНЫЙ СТОЛБЕЦ"
      ],
      "metadata": {
        "colab": {
          "base_uri": "https://localhost:8080/"
        },
        "id": "RwjLqnoSjZwe",
        "outputId": "b718bf75-c8c4-4ad8-f831-4f1e517a4d84"
      },
      "execution_count": null,
      "outputs": [
        {
          "output_type": "execute_result",
          "data": {
            "text/plain": [
              "1799"
            ]
          },
          "metadata": {},
          "execution_count": 56
        }
      ]
    },
    {
      "cell_type": "code",
      "source": [
        "df['ОТС ЛЖ'].isna().sum() ## БЕСПОЛЕЗНЫЙ СТОЛБЕЦ"
      ],
      "metadata": {
        "colab": {
          "base_uri": "https://localhost:8080/"
        },
        "id": "8CQWA-1ljZto",
        "outputId": "d2e91a49-a4f3-48d3-e094-4954246eaeb9"
      },
      "execution_count": null,
      "outputs": [
        {
          "output_type": "execute_result",
          "data": {
            "text/plain": [
              "1558"
            ]
          },
          "metadata": {},
          "execution_count": 57
        }
      ]
    },
    {
      "cell_type": "code",
      "source": [
        "df['КДО ЛЖ'].isna().sum() ## БЕСПОЛЕЗНЫЙ СТОЛБЕЦ"
      ],
      "metadata": {
        "colab": {
          "base_uri": "https://localhost:8080/"
        },
        "id": "ChBEJUGTlR1h",
        "outputId": "c52db780-3e2f-4d34-c925-ec2bb910d21a"
      },
      "execution_count": null,
      "outputs": [
        {
          "output_type": "execute_result",
          "data": {
            "text/plain": [
              "1570"
            ]
          },
          "metadata": {},
          "execution_count": 58
        }
      ]
    },
    {
      "cell_type": "code",
      "source": [
        "df['КДО ЛЖ индекс'].isna().sum() ## БЕСПОЛЕЗНЫЙ СТОЛБЕЦ"
      ],
      "metadata": {
        "colab": {
          "base_uri": "https://localhost:8080/"
        },
        "id": "Na3XqetbmGmB",
        "outputId": "95669233-af9e-45b4-c308-ce20549f4e47"
      },
      "execution_count": null,
      "outputs": [
        {
          "output_type": "execute_result",
          "data": {
            "text/plain": [
              "1582"
            ]
          },
          "metadata": {},
          "execution_count": 59
        }
      ]
    },
    {
      "cell_type": "markdown",
      "source": [
        "ДАЛЕЕ ИДЁТ ЛАБОРАТОРИЯ"
      ],
      "metadata": {
        "id": "iJaISSLcnJ62"
      }
    },
    {
      "cell_type": "code",
      "source": [
        "df['Тропонин_1'].isna().sum()"
      ],
      "metadata": {
        "colab": {
          "base_uri": "https://localhost:8080/"
        },
        "id": "RKMAS3mrlRqH",
        "outputId": "da901693-f840-4afb-94ea-5e0e8becaae0"
      },
      "execution_count": null,
      "outputs": [
        {
          "output_type": "execute_result",
          "data": {
            "text/plain": [
              "14"
            ]
          },
          "metadata": {},
          "execution_count": 60
        }
      ]
    },
    {
      "cell_type": "code",
      "source": [
        "df['Тропонин_2'].isna().sum()"
      ],
      "metadata": {
        "colab": {
          "base_uri": "https://localhost:8080/"
        },
        "id": "f-C2viBPlRd4",
        "outputId": "0136e030-77f9-49c0-c404-7861a1242ef3"
      },
      "execution_count": null,
      "outputs": [
        {
          "output_type": "execute_result",
          "data": {
            "text/plain": [
              "14"
            ]
          },
          "metadata": {},
          "execution_count": 61
        }
      ]
    },
    {
      "cell_type": "code",
      "source": [
        "df['ЛПВП'].isna().sum()"
      ],
      "metadata": {
        "colab": {
          "base_uri": "https://localhost:8080/"
        },
        "id": "HrpqcH6rlRTp",
        "outputId": "5720592e-71c3-4c0a-ad34-ae98a6d3b763"
      },
      "execution_count": null,
      "outputs": [
        {
          "output_type": "execute_result",
          "data": {
            "text/plain": [
              "293"
            ]
          },
          "metadata": {},
          "execution_count": 62
        }
      ]
    },
    {
      "cell_type": "code",
      "source": [
        "df['ЛПОНП'].isna().sum()"
      ],
      "metadata": {
        "colab": {
          "base_uri": "https://localhost:8080/"
        },
        "id": "X53Vere8muL5",
        "outputId": "290cd6d5-baab-4f3f-d3c2-cebe83ad0830"
      },
      "execution_count": null,
      "outputs": [
        {
          "output_type": "execute_result",
          "data": {
            "text/plain": [
              "294"
            ]
          },
          "metadata": {},
          "execution_count": 63
        }
      ]
    },
    {
      "cell_type": "code",
      "source": [
        "df['ЛПНП'].isna().sum()"
      ],
      "metadata": {
        "colab": {
          "base_uri": "https://localhost:8080/"
        },
        "id": "iG9J1TapmtEm",
        "outputId": "ad0ec102-f8c4-4d57-b249-f91bc032d51a"
      },
      "execution_count": null,
      "outputs": [
        {
          "output_type": "execute_result",
          "data": {
            "text/plain": [
              "285"
            ]
          },
          "metadata": {},
          "execution_count": 64
        }
      ]
    },
    {
      "cell_type": "code",
      "source": [
        "df['ХС_общ'].isna().sum()"
      ],
      "metadata": {
        "colab": {
          "base_uri": "https://localhost:8080/"
        },
        "id": "oPs8cMYlms50",
        "outputId": "7e4540d2-a670-40b2-9ff7-48843d0b2c89"
      },
      "execution_count": null,
      "outputs": [
        {
          "output_type": "execute_result",
          "data": {
            "text/plain": [
              "260"
            ]
          },
          "metadata": {},
          "execution_count": 65
        }
      ]
    },
    {
      "cell_type": "code",
      "source": [
        "df['СКФ'].isna().sum() ## ПРОПУСКОВ МЕНЬШЕ ПОЛОВИНЫ"
      ],
      "metadata": {
        "colab": {
          "base_uri": "https://localhost:8080/"
        },
        "id": "ZNAspxDfmssV",
        "outputId": "43247922-a7b7-4001-9a59-369e46e2be34"
      },
      "execution_count": null,
      "outputs": [
        {
          "output_type": "execute_result",
          "data": {
            "text/plain": [
              "618"
            ]
          },
          "metadata": {},
          "execution_count": 66
        }
      ]
    },
    {
      "cell_type": "code",
      "source": [
        "df['креат'].isna().sum()"
      ],
      "metadata": {
        "colab": {
          "base_uri": "https://localhost:8080/"
        },
        "id": "BsyrujR5msh7",
        "outputId": "4a6b937a-bc3f-4a54-a7fc-5940b2007e48"
      },
      "execution_count": null,
      "outputs": [
        {
          "output_type": "execute_result",
          "data": {
            "text/plain": [
              "68"
            ]
          },
          "metadata": {},
          "execution_count": 67
        }
      ]
    },
    {
      "cell_type": "code",
      "source": [
        "df['СРБ'].isna().sum()"
      ],
      "metadata": {
        "colab": {
          "base_uri": "https://localhost:8080/"
        },
        "id": "NApLoD9ymsZ_",
        "outputId": "67212e71-3a41-4668-aae8-cdbb4e779af2"
      },
      "execution_count": null,
      "outputs": [
        {
          "output_type": "execute_result",
          "data": {
            "text/plain": [
              "237"
            ]
          },
          "metadata": {},
          "execution_count": 68
        }
      ]
    },
    {
      "cell_type": "code",
      "source": [
        "df['Глюкоза'].isna().sum() ## ПРОПУСКОВ ПОЧТИ ПОЛОВИНА"
      ],
      "metadata": {
        "colab": {
          "base_uri": "https://localhost:8080/"
        },
        "id": "6rYOxqm0msRs",
        "outputId": "4d7a3729-71a4-409b-ca07-d6e7750197da"
      },
      "execution_count": null,
      "outputs": [
        {
          "output_type": "execute_result",
          "data": {
            "text/plain": [
              "875"
            ]
          },
          "metadata": {},
          "execution_count": 69
        }
      ]
    },
    {
      "cell_type": "code",
      "source": [
        "df['Баз_абс'].isna().sum()"
      ],
      "metadata": {
        "colab": {
          "base_uri": "https://localhost:8080/"
        },
        "id": "EkUUUGO7msJu",
        "outputId": "e478a6f0-a019-4486-beb1-1997bfebe824"
      },
      "execution_count": null,
      "outputs": [
        {
          "output_type": "execute_result",
          "data": {
            "text/plain": [
              "13"
            ]
          },
          "metadata": {},
          "execution_count": 70
        }
      ]
    },
    {
      "cell_type": "code",
      "source": [
        "df['Баз_отн'].isna().sum()"
      ],
      "metadata": {
        "colab": {
          "base_uri": "https://localhost:8080/"
        },
        "id": "hFUIJJXzmr_y",
        "outputId": "b88b2255-231d-416e-9017-8a14faed1e67"
      },
      "execution_count": null,
      "outputs": [
        {
          "output_type": "execute_result",
          "data": {
            "text/plain": [
              "13"
            ]
          },
          "metadata": {},
          "execution_count": 71
        }
      ]
    },
    {
      "cell_type": "code",
      "source": [
        "df['Эоз_абс'].isna().sum()"
      ],
      "metadata": {
        "colab": {
          "base_uri": "https://localhost:8080/"
        },
        "id": "U8sy39DXmr3c",
        "outputId": "f85f3e67-4225-410e-df5a-3f4ed467a102"
      },
      "execution_count": null,
      "outputs": [
        {
          "output_type": "execute_result",
          "data": {
            "text/plain": [
              "13"
            ]
          },
          "metadata": {},
          "execution_count": 72
        }
      ]
    },
    {
      "cell_type": "code",
      "source": [
        "df['Эоз_отн'].isna().sum()"
      ],
      "metadata": {
        "colab": {
          "base_uri": "https://localhost:8080/"
        },
        "id": "pyGHvls_mrtv",
        "outputId": "688c9d84-9ab0-4d8a-8fd6-cf03aa42df8d"
      },
      "execution_count": null,
      "outputs": [
        {
          "output_type": "execute_result",
          "data": {
            "text/plain": [
              "13"
            ]
          },
          "metadata": {},
          "execution_count": 73
        }
      ]
    },
    {
      "cell_type": "code",
      "source": [
        "df['Моно_абс'].isna().sum()"
      ],
      "metadata": {
        "colab": {
          "base_uri": "https://localhost:8080/"
        },
        "id": "OeQaHO89mrl_",
        "outputId": "54091739-7cd5-4f3b-8213-5b341d7aa099"
      },
      "execution_count": null,
      "outputs": [
        {
          "output_type": "execute_result",
          "data": {
            "text/plain": [
              "12"
            ]
          },
          "metadata": {},
          "execution_count": 74
        }
      ]
    },
    {
      "cell_type": "code",
      "source": [
        "df['Моно_отн'].isna().sum()"
      ],
      "metadata": {
        "colab": {
          "base_uri": "https://localhost:8080/"
        },
        "id": "vvVRW7fGmrdW",
        "outputId": "c2974a34-c5f3-49cc-8ba8-7fa2e41e2346"
      },
      "execution_count": null,
      "outputs": [
        {
          "output_type": "execute_result",
          "data": {
            "text/plain": [
              "12"
            ]
          },
          "metadata": {},
          "execution_count": 75
        }
      ]
    },
    {
      "cell_type": "code",
      "source": [
        "df['Лимф_абс'].isna().sum()"
      ],
      "metadata": {
        "colab": {
          "base_uri": "https://localhost:8080/"
        },
        "id": "qa7ZyGt2mrUc",
        "outputId": "6567152b-a6b9-4a50-895f-ab12091c8199"
      },
      "execution_count": null,
      "outputs": [
        {
          "output_type": "execute_result",
          "data": {
            "text/plain": [
              "6"
            ]
          },
          "metadata": {},
          "execution_count": 76
        }
      ]
    },
    {
      "cell_type": "code",
      "source": [
        "df['Лимф_отн'].isna().sum()"
      ],
      "metadata": {
        "colab": {
          "base_uri": "https://localhost:8080/"
        },
        "id": "51S9PvS-mrKT",
        "outputId": "52069219-c902-4bb8-e257-a5a7e16a01b0"
      },
      "execution_count": null,
      "outputs": [
        {
          "output_type": "execute_result",
          "data": {
            "text/plain": [
              "6"
            ]
          },
          "metadata": {},
          "execution_count": 77
        }
      ]
    },
    {
      "cell_type": "code",
      "source": [
        "df['нейтр_абс'].isna().sum()"
      ],
      "metadata": {
        "colab": {
          "base_uri": "https://localhost:8080/"
        },
        "id": "V8pJKi5umq9q",
        "outputId": "ae0cc383-d0a8-4ff6-e77c-779051b74fe5"
      },
      "execution_count": null,
      "outputs": [
        {
          "output_type": "execute_result",
          "data": {
            "text/plain": [
              "7"
            ]
          },
          "metadata": {},
          "execution_count": 78
        }
      ]
    },
    {
      "cell_type": "code",
      "source": [
        "df['нейтр_отн'].isna().sum()"
      ],
      "metadata": {
        "colab": {
          "base_uri": "https://localhost:8080/"
        },
        "id": "Qt3gKAL8mqiV",
        "outputId": "3ea99690-f2ad-4dab-af09-581d7281136b"
      },
      "execution_count": null,
      "outputs": [
        {
          "output_type": "execute_result",
          "data": {
            "text/plain": [
              "7"
            ]
          },
          "metadata": {},
          "execution_count": 79
        }
      ]
    },
    {
      "cell_type": "code",
      "source": [
        "df['WBC'].isna().sum()"
      ],
      "metadata": {
        "colab": {
          "base_uri": "https://localhost:8080/"
        },
        "id": "InKfPo2znoon",
        "outputId": "d176d61c-8087-47ea-badf-460146b1c00c"
      },
      "execution_count": null,
      "outputs": [
        {
          "output_type": "execute_result",
          "data": {
            "text/plain": [
              "6"
            ]
          },
          "metadata": {},
          "execution_count": 80
        }
      ]
    },
    {
      "cell_type": "code",
      "source": [
        "df['PCT'].isna().sum()"
      ],
      "metadata": {
        "colab": {
          "base_uri": "https://localhost:8080/"
        },
        "id": "imLI3S5Xnoe0",
        "outputId": "4eb697a8-2e68-42b9-b29c-10f4ae8b661c"
      },
      "execution_count": null,
      "outputs": [
        {
          "output_type": "execute_result",
          "data": {
            "text/plain": [
              "14"
            ]
          },
          "metadata": {},
          "execution_count": 81
        }
      ]
    },
    {
      "cell_type": "code",
      "source": [
        "df['PDW'].isna().sum()"
      ],
      "metadata": {
        "colab": {
          "base_uri": "https://localhost:8080/"
        },
        "id": "INo7VULmnoVv",
        "outputId": "9b041ef8-8b46-4d2a-aec5-c7db457f738b"
      },
      "execution_count": null,
      "outputs": [
        {
          "output_type": "execute_result",
          "data": {
            "text/plain": [
              "7"
            ]
          },
          "metadata": {},
          "execution_count": 82
        }
      ]
    },
    {
      "cell_type": "code",
      "source": [
        "df['MPV'].isna().sum()"
      ],
      "metadata": {
        "colab": {
          "base_uri": "https://localhost:8080/"
        },
        "id": "fDtU1_kcnoNP",
        "outputId": "28a6ddab-3c17-491e-d7c9-efb3e1f094bc"
      },
      "execution_count": null,
      "outputs": [
        {
          "output_type": "execute_result",
          "data": {
            "text/plain": [
              "7"
            ]
          },
          "metadata": {},
          "execution_count": 83
        }
      ]
    },
    {
      "cell_type": "code",
      "source": [
        "df['PLT'].isna().sum()"
      ],
      "metadata": {
        "colab": {
          "base_uri": "https://localhost:8080/"
        },
        "id": "2sAaVB9OnoD_",
        "outputId": "ccfc16e5-66ac-4b9d-f8d2-de7a391fb4c5"
      },
      "execution_count": null,
      "outputs": [
        {
          "output_type": "execute_result",
          "data": {
            "text/plain": [
              "6"
            ]
          },
          "metadata": {},
          "execution_count": 84
        }
      ]
    },
    {
      "cell_type": "code",
      "source": [
        "df['RDW_SD'].isna().sum()"
      ],
      "metadata": {
        "colab": {
          "base_uri": "https://localhost:8080/"
        },
        "id": "tTLATolSnn6p",
        "outputId": "e15d706f-4fc7-4d82-9bcf-1ba16e4023a7"
      },
      "execution_count": null,
      "outputs": [
        {
          "output_type": "execute_result",
          "data": {
            "text/plain": [
              "268"
            ]
          },
          "metadata": {},
          "execution_count": 85
        }
      ]
    },
    {
      "cell_type": "code",
      "source": [
        "df['RDW'].isna().sum() ## ПРОПУСКОВ МЕНЬШЕ ПОЛОВИНЫ"
      ],
      "metadata": {
        "colab": {
          "base_uri": "https://localhost:8080/"
        },
        "id": "ULt6nm9wnnxQ",
        "outputId": "a240af2d-bc10-4c64-9627-c9230d5526a2"
      },
      "execution_count": null,
      "outputs": [
        {
          "output_type": "execute_result",
          "data": {
            "text/plain": [
              "537"
            ]
          },
          "metadata": {},
          "execution_count": 86
        }
      ]
    },
    {
      "cell_type": "code",
      "source": [
        "df['HCT'].isna().sum()"
      ],
      "metadata": {
        "colab": {
          "base_uri": "https://localhost:8080/"
        },
        "id": "la9g59-0nnn8",
        "outputId": "93b430ea-f9bb-4ecf-f9a3-c67534680e21"
      },
      "execution_count": null,
      "outputs": [
        {
          "output_type": "execute_result",
          "data": {
            "text/plain": [
              "6"
            ]
          },
          "metadata": {},
          "execution_count": 87
        }
      ]
    },
    {
      "cell_type": "code",
      "source": [
        "df['MCHC'].isna().sum()"
      ],
      "metadata": {
        "colab": {
          "base_uri": "https://localhost:8080/"
        },
        "id": "6EUc9KJbnndP",
        "outputId": "68cd8b7f-03fc-4505-d709-e521928ca011"
      },
      "execution_count": null,
      "outputs": [
        {
          "output_type": "execute_result",
          "data": {
            "text/plain": [
              "6"
            ]
          },
          "metadata": {},
          "execution_count": 88
        }
      ]
    },
    {
      "cell_type": "code",
      "source": [
        "df['MCH'].isna().sum()"
      ],
      "metadata": {
        "colab": {
          "base_uri": "https://localhost:8080/"
        },
        "id": "70FQzV7UnnIy",
        "outputId": "82645988-d923-4d5f-df13-f3907b0a1bba"
      },
      "execution_count": null,
      "outputs": [
        {
          "output_type": "execute_result",
          "data": {
            "text/plain": [
              "6"
            ]
          },
          "metadata": {},
          "execution_count": 89
        }
      ]
    },
    {
      "cell_type": "code",
      "source": [
        "df['MCV'].isna().sum()"
      ],
      "metadata": {
        "colab": {
          "base_uri": "https://localhost:8080/"
        },
        "id": "IrYjeQrsoB4H",
        "outputId": "1d7b35ac-d521-4fa9-a50f-0e9c6b758ece"
      },
      "execution_count": null,
      "outputs": [
        {
          "output_type": "execute_result",
          "data": {
            "text/plain": [
              "6"
            ]
          },
          "metadata": {},
          "execution_count": 90
        }
      ]
    },
    {
      "cell_type": "code",
      "source": [
        "df['RBC'].isna().sum()"
      ],
      "metadata": {
        "colab": {
          "base_uri": "https://localhost:8080/"
        },
        "id": "LILmS56WoBtM",
        "outputId": "11057f31-98aa-4f4b-b6d3-c2e942bd0db3"
      },
      "execution_count": null,
      "outputs": [
        {
          "output_type": "execute_result",
          "data": {
            "text/plain": [
              "6"
            ]
          },
          "metadata": {},
          "execution_count": 91
        }
      ]
    },
    {
      "cell_type": "code",
      "source": [
        "df['Hb'].isna().sum()"
      ],
      "metadata": {
        "colab": {
          "base_uri": "https://localhost:8080/"
        },
        "id": "zkrAMHkUoBhY",
        "outputId": "9bed5c47-2e99-44cc-ce89-344f3d0665a0"
      },
      "execution_count": null,
      "outputs": [
        {
          "output_type": "execute_result",
          "data": {
            "text/plain": [
              "6"
            ]
          },
          "metadata": {},
          "execution_count": 92
        }
      ]
    },
    {
      "cell_type": "code",
      "source": [
        "df.shape"
      ],
      "metadata": {
        "colab": {
          "base_uri": "https://localhost:8080/"
        },
        "id": "u-ujPYAWCs3p",
        "outputId": "7fb383a0-8544-4690-cb57-7ccf5e8c8137"
      },
      "execution_count": null,
      "outputs": [
        {
          "output_type": "execute_result",
          "data": {
            "text/plain": [
              "(1804, 68)"
            ]
          },
          "metadata": {},
          "execution_count": 93
        }
      ]
    },
    {
      "cell_type": "code",
      "source": [
        "df"
      ],
      "metadata": {
        "colab": {
          "base_uri": "https://localhost:8080/",
          "height": 441
        },
        "id": "bCEfqET1EaC1",
        "outputId": "43bbf080-3093-46c8-be44-bd5532fcc5af"
      },
      "execution_count": null,
      "outputs": [
        {
          "output_type": "execute_result",
          "data": {
            "text/plain": [
              "     Номер_эпизода  Исход инфаркт  Сахарный диабет  ОНМК  \\\n",
              "0       1004/С2021              0                0     0   \n",
              "1      10090/С2019              0                1     0   \n",
              "2        101/С2021              0                1     0   \n",
              "3      10416/С2021              0                0     0   \n",
              "4      10686/С2021              1                1     0   \n",
              "...            ...            ...              ...   ...   \n",
              "1799     984/С2020              0                0     0   \n",
              "1800    9849/С2020              0                0     0   \n",
              "1801    9896/С2020              0                0     1   \n",
              "1802    9926/С2020              0                0     1   \n",
              "1803    9986/С2021              0                1     0   \n",
              "\n",
              "      Фибрилляция предсердий  ХБП Дата_постановки_диагноза   МЖП  ЗС ЛЖ  \\\n",
              "0                          0    0               2021-02-16  15.0    NaN   \n",
              "1                          0    0               29.04.2019  13.0    NaN   \n",
              "2                          0    0               2021-01-08   NaN    NaN   \n",
              "3                          0    0               2021-04-21   NaN    NaN   \n",
              "4                          0    1               2021-05-06   NaN    NaN   \n",
              "...                      ...  ...                      ...   ...    ...   \n",
              "1799                       0    0               2020-01-29  16.0   12.0   \n",
              "1800                       0    0               2020-05-07  12.0    NaN   \n",
              "1801                       0    0               2020-05-07  14.0    NaN   \n",
              "1802                       1    0               2020-05-07   NaN    NaN   \n",
              "1803                       0    0               2021-04-14   NaN    NaN   \n",
              "\n",
              "      КДР ЛЖ  ...     СКФ  Тропонин_2  ХС_общ  Эоз_абс Эоз_отн  Тропонин_1  \\\n",
              "0        NaN  ...   53.30       3.130     NaN     0.02     0.3       0.470   \n",
              "1        NaN  ...     NaN       1.630    5.59     0.17     2.2       1.920   \n",
              "2        NaN  ...  142.52       0.340    4.65     0.06     0.7       0.070   \n",
              "3        NaN  ...   65.27      40.640    4.37     0.13     1.0     13.6340   \n",
              "4        NaN  ...   57.82     15.3560    3.34     0.32     2.9       0.010   \n",
              "...      ...  ...     ...         ...     ...      ...     ...         ...   \n",
              "1799    57.0  ...     NaN       0.010    3.75     0.13     2.7       0.010   \n",
              "1800     NaN  ...   81.73       0.000    4.31     0.11     1.2       0.000   \n",
              "1801     NaN  ...     NaN       0.650    4.55     0.11     1.5       0.410   \n",
              "1802     NaN  ...     NaN       0.020    4.25     0.12     1.8       0.020   \n",
              "1803     NaN  ...   82.20       0.010    5.31     0.11     1.7       0.010   \n",
              "\n",
              "      нейтр_абс  нейтр_отн  RDW_SD  Симпсон  \n",
              "0          5.06       71.2    45.0     67.0  \n",
              "1          5.27       67.5     NaN     55.0  \n",
              "2          5.54       66.7    41.1     56.0  \n",
              "3          8.20       64.6    42.6     32.0  \n",
              "4          6.00       54.5    56.3     47.0  \n",
              "...         ...        ...     ...      ...  \n",
              "1799       2.83       60.2     NaN     61.0  \n",
              "1800       4.71       53.5    38.8     67.0  \n",
              "1801       3.86       53.6    48.9     60.0  \n",
              "1802       3.33       49.0    41.3     62.0  \n",
              "1803       3.42       51.1    43.9     56.0  \n",
              "\n",
              "[1804 rows x 68 columns]"
            ],
            "text/html": [
              "\n",
              "  <div id=\"df-79f8df6f-4bf6-4709-93b8-9d6e067c4c53\" class=\"colab-df-container\">\n",
              "    <div>\n",
              "<style scoped>\n",
              "    .dataframe tbody tr th:only-of-type {\n",
              "        vertical-align: middle;\n",
              "    }\n",
              "\n",
              "    .dataframe tbody tr th {\n",
              "        vertical-align: top;\n",
              "    }\n",
              "\n",
              "    .dataframe thead th {\n",
              "        text-align: right;\n",
              "    }\n",
              "</style>\n",
              "<table border=\"1\" class=\"dataframe\">\n",
              "  <thead>\n",
              "    <tr style=\"text-align: right;\">\n",
              "      <th></th>\n",
              "      <th>Номер_эпизода</th>\n",
              "      <th>Исход инфаркт</th>\n",
              "      <th>Сахарный диабет</th>\n",
              "      <th>ОНМК</th>\n",
              "      <th>Фибрилляция предсердий</th>\n",
              "      <th>ХБП</th>\n",
              "      <th>Дата_постановки_диагноза</th>\n",
              "      <th>МЖП</th>\n",
              "      <th>ЗС ЛЖ</th>\n",
              "      <th>КДР ЛЖ</th>\n",
              "      <th>...</th>\n",
              "      <th>СКФ</th>\n",
              "      <th>Тропонин_2</th>\n",
              "      <th>ХС_общ</th>\n",
              "      <th>Эоз_абс</th>\n",
              "      <th>Эоз_отн</th>\n",
              "      <th>Тропонин_1</th>\n",
              "      <th>нейтр_абс</th>\n",
              "      <th>нейтр_отн</th>\n",
              "      <th>RDW_SD</th>\n",
              "      <th>Симпсон</th>\n",
              "    </tr>\n",
              "  </thead>\n",
              "  <tbody>\n",
              "    <tr>\n",
              "      <th>0</th>\n",
              "      <td>1004/С2021</td>\n",
              "      <td>0</td>\n",
              "      <td>0</td>\n",
              "      <td>0</td>\n",
              "      <td>0</td>\n",
              "      <td>0</td>\n",
              "      <td>2021-02-16</td>\n",
              "      <td>15.0</td>\n",
              "      <td>NaN</td>\n",
              "      <td>NaN</td>\n",
              "      <td>...</td>\n",
              "      <td>53.30</td>\n",
              "      <td>3.130</td>\n",
              "      <td>NaN</td>\n",
              "      <td>0.02</td>\n",
              "      <td>0.3</td>\n",
              "      <td>0.470</td>\n",
              "      <td>5.06</td>\n",
              "      <td>71.2</td>\n",
              "      <td>45.0</td>\n",
              "      <td>67.0</td>\n",
              "    </tr>\n",
              "    <tr>\n",
              "      <th>1</th>\n",
              "      <td>10090/С2019</td>\n",
              "      <td>0</td>\n",
              "      <td>1</td>\n",
              "      <td>0</td>\n",
              "      <td>0</td>\n",
              "      <td>0</td>\n",
              "      <td>29.04.2019</td>\n",
              "      <td>13.0</td>\n",
              "      <td>NaN</td>\n",
              "      <td>NaN</td>\n",
              "      <td>...</td>\n",
              "      <td>NaN</td>\n",
              "      <td>1.630</td>\n",
              "      <td>5.59</td>\n",
              "      <td>0.17</td>\n",
              "      <td>2.2</td>\n",
              "      <td>1.920</td>\n",
              "      <td>5.27</td>\n",
              "      <td>67.5</td>\n",
              "      <td>NaN</td>\n",
              "      <td>55.0</td>\n",
              "    </tr>\n",
              "    <tr>\n",
              "      <th>2</th>\n",
              "      <td>101/С2021</td>\n",
              "      <td>0</td>\n",
              "      <td>1</td>\n",
              "      <td>0</td>\n",
              "      <td>0</td>\n",
              "      <td>0</td>\n",
              "      <td>2021-01-08</td>\n",
              "      <td>NaN</td>\n",
              "      <td>NaN</td>\n",
              "      <td>NaN</td>\n",
              "      <td>...</td>\n",
              "      <td>142.52</td>\n",
              "      <td>0.340</td>\n",
              "      <td>4.65</td>\n",
              "      <td>0.06</td>\n",
              "      <td>0.7</td>\n",
              "      <td>0.070</td>\n",
              "      <td>5.54</td>\n",
              "      <td>66.7</td>\n",
              "      <td>41.1</td>\n",
              "      <td>56.0</td>\n",
              "    </tr>\n",
              "    <tr>\n",
              "      <th>3</th>\n",
              "      <td>10416/С2021</td>\n",
              "      <td>0</td>\n",
              "      <td>0</td>\n",
              "      <td>0</td>\n",
              "      <td>0</td>\n",
              "      <td>0</td>\n",
              "      <td>2021-04-21</td>\n",
              "      <td>NaN</td>\n",
              "      <td>NaN</td>\n",
              "      <td>NaN</td>\n",
              "      <td>...</td>\n",
              "      <td>65.27</td>\n",
              "      <td>40.640</td>\n",
              "      <td>4.37</td>\n",
              "      <td>0.13</td>\n",
              "      <td>1.0</td>\n",
              "      <td>13.6340</td>\n",
              "      <td>8.20</td>\n",
              "      <td>64.6</td>\n",
              "      <td>42.6</td>\n",
              "      <td>32.0</td>\n",
              "    </tr>\n",
              "    <tr>\n",
              "      <th>4</th>\n",
              "      <td>10686/С2021</td>\n",
              "      <td>1</td>\n",
              "      <td>1</td>\n",
              "      <td>0</td>\n",
              "      <td>0</td>\n",
              "      <td>1</td>\n",
              "      <td>2021-05-06</td>\n",
              "      <td>NaN</td>\n",
              "      <td>NaN</td>\n",
              "      <td>NaN</td>\n",
              "      <td>...</td>\n",
              "      <td>57.82</td>\n",
              "      <td>15.3560</td>\n",
              "      <td>3.34</td>\n",
              "      <td>0.32</td>\n",
              "      <td>2.9</td>\n",
              "      <td>0.010</td>\n",
              "      <td>6.00</td>\n",
              "      <td>54.5</td>\n",
              "      <td>56.3</td>\n",
              "      <td>47.0</td>\n",
              "    </tr>\n",
              "    <tr>\n",
              "      <th>...</th>\n",
              "      <td>...</td>\n",
              "      <td>...</td>\n",
              "      <td>...</td>\n",
              "      <td>...</td>\n",
              "      <td>...</td>\n",
              "      <td>...</td>\n",
              "      <td>...</td>\n",
              "      <td>...</td>\n",
              "      <td>...</td>\n",
              "      <td>...</td>\n",
              "      <td>...</td>\n",
              "      <td>...</td>\n",
              "      <td>...</td>\n",
              "      <td>...</td>\n",
              "      <td>...</td>\n",
              "      <td>...</td>\n",
              "      <td>...</td>\n",
              "      <td>...</td>\n",
              "      <td>...</td>\n",
              "      <td>...</td>\n",
              "      <td>...</td>\n",
              "    </tr>\n",
              "    <tr>\n",
              "      <th>1799</th>\n",
              "      <td>984/С2020</td>\n",
              "      <td>0</td>\n",
              "      <td>0</td>\n",
              "      <td>0</td>\n",
              "      <td>0</td>\n",
              "      <td>0</td>\n",
              "      <td>2020-01-29</td>\n",
              "      <td>16.0</td>\n",
              "      <td>12.0</td>\n",
              "      <td>57.0</td>\n",
              "      <td>...</td>\n",
              "      <td>NaN</td>\n",
              "      <td>0.010</td>\n",
              "      <td>3.75</td>\n",
              "      <td>0.13</td>\n",
              "      <td>2.7</td>\n",
              "      <td>0.010</td>\n",
              "      <td>2.83</td>\n",
              "      <td>60.2</td>\n",
              "      <td>NaN</td>\n",
              "      <td>61.0</td>\n",
              "    </tr>\n",
              "    <tr>\n",
              "      <th>1800</th>\n",
              "      <td>9849/С2020</td>\n",
              "      <td>0</td>\n",
              "      <td>0</td>\n",
              "      <td>0</td>\n",
              "      <td>0</td>\n",
              "      <td>0</td>\n",
              "      <td>2020-05-07</td>\n",
              "      <td>12.0</td>\n",
              "      <td>NaN</td>\n",
              "      <td>NaN</td>\n",
              "      <td>...</td>\n",
              "      <td>81.73</td>\n",
              "      <td>0.000</td>\n",
              "      <td>4.31</td>\n",
              "      <td>0.11</td>\n",
              "      <td>1.2</td>\n",
              "      <td>0.000</td>\n",
              "      <td>4.71</td>\n",
              "      <td>53.5</td>\n",
              "      <td>38.8</td>\n",
              "      <td>67.0</td>\n",
              "    </tr>\n",
              "    <tr>\n",
              "      <th>1801</th>\n",
              "      <td>9896/С2020</td>\n",
              "      <td>0</td>\n",
              "      <td>0</td>\n",
              "      <td>1</td>\n",
              "      <td>0</td>\n",
              "      <td>0</td>\n",
              "      <td>2020-05-07</td>\n",
              "      <td>14.0</td>\n",
              "      <td>NaN</td>\n",
              "      <td>NaN</td>\n",
              "      <td>...</td>\n",
              "      <td>NaN</td>\n",
              "      <td>0.650</td>\n",
              "      <td>4.55</td>\n",
              "      <td>0.11</td>\n",
              "      <td>1.5</td>\n",
              "      <td>0.410</td>\n",
              "      <td>3.86</td>\n",
              "      <td>53.6</td>\n",
              "      <td>48.9</td>\n",
              "      <td>60.0</td>\n",
              "    </tr>\n",
              "    <tr>\n",
              "      <th>1802</th>\n",
              "      <td>9926/С2020</td>\n",
              "      <td>0</td>\n",
              "      <td>0</td>\n",
              "      <td>1</td>\n",
              "      <td>1</td>\n",
              "      <td>0</td>\n",
              "      <td>2020-05-07</td>\n",
              "      <td>NaN</td>\n",
              "      <td>NaN</td>\n",
              "      <td>NaN</td>\n",
              "      <td>...</td>\n",
              "      <td>NaN</td>\n",
              "      <td>0.020</td>\n",
              "      <td>4.25</td>\n",
              "      <td>0.12</td>\n",
              "      <td>1.8</td>\n",
              "      <td>0.020</td>\n",
              "      <td>3.33</td>\n",
              "      <td>49.0</td>\n",
              "      <td>41.3</td>\n",
              "      <td>62.0</td>\n",
              "    </tr>\n",
              "    <tr>\n",
              "      <th>1803</th>\n",
              "      <td>9986/С2021</td>\n",
              "      <td>0</td>\n",
              "      <td>1</td>\n",
              "      <td>0</td>\n",
              "      <td>0</td>\n",
              "      <td>0</td>\n",
              "      <td>2021-04-14</td>\n",
              "      <td>NaN</td>\n",
              "      <td>NaN</td>\n",
              "      <td>NaN</td>\n",
              "      <td>...</td>\n",
              "      <td>82.20</td>\n",
              "      <td>0.010</td>\n",
              "      <td>5.31</td>\n",
              "      <td>0.11</td>\n",
              "      <td>1.7</td>\n",
              "      <td>0.010</td>\n",
              "      <td>3.42</td>\n",
              "      <td>51.1</td>\n",
              "      <td>43.9</td>\n",
              "      <td>56.0</td>\n",
              "    </tr>\n",
              "  </tbody>\n",
              "</table>\n",
              "<p>1804 rows × 68 columns</p>\n",
              "</div>\n",
              "    <div class=\"colab-df-buttons\">\n",
              "\n",
              "  <div class=\"colab-df-container\">\n",
              "    <button class=\"colab-df-convert\" onclick=\"convertToInteractive('df-79f8df6f-4bf6-4709-93b8-9d6e067c4c53')\"\n",
              "            title=\"Convert this dataframe to an interactive table.\"\n",
              "            style=\"display:none;\">\n",
              "\n",
              "  <svg xmlns=\"http://www.w3.org/2000/svg\" height=\"24px\" viewBox=\"0 -960 960 960\">\n",
              "    <path d=\"M120-120v-720h720v720H120Zm60-500h600v-160H180v160Zm220 220h160v-160H400v160Zm0 220h160v-160H400v160ZM180-400h160v-160H180v160Zm440 0h160v-160H620v160ZM180-180h160v-160H180v160Zm440 0h160v-160H620v160Z\"/>\n",
              "  </svg>\n",
              "    </button>\n",
              "\n",
              "  <style>\n",
              "    .colab-df-container {\n",
              "      display:flex;\n",
              "      gap: 12px;\n",
              "    }\n",
              "\n",
              "    .colab-df-convert {\n",
              "      background-color: #E8F0FE;\n",
              "      border: none;\n",
              "      border-radius: 50%;\n",
              "      cursor: pointer;\n",
              "      display: none;\n",
              "      fill: #1967D2;\n",
              "      height: 32px;\n",
              "      padding: 0 0 0 0;\n",
              "      width: 32px;\n",
              "    }\n",
              "\n",
              "    .colab-df-convert:hover {\n",
              "      background-color: #E2EBFA;\n",
              "      box-shadow: 0px 1px 2px rgba(60, 64, 67, 0.3), 0px 1px 3px 1px rgba(60, 64, 67, 0.15);\n",
              "      fill: #174EA6;\n",
              "    }\n",
              "\n",
              "    .colab-df-buttons div {\n",
              "      margin-bottom: 4px;\n",
              "    }\n",
              "\n",
              "    [theme=dark] .colab-df-convert {\n",
              "      background-color: #3B4455;\n",
              "      fill: #D2E3FC;\n",
              "    }\n",
              "\n",
              "    [theme=dark] .colab-df-convert:hover {\n",
              "      background-color: #434B5C;\n",
              "      box-shadow: 0px 1px 3px 1px rgba(0, 0, 0, 0.15);\n",
              "      filter: drop-shadow(0px 1px 2px rgba(0, 0, 0, 0.3));\n",
              "      fill: #FFFFFF;\n",
              "    }\n",
              "  </style>\n",
              "\n",
              "    <script>\n",
              "      const buttonEl =\n",
              "        document.querySelector('#df-79f8df6f-4bf6-4709-93b8-9d6e067c4c53 button.colab-df-convert');\n",
              "      buttonEl.style.display =\n",
              "        google.colab.kernel.accessAllowed ? 'block' : 'none';\n",
              "\n",
              "      async function convertToInteractive(key) {\n",
              "        const element = document.querySelector('#df-79f8df6f-4bf6-4709-93b8-9d6e067c4c53');\n",
              "        const dataTable =\n",
              "          await google.colab.kernel.invokeFunction('convertToInteractive',\n",
              "                                                    [key], {});\n",
              "        if (!dataTable) return;\n",
              "\n",
              "        const docLinkHtml = 'Like what you see? Visit the ' +\n",
              "          '<a target=\"_blank\" href=https://colab.research.google.com/notebooks/data_table.ipynb>data table notebook</a>'\n",
              "          + ' to learn more about interactive tables.';\n",
              "        element.innerHTML = '';\n",
              "        dataTable['output_type'] = 'display_data';\n",
              "        await google.colab.output.renderOutput(dataTable, element);\n",
              "        const docLink = document.createElement('div');\n",
              "        docLink.innerHTML = docLinkHtml;\n",
              "        element.appendChild(docLink);\n",
              "      }\n",
              "    </script>\n",
              "  </div>\n",
              "\n",
              "\n",
              "<div id=\"df-f1712e91-c290-435b-a3ad-9fb7bf6fd4cd\">\n",
              "  <button class=\"colab-df-quickchart\" onclick=\"quickchart('df-f1712e91-c290-435b-a3ad-9fb7bf6fd4cd')\"\n",
              "            title=\"Suggest charts\"\n",
              "            style=\"display:none;\">\n",
              "\n",
              "<svg xmlns=\"http://www.w3.org/2000/svg\" height=\"24px\"viewBox=\"0 0 24 24\"\n",
              "     width=\"24px\">\n",
              "    <g>\n",
              "        <path d=\"M19 3H5c-1.1 0-2 .9-2 2v14c0 1.1.9 2 2 2h14c1.1 0 2-.9 2-2V5c0-1.1-.9-2-2-2zM9 17H7v-7h2v7zm4 0h-2V7h2v10zm4 0h-2v-4h2v4z\"/>\n",
              "    </g>\n",
              "</svg>\n",
              "  </button>\n",
              "\n",
              "<style>\n",
              "  .colab-df-quickchart {\n",
              "      --bg-color: #E8F0FE;\n",
              "      --fill-color: #1967D2;\n",
              "      --hover-bg-color: #E2EBFA;\n",
              "      --hover-fill-color: #174EA6;\n",
              "      --disabled-fill-color: #AAA;\n",
              "      --disabled-bg-color: #DDD;\n",
              "  }\n",
              "\n",
              "  [theme=dark] .colab-df-quickchart {\n",
              "      --bg-color: #3B4455;\n",
              "      --fill-color: #D2E3FC;\n",
              "      --hover-bg-color: #434B5C;\n",
              "      --hover-fill-color: #FFFFFF;\n",
              "      --disabled-bg-color: #3B4455;\n",
              "      --disabled-fill-color: #666;\n",
              "  }\n",
              "\n",
              "  .colab-df-quickchart {\n",
              "    background-color: var(--bg-color);\n",
              "    border: none;\n",
              "    border-radius: 50%;\n",
              "    cursor: pointer;\n",
              "    display: none;\n",
              "    fill: var(--fill-color);\n",
              "    height: 32px;\n",
              "    padding: 0;\n",
              "    width: 32px;\n",
              "  }\n",
              "\n",
              "  .colab-df-quickchart:hover {\n",
              "    background-color: var(--hover-bg-color);\n",
              "    box-shadow: 0 1px 2px rgba(60, 64, 67, 0.3), 0 1px 3px 1px rgba(60, 64, 67, 0.15);\n",
              "    fill: var(--button-hover-fill-color);\n",
              "  }\n",
              "\n",
              "  .colab-df-quickchart-complete:disabled,\n",
              "  .colab-df-quickchart-complete:disabled:hover {\n",
              "    background-color: var(--disabled-bg-color);\n",
              "    fill: var(--disabled-fill-color);\n",
              "    box-shadow: none;\n",
              "  }\n",
              "\n",
              "  .colab-df-spinner {\n",
              "    border: 2px solid var(--fill-color);\n",
              "    border-color: transparent;\n",
              "    border-bottom-color: var(--fill-color);\n",
              "    animation:\n",
              "      spin 1s steps(1) infinite;\n",
              "  }\n",
              "\n",
              "  @keyframes spin {\n",
              "    0% {\n",
              "      border-color: transparent;\n",
              "      border-bottom-color: var(--fill-color);\n",
              "      border-left-color: var(--fill-color);\n",
              "    }\n",
              "    20% {\n",
              "      border-color: transparent;\n",
              "      border-left-color: var(--fill-color);\n",
              "      border-top-color: var(--fill-color);\n",
              "    }\n",
              "    30% {\n",
              "      border-color: transparent;\n",
              "      border-left-color: var(--fill-color);\n",
              "      border-top-color: var(--fill-color);\n",
              "      border-right-color: var(--fill-color);\n",
              "    }\n",
              "    40% {\n",
              "      border-color: transparent;\n",
              "      border-right-color: var(--fill-color);\n",
              "      border-top-color: var(--fill-color);\n",
              "    }\n",
              "    60% {\n",
              "      border-color: transparent;\n",
              "      border-right-color: var(--fill-color);\n",
              "    }\n",
              "    80% {\n",
              "      border-color: transparent;\n",
              "      border-right-color: var(--fill-color);\n",
              "      border-bottom-color: var(--fill-color);\n",
              "    }\n",
              "    90% {\n",
              "      border-color: transparent;\n",
              "      border-bottom-color: var(--fill-color);\n",
              "    }\n",
              "  }\n",
              "</style>\n",
              "\n",
              "  <script>\n",
              "    async function quickchart(key) {\n",
              "      const quickchartButtonEl =\n",
              "        document.querySelector('#' + key + ' button');\n",
              "      quickchartButtonEl.disabled = true;  // To prevent multiple clicks.\n",
              "      quickchartButtonEl.classList.add('colab-df-spinner');\n",
              "      try {\n",
              "        const charts = await google.colab.kernel.invokeFunction(\n",
              "            'suggestCharts', [key], {});\n",
              "      } catch (error) {\n",
              "        console.error('Error during call to suggestCharts:', error);\n",
              "      }\n",
              "      quickchartButtonEl.classList.remove('colab-df-spinner');\n",
              "      quickchartButtonEl.classList.add('colab-df-quickchart-complete');\n",
              "    }\n",
              "    (() => {\n",
              "      let quickchartButtonEl =\n",
              "        document.querySelector('#df-f1712e91-c290-435b-a3ad-9fb7bf6fd4cd button');\n",
              "      quickchartButtonEl.style.display =\n",
              "        google.colab.kernel.accessAllowed ? 'block' : 'none';\n",
              "    })();\n",
              "  </script>\n",
              "</div>\n",
              "    </div>\n",
              "  </div>\n"
            ],
            "application/vnd.google.colaboratory.intrinsic+json": {
              "type": "dataframe",
              "variable_name": "df"
            }
          },
          "metadata": {},
          "execution_count": 94
        }
      ]
    },
    {
      "cell_type": "code",
      "source": [
        "# Сохранение DataFrame в CSV-файл\n",
        "df.to_csv('new_dataset.csv', index=False, encoding='Windows-1251', sep=';')\n",
        "\n",
        "# Скачивание файла\n",
        "from google.colab import files\n",
        "files.download('new_dataset.csv')"
      ],
      "metadata": {
        "colab": {
          "base_uri": "https://localhost:8080/",
          "height": 17
        },
        "id": "ZolzEi3jK_QO",
        "outputId": "5a14f9c0-a153-45d5-bd15-4e1bdf07b829"
      },
      "execution_count": null,
      "outputs": [
        {
          "output_type": "display_data",
          "data": {
            "text/plain": [
              "<IPython.core.display.Javascript object>"
            ],
            "application/javascript": [
              "\n",
              "    async function download(id, filename, size) {\n",
              "      if (!google.colab.kernel.accessAllowed) {\n",
              "        return;\n",
              "      }\n",
              "      const div = document.createElement('div');\n",
              "      const label = document.createElement('label');\n",
              "      label.textContent = `Downloading \"${filename}\": `;\n",
              "      div.appendChild(label);\n",
              "      const progress = document.createElement('progress');\n",
              "      progress.max = size;\n",
              "      div.appendChild(progress);\n",
              "      document.body.appendChild(div);\n",
              "\n",
              "      const buffers = [];\n",
              "      let downloaded = 0;\n",
              "\n",
              "      const channel = await google.colab.kernel.comms.open(id);\n",
              "      // Send a message to notify the kernel that we're ready.\n",
              "      channel.send({})\n",
              "\n",
              "      for await (const message of channel.messages) {\n",
              "        // Send a message to notify the kernel that we're ready.\n",
              "        channel.send({})\n",
              "        if (message.buffers) {\n",
              "          for (const buffer of message.buffers) {\n",
              "            buffers.push(buffer);\n",
              "            downloaded += buffer.byteLength;\n",
              "            progress.value = downloaded;\n",
              "          }\n",
              "        }\n",
              "      }\n",
              "      const blob = new Blob(buffers, {type: 'application/binary'});\n",
              "      const a = document.createElement('a');\n",
              "      a.href = window.URL.createObjectURL(blob);\n",
              "      a.download = filename;\n",
              "      div.appendChild(a);\n",
              "      a.click();\n",
              "      div.remove();\n",
              "    }\n",
              "  "
            ]
          },
          "metadata": {}
        },
        {
          "output_type": "display_data",
          "data": {
            "text/plain": [
              "<IPython.core.display.Javascript object>"
            ],
            "application/javascript": [
              "download(\"download_794dbee9-9b84-49d2-81a0-1d97f18c50a3\", \"new_dataset.csv\", 1154609)"
            ]
          },
          "metadata": {}
        }
      ]
    },
    {
      "cell_type": "code",
      "source": [],
      "metadata": {
        "id": "NHBDWbgiEpmy"
      },
      "execution_count": null,
      "outputs": []
    }
  ]
}